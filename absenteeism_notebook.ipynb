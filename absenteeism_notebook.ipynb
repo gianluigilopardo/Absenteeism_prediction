{
  "nbformat": 4,
  "nbformat_minor": 0,
  "metadata": {
    "colab": {
      "name": "Tesina DS.ipynb",
      "provenance": [],
      "collapsed_sections": [],
      "toc_visible": true,
      "authorship_tag": "ABX9TyPN9o6QI5PzpVGPsXGM5Mey",
      "include_colab_link": true
    },
    "kernelspec": {
      "name": "python3",
      "display_name": "Python 3"
    }
  },
  "cells": [
    {
      "cell_type": "markdown",
      "metadata": {
        "id": "view-in-github",
        "colab_type": "text"
      },
      "source": [
        "<a href=\"https://colab.research.google.com/github/gianluigilopardo/dataspaces/blob/master/absenteeism_notebook.ipynb\" target=\"_parent\"><img src=\"https://colab.research.google.com/assets/colab-badge.svg\" alt=\"Open In Colab\"/></a>"
      ]
    },
    {
      "cell_type": "markdown",
      "metadata": {
        "id": "qIHURayJsYAJ",
        "colab_type": "text"
      },
      "source": [
        "# Analysis of Absenteeism at work\n",
        "Gianluigi Lopardo - Tesina Data Spaces a.a 2019/2020\n"
      ]
    },
    {
      "cell_type": "markdown",
      "metadata": {
        "id": "WJxpULyZglut",
        "colab_type": "text"
      },
      "source": [
        "\n",
        "### Table of contents\n",
        "1. [Introduction](#first)\n",
        "2. [Data preprocessing](#second)\n",
        "3. [Exploratory Data Analysis](#third)\n",
        "4. [Data preparation](#fourth)\n",
        "  * 4.1 [Principal Component Analysis](#fourth_1)\n",
        "  * 4.2 [Oversampling](#fourth_2)\n",
        "5. [Classification Models](#fifth)\n",
        "  * 5.1 [Full classification](#fifth_1)\n",
        "  * 5.2 [Binary classification](#fifth_2)\n",
        "  * 5.3 [Feature importance](#fifth_3)\n",
        "6. [References](#sixth)\n",
        "  "
      ]
    },
    {
      "cell_type": "markdown",
      "metadata": {
        "id": "sRM2sX_5kfGi",
        "colab_type": "text"
      },
      "source": [
        "## 1. <a class=\"anchor\" id=\"first\">Introduction</a>\n",
        "\n",
        "The dataset used is [Absenteeism at work](http://archive.ics.uci.edu/ml/datasets/Absenteeism+at+work) from UCI Machine learning repository. The aim of this work is to apply **classification** to **predict** absenteeism at work.\n",
        "\n",
        "Absenteeism represents for the company the loss of productivity and quality of work. Predicting it can help companies organize tasks appropriately in order to optimize work and avoid stressful situations for both the company and its employees.\n",
        "\n",
        "The Analysis is conducted in Python using Colab Notebook, which is a web application that allows you to create an interactive environment that contains live code, visualizations and text. \n",
        "\n",
        "The dataset contains 740 entries. Every entry has 21 attributes.\n",
        "It was created with records of absenteeism at work from July 2007 to July 2010 at a courier company in Brazil.\n",
        "\n",
        "### Attribute Information:\n",
        "\n",
        "* Individual identification (ID)\n",
        "* Reason for absence\n",
        "\n",
        " Absences attested by the [International Code of Diseases (ICD)](https://www.who.int/classifications/icd/en/) stratified into 21 categories (1 to 21) as follows and 7 categories without ICD (22 to 28):\n",
        "  1. Certain infectious and parasitic diseases\n",
        "  2. Neoplasms\n",
        "  3. Diseases of the blood and blood-forming organs and certain disorders involving the immune mechanism\n",
        "  4. Endocrine, nutritional and metabolic diseases\n",
        "  5. Mental and behavioural disorders\n",
        "  6. Diseases of the nervous system\n",
        "  7. Diseases of the eye and adnexa\n",
        "  8. Diseases of the ear and mastoid process\n",
        "  9. Diseases of the circulatory system\n",
        "  10. Diseases of the respiratory system\n",
        "  11. Diseases of the digestive system\n",
        "  12. Diseases of the skin and subcutaneous tissue\n",
        "  13. Diseases of the musculoskeletal system and connective tissue\n",
        "  14. Diseases of the genitourinary system\n",
        "  15. Pregnancy, childbirth and the puerperium\n",
        "  16. Certain conditions originating in the perinatal period\n",
        "  17. Congenital malformations, deformations and chromosomal abnormalities\n",
        "  18. Symptoms, signs and abnormal clinical and laboratory findings, not elsewhere classified\n",
        "  19. Injury, poisoning and certain other consequences of external causes\n",
        "  20. External causes of morbidity and mortality\n",
        "  21. Factors influencing health status and contact with health services.\n",
        "  22. patient follow-up \n",
        "  23. medical consultation\n",
        "  24. blood donation \n",
        "  25. laboratory examination \n",
        "  26. unjustified absence \n",
        "  27. physiotherapy \n",
        "  28. dental consultation\n",
        "* Month of absence\n",
        "* Day of the week: Monday (2), Tuesday (3), Wednesday (4), Thursday (5), Friday (6)\n",
        "* Seasons: summer (1), autumn (2), winter (3), spring (4)\n",
        "* Transportation expense\n",
        "* Distance from Residence to Work (kilometers)\n",
        "* Service time (years)\n",
        "* Age\n",
        "* Work load Average/day\n",
        "* Hit target\n",
        "* Disciplinary failure: yes=1, no=0\n",
        "* Education: high school (1), graduate (2), postgraduate (3), master and doctor (4))\n",
        "* Son (number of children)\n",
        "* Social drinker: yes=1, no=0\n",
        "* Social smoker yes=1, no=0\n",
        "* Pet (number of pet)\n",
        "* Weight\n",
        "* Height\n",
        "* Body mass index\n",
        "* Absenteeism time in hours (target)\n",
        "\n"
      ]
    },
    {
      "cell_type": "markdown",
      "metadata": {
        "id": "uxCSFgZdspOl",
        "colab_type": "text"
      },
      "source": [
        "## 2. <a class=\"anchor\" id=\"second\">Data preprocessing</a>\n",
        "After importing data and the Python libraries that we will use, the first step is to preprocess the data: we have to convert the data from one format to another, we will check the missing or invalid values and convert everything in a standardized format on all the data, so that we can easily manage and analyze them."
      ]
    },
    {
      "cell_type": "code",
      "metadata": {
        "id": "FxlvEJ6JmJGS",
        "colab_type": "code",
        "colab": {}
      },
      "source": [
        "# IMPORTING PACKAGES\n",
        "\n",
        "# warnings\n",
        "import warnings\n",
        "warnings.filterwarnings(action = 'ignore', category = FutureWarning)\n",
        "\n",
        "# file and data\n",
        "from google.colab import files\n",
        "import calendar\n",
        "\n",
        "# scientific\n",
        "import pandas as pd \n",
        "import numpy as np \n",
        "from numpy import random\n",
        "\n",
        "# plotting\n",
        "import matplotlib.pyplot as plt\n",
        "import seaborn as sns\n",
        "\n",
        "# dimensionality and oversampling\n",
        "from sklearn.decomposition import PCA\n",
        "from imblearn.over_sampling import SMOTE, ADASYN\n",
        "from imblearn.over_sampling import RandomOverSampler\n",
        "\n",
        "# models \n",
        "from sklearn import preprocessing\n",
        "from sklearn.model_selection import train_test_split\n",
        "from sklearn import tree\n",
        "from sklearn import svm\n",
        "from sklearn.neighbors import KNeighborsClassifier\n",
        "from sklearn.ensemble import RandomForestClassifier\n",
        "from sklearn.linear_model import LogisticRegression\n",
        "from sklearn.tree import DecisionTreeClassifier\n",
        "from sklearn.model_selection import validation_curve\n",
        "from sklearn.model_selection import GridSearchCV\n",
        "\n",
        "# metrics\n",
        "from sklearn.metrics import classification_report, confusion_matrix\n",
        "from sklearn.metrics import plot_confusion_matrix\n",
        "from sklearn.metrics import accuracy_score\n",
        "from sklearn.metrics import precision_score\n",
        "from sklearn.metrics import recall_score\n",
        "from sklearn.metrics import f1_score\n",
        "\n",
        "SEED = 42\n",
        "random.seed(SEED)"
      ],
      "execution_count": 0,
      "outputs": []
    },
    {
      "cell_type": "code",
      "metadata": {
        "id": "9vGQwxw9lT0Z",
        "colab_type": "code",
        "outputId": "079db659-c519-4eaf-8f32-586f1729157f",
        "colab": {
          "base_uri": "https://localhost:8080/",
          "height": 34
        }
      },
      "source": [
        "# IMPORTING DATA\n",
        "url = \"https://raw.githubusercontent.com/gianluigilopardo/dataspaces/master/Absenteeism_at_work.csv\"\n",
        "ds = pd.read_csv(url, sep=',')\n",
        "print(\"The dataset has %d rows and %d columns.\" % ds.shape)"
      ],
      "execution_count": 2,
      "outputs": [
        {
          "output_type": "stream",
          "text": [
            "The dataset has 740 rows and 21 columns.\n"
          ],
          "name": "stdout"
        }
      ]
    },
    {
      "cell_type": "markdown",
      "metadata": {
        "id": "_2Gz7Vx-PJon",
        "colab_type": "text"
      },
      "source": [
        "Now that we have the data, let's take a look at it to evaluate how to proceed."
      ]
    },
    {
      "cell_type": "code",
      "metadata": {
        "id": "nWOSE3UiPIHf",
        "colab_type": "code",
        "outputId": "ad336954-400d-4671-f095-f75bb6c33a96",
        "colab": {
          "base_uri": "https://localhost:8080/",
          "height": 430
        }
      },
      "source": [
        "ds.head(10)"
      ],
      "execution_count": 3,
      "outputs": [
        {
          "output_type": "execute_result",
          "data": {
            "text/html": [
              "<div>\n",
              "<style scoped>\n",
              "    .dataframe tbody tr th:only-of-type {\n",
              "        vertical-align: middle;\n",
              "    }\n",
              "\n",
              "    .dataframe tbody tr th {\n",
              "        vertical-align: top;\n",
              "    }\n",
              "\n",
              "    .dataframe thead th {\n",
              "        text-align: right;\n",
              "    }\n",
              "</style>\n",
              "<table border=\"1\" class=\"dataframe\">\n",
              "  <thead>\n",
              "    <tr style=\"text-align: right;\">\n",
              "      <th></th>\n",
              "      <th>ID</th>\n",
              "      <th>Reason for absence</th>\n",
              "      <th>Month of absence</th>\n",
              "      <th>Day of the week</th>\n",
              "      <th>Seasons</th>\n",
              "      <th>Transportation expense</th>\n",
              "      <th>Distance from Residence to Work</th>\n",
              "      <th>Service time</th>\n",
              "      <th>Age</th>\n",
              "      <th>Work load Average/day</th>\n",
              "      <th>Hit target</th>\n",
              "      <th>Disciplinary failure</th>\n",
              "      <th>Education</th>\n",
              "      <th>Son</th>\n",
              "      <th>Social drinker</th>\n",
              "      <th>Social smoker</th>\n",
              "      <th>Pet</th>\n",
              "      <th>Weight</th>\n",
              "      <th>Height</th>\n",
              "      <th>Body mass index</th>\n",
              "      <th>Absenteeism time in hours</th>\n",
              "    </tr>\n",
              "  </thead>\n",
              "  <tbody>\n",
              "    <tr>\n",
              "      <th>0</th>\n",
              "      <td>11</td>\n",
              "      <td>26</td>\n",
              "      <td>7</td>\n",
              "      <td>3</td>\n",
              "      <td>1</td>\n",
              "      <td>289</td>\n",
              "      <td>36</td>\n",
              "      <td>13</td>\n",
              "      <td>33</td>\n",
              "      <td>239.554</td>\n",
              "      <td>97</td>\n",
              "      <td>0</td>\n",
              "      <td>1</td>\n",
              "      <td>2</td>\n",
              "      <td>1</td>\n",
              "      <td>0</td>\n",
              "      <td>1</td>\n",
              "      <td>90</td>\n",
              "      <td>172</td>\n",
              "      <td>30</td>\n",
              "      <td>4</td>\n",
              "    </tr>\n",
              "    <tr>\n",
              "      <th>1</th>\n",
              "      <td>36</td>\n",
              "      <td>0</td>\n",
              "      <td>7</td>\n",
              "      <td>3</td>\n",
              "      <td>1</td>\n",
              "      <td>118</td>\n",
              "      <td>13</td>\n",
              "      <td>18</td>\n",
              "      <td>50</td>\n",
              "      <td>239.554</td>\n",
              "      <td>97</td>\n",
              "      <td>1</td>\n",
              "      <td>1</td>\n",
              "      <td>1</td>\n",
              "      <td>1</td>\n",
              "      <td>0</td>\n",
              "      <td>0</td>\n",
              "      <td>98</td>\n",
              "      <td>178</td>\n",
              "      <td>31</td>\n",
              "      <td>0</td>\n",
              "    </tr>\n",
              "    <tr>\n",
              "      <th>2</th>\n",
              "      <td>3</td>\n",
              "      <td>23</td>\n",
              "      <td>7</td>\n",
              "      <td>4</td>\n",
              "      <td>1</td>\n",
              "      <td>179</td>\n",
              "      <td>51</td>\n",
              "      <td>18</td>\n",
              "      <td>38</td>\n",
              "      <td>239.554</td>\n",
              "      <td>97</td>\n",
              "      <td>0</td>\n",
              "      <td>1</td>\n",
              "      <td>0</td>\n",
              "      <td>1</td>\n",
              "      <td>0</td>\n",
              "      <td>0</td>\n",
              "      <td>89</td>\n",
              "      <td>170</td>\n",
              "      <td>31</td>\n",
              "      <td>2</td>\n",
              "    </tr>\n",
              "    <tr>\n",
              "      <th>3</th>\n",
              "      <td>7</td>\n",
              "      <td>7</td>\n",
              "      <td>7</td>\n",
              "      <td>5</td>\n",
              "      <td>1</td>\n",
              "      <td>279</td>\n",
              "      <td>5</td>\n",
              "      <td>14</td>\n",
              "      <td>39</td>\n",
              "      <td>239.554</td>\n",
              "      <td>97</td>\n",
              "      <td>0</td>\n",
              "      <td>1</td>\n",
              "      <td>2</td>\n",
              "      <td>1</td>\n",
              "      <td>1</td>\n",
              "      <td>0</td>\n",
              "      <td>68</td>\n",
              "      <td>168</td>\n",
              "      <td>24</td>\n",
              "      <td>4</td>\n",
              "    </tr>\n",
              "    <tr>\n",
              "      <th>4</th>\n",
              "      <td>11</td>\n",
              "      <td>23</td>\n",
              "      <td>7</td>\n",
              "      <td>5</td>\n",
              "      <td>1</td>\n",
              "      <td>289</td>\n",
              "      <td>36</td>\n",
              "      <td>13</td>\n",
              "      <td>33</td>\n",
              "      <td>239.554</td>\n",
              "      <td>97</td>\n",
              "      <td>0</td>\n",
              "      <td>1</td>\n",
              "      <td>2</td>\n",
              "      <td>1</td>\n",
              "      <td>0</td>\n",
              "      <td>1</td>\n",
              "      <td>90</td>\n",
              "      <td>172</td>\n",
              "      <td>30</td>\n",
              "      <td>2</td>\n",
              "    </tr>\n",
              "    <tr>\n",
              "      <th>5</th>\n",
              "      <td>3</td>\n",
              "      <td>23</td>\n",
              "      <td>7</td>\n",
              "      <td>6</td>\n",
              "      <td>1</td>\n",
              "      <td>179</td>\n",
              "      <td>51</td>\n",
              "      <td>18</td>\n",
              "      <td>38</td>\n",
              "      <td>239.554</td>\n",
              "      <td>97</td>\n",
              "      <td>0</td>\n",
              "      <td>1</td>\n",
              "      <td>0</td>\n",
              "      <td>1</td>\n",
              "      <td>0</td>\n",
              "      <td>0</td>\n",
              "      <td>89</td>\n",
              "      <td>170</td>\n",
              "      <td>31</td>\n",
              "      <td>2</td>\n",
              "    </tr>\n",
              "    <tr>\n",
              "      <th>6</th>\n",
              "      <td>10</td>\n",
              "      <td>22</td>\n",
              "      <td>7</td>\n",
              "      <td>6</td>\n",
              "      <td>1</td>\n",
              "      <td>361</td>\n",
              "      <td>52</td>\n",
              "      <td>3</td>\n",
              "      <td>28</td>\n",
              "      <td>239.554</td>\n",
              "      <td>97</td>\n",
              "      <td>0</td>\n",
              "      <td>1</td>\n",
              "      <td>1</td>\n",
              "      <td>1</td>\n",
              "      <td>0</td>\n",
              "      <td>4</td>\n",
              "      <td>80</td>\n",
              "      <td>172</td>\n",
              "      <td>27</td>\n",
              "      <td>8</td>\n",
              "    </tr>\n",
              "    <tr>\n",
              "      <th>7</th>\n",
              "      <td>20</td>\n",
              "      <td>23</td>\n",
              "      <td>7</td>\n",
              "      <td>6</td>\n",
              "      <td>1</td>\n",
              "      <td>260</td>\n",
              "      <td>50</td>\n",
              "      <td>11</td>\n",
              "      <td>36</td>\n",
              "      <td>239.554</td>\n",
              "      <td>97</td>\n",
              "      <td>0</td>\n",
              "      <td>1</td>\n",
              "      <td>4</td>\n",
              "      <td>1</td>\n",
              "      <td>0</td>\n",
              "      <td>0</td>\n",
              "      <td>65</td>\n",
              "      <td>168</td>\n",
              "      <td>23</td>\n",
              "      <td>4</td>\n",
              "    </tr>\n",
              "    <tr>\n",
              "      <th>8</th>\n",
              "      <td>14</td>\n",
              "      <td>19</td>\n",
              "      <td>7</td>\n",
              "      <td>2</td>\n",
              "      <td>1</td>\n",
              "      <td>155</td>\n",
              "      <td>12</td>\n",
              "      <td>14</td>\n",
              "      <td>34</td>\n",
              "      <td>239.554</td>\n",
              "      <td>97</td>\n",
              "      <td>0</td>\n",
              "      <td>1</td>\n",
              "      <td>2</td>\n",
              "      <td>1</td>\n",
              "      <td>0</td>\n",
              "      <td>0</td>\n",
              "      <td>95</td>\n",
              "      <td>196</td>\n",
              "      <td>25</td>\n",
              "      <td>40</td>\n",
              "    </tr>\n",
              "    <tr>\n",
              "      <th>9</th>\n",
              "      <td>1</td>\n",
              "      <td>22</td>\n",
              "      <td>7</td>\n",
              "      <td>2</td>\n",
              "      <td>1</td>\n",
              "      <td>235</td>\n",
              "      <td>11</td>\n",
              "      <td>14</td>\n",
              "      <td>37</td>\n",
              "      <td>239.554</td>\n",
              "      <td>97</td>\n",
              "      <td>0</td>\n",
              "      <td>3</td>\n",
              "      <td>1</td>\n",
              "      <td>0</td>\n",
              "      <td>0</td>\n",
              "      <td>1</td>\n",
              "      <td>88</td>\n",
              "      <td>172</td>\n",
              "      <td>29</td>\n",
              "      <td>8</td>\n",
              "    </tr>\n",
              "  </tbody>\n",
              "</table>\n",
              "</div>"
            ],
            "text/plain": [
              "   ID  Reason for absence  ...  Body mass index  Absenteeism time in hours\n",
              "0  11                  26  ...               30                          4\n",
              "1  36                   0  ...               31                          0\n",
              "2   3                  23  ...               31                          2\n",
              "3   7                   7  ...               24                          4\n",
              "4  11                  23  ...               30                          2\n",
              "5   3                  23  ...               31                          2\n",
              "6  10                  22  ...               27                          8\n",
              "7  20                  23  ...               23                          4\n",
              "8  14                  19  ...               25                         40\n",
              "9   1                  22  ...               29                          8\n",
              "\n",
              "[10 rows x 21 columns]"
            ]
          },
          "metadata": {
            "tags": []
          },
          "execution_count": 3
        }
      ]
    },
    {
      "cell_type": "markdown",
      "metadata": {
        "id": "5JYQjnr_Mi0A",
        "colab_type": "text"
      },
      "source": [
        "Before entering the analysis, it is advisable to rename the columns of the dataset, in order to have more easily traceable variables.\n",
        "\n",
        "\n"
      ]
    },
    {
      "cell_type": "code",
      "metadata": {
        "id": "MJefxmGF2HDD",
        "colab_type": "code",
        "outputId": "aeb55f12-b0e6-464c-af83-89ca50e6dcb9",
        "colab": {
          "base_uri": "https://localhost:8080/",
          "height": 162
        }
      },
      "source": [
        "# renaming labels\n",
        "ds = ds.rename(columns = {'Reason for absence': 'reason', \n",
        "                          'Month of absence': 'month', \n",
        "                          'Day of the week': 'day', \n",
        "                          'Transportation expense': 'trans_exp', \n",
        "                          'Distance from Residence to Work': 'distance', \n",
        "                          'Service time': 'serv_time', \n",
        "                          'Work load Average/day ': 'work_load', \n",
        "                          'Hit target': 'hit_tg', \n",
        "                          'Disciplinary failure': 'disc_fail', \n",
        "                          'Social drinker': 'drinker', \n",
        "                          'Social smoker': 'smoker', \n",
        "                          'Body mass index': 'bmi', \n",
        "                          'Absenteeism time in hours': 'abs_hours'})\n",
        "ds = ds.rename(columns = lambda x: x.lower()) # using lambda function to lowercase labels\n",
        "ds.head(3)"
      ],
      "execution_count": 4,
      "outputs": [
        {
          "output_type": "execute_result",
          "data": {
            "text/html": [
              "<div>\n",
              "<style scoped>\n",
              "    .dataframe tbody tr th:only-of-type {\n",
              "        vertical-align: middle;\n",
              "    }\n",
              "\n",
              "    .dataframe tbody tr th {\n",
              "        vertical-align: top;\n",
              "    }\n",
              "\n",
              "    .dataframe thead th {\n",
              "        text-align: right;\n",
              "    }\n",
              "</style>\n",
              "<table border=\"1\" class=\"dataframe\">\n",
              "  <thead>\n",
              "    <tr style=\"text-align: right;\">\n",
              "      <th></th>\n",
              "      <th>id</th>\n",
              "      <th>reason</th>\n",
              "      <th>month</th>\n",
              "      <th>day</th>\n",
              "      <th>seasons</th>\n",
              "      <th>trans_exp</th>\n",
              "      <th>distance</th>\n",
              "      <th>serv_time</th>\n",
              "      <th>age</th>\n",
              "      <th>work_load</th>\n",
              "      <th>hit_tg</th>\n",
              "      <th>disc_fail</th>\n",
              "      <th>education</th>\n",
              "      <th>son</th>\n",
              "      <th>drinker</th>\n",
              "      <th>smoker</th>\n",
              "      <th>pet</th>\n",
              "      <th>weight</th>\n",
              "      <th>height</th>\n",
              "      <th>bmi</th>\n",
              "      <th>abs_hours</th>\n",
              "    </tr>\n",
              "  </thead>\n",
              "  <tbody>\n",
              "    <tr>\n",
              "      <th>0</th>\n",
              "      <td>11</td>\n",
              "      <td>26</td>\n",
              "      <td>7</td>\n",
              "      <td>3</td>\n",
              "      <td>1</td>\n",
              "      <td>289</td>\n",
              "      <td>36</td>\n",
              "      <td>13</td>\n",
              "      <td>33</td>\n",
              "      <td>239.554</td>\n",
              "      <td>97</td>\n",
              "      <td>0</td>\n",
              "      <td>1</td>\n",
              "      <td>2</td>\n",
              "      <td>1</td>\n",
              "      <td>0</td>\n",
              "      <td>1</td>\n",
              "      <td>90</td>\n",
              "      <td>172</td>\n",
              "      <td>30</td>\n",
              "      <td>4</td>\n",
              "    </tr>\n",
              "    <tr>\n",
              "      <th>1</th>\n",
              "      <td>36</td>\n",
              "      <td>0</td>\n",
              "      <td>7</td>\n",
              "      <td>3</td>\n",
              "      <td>1</td>\n",
              "      <td>118</td>\n",
              "      <td>13</td>\n",
              "      <td>18</td>\n",
              "      <td>50</td>\n",
              "      <td>239.554</td>\n",
              "      <td>97</td>\n",
              "      <td>1</td>\n",
              "      <td>1</td>\n",
              "      <td>1</td>\n",
              "      <td>1</td>\n",
              "      <td>0</td>\n",
              "      <td>0</td>\n",
              "      <td>98</td>\n",
              "      <td>178</td>\n",
              "      <td>31</td>\n",
              "      <td>0</td>\n",
              "    </tr>\n",
              "    <tr>\n",
              "      <th>2</th>\n",
              "      <td>3</td>\n",
              "      <td>23</td>\n",
              "      <td>7</td>\n",
              "      <td>4</td>\n",
              "      <td>1</td>\n",
              "      <td>179</td>\n",
              "      <td>51</td>\n",
              "      <td>18</td>\n",
              "      <td>38</td>\n",
              "      <td>239.554</td>\n",
              "      <td>97</td>\n",
              "      <td>0</td>\n",
              "      <td>1</td>\n",
              "      <td>0</td>\n",
              "      <td>1</td>\n",
              "      <td>0</td>\n",
              "      <td>0</td>\n",
              "      <td>89</td>\n",
              "      <td>170</td>\n",
              "      <td>31</td>\n",
              "      <td>2</td>\n",
              "    </tr>\n",
              "  </tbody>\n",
              "</table>\n",
              "</div>"
            ],
            "text/plain": [
              "   id  reason  month  day  seasons  ...  pet  weight  height  bmi  abs_hours\n",
              "0  11      26      7    3        1  ...    1      90     172   30          4\n",
              "1  36       0      7    3        1  ...    0      98     178   31          0\n",
              "2   3      23      7    4        1  ...    0      89     170   31          2\n",
              "\n",
              "[3 rows x 21 columns]"
            ]
          },
          "metadata": {
            "tags": []
          },
          "execution_count": 4
        }
      ]
    },
    {
      "cell_type": "markdown",
      "metadata": {
        "id": "iWHaee594RKc",
        "colab_type": "text"
      },
      "source": [
        "Now I check for null values in the dataset:"
      ]
    },
    {
      "cell_type": "code",
      "metadata": {
        "id": "pbnMUrsanMEm",
        "colab_type": "code",
        "outputId": "74ed51ee-21c2-4c51-9b3e-34ee791c94ac",
        "colab": {
          "base_uri": "https://localhost:8080/",
          "height": 34
        }
      },
      "source": [
        "print(\"There are \" + (\"some\" if ds.isnull().values.any() else \"no\")  + \" null/missing values in the dataset.\")"
      ],
      "execution_count": 5,
      "outputs": [
        {
          "output_type": "stream",
          "text": [
            "There are no null/missing values in the dataset.\n"
          ],
          "name": "stdout"
        }
      ]
    },
    {
      "cell_type": "markdown",
      "metadata": {
        "id": "j5tdOCIoh2gd",
        "colab_type": "text"
      },
      "source": [
        "There are no missing values in the dataset. Now we have to check the invalid data in the dataset. \n",
        "\n",
        "\n"
      ]
    },
    {
      "cell_type": "code",
      "metadata": {
        "id": "7IyXXZN0h0fd",
        "colab_type": "code",
        "outputId": "7a40e878-d2ac-4f3f-94ec-7694c3257c5e",
        "colab": {
          "base_uri": "https://localhost:8080/",
          "height": 317
        }
      },
      "source": [
        "ds.describe() # summary of data"
      ],
      "execution_count": 6,
      "outputs": [
        {
          "output_type": "execute_result",
          "data": {
            "text/html": [
              "<div>\n",
              "<style scoped>\n",
              "    .dataframe tbody tr th:only-of-type {\n",
              "        vertical-align: middle;\n",
              "    }\n",
              "\n",
              "    .dataframe tbody tr th {\n",
              "        vertical-align: top;\n",
              "    }\n",
              "\n",
              "    .dataframe thead th {\n",
              "        text-align: right;\n",
              "    }\n",
              "</style>\n",
              "<table border=\"1\" class=\"dataframe\">\n",
              "  <thead>\n",
              "    <tr style=\"text-align: right;\">\n",
              "      <th></th>\n",
              "      <th>id</th>\n",
              "      <th>reason</th>\n",
              "      <th>month</th>\n",
              "      <th>day</th>\n",
              "      <th>seasons</th>\n",
              "      <th>trans_exp</th>\n",
              "      <th>distance</th>\n",
              "      <th>serv_time</th>\n",
              "      <th>age</th>\n",
              "      <th>work_load</th>\n",
              "      <th>hit_tg</th>\n",
              "      <th>disc_fail</th>\n",
              "      <th>education</th>\n",
              "      <th>son</th>\n",
              "      <th>drinker</th>\n",
              "      <th>smoker</th>\n",
              "      <th>pet</th>\n",
              "      <th>weight</th>\n",
              "      <th>height</th>\n",
              "      <th>bmi</th>\n",
              "      <th>abs_hours</th>\n",
              "    </tr>\n",
              "  </thead>\n",
              "  <tbody>\n",
              "    <tr>\n",
              "      <th>count</th>\n",
              "      <td>740.000000</td>\n",
              "      <td>740.000000</td>\n",
              "      <td>740.000000</td>\n",
              "      <td>740.000000</td>\n",
              "      <td>740.000000</td>\n",
              "      <td>740.000000</td>\n",
              "      <td>740.000000</td>\n",
              "      <td>740.000000</td>\n",
              "      <td>740.000000</td>\n",
              "      <td>740.000000</td>\n",
              "      <td>740.000000</td>\n",
              "      <td>740.000000</td>\n",
              "      <td>740.000000</td>\n",
              "      <td>740.000000</td>\n",
              "      <td>740.000000</td>\n",
              "      <td>740.000000</td>\n",
              "      <td>740.000000</td>\n",
              "      <td>740.000000</td>\n",
              "      <td>740.000000</td>\n",
              "      <td>740.000000</td>\n",
              "      <td>740.000000</td>\n",
              "    </tr>\n",
              "    <tr>\n",
              "      <th>mean</th>\n",
              "      <td>18.017568</td>\n",
              "      <td>19.216216</td>\n",
              "      <td>6.324324</td>\n",
              "      <td>3.914865</td>\n",
              "      <td>2.544595</td>\n",
              "      <td>221.329730</td>\n",
              "      <td>29.631081</td>\n",
              "      <td>12.554054</td>\n",
              "      <td>36.450000</td>\n",
              "      <td>271.490235</td>\n",
              "      <td>94.587838</td>\n",
              "      <td>0.054054</td>\n",
              "      <td>1.291892</td>\n",
              "      <td>1.018919</td>\n",
              "      <td>0.567568</td>\n",
              "      <td>0.072973</td>\n",
              "      <td>0.745946</td>\n",
              "      <td>79.035135</td>\n",
              "      <td>172.114865</td>\n",
              "      <td>26.677027</td>\n",
              "      <td>6.924324</td>\n",
              "    </tr>\n",
              "    <tr>\n",
              "      <th>std</th>\n",
              "      <td>11.021247</td>\n",
              "      <td>8.433406</td>\n",
              "      <td>3.436287</td>\n",
              "      <td>1.421675</td>\n",
              "      <td>1.111831</td>\n",
              "      <td>66.952223</td>\n",
              "      <td>14.836788</td>\n",
              "      <td>4.384873</td>\n",
              "      <td>6.478772</td>\n",
              "      <td>39.058116</td>\n",
              "      <td>3.779313</td>\n",
              "      <td>0.226277</td>\n",
              "      <td>0.673238</td>\n",
              "      <td>1.098489</td>\n",
              "      <td>0.495749</td>\n",
              "      <td>0.260268</td>\n",
              "      <td>1.318258</td>\n",
              "      <td>12.883211</td>\n",
              "      <td>6.034995</td>\n",
              "      <td>4.285452</td>\n",
              "      <td>13.330998</td>\n",
              "    </tr>\n",
              "    <tr>\n",
              "      <th>min</th>\n",
              "      <td>1.000000</td>\n",
              "      <td>0.000000</td>\n",
              "      <td>0.000000</td>\n",
              "      <td>2.000000</td>\n",
              "      <td>1.000000</td>\n",
              "      <td>118.000000</td>\n",
              "      <td>5.000000</td>\n",
              "      <td>1.000000</td>\n",
              "      <td>27.000000</td>\n",
              "      <td>205.917000</td>\n",
              "      <td>81.000000</td>\n",
              "      <td>0.000000</td>\n",
              "      <td>1.000000</td>\n",
              "      <td>0.000000</td>\n",
              "      <td>0.000000</td>\n",
              "      <td>0.000000</td>\n",
              "      <td>0.000000</td>\n",
              "      <td>56.000000</td>\n",
              "      <td>163.000000</td>\n",
              "      <td>19.000000</td>\n",
              "      <td>0.000000</td>\n",
              "    </tr>\n",
              "    <tr>\n",
              "      <th>25%</th>\n",
              "      <td>9.000000</td>\n",
              "      <td>13.000000</td>\n",
              "      <td>3.000000</td>\n",
              "      <td>3.000000</td>\n",
              "      <td>2.000000</td>\n",
              "      <td>179.000000</td>\n",
              "      <td>16.000000</td>\n",
              "      <td>9.000000</td>\n",
              "      <td>31.000000</td>\n",
              "      <td>244.387000</td>\n",
              "      <td>93.000000</td>\n",
              "      <td>0.000000</td>\n",
              "      <td>1.000000</td>\n",
              "      <td>0.000000</td>\n",
              "      <td>0.000000</td>\n",
              "      <td>0.000000</td>\n",
              "      <td>0.000000</td>\n",
              "      <td>69.000000</td>\n",
              "      <td>169.000000</td>\n",
              "      <td>24.000000</td>\n",
              "      <td>2.000000</td>\n",
              "    </tr>\n",
              "    <tr>\n",
              "      <th>50%</th>\n",
              "      <td>18.000000</td>\n",
              "      <td>23.000000</td>\n",
              "      <td>6.000000</td>\n",
              "      <td>4.000000</td>\n",
              "      <td>3.000000</td>\n",
              "      <td>225.000000</td>\n",
              "      <td>26.000000</td>\n",
              "      <td>13.000000</td>\n",
              "      <td>37.000000</td>\n",
              "      <td>264.249000</td>\n",
              "      <td>95.000000</td>\n",
              "      <td>0.000000</td>\n",
              "      <td>1.000000</td>\n",
              "      <td>1.000000</td>\n",
              "      <td>1.000000</td>\n",
              "      <td>0.000000</td>\n",
              "      <td>0.000000</td>\n",
              "      <td>83.000000</td>\n",
              "      <td>170.000000</td>\n",
              "      <td>25.000000</td>\n",
              "      <td>3.000000</td>\n",
              "    </tr>\n",
              "    <tr>\n",
              "      <th>75%</th>\n",
              "      <td>28.000000</td>\n",
              "      <td>26.000000</td>\n",
              "      <td>9.000000</td>\n",
              "      <td>5.000000</td>\n",
              "      <td>4.000000</td>\n",
              "      <td>260.000000</td>\n",
              "      <td>50.000000</td>\n",
              "      <td>16.000000</td>\n",
              "      <td>40.000000</td>\n",
              "      <td>294.217000</td>\n",
              "      <td>97.000000</td>\n",
              "      <td>0.000000</td>\n",
              "      <td>1.000000</td>\n",
              "      <td>2.000000</td>\n",
              "      <td>1.000000</td>\n",
              "      <td>0.000000</td>\n",
              "      <td>1.000000</td>\n",
              "      <td>89.000000</td>\n",
              "      <td>172.000000</td>\n",
              "      <td>31.000000</td>\n",
              "      <td>8.000000</td>\n",
              "    </tr>\n",
              "    <tr>\n",
              "      <th>max</th>\n",
              "      <td>36.000000</td>\n",
              "      <td>28.000000</td>\n",
              "      <td>12.000000</td>\n",
              "      <td>6.000000</td>\n",
              "      <td>4.000000</td>\n",
              "      <td>388.000000</td>\n",
              "      <td>52.000000</td>\n",
              "      <td>29.000000</td>\n",
              "      <td>58.000000</td>\n",
              "      <td>378.884000</td>\n",
              "      <td>100.000000</td>\n",
              "      <td>1.000000</td>\n",
              "      <td>4.000000</td>\n",
              "      <td>4.000000</td>\n",
              "      <td>1.000000</td>\n",
              "      <td>1.000000</td>\n",
              "      <td>8.000000</td>\n",
              "      <td>108.000000</td>\n",
              "      <td>196.000000</td>\n",
              "      <td>38.000000</td>\n",
              "      <td>120.000000</td>\n",
              "    </tr>\n",
              "  </tbody>\n",
              "</table>\n",
              "</div>"
            ],
            "text/plain": [
              "               id      reason       month  ...      height         bmi   abs_hours\n",
              "count  740.000000  740.000000  740.000000  ...  740.000000  740.000000  740.000000\n",
              "mean    18.017568   19.216216    6.324324  ...  172.114865   26.677027    6.924324\n",
              "std     11.021247    8.433406    3.436287  ...    6.034995    4.285452   13.330998\n",
              "min      1.000000    0.000000    0.000000  ...  163.000000   19.000000    0.000000\n",
              "25%      9.000000   13.000000    3.000000  ...  169.000000   24.000000    2.000000\n",
              "50%     18.000000   23.000000    6.000000  ...  170.000000   25.000000    3.000000\n",
              "75%     28.000000   26.000000    9.000000  ...  172.000000   31.000000    8.000000\n",
              "max     36.000000   28.000000   12.000000  ...  196.000000   38.000000  120.000000\n",
              "\n",
              "[8 rows x 21 columns]"
            ]
          },
          "metadata": {
            "tags": []
          },
          "execution_count": 6
        }
      ]
    },
    {
      "cell_type": "markdown",
      "metadata": {
        "id": "kvavWQqTP3Bx",
        "colab_type": "text"
      },
      "source": [
        "Looking at the summary, we immediately see two anomalies: \n",
        "* *month* should be from 1 to 12, but it has at least a 0 value\n",
        "* *reason* should be from 1 to 28, but it has at least a 0 value\n"
      ]
    },
    {
      "cell_type": "code",
      "metadata": {
        "id": "_IKqrp3gPfIF",
        "colab_type": "code",
        "colab": {
          "base_uri": "https://localhost:8080/",
          "height": 162
        },
        "outputId": "4f851a5e-7c2b-4893-db4e-674382174f9a"
      },
      "source": [
        "ds[ds['month'] == 0]"
      ],
      "execution_count": 7,
      "outputs": [
        {
          "output_type": "execute_result",
          "data": {
            "text/html": [
              "<div>\n",
              "<style scoped>\n",
              "    .dataframe tbody tr th:only-of-type {\n",
              "        vertical-align: middle;\n",
              "    }\n",
              "\n",
              "    .dataframe tbody tr th {\n",
              "        vertical-align: top;\n",
              "    }\n",
              "\n",
              "    .dataframe thead th {\n",
              "        text-align: right;\n",
              "    }\n",
              "</style>\n",
              "<table border=\"1\" class=\"dataframe\">\n",
              "  <thead>\n",
              "    <tr style=\"text-align: right;\">\n",
              "      <th></th>\n",
              "      <th>id</th>\n",
              "      <th>reason</th>\n",
              "      <th>month</th>\n",
              "      <th>day</th>\n",
              "      <th>seasons</th>\n",
              "      <th>trans_exp</th>\n",
              "      <th>distance</th>\n",
              "      <th>serv_time</th>\n",
              "      <th>age</th>\n",
              "      <th>work_load</th>\n",
              "      <th>hit_tg</th>\n",
              "      <th>disc_fail</th>\n",
              "      <th>education</th>\n",
              "      <th>son</th>\n",
              "      <th>drinker</th>\n",
              "      <th>smoker</th>\n",
              "      <th>pet</th>\n",
              "      <th>weight</th>\n",
              "      <th>height</th>\n",
              "      <th>bmi</th>\n",
              "      <th>abs_hours</th>\n",
              "    </tr>\n",
              "  </thead>\n",
              "  <tbody>\n",
              "    <tr>\n",
              "      <th>737</th>\n",
              "      <td>4</td>\n",
              "      <td>0</td>\n",
              "      <td>0</td>\n",
              "      <td>3</td>\n",
              "      <td>1</td>\n",
              "      <td>118</td>\n",
              "      <td>14</td>\n",
              "      <td>13</td>\n",
              "      <td>40</td>\n",
              "      <td>271.219</td>\n",
              "      <td>95</td>\n",
              "      <td>0</td>\n",
              "      <td>1</td>\n",
              "      <td>1</td>\n",
              "      <td>1</td>\n",
              "      <td>0</td>\n",
              "      <td>8</td>\n",
              "      <td>98</td>\n",
              "      <td>170</td>\n",
              "      <td>34</td>\n",
              "      <td>0</td>\n",
              "    </tr>\n",
              "    <tr>\n",
              "      <th>738</th>\n",
              "      <td>8</td>\n",
              "      <td>0</td>\n",
              "      <td>0</td>\n",
              "      <td>4</td>\n",
              "      <td>2</td>\n",
              "      <td>231</td>\n",
              "      <td>35</td>\n",
              "      <td>14</td>\n",
              "      <td>39</td>\n",
              "      <td>271.219</td>\n",
              "      <td>95</td>\n",
              "      <td>0</td>\n",
              "      <td>1</td>\n",
              "      <td>2</td>\n",
              "      <td>1</td>\n",
              "      <td>0</td>\n",
              "      <td>2</td>\n",
              "      <td>100</td>\n",
              "      <td>170</td>\n",
              "      <td>35</td>\n",
              "      <td>0</td>\n",
              "    </tr>\n",
              "    <tr>\n",
              "      <th>739</th>\n",
              "      <td>35</td>\n",
              "      <td>0</td>\n",
              "      <td>0</td>\n",
              "      <td>6</td>\n",
              "      <td>3</td>\n",
              "      <td>179</td>\n",
              "      <td>45</td>\n",
              "      <td>14</td>\n",
              "      <td>53</td>\n",
              "      <td>271.219</td>\n",
              "      <td>95</td>\n",
              "      <td>0</td>\n",
              "      <td>1</td>\n",
              "      <td>1</td>\n",
              "      <td>0</td>\n",
              "      <td>0</td>\n",
              "      <td>1</td>\n",
              "      <td>77</td>\n",
              "      <td>175</td>\n",
              "      <td>25</td>\n",
              "      <td>0</td>\n",
              "    </tr>\n",
              "  </tbody>\n",
              "</table>\n",
              "</div>"
            ],
            "text/plain": [
              "     id  reason  month  day  seasons  ...  pet  weight  height  bmi  abs_hours\n",
              "737   4       0      0    3        1  ...    8      98     170   34          0\n",
              "738   8       0      0    4        2  ...    2     100     170   35          0\n",
              "739  35       0      0    6        3  ...    1      77     175   25          0\n",
              "\n",
              "[3 rows x 21 columns]"
            ]
          },
          "metadata": {
            "tags": []
          },
          "execution_count": 7
        }
      ]
    },
    {
      "cell_type": "markdown",
      "metadata": {
        "id": "t8VMPJvJPoPb",
        "colab_type": "text"
      },
      "source": [
        "These have to be considered invalid data. I ignore these records."
      ]
    },
    {
      "cell_type": "code",
      "metadata": {
        "id": "wLVj-6iGRGnV",
        "colab_type": "code",
        "colab": {}
      },
      "source": [
        "ds = ds[ds['month'] != 0]"
      ],
      "execution_count": 0,
      "outputs": []
    },
    {
      "cell_type": "markdown",
      "metadata": {
        "id": "ccNzuxvgTMnj",
        "colab_type": "text"
      },
      "source": [
        "Now let's check *Reason of absence*."
      ]
    },
    {
      "cell_type": "code",
      "metadata": {
        "id": "Q63ihCZ3mGNc",
        "colab_type": "code",
        "outputId": "ef4afac6-faf7-484c-8499-bd3f1b73595d",
        "colab": {
          "base_uri": "https://localhost:8080/",
          "height": 34
        }
      },
      "source": [
        "len(ds[ds['reason'] == 0]) # occurences with 'reason' = 0."
      ],
      "execution_count": 9,
      "outputs": [
        {
          "output_type": "execute_result",
          "data": {
            "text/plain": [
              "40"
            ]
          },
          "metadata": {
            "tags": []
          },
          "execution_count": 9
        }
      ]
    },
    {
      "cell_type": "markdown",
      "metadata": {
        "id": "pjrP2y3Gou5n",
        "colab_type": "text"
      },
      "source": [
        "It is not a small number. It is necessary to go deeper before decide how to procede."
      ]
    },
    {
      "cell_type": "code",
      "metadata": {
        "id": "hML1V2yJo8Ob",
        "colab_type": "code",
        "outputId": "3031b749-2d1b-4f59-e559-043a1d26b9ba",
        "colab": {
          "base_uri": "https://localhost:8080/",
          "height": 317
        }
      },
      "source": [
        "ds[ds['reason'] == 0].describe() # summary of the subset of data having reason = 0"
      ],
      "execution_count": 10,
      "outputs": [
        {
          "output_type": "execute_result",
          "data": {
            "text/html": [
              "<div>\n",
              "<style scoped>\n",
              "    .dataframe tbody tr th:only-of-type {\n",
              "        vertical-align: middle;\n",
              "    }\n",
              "\n",
              "    .dataframe tbody tr th {\n",
              "        vertical-align: top;\n",
              "    }\n",
              "\n",
              "    .dataframe thead th {\n",
              "        text-align: right;\n",
              "    }\n",
              "</style>\n",
              "<table border=\"1\" class=\"dataframe\">\n",
              "  <thead>\n",
              "    <tr style=\"text-align: right;\">\n",
              "      <th></th>\n",
              "      <th>id</th>\n",
              "      <th>reason</th>\n",
              "      <th>month</th>\n",
              "      <th>day</th>\n",
              "      <th>seasons</th>\n",
              "      <th>trans_exp</th>\n",
              "      <th>distance</th>\n",
              "      <th>serv_time</th>\n",
              "      <th>age</th>\n",
              "      <th>work_load</th>\n",
              "      <th>hit_tg</th>\n",
              "      <th>disc_fail</th>\n",
              "      <th>education</th>\n",
              "      <th>son</th>\n",
              "      <th>drinker</th>\n",
              "      <th>smoker</th>\n",
              "      <th>pet</th>\n",
              "      <th>weight</th>\n",
              "      <th>height</th>\n",
              "      <th>bmi</th>\n",
              "      <th>abs_hours</th>\n",
              "    </tr>\n",
              "  </thead>\n",
              "  <tbody>\n",
              "    <tr>\n",
              "      <th>count</th>\n",
              "      <td>40.000000</td>\n",
              "      <td>40.0</td>\n",
              "      <td>40.000000</td>\n",
              "      <td>40.00000</td>\n",
              "      <td>40.00000</td>\n",
              "      <td>40.000000</td>\n",
              "      <td>40.000000</td>\n",
              "      <td>40.000000</td>\n",
              "      <td>40.000000</td>\n",
              "      <td>40.000000</td>\n",
              "      <td>40.000000</td>\n",
              "      <td>40.0</td>\n",
              "      <td>40.000000</td>\n",
              "      <td>40.000000</td>\n",
              "      <td>40.000000</td>\n",
              "      <td>40.000000</td>\n",
              "      <td>40.000000</td>\n",
              "      <td>40.000000</td>\n",
              "      <td>40.000000</td>\n",
              "      <td>40.000000</td>\n",
              "      <td>40.0</td>\n",
              "    </tr>\n",
              "    <tr>\n",
              "      <th>mean</th>\n",
              "      <td>18.225000</td>\n",
              "      <td>0.0</td>\n",
              "      <td>7.875000</td>\n",
              "      <td>3.82500</td>\n",
              "      <td>3.25000</td>\n",
              "      <td>251.900000</td>\n",
              "      <td>26.125000</td>\n",
              "      <td>12.550000</td>\n",
              "      <td>39.275000</td>\n",
              "      <td>276.229600</td>\n",
              "      <td>92.250000</td>\n",
              "      <td>1.0</td>\n",
              "      <td>1.125000</td>\n",
              "      <td>1.350000</td>\n",
              "      <td>0.675000</td>\n",
              "      <td>0.200000</td>\n",
              "      <td>0.850000</td>\n",
              "      <td>82.925000</td>\n",
              "      <td>171.850000</td>\n",
              "      <td>28.100000</td>\n",
              "      <td>0.0</td>\n",
              "    </tr>\n",
              "    <tr>\n",
              "      <th>std</th>\n",
              "      <td>11.561402</td>\n",
              "      <td>0.0</td>\n",
              "      <td>2.690796</td>\n",
              "      <td>1.25856</td>\n",
              "      <td>1.00639</td>\n",
              "      <td>78.647151</td>\n",
              "      <td>14.211204</td>\n",
              "      <td>3.565864</td>\n",
              "      <td>7.309942</td>\n",
              "      <td>40.101505</td>\n",
              "      <td>5.147815</td>\n",
              "      <td>0.0</td>\n",
              "      <td>0.404304</td>\n",
              "      <td>1.098951</td>\n",
              "      <td>0.474342</td>\n",
              "      <td>0.405096</td>\n",
              "      <td>1.494434</td>\n",
              "      <td>14.794988</td>\n",
              "      <td>5.413895</td>\n",
              "      <td>5.400855</td>\n",
              "      <td>0.0</td>\n",
              "    </tr>\n",
              "    <tr>\n",
              "      <th>min</th>\n",
              "      <td>1.000000</td>\n",
              "      <td>0.0</td>\n",
              "      <td>3.000000</td>\n",
              "      <td>2.00000</td>\n",
              "      <td>1.00000</td>\n",
              "      <td>118.000000</td>\n",
              "      <td>5.000000</td>\n",
              "      <td>4.000000</td>\n",
              "      <td>28.000000</td>\n",
              "      <td>237.656000</td>\n",
              "      <td>81.000000</td>\n",
              "      <td>1.0</td>\n",
              "      <td>1.000000</td>\n",
              "      <td>0.000000</td>\n",
              "      <td>0.000000</td>\n",
              "      <td>0.000000</td>\n",
              "      <td>0.000000</td>\n",
              "      <td>65.000000</td>\n",
              "      <td>163.000000</td>\n",
              "      <td>21.000000</td>\n",
              "      <td>0.0</td>\n",
              "    </tr>\n",
              "    <tr>\n",
              "      <th>25%</th>\n",
              "      <td>7.000000</td>\n",
              "      <td>0.0</td>\n",
              "      <td>5.000000</td>\n",
              "      <td>3.00000</td>\n",
              "      <td>3.00000</td>\n",
              "      <td>229.500000</td>\n",
              "      <td>14.500000</td>\n",
              "      <td>11.000000</td>\n",
              "      <td>33.000000</td>\n",
              "      <td>244.387000</td>\n",
              "      <td>88.000000</td>\n",
              "      <td>1.0</td>\n",
              "      <td>1.000000</td>\n",
              "      <td>1.000000</td>\n",
              "      <td>0.000000</td>\n",
              "      <td>0.000000</td>\n",
              "      <td>0.000000</td>\n",
              "      <td>68.750000</td>\n",
              "      <td>168.000000</td>\n",
              "      <td>24.000000</td>\n",
              "      <td>0.0</td>\n",
              "    </tr>\n",
              "    <tr>\n",
              "      <th>50%</th>\n",
              "      <td>18.500000</td>\n",
              "      <td>0.0</td>\n",
              "      <td>9.000000</td>\n",
              "      <td>4.00000</td>\n",
              "      <td>4.00000</td>\n",
              "      <td>247.000000</td>\n",
              "      <td>22.500000</td>\n",
              "      <td>12.500000</td>\n",
              "      <td>39.000000</td>\n",
              "      <td>265.017000</td>\n",
              "      <td>92.000000</td>\n",
              "      <td>1.0</td>\n",
              "      <td>1.000000</td>\n",
              "      <td>1.000000</td>\n",
              "      <td>1.000000</td>\n",
              "      <td>0.000000</td>\n",
              "      <td>0.000000</td>\n",
              "      <td>84.000000</td>\n",
              "      <td>170.000000</td>\n",
              "      <td>25.000000</td>\n",
              "      <td>0.0</td>\n",
              "    </tr>\n",
              "    <tr>\n",
              "      <th>75%</th>\n",
              "      <td>28.250000</td>\n",
              "      <td>0.0</td>\n",
              "      <td>10.000000</td>\n",
              "      <td>5.00000</td>\n",
              "      <td>4.00000</td>\n",
              "      <td>291.000000</td>\n",
              "      <td>35.250000</td>\n",
              "      <td>14.000000</td>\n",
              "      <td>44.000000</td>\n",
              "      <td>284.236500</td>\n",
              "      <td>97.000000</td>\n",
              "      <td>1.0</td>\n",
              "      <td>1.000000</td>\n",
              "      <td>2.000000</td>\n",
              "      <td>1.000000</td>\n",
              "      <td>0.000000</td>\n",
              "      <td>1.000000</td>\n",
              "      <td>98.000000</td>\n",
              "      <td>178.000000</td>\n",
              "      <td>31.000000</td>\n",
              "      <td>0.0</td>\n",
              "    </tr>\n",
              "    <tr>\n",
              "      <th>max</th>\n",
              "      <td>36.000000</td>\n",
              "      <td>0.0</td>\n",
              "      <td>11.000000</td>\n",
              "      <td>6.00000</td>\n",
              "      <td>4.00000</td>\n",
              "      <td>388.000000</td>\n",
              "      <td>51.000000</td>\n",
              "      <td>18.000000</td>\n",
              "      <td>50.000000</td>\n",
              "      <td>378.884000</td>\n",
              "      <td>99.000000</td>\n",
              "      <td>1.0</td>\n",
              "      <td>3.000000</td>\n",
              "      <td>4.000000</td>\n",
              "      <td>1.000000</td>\n",
              "      <td>1.000000</td>\n",
              "      <td>5.000000</td>\n",
              "      <td>106.000000</td>\n",
              "      <td>185.000000</td>\n",
              "      <td>38.000000</td>\n",
              "      <td>0.0</td>\n",
              "    </tr>\n",
              "  </tbody>\n",
              "</table>\n",
              "</div>"
            ],
            "text/plain": [
              "              id  reason      month  ...      height        bmi  abs_hours\n",
              "count  40.000000    40.0  40.000000  ...   40.000000  40.000000       40.0\n",
              "mean   18.225000     0.0   7.875000  ...  171.850000  28.100000        0.0\n",
              "std    11.561402     0.0   2.690796  ...    5.413895   5.400855        0.0\n",
              "min     1.000000     0.0   3.000000  ...  163.000000  21.000000        0.0\n",
              "25%     7.000000     0.0   5.000000  ...  168.000000  24.000000        0.0\n",
              "50%    18.500000     0.0   9.000000  ...  170.000000  25.000000        0.0\n",
              "75%    28.250000     0.0  10.000000  ...  178.000000  31.000000        0.0\n",
              "max    36.000000     0.0  11.000000  ...  185.000000  38.000000        0.0\n",
              "\n",
              "[8 rows x 21 columns]"
            ]
          },
          "metadata": {
            "tags": []
          },
          "execution_count": 10
        }
      ]
    },
    {
      "cell_type": "markdown",
      "metadata": {
        "id": "iobzT5XHpLlx",
        "colab_type": "text"
      },
      "source": [
        "I see that all the records having *reason = 0* also have *abs_hours = 0*. \n",
        "These records probably refers to cases of late work for less than an hour and so justification is not available. Considering these records into the analysis could be interesting and also useful for a company, so I keep them."
      ]
    },
    {
      "cell_type": "code",
      "metadata": {
        "id": "MBK_c_wcwekb",
        "colab_type": "code",
        "outputId": "4487b1ef-6664-43b5-c5a0-411a2346e78f",
        "colab": {
          "base_uri": "https://localhost:8080/",
          "height": 317
        }
      },
      "source": [
        "ds.describe()"
      ],
      "execution_count": 11,
      "outputs": [
        {
          "output_type": "execute_result",
          "data": {
            "text/html": [
              "<div>\n",
              "<style scoped>\n",
              "    .dataframe tbody tr th:only-of-type {\n",
              "        vertical-align: middle;\n",
              "    }\n",
              "\n",
              "    .dataframe tbody tr th {\n",
              "        vertical-align: top;\n",
              "    }\n",
              "\n",
              "    .dataframe thead th {\n",
              "        text-align: right;\n",
              "    }\n",
              "</style>\n",
              "<table border=\"1\" class=\"dataframe\">\n",
              "  <thead>\n",
              "    <tr style=\"text-align: right;\">\n",
              "      <th></th>\n",
              "      <th>id</th>\n",
              "      <th>reason</th>\n",
              "      <th>month</th>\n",
              "      <th>day</th>\n",
              "      <th>seasons</th>\n",
              "      <th>trans_exp</th>\n",
              "      <th>distance</th>\n",
              "      <th>serv_time</th>\n",
              "      <th>age</th>\n",
              "      <th>work_load</th>\n",
              "      <th>hit_tg</th>\n",
              "      <th>disc_fail</th>\n",
              "      <th>education</th>\n",
              "      <th>son</th>\n",
              "      <th>drinker</th>\n",
              "      <th>smoker</th>\n",
              "      <th>pet</th>\n",
              "      <th>weight</th>\n",
              "      <th>height</th>\n",
              "      <th>bmi</th>\n",
              "      <th>abs_hours</th>\n",
              "    </tr>\n",
              "  </thead>\n",
              "  <tbody>\n",
              "    <tr>\n",
              "      <th>count</th>\n",
              "      <td>737.000000</td>\n",
              "      <td>737.000000</td>\n",
              "      <td>737.000000</td>\n",
              "      <td>737.000000</td>\n",
              "      <td>737.000000</td>\n",
              "      <td>737.000000</td>\n",
              "      <td>737.000000</td>\n",
              "      <td>737.000000</td>\n",
              "      <td>737.000000</td>\n",
              "      <td>737.000000</td>\n",
              "      <td>737.000000</td>\n",
              "      <td>737.000000</td>\n",
              "      <td>737.00000</td>\n",
              "      <td>737.000000</td>\n",
              "      <td>737.000000</td>\n",
              "      <td>737.000000</td>\n",
              "      <td>737.000000</td>\n",
              "      <td>737.000000</td>\n",
              "      <td>737.000000</td>\n",
              "      <td>737.000000</td>\n",
              "      <td>737.000000</td>\n",
              "    </tr>\n",
              "    <tr>\n",
              "      <th>mean</th>\n",
              "      <td>18.027137</td>\n",
              "      <td>19.294437</td>\n",
              "      <td>6.350068</td>\n",
              "      <td>3.913161</td>\n",
              "      <td>2.546811</td>\n",
              "      <td>221.514247</td>\n",
              "      <td>29.624152</td>\n",
              "      <td>12.549525</td>\n",
              "      <td>36.419267</td>\n",
              "      <td>271.491339</td>\n",
              "      <td>94.586160</td>\n",
              "      <td>0.054274</td>\n",
              "      <td>1.29308</td>\n",
              "      <td>1.017639</td>\n",
              "      <td>0.567164</td>\n",
              "      <td>0.073270</td>\n",
              "      <td>0.734057</td>\n",
              "      <td>78.983718</td>\n",
              "      <td>172.116689</td>\n",
              "      <td>26.658073</td>\n",
              "      <td>6.952510</td>\n",
              "    </tr>\n",
              "    <tr>\n",
              "      <th>std</th>\n",
              "      <td>11.007622</td>\n",
              "      <td>8.360679</td>\n",
              "      <td>3.419430</td>\n",
              "      <td>1.422090</td>\n",
              "      <td>1.112329</td>\n",
              "      <td>66.960952</td>\n",
              "      <td>14.843701</td>\n",
              "      <td>4.393121</td>\n",
              "      <td>6.461156</td>\n",
              "      <td>39.137634</td>\n",
              "      <td>3.786916</td>\n",
              "      <td>0.226712</td>\n",
              "      <td>0.67435</td>\n",
              "      <td>1.100130</td>\n",
              "      <td>0.495805</td>\n",
              "      <td>0.260756</td>\n",
              "      <td>1.292682</td>\n",
              "      <td>12.866993</td>\n",
              "      <td>6.045341</td>\n",
              "      <td>4.274201</td>\n",
              "      <td>13.350793</td>\n",
              "    </tr>\n",
              "    <tr>\n",
              "      <th>min</th>\n",
              "      <td>1.000000</td>\n",
              "      <td>0.000000</td>\n",
              "      <td>1.000000</td>\n",
              "      <td>2.000000</td>\n",
              "      <td>1.000000</td>\n",
              "      <td>118.000000</td>\n",
              "      <td>5.000000</td>\n",
              "      <td>1.000000</td>\n",
              "      <td>27.000000</td>\n",
              "      <td>205.917000</td>\n",
              "      <td>81.000000</td>\n",
              "      <td>0.000000</td>\n",
              "      <td>1.00000</td>\n",
              "      <td>0.000000</td>\n",
              "      <td>0.000000</td>\n",
              "      <td>0.000000</td>\n",
              "      <td>0.000000</td>\n",
              "      <td>56.000000</td>\n",
              "      <td>163.000000</td>\n",
              "      <td>19.000000</td>\n",
              "      <td>0.000000</td>\n",
              "    </tr>\n",
              "    <tr>\n",
              "      <th>25%</th>\n",
              "      <td>10.000000</td>\n",
              "      <td>13.000000</td>\n",
              "      <td>3.000000</td>\n",
              "      <td>3.000000</td>\n",
              "      <td>2.000000</td>\n",
              "      <td>179.000000</td>\n",
              "      <td>16.000000</td>\n",
              "      <td>9.000000</td>\n",
              "      <td>31.000000</td>\n",
              "      <td>244.387000</td>\n",
              "      <td>93.000000</td>\n",
              "      <td>0.000000</td>\n",
              "      <td>1.00000</td>\n",
              "      <td>0.000000</td>\n",
              "      <td>0.000000</td>\n",
              "      <td>0.000000</td>\n",
              "      <td>0.000000</td>\n",
              "      <td>69.000000</td>\n",
              "      <td>169.000000</td>\n",
              "      <td>24.000000</td>\n",
              "      <td>2.000000</td>\n",
              "    </tr>\n",
              "    <tr>\n",
              "      <th>50%</th>\n",
              "      <td>18.000000</td>\n",
              "      <td>23.000000</td>\n",
              "      <td>6.000000</td>\n",
              "      <td>4.000000</td>\n",
              "      <td>3.000000</td>\n",
              "      <td>225.000000</td>\n",
              "      <td>26.000000</td>\n",
              "      <td>13.000000</td>\n",
              "      <td>37.000000</td>\n",
              "      <td>264.249000</td>\n",
              "      <td>95.000000</td>\n",
              "      <td>0.000000</td>\n",
              "      <td>1.00000</td>\n",
              "      <td>1.000000</td>\n",
              "      <td>1.000000</td>\n",
              "      <td>0.000000</td>\n",
              "      <td>0.000000</td>\n",
              "      <td>83.000000</td>\n",
              "      <td>170.000000</td>\n",
              "      <td>25.000000</td>\n",
              "      <td>3.000000</td>\n",
              "    </tr>\n",
              "    <tr>\n",
              "      <th>75%</th>\n",
              "      <td>28.000000</td>\n",
              "      <td>26.000000</td>\n",
              "      <td>9.000000</td>\n",
              "      <td>5.000000</td>\n",
              "      <td>4.000000</td>\n",
              "      <td>260.000000</td>\n",
              "      <td>50.000000</td>\n",
              "      <td>16.000000</td>\n",
              "      <td>40.000000</td>\n",
              "      <td>294.217000</td>\n",
              "      <td>97.000000</td>\n",
              "      <td>0.000000</td>\n",
              "      <td>1.00000</td>\n",
              "      <td>2.000000</td>\n",
              "      <td>1.000000</td>\n",
              "      <td>0.000000</td>\n",
              "      <td>1.000000</td>\n",
              "      <td>89.000000</td>\n",
              "      <td>172.000000</td>\n",
              "      <td>31.000000</td>\n",
              "      <td>8.000000</td>\n",
              "    </tr>\n",
              "    <tr>\n",
              "      <th>max</th>\n",
              "      <td>36.000000</td>\n",
              "      <td>28.000000</td>\n",
              "      <td>12.000000</td>\n",
              "      <td>6.000000</td>\n",
              "      <td>4.000000</td>\n",
              "      <td>388.000000</td>\n",
              "      <td>52.000000</td>\n",
              "      <td>29.000000</td>\n",
              "      <td>58.000000</td>\n",
              "      <td>378.884000</td>\n",
              "      <td>100.000000</td>\n",
              "      <td>1.000000</td>\n",
              "      <td>4.00000</td>\n",
              "      <td>4.000000</td>\n",
              "      <td>1.000000</td>\n",
              "      <td>1.000000</td>\n",
              "      <td>8.000000</td>\n",
              "      <td>108.000000</td>\n",
              "      <td>196.000000</td>\n",
              "      <td>38.000000</td>\n",
              "      <td>120.000000</td>\n",
              "    </tr>\n",
              "  </tbody>\n",
              "</table>\n",
              "</div>"
            ],
            "text/plain": [
              "               id      reason       month  ...      height         bmi   abs_hours\n",
              "count  737.000000  737.000000  737.000000  ...  737.000000  737.000000  737.000000\n",
              "mean    18.027137   19.294437    6.350068  ...  172.116689   26.658073    6.952510\n",
              "std     11.007622    8.360679    3.419430  ...    6.045341    4.274201   13.350793\n",
              "min      1.000000    0.000000    1.000000  ...  163.000000   19.000000    0.000000\n",
              "25%     10.000000   13.000000    3.000000  ...  169.000000   24.000000    2.000000\n",
              "50%     18.000000   23.000000    6.000000  ...  170.000000   25.000000    3.000000\n",
              "75%     28.000000   26.000000    9.000000  ...  172.000000   31.000000    8.000000\n",
              "max     36.000000   28.000000   12.000000  ...  196.000000   38.000000  120.000000\n",
              "\n",
              "[8 rows x 21 columns]"
            ]
          },
          "metadata": {
            "tags": []
          },
          "execution_count": 11
        }
      ]
    },
    {
      "cell_type": "markdown",
      "metadata": {
        "id": "Q0L9jWPsxgx7",
        "colab_type": "text"
      },
      "source": [
        "There is one more attribute to check: *disc_fail*. It is a boolean value."
      ]
    },
    {
      "cell_type": "code",
      "metadata": {
        "id": "jWCMPfftx4wu",
        "colab_type": "code",
        "outputId": "4c2cabb7-6b00-4d3a-d206-f5eca1d2e638",
        "colab": {
          "base_uri": "https://localhost:8080/",
          "height": 34
        }
      },
      "source": [
        "len(ds[ds['disc_fail'] == 1]) # Check how many records have 1 "
      ],
      "execution_count": 12,
      "outputs": [
        {
          "output_type": "execute_result",
          "data": {
            "text/plain": [
              "40"
            ]
          },
          "metadata": {
            "tags": []
          },
          "execution_count": 12
        }
      ]
    },
    {
      "cell_type": "code",
      "metadata": {
        "id": "mxGGIJXByatm",
        "colab_type": "code",
        "outputId": "a5793cab-2735-48ff-b4b9-5126d4a25861",
        "colab": {
          "base_uri": "https://localhost:8080/",
          "height": 317
        }
      },
      "source": [
        "ds[ds['disc_fail'] == 1].describe()"
      ],
      "execution_count": 13,
      "outputs": [
        {
          "output_type": "execute_result",
          "data": {
            "text/html": [
              "<div>\n",
              "<style scoped>\n",
              "    .dataframe tbody tr th:only-of-type {\n",
              "        vertical-align: middle;\n",
              "    }\n",
              "\n",
              "    .dataframe tbody tr th {\n",
              "        vertical-align: top;\n",
              "    }\n",
              "\n",
              "    .dataframe thead th {\n",
              "        text-align: right;\n",
              "    }\n",
              "</style>\n",
              "<table border=\"1\" class=\"dataframe\">\n",
              "  <thead>\n",
              "    <tr style=\"text-align: right;\">\n",
              "      <th></th>\n",
              "      <th>id</th>\n",
              "      <th>reason</th>\n",
              "      <th>month</th>\n",
              "      <th>day</th>\n",
              "      <th>seasons</th>\n",
              "      <th>trans_exp</th>\n",
              "      <th>distance</th>\n",
              "      <th>serv_time</th>\n",
              "      <th>age</th>\n",
              "      <th>work_load</th>\n",
              "      <th>hit_tg</th>\n",
              "      <th>disc_fail</th>\n",
              "      <th>education</th>\n",
              "      <th>son</th>\n",
              "      <th>drinker</th>\n",
              "      <th>smoker</th>\n",
              "      <th>pet</th>\n",
              "      <th>weight</th>\n",
              "      <th>height</th>\n",
              "      <th>bmi</th>\n",
              "      <th>abs_hours</th>\n",
              "    </tr>\n",
              "  </thead>\n",
              "  <tbody>\n",
              "    <tr>\n",
              "      <th>count</th>\n",
              "      <td>40.000000</td>\n",
              "      <td>40.0</td>\n",
              "      <td>40.000000</td>\n",
              "      <td>40.00000</td>\n",
              "      <td>40.00000</td>\n",
              "      <td>40.000000</td>\n",
              "      <td>40.000000</td>\n",
              "      <td>40.000000</td>\n",
              "      <td>40.000000</td>\n",
              "      <td>40.000000</td>\n",
              "      <td>40.000000</td>\n",
              "      <td>40.0</td>\n",
              "      <td>40.000000</td>\n",
              "      <td>40.000000</td>\n",
              "      <td>40.000000</td>\n",
              "      <td>40.000000</td>\n",
              "      <td>40.000000</td>\n",
              "      <td>40.000000</td>\n",
              "      <td>40.000000</td>\n",
              "      <td>40.000000</td>\n",
              "      <td>40.0</td>\n",
              "    </tr>\n",
              "    <tr>\n",
              "      <th>mean</th>\n",
              "      <td>18.225000</td>\n",
              "      <td>0.0</td>\n",
              "      <td>7.875000</td>\n",
              "      <td>3.82500</td>\n",
              "      <td>3.25000</td>\n",
              "      <td>251.900000</td>\n",
              "      <td>26.125000</td>\n",
              "      <td>12.550000</td>\n",
              "      <td>39.275000</td>\n",
              "      <td>276.229600</td>\n",
              "      <td>92.250000</td>\n",
              "      <td>1.0</td>\n",
              "      <td>1.125000</td>\n",
              "      <td>1.350000</td>\n",
              "      <td>0.675000</td>\n",
              "      <td>0.200000</td>\n",
              "      <td>0.850000</td>\n",
              "      <td>82.925000</td>\n",
              "      <td>171.850000</td>\n",
              "      <td>28.100000</td>\n",
              "      <td>0.0</td>\n",
              "    </tr>\n",
              "    <tr>\n",
              "      <th>std</th>\n",
              "      <td>11.561402</td>\n",
              "      <td>0.0</td>\n",
              "      <td>2.690796</td>\n",
              "      <td>1.25856</td>\n",
              "      <td>1.00639</td>\n",
              "      <td>78.647151</td>\n",
              "      <td>14.211204</td>\n",
              "      <td>3.565864</td>\n",
              "      <td>7.309942</td>\n",
              "      <td>40.101505</td>\n",
              "      <td>5.147815</td>\n",
              "      <td>0.0</td>\n",
              "      <td>0.404304</td>\n",
              "      <td>1.098951</td>\n",
              "      <td>0.474342</td>\n",
              "      <td>0.405096</td>\n",
              "      <td>1.494434</td>\n",
              "      <td>14.794988</td>\n",
              "      <td>5.413895</td>\n",
              "      <td>5.400855</td>\n",
              "      <td>0.0</td>\n",
              "    </tr>\n",
              "    <tr>\n",
              "      <th>min</th>\n",
              "      <td>1.000000</td>\n",
              "      <td>0.0</td>\n",
              "      <td>3.000000</td>\n",
              "      <td>2.00000</td>\n",
              "      <td>1.00000</td>\n",
              "      <td>118.000000</td>\n",
              "      <td>5.000000</td>\n",
              "      <td>4.000000</td>\n",
              "      <td>28.000000</td>\n",
              "      <td>237.656000</td>\n",
              "      <td>81.000000</td>\n",
              "      <td>1.0</td>\n",
              "      <td>1.000000</td>\n",
              "      <td>0.000000</td>\n",
              "      <td>0.000000</td>\n",
              "      <td>0.000000</td>\n",
              "      <td>0.000000</td>\n",
              "      <td>65.000000</td>\n",
              "      <td>163.000000</td>\n",
              "      <td>21.000000</td>\n",
              "      <td>0.0</td>\n",
              "    </tr>\n",
              "    <tr>\n",
              "      <th>25%</th>\n",
              "      <td>7.000000</td>\n",
              "      <td>0.0</td>\n",
              "      <td>5.000000</td>\n",
              "      <td>3.00000</td>\n",
              "      <td>3.00000</td>\n",
              "      <td>229.500000</td>\n",
              "      <td>14.500000</td>\n",
              "      <td>11.000000</td>\n",
              "      <td>33.000000</td>\n",
              "      <td>244.387000</td>\n",
              "      <td>88.000000</td>\n",
              "      <td>1.0</td>\n",
              "      <td>1.000000</td>\n",
              "      <td>1.000000</td>\n",
              "      <td>0.000000</td>\n",
              "      <td>0.000000</td>\n",
              "      <td>0.000000</td>\n",
              "      <td>68.750000</td>\n",
              "      <td>168.000000</td>\n",
              "      <td>24.000000</td>\n",
              "      <td>0.0</td>\n",
              "    </tr>\n",
              "    <tr>\n",
              "      <th>50%</th>\n",
              "      <td>18.500000</td>\n",
              "      <td>0.0</td>\n",
              "      <td>9.000000</td>\n",
              "      <td>4.00000</td>\n",
              "      <td>4.00000</td>\n",
              "      <td>247.000000</td>\n",
              "      <td>22.500000</td>\n",
              "      <td>12.500000</td>\n",
              "      <td>39.000000</td>\n",
              "      <td>265.017000</td>\n",
              "      <td>92.000000</td>\n",
              "      <td>1.0</td>\n",
              "      <td>1.000000</td>\n",
              "      <td>1.000000</td>\n",
              "      <td>1.000000</td>\n",
              "      <td>0.000000</td>\n",
              "      <td>0.000000</td>\n",
              "      <td>84.000000</td>\n",
              "      <td>170.000000</td>\n",
              "      <td>25.000000</td>\n",
              "      <td>0.0</td>\n",
              "    </tr>\n",
              "    <tr>\n",
              "      <th>75%</th>\n",
              "      <td>28.250000</td>\n",
              "      <td>0.0</td>\n",
              "      <td>10.000000</td>\n",
              "      <td>5.00000</td>\n",
              "      <td>4.00000</td>\n",
              "      <td>291.000000</td>\n",
              "      <td>35.250000</td>\n",
              "      <td>14.000000</td>\n",
              "      <td>44.000000</td>\n",
              "      <td>284.236500</td>\n",
              "      <td>97.000000</td>\n",
              "      <td>1.0</td>\n",
              "      <td>1.000000</td>\n",
              "      <td>2.000000</td>\n",
              "      <td>1.000000</td>\n",
              "      <td>0.000000</td>\n",
              "      <td>1.000000</td>\n",
              "      <td>98.000000</td>\n",
              "      <td>178.000000</td>\n",
              "      <td>31.000000</td>\n",
              "      <td>0.0</td>\n",
              "    </tr>\n",
              "    <tr>\n",
              "      <th>max</th>\n",
              "      <td>36.000000</td>\n",
              "      <td>0.0</td>\n",
              "      <td>11.000000</td>\n",
              "      <td>6.00000</td>\n",
              "      <td>4.00000</td>\n",
              "      <td>388.000000</td>\n",
              "      <td>51.000000</td>\n",
              "      <td>18.000000</td>\n",
              "      <td>50.000000</td>\n",
              "      <td>378.884000</td>\n",
              "      <td>99.000000</td>\n",
              "      <td>1.0</td>\n",
              "      <td>3.000000</td>\n",
              "      <td>4.000000</td>\n",
              "      <td>1.000000</td>\n",
              "      <td>1.000000</td>\n",
              "      <td>5.000000</td>\n",
              "      <td>106.000000</td>\n",
              "      <td>185.000000</td>\n",
              "      <td>38.000000</td>\n",
              "      <td>0.0</td>\n",
              "    </tr>\n",
              "  </tbody>\n",
              "</table>\n",
              "</div>"
            ],
            "text/plain": [
              "              id  reason      month  ...      height        bmi  abs_hours\n",
              "count  40.000000    40.0  40.000000  ...   40.000000  40.000000       40.0\n",
              "mean   18.225000     0.0   7.875000  ...  171.850000  28.100000        0.0\n",
              "std    11.561402     0.0   2.690796  ...    5.413895   5.400855        0.0\n",
              "min     1.000000     0.0   3.000000  ...  163.000000  21.000000        0.0\n",
              "25%     7.000000     0.0   5.000000  ...  168.000000  24.000000        0.0\n",
              "50%    18.500000     0.0   9.000000  ...  170.000000  25.000000        0.0\n",
              "75%    28.250000     0.0  10.000000  ...  178.000000  31.000000        0.0\n",
              "max    36.000000     0.0  11.000000  ...  185.000000  38.000000        0.0\n",
              "\n",
              "[8 rows x 21 columns]"
            ]
          },
          "metadata": {
            "tags": []
          },
          "execution_count": 13
        }
      ]
    },
    {
      "cell_type": "markdown",
      "metadata": {
        "id": "HuHiMRIKyIZc",
        "colab_type": "text"
      },
      "source": [
        "40 records have *disc_fail=1*, everyone else has 0.\n",
        "We notice that all the records having *Disciplinary failure* correspond to the ones with *abs_hours* = 0. This relationship will certainly be useful in our classification models.\n",
        "\n",
        "It could be interesesting to know the distribution of these *disciplinary failure* over the employees and understand if those who received it tending to do less delays or absences. Anyway, we don't have this information."
      ]
    },
    {
      "cell_type": "markdown",
      "metadata": {
        "id": "GUJM9APJU4s9",
        "colab_type": "text"
      },
      "source": [
        "I checked for the zeros and the invalid values among the dataset. \n",
        "Now I prepare data for visualization and analysis."
      ]
    },
    {
      "cell_type": "markdown",
      "metadata": {
        "id": "Mq4Jaz_cDpFi",
        "colab_type": "text"
      },
      "source": [
        "We see that there are several categorical attributes represented using integer values. In order to manage them, it is opportune to set their type as [Categorical data](https://pandas.pydata.org/pandas-docs/stable/user_guide/categorical.html). "
      ]
    },
    {
      "cell_type": "code",
      "metadata": {
        "id": "Y1isdt0s02-5",
        "colab_type": "code",
        "outputId": "8210e387-b25c-4da3-d60b-c6f4fe375197",
        "colab": {
          "base_uri": "https://localhost:8080/",
          "height": 309
        }
      },
      "source": [
        "# Here I will add extended values for categorical data.\n",
        "\n",
        "# Adding Season names:\n",
        "season_mapping = {1:'Summer', 2:'Autumn', 3:'Winter', 4:'Spring'}\n",
        "ds['season_name'] = ds.seasons.map(season_mapping)\n",
        "ds['season_name'] = ds['season_name'].astype('category')\n",
        "\n",
        "# Adding Month names abbrevations:\n",
        "ds['month_name'] =  ds['month'].apply(lambda x: calendar.month_abbr[x])\n",
        "ds['month_name'] = ds['month_name'].astype('category')\n",
        "\n",
        "# Adding day names abbrevations:\n",
        "ds['day_name'] =  ds['day'].apply(lambda x: calendar.day_abbr[x-2])\n",
        "# calendar 0: Monday, but I want 2: Monday\n",
        "ds['day_name'] = ds['day_name'].astype('category')\n",
        "\n",
        "# Adding reasons value:\n",
        "reason_mapping = {\n",
        "    0: 'Not available',\n",
        "    1: 'Certain infectious and parasitic diseases',\n",
        "    2: 'Neoplasms',\n",
        "    3: 'Diseases of the blood and blood-forming organs and certain disorders involving the immune mechanism',\n",
        "    4: 'Endocrine, nutritional and metabolic diseases',\n",
        "    5: 'Mental and behavioural disorders',\n",
        "    6: 'Diseases of the nervous system',\n",
        "    7: 'Diseases of the eye and adnexa',\n",
        "    8: 'Diseases of the ear and mastoid process',\n",
        "    9: 'Diseases of the circulatory system',\n",
        "    10: 'Diseases of the respiratory system',\n",
        "    11: 'Diseases of the digestive system',\n",
        "    12: 'Diseases of the skin and subcutaneous tissue',\n",
        "    13: 'Diseases of the musculoskeletal system and connective tissue',\n",
        "    14: 'Diseases of the genitourinary system',\n",
        "    15: 'Pregnancy, childbirth and the puerperium',\n",
        "    16: 'Certain conditions originating in the perinatal period',\n",
        "    17: 'Congenital malformations, deformations and chromosomal abnormalities',\n",
        "    18: 'Symptoms, signs and abnormal clinical and laboratory findings, not elsewhere classified',\n",
        "    19: 'Injury, poisoning and certain other consequences of external causes',\n",
        "    20: 'External causes of morbidity and mortality',\n",
        "    21: 'Factors influencing health status and contact with health services',\n",
        "    22: 'Patient follow-up',\n",
        "    23: 'Medical consultation',\n",
        "    24: 'Blood donation',\n",
        "    25: 'Laboratory examination',\n",
        "    26: 'Unjustified absence',\n",
        "    27: 'Physiotherapy',\n",
        "    28: 'Dental consultation'\n",
        "}\n",
        "ds['reason_text'] = ds['reason'].map(reason_mapping)\n",
        "ds['reason_text'] = ds['reason_text'].astype('category')\n",
        "\n",
        "# Adding Education:\n",
        "education_mapping = {\n",
        "    1: '1. High School',\n",
        "    2: '2. Graduate',\n",
        "    3: '3. Post Graduate',\n",
        "    4: '4. Master & Doctor'\n",
        "}\n",
        "ds['education_detail'] = ds['education'].map(education_mapping)\n",
        "ds['education_detail'] = ds['education_detail'].astype('category')\n",
        "\n",
        "# smoker and drinker are boolean\n",
        "ds['smoker'] = ds['smoker'].astype('bool')\n",
        "ds['drinker'] = ds['drinker'].astype('bool')\n",
        "ds['disc_fail'] = ds['disc_fail'].astype('bool')\n",
        "\n",
        "# Now ds contains categorical data twice.\n",
        "# I drop the old columns, but before I keep save of everything\n",
        "# in ds_explore: it will be used for data exploration and we will \n",
        "# choose the better format each way.\n",
        "\n",
        "ds_explore = ds.copy()\n",
        "ds = ds.drop(columns = {'id','reason','month','day','seasons','education'})\n",
        "\n",
        "# I check the firsts rows:\n",
        "ds_explore.head()"
      ],
      "execution_count": 14,
      "outputs": [
        {
          "output_type": "execute_result",
          "data": {
            "text/html": [
              "<div>\n",
              "<style scoped>\n",
              "    .dataframe tbody tr th:only-of-type {\n",
              "        vertical-align: middle;\n",
              "    }\n",
              "\n",
              "    .dataframe tbody tr th {\n",
              "        vertical-align: top;\n",
              "    }\n",
              "\n",
              "    .dataframe thead th {\n",
              "        text-align: right;\n",
              "    }\n",
              "</style>\n",
              "<table border=\"1\" class=\"dataframe\">\n",
              "  <thead>\n",
              "    <tr style=\"text-align: right;\">\n",
              "      <th></th>\n",
              "      <th>id</th>\n",
              "      <th>reason</th>\n",
              "      <th>month</th>\n",
              "      <th>day</th>\n",
              "      <th>seasons</th>\n",
              "      <th>trans_exp</th>\n",
              "      <th>distance</th>\n",
              "      <th>serv_time</th>\n",
              "      <th>age</th>\n",
              "      <th>work_load</th>\n",
              "      <th>hit_tg</th>\n",
              "      <th>disc_fail</th>\n",
              "      <th>education</th>\n",
              "      <th>son</th>\n",
              "      <th>drinker</th>\n",
              "      <th>smoker</th>\n",
              "      <th>pet</th>\n",
              "      <th>weight</th>\n",
              "      <th>height</th>\n",
              "      <th>bmi</th>\n",
              "      <th>abs_hours</th>\n",
              "      <th>season_name</th>\n",
              "      <th>month_name</th>\n",
              "      <th>day_name</th>\n",
              "      <th>reason_text</th>\n",
              "      <th>education_detail</th>\n",
              "    </tr>\n",
              "  </thead>\n",
              "  <tbody>\n",
              "    <tr>\n",
              "      <th>0</th>\n",
              "      <td>11</td>\n",
              "      <td>26</td>\n",
              "      <td>7</td>\n",
              "      <td>3</td>\n",
              "      <td>1</td>\n",
              "      <td>289</td>\n",
              "      <td>36</td>\n",
              "      <td>13</td>\n",
              "      <td>33</td>\n",
              "      <td>239.554</td>\n",
              "      <td>97</td>\n",
              "      <td>False</td>\n",
              "      <td>1</td>\n",
              "      <td>2</td>\n",
              "      <td>True</td>\n",
              "      <td>False</td>\n",
              "      <td>1</td>\n",
              "      <td>90</td>\n",
              "      <td>172</td>\n",
              "      <td>30</td>\n",
              "      <td>4</td>\n",
              "      <td>Summer</td>\n",
              "      <td>Jul</td>\n",
              "      <td>Tue</td>\n",
              "      <td>Unjustified absence</td>\n",
              "      <td>1. High School</td>\n",
              "    </tr>\n",
              "    <tr>\n",
              "      <th>1</th>\n",
              "      <td>36</td>\n",
              "      <td>0</td>\n",
              "      <td>7</td>\n",
              "      <td>3</td>\n",
              "      <td>1</td>\n",
              "      <td>118</td>\n",
              "      <td>13</td>\n",
              "      <td>18</td>\n",
              "      <td>50</td>\n",
              "      <td>239.554</td>\n",
              "      <td>97</td>\n",
              "      <td>True</td>\n",
              "      <td>1</td>\n",
              "      <td>1</td>\n",
              "      <td>True</td>\n",
              "      <td>False</td>\n",
              "      <td>0</td>\n",
              "      <td>98</td>\n",
              "      <td>178</td>\n",
              "      <td>31</td>\n",
              "      <td>0</td>\n",
              "      <td>Summer</td>\n",
              "      <td>Jul</td>\n",
              "      <td>Tue</td>\n",
              "      <td>Not available</td>\n",
              "      <td>1. High School</td>\n",
              "    </tr>\n",
              "    <tr>\n",
              "      <th>2</th>\n",
              "      <td>3</td>\n",
              "      <td>23</td>\n",
              "      <td>7</td>\n",
              "      <td>4</td>\n",
              "      <td>1</td>\n",
              "      <td>179</td>\n",
              "      <td>51</td>\n",
              "      <td>18</td>\n",
              "      <td>38</td>\n",
              "      <td>239.554</td>\n",
              "      <td>97</td>\n",
              "      <td>False</td>\n",
              "      <td>1</td>\n",
              "      <td>0</td>\n",
              "      <td>True</td>\n",
              "      <td>False</td>\n",
              "      <td>0</td>\n",
              "      <td>89</td>\n",
              "      <td>170</td>\n",
              "      <td>31</td>\n",
              "      <td>2</td>\n",
              "      <td>Summer</td>\n",
              "      <td>Jul</td>\n",
              "      <td>Wed</td>\n",
              "      <td>Medical consultation</td>\n",
              "      <td>1. High School</td>\n",
              "    </tr>\n",
              "    <tr>\n",
              "      <th>3</th>\n",
              "      <td>7</td>\n",
              "      <td>7</td>\n",
              "      <td>7</td>\n",
              "      <td>5</td>\n",
              "      <td>1</td>\n",
              "      <td>279</td>\n",
              "      <td>5</td>\n",
              "      <td>14</td>\n",
              "      <td>39</td>\n",
              "      <td>239.554</td>\n",
              "      <td>97</td>\n",
              "      <td>False</td>\n",
              "      <td>1</td>\n",
              "      <td>2</td>\n",
              "      <td>True</td>\n",
              "      <td>True</td>\n",
              "      <td>0</td>\n",
              "      <td>68</td>\n",
              "      <td>168</td>\n",
              "      <td>24</td>\n",
              "      <td>4</td>\n",
              "      <td>Summer</td>\n",
              "      <td>Jul</td>\n",
              "      <td>Thu</td>\n",
              "      <td>Diseases of the eye and adnexa</td>\n",
              "      <td>1. High School</td>\n",
              "    </tr>\n",
              "    <tr>\n",
              "      <th>4</th>\n",
              "      <td>11</td>\n",
              "      <td>23</td>\n",
              "      <td>7</td>\n",
              "      <td>5</td>\n",
              "      <td>1</td>\n",
              "      <td>289</td>\n",
              "      <td>36</td>\n",
              "      <td>13</td>\n",
              "      <td>33</td>\n",
              "      <td>239.554</td>\n",
              "      <td>97</td>\n",
              "      <td>False</td>\n",
              "      <td>1</td>\n",
              "      <td>2</td>\n",
              "      <td>True</td>\n",
              "      <td>False</td>\n",
              "      <td>1</td>\n",
              "      <td>90</td>\n",
              "      <td>172</td>\n",
              "      <td>30</td>\n",
              "      <td>2</td>\n",
              "      <td>Summer</td>\n",
              "      <td>Jul</td>\n",
              "      <td>Thu</td>\n",
              "      <td>Medical consultation</td>\n",
              "      <td>1. High School</td>\n",
              "    </tr>\n",
              "  </tbody>\n",
              "</table>\n",
              "</div>"
            ],
            "text/plain": [
              "   id  reason  month  ...  day_name                     reason_text  education_detail\n",
              "0  11      26      7  ...       Tue             Unjustified absence    1. High School\n",
              "1  36       0      7  ...       Tue                   Not available    1. High School\n",
              "2   3      23      7  ...       Wed            Medical consultation    1. High School\n",
              "3   7       7      7  ...       Thu  Diseases of the eye and adnexa    1. High School\n",
              "4  11      23      7  ...       Thu            Medical consultation    1. High School\n",
              "\n",
              "[5 rows x 26 columns]"
            ]
          },
          "metadata": {
            "tags": []
          },
          "execution_count": 14
        }
      ]
    },
    {
      "cell_type": "markdown",
      "metadata": {
        "id": "DP0gybp3L_d2",
        "colab_type": "text"
      },
      "source": [
        "## 3.  <a class=\"anchor\" id=\"third\">Exploratory Data Analysis</a>\n",
        "\n"
      ]
    },
    {
      "cell_type": "markdown",
      "metadata": {
        "id": "9RDz1LGodr2P",
        "colab_type": "text"
      },
      "source": [
        "Sometimes simple plotting can help understanding how to proceed. We analyze the distribution of *Absenteeism time in hours* and then we try to undestrand the relationships between the other features. "
      ]
    },
    {
      "cell_type": "code",
      "metadata": {
        "id": "ypdCWuTas6DH",
        "colab_type": "code",
        "outputId": "efc7a037-aea3-4787-f101-f02da4853c8a",
        "colab": {
          "base_uri": "https://localhost:8080/",
          "height": 296
        }
      },
      "source": [
        "# Plotting absenteeism hours \n",
        "bins = 50\n",
        "fig, ax = plt.subplots()\n",
        "ax.hist(ds_explore['abs_hours'], bins, rwidth=0.8, density = True)\n",
        "ax.set_xlabel('Absenteeism time in hours')\n",
        "ax.set_ylabel('Frequency')"
      ],
      "execution_count": 15,
      "outputs": [
        {
          "output_type": "execute_result",
          "data": {
            "text/plain": [
              "Text(0, 0.5, 'Frequency')"
            ]
          },
          "metadata": {
            "tags": []
          },
          "execution_count": 15
        },
        {
          "output_type": "display_data",
          "data": {
            "image/png": "[encoded data removed]",
            "text/plain": [
              "<Figure size 432x288 with 1 Axes>"
            ]
          },
          "metadata": {
            "tags": [],
            "needs_background": "light"
          }
        }
      ]
    },
    {
      "cell_type": "markdown",
      "metadata": {
        "id": "SjJWlZINnLj0",
        "colab_type": "text"
      },
      "source": [
        "Absenteeism time is highly skewed due to presence of outliers. "
      ]
    },
    {
      "cell_type": "code",
      "metadata": {
        "id": "kRMZj6sVnaTs",
        "colab_type": "code",
        "outputId": "1157010f-db70-442e-e6d8-580bf0e0b6d6",
        "colab": {
          "base_uri": "https://localhost:8080/",
          "height": 279
        }
      },
      "source": [
        "# boxplot of Absenteeism time. \n",
        "plt.boxplot(ds_explore['abs_hours'], widths = 0.5)\n",
        "plt.ylabel('Absenteeism time in hours')\n",
        "plt.xlabel('Boxplot')\n",
        "plt.show()"
      ],
      "execution_count": 16,
      "outputs": [
        {
          "output_type": "display_data",
          "data": {
            "image/png": "[encoded data removed]",
            "text/plain": [
              "<Figure size 432x288 with 1 Axes>"
            ]
          },
          "metadata": {
            "tags": [],
            "needs_background": "light"
          }
        }
      ]
    },
    {
      "cell_type": "markdown",
      "metadata": {
        "id": "mHOPEb-P2Xvn",
        "colab_type": "text"
      },
      "source": [
        "Clearly, in *Abseteeism time in hours* there is a great presence of outliers. It seems there are few observations particularly unusual."
      ]
    },
    {
      "cell_type": "code",
      "metadata": {
        "id": "oYTbG3hM3m-7",
        "colab_type": "code",
        "outputId": "040cdd4d-4836-4023-c5cf-ae484071c2fa",
        "colab": {
          "base_uri": "https://localhost:8080/",
          "height": 296
        }
      },
      "source": [
        "# boxplot of Absenteeism time for values grater than a week (40 hours). \n",
        "bins = 20\n",
        "fig, ax = plt.subplots()\n",
        "out = ds_explore[ds_explore['abs_hours'] > 40]\n",
        "ax.hist(out['abs_hours'], bins, rwidth = 0.8, density = True)\n",
        "ax.set_xlabel('Absenteeism time in hours')\n",
        "ax.set_ylabel('Frequency')"
      ],
      "execution_count": 17,
      "outputs": [
        {
          "output_type": "execute_result",
          "data": {
            "text/plain": [
              "Text(0, 0.5, 'Frequency')"
            ]
          },
          "metadata": {
            "tags": []
          },
          "execution_count": 17
        },
        {
          "output_type": "display_data",
          "data": {
            "image/png": "[encoded data removed]",
            "text/plain": [
              "<Figure size 432x288 with 1 Axes>"
            ]
          },
          "metadata": {
            "tags": [],
            "needs_background": "light"
          }
        }
      ]
    },
    {
      "cell_type": "markdown",
      "metadata": {
        "id": "dEN3KAAiIh7r",
        "colab_type": "text"
      },
      "source": [
        "The dataset is clearly unbalanced: the number of records of the classes can be too different. I will solve this issue with **oversampling** later.\n",
        "\n"
      ]
    },
    {
      "cell_type": "code",
      "metadata": {
        "id": "9YXsq9bG_dcH",
        "colab_type": "code",
        "outputId": "72021473-4659-4764-8f7d-6f290c8ecc80",
        "colab": {
          "base_uri": "https://localhost:8080/",
          "height": 265
        }
      },
      "source": [
        "# Plotting absence \n",
        "time = ds_explore['abs_hours']\n",
        "hours = np.count_nonzero(time < 8)\n",
        "days = np.count_nonzero(time >= 8)\n",
        "x = np.array(['Less than one day', 'One day or more'])\n",
        "y = np.array([hours, days])\n",
        "plt.bar(x, y)\n",
        "plt.show()"
      ],
      "execution_count": 18,
      "outputs": [
        {
          "output_type": "display_data",
          "data": {
            "image/png": "[encoded data removed]",
            "text/plain": [
              "<Figure size 432x288 with 1 Axes>"
            ]
          },
          "metadata": {
            "tags": [],
            "needs_background": "light"
          }
        }
      ]
    },
    {
      "cell_type": "code",
      "metadata": {
        "id": "-0MVZdv0dhYV",
        "colab_type": "code",
        "outputId": "2aa0edce-abb4-4a40-b4f4-b88ccb25bf1b",
        "colab": {
          "base_uri": "https://localhost:8080/",
          "height": 314
        }
      },
      "source": [
        "# Plot of Absenteeism time in hours with Reason for absence. \n",
        "# To verify the outliers in each reason codes. \n",
        "sns.catplot(x = 'reason', y = 'abs_hours', \n",
        "            data = ds_explore,\n",
        "            height = 4,\n",
        "            aspect = 2,\n",
        "            jitter = '0.25',\n",
        "            ).set_axis_labels(\"Reason of absence code\", 'Absenteeism in hours')"
      ],
      "execution_count": 19,
      "outputs": [
        {
          "output_type": "execute_result",
          "data": {
            "text/plain": [
              "<seaborn.axisgrid.FacetGrid at 0x7f627c997f60>"
            ]
          },
          "metadata": {
            "tags": []
          },
          "execution_count": 19
        },
        {
          "output_type": "display_data",
          "data": {
            "image/png": "[encoded data removed]",
            "text/plain": [
              "<Figure size 576x288 with 1 Axes>"
            ]
          },
          "metadata": {
            "tags": [],
            "needs_background": "light"
          }
        }
      ]
    },
    {
      "cell_type": "code",
      "metadata": {
        "id": "M91idZj3MFlO",
        "colab_type": "code",
        "outputId": "c1a1f764-41f9-40e1-fb8d-4706791a5986",
        "colab": {
          "base_uri": "https://localhost:8080/",
          "height": 313
        }
      },
      "source": [
        "# EDUCATION AND SEASON\n",
        "sns.catplot(x = 'education_detail', y = 'abs_hours', \n",
        "            hue = 'season_name',\n",
        "            data = ds_explore,\n",
        "            height = 4,\n",
        "            aspect = 1.5).set_axis_labels(\"Education detail\", 'Absenteeism in hours')"
      ],
      "execution_count": 20,
      "outputs": [
        {
          "output_type": "execute_result",
          "data": {
            "text/plain": [
              "<seaborn.axisgrid.FacetGrid at 0x7f627a053ac8>"
            ]
          },
          "metadata": {
            "tags": []
          },
          "execution_count": 20
        },
        {
          "output_type": "display_data",
          "data": {
            "image/png": "[encoded data removed]",
            "text/plain": [
              "<Figure size 510.125x288 with 1 Axes>"
            ]
          },
          "metadata": {
            "tags": [],
            "needs_background": "light"
          }
        }
      ]
    },
    {
      "cell_type": "code",
      "metadata": {
        "id": "fn0sk3IpWy9B",
        "colab_type": "code",
        "colab": {
          "base_uri": "https://localhost:8080/",
          "height": 119
        },
        "outputId": "74937d1c-2f0c-4d9d-c681-0baf7cbe4409"
      },
      "source": [
        "# Employees per education\n",
        "ds_explore.groupby('education_detail')['id'].nunique()"
      ],
      "execution_count": 21,
      "outputs": [
        {
          "output_type": "execute_result",
          "data": {
            "text/plain": [
              "education_detail\n",
              "1. High School        27\n",
              "2. Graduate            4\n",
              "3. Post Graduate       3\n",
              "4. Master & Doctor     1\n",
              "Name: id, dtype: int64"
            ]
          },
          "metadata": {
            "tags": []
          },
          "execution_count": 21
        }
      ]
    },
    {
      "cell_type": "code",
      "metadata": {
        "id": "tYNLhbiMa8J5",
        "colab_type": "code",
        "colab": {
          "base_uri": "https://localhost:8080/",
          "height": 404
        },
        "outputId": "4e721ac9-cff7-42b6-b19d-5ca822bb5264"
      },
      "source": [
        "# Wok load\n",
        "work_hours = ds.groupby('work_load', as_index=False)[['abs_hours']].mean()\n",
        "ax = work_hours.plot(kind = 'line', x = 'work_load', figsize = (8,6), legend=False)\n",
        "ax.set_ylabel('Absenteeism in hours')\n",
        "ax.set_xlabel('Average work load per day')\n",
        "ax.set_title('Absenteeism in hours per average work load')\n",
        "plt.show()"
      ],
      "execution_count": 22,
      "outputs": [
        {
          "output_type": "display_data",
          "data": {
            "image/png": "[encoded data removed]",
            "text/plain": [
              "<Figure size 576x432 with 1 Axes>"
            ]
          },
          "metadata": {
            "tags": [],
            "needs_background": "light"
          }
        }
      ]
    },
    {
      "cell_type": "code",
      "metadata": {
        "id": "V30h5xKCdHZT",
        "colab_type": "code",
        "colab": {
          "base_uri": "https://localhost:8080/",
          "height": 407
        },
        "outputId": "59546f4f-5ac6-4857-cf18-207c512ddbb7"
      },
      "source": [
        "# Age\n",
        "age_abs = ds.groupby('age')[['abs_hours']].mean()\n",
        "ax = age_abs.plot(kind='bar', figsize=(8,6), legend=False)\n",
        "ax.set_ylabel('Absenteeism time in hours')\n",
        "ax.set_title('Average Absenteeism time in hours by age')\n",
        "plt.show()"
      ],
      "execution_count": 23,
      "outputs": [
        {
          "output_type": "display_data",
          "data": {
            "image/png": "[encoded data removed]",
            "text/plain": [
              "<Figure size 576x432 with 1 Axes>"
            ]
          },
          "metadata": {
            "tags": [],
            "needs_background": "light"
          }
        }
      ]
    },
    {
      "cell_type": "code",
      "metadata": {
        "id": "jyNoVfT3dgxY",
        "colab_type": "code",
        "colab": {
          "base_uri": "https://localhost:8080/",
          "height": 407
        },
        "outputId": "2187e015-2948-4e69-d74b-8a80fe9cd47a"
      },
      "source": [
        "# Distance from work\n",
        "dis_abs = ds.groupby('distance')[['abs_hours']].mean()\n",
        "ax = dis_abs.plot(kind='bar', figsize=(8,6), legend=False)\n",
        "ax.set_xlabel('Distance from Residence to Work (km)')\n",
        "ax.set_ylabel('Absenteeism time in hours')\n",
        "ax.set_title('Average Absenteeism time in hours by distance')\n",
        "plt.show()"
      ],
      "execution_count": 24,
      "outputs": [
        {
          "output_type": "display_data",
          "data": {
            "image/png": "[encoded data removed]",
            "text/plain": [
              "<Figure size 576x432 with 1 Axes>"
            ]
          },
          "metadata": {
            "tags": [],
            "needs_background": "light"
          }
        }
      ]
    },
    {
      "cell_type": "code",
      "metadata": {
        "id": "X2reYg_rdtuh",
        "colab_type": "code",
        "colab": {
          "base_uri": "https://localhost:8080/",
          "height": 413
        },
        "outputId": "582c1e52-74a6-4214-ab4d-e5b9dcfcf24d"
      },
      "source": [
        "# Transportation expense\n",
        "dis_abs = ds.groupby('trans_exp')[['abs_hours']].mean()\n",
        "ax = dis_abs.plot(kind='bar', figsize=(8,6), legend=False)\n",
        "ax.set_xlabel('Transportation expences')\n",
        "ax.set_ylabel('Absenteeism time in hours')\n",
        "ax.set_title('Average Absenteeism time in hours by transportation expense')\n",
        "plt.show()"
      ],
      "execution_count": 25,
      "outputs": [
        {
          "output_type": "display_data",
          "data": {
            "image/png": "[encoded data removed]",
            "text/plain": [
              "<Figure size 576x432 with 1 Axes>"
            ]
          },
          "metadata": {
            "tags": [],
            "needs_background": "light"
          }
        }
      ]
    },
    {
      "cell_type": "code",
      "metadata": {
        "id": "bojMkNLfI3qY",
        "colab_type": "code",
        "outputId": "96523a1d-61dd-46f6-9ca0-82289e09a0bd",
        "colab": {
          "base_uri": "https://localhost:8080/",
          "height": 783
        }
      },
      "source": [
        "# Correlation matrix \n",
        "# I drop categorical attributes and I normalize\n",
        "ds_num = ds.drop(columns = ['disc_fail', 'drinker', 'smoker', 'season_name', \n",
        "                            'month_name', 'day_name', 'reason_text', 'education_detail'])\n",
        "ds_norm = (ds_num-ds_num.mean())/ds_num.std()\n",
        "corr = ds_norm.corr()\n",
        "plt.figure(figsize = (12,12))\n",
        "sns.heatmap(corr, annot = True, \n",
        "            vmin = -1, vmax = 1, center = 0,\n",
        "            cmap = sns.diverging_palette(20, 220, n = 200))\n",
        "plt.title('Correlation Heatmap', fontsize = 24)"
      ],
      "execution_count": 26,
      "outputs": [
        {
          "output_type": "execute_result",
          "data": {
            "text/plain": [
              "Text(0.5, 1.0, 'Correlation Heatmap')"
            ]
          },
          "metadata": {
            "tags": []
          },
          "execution_count": 26
        },
        {
          "output_type": "display_data",
          "data": {
            "image/png": "[encoded data removed]",
            "text/plain": [
              "<Figure size 864x864 with 2 Axes>"
            ]
          },
          "metadata": {
            "tags": [],
            "needs_background": "light"
          }
        }
      ]
    },
    {
      "cell_type": "markdown",
      "metadata": {
        "id": "MV4yH-lBKFu1",
        "colab_type": "text"
      },
      "source": [
        "\n",
        "Some features are being highlighted in the heatmap. Let's have a look to the more intresting. However, strong correlation among *bmi*, *height* and *weight* and between *distance* and *transport expences* may suggest to remove some feature.\n",
        "\n",
        "1. Strong positive correlation between *Age* and *Service time*.\n",
        "2. Positive correlation between *Service time* and *bmi* (and so *Weight*).\n",
        "3. Negative correlation between *Transport expences* and *Service time*.\n",
        "4. Negative correlation between *Service time* and number of *Pet*.\n",
        "\n",
        "We notice that no feature have strong negative or positive correlation with *Absenteeism time in hours*. We have to go deeper. What is more, clearly in the heatap they are not considered the categorical data.\n",
        "\n",
        "\n"
      ]
    },
    {
      "cell_type": "markdown",
      "metadata": {
        "id": "2RnJssZtN0VS",
        "colab_type": "text"
      },
      "source": [
        "We would like to reduce dimensionality in order to make our algorithm more agile but this has to be made by paying attention to not losing information.\n",
        "\n",
        "We have seen that *bmi* and *weight* have a very strong correlation: 0.9. This was expected, considering how it is calculated:\n",
        "$$ bmi = \\frac{weigth}{height^2} $$\n",
        "\n",
        "We can say that we don't lose information by removing one of the two.\n",
        "Since also height is in my dataset, I decide to drop *weight*.\n",
        "\n"
      ]
    },
    {
      "cell_type": "code",
      "metadata": {
        "id": "gNYRJ5bBPdn9",
        "colab_type": "code",
        "colab": {}
      },
      "source": [
        "ds = ds.drop(columns = 'weight')"
      ],
      "execution_count": 0,
      "outputs": []
    },
    {
      "cell_type": "markdown",
      "metadata": {
        "id": "1Et4gt8gBykx",
        "colab_type": "text"
      },
      "source": [
        "## 4. <a class=\"anchor\" id=\"fourth\">Data preparation</a>"
      ]
    },
    {
      "cell_type": "markdown",
      "metadata": {
        "id": "yniuAP-R0NXg",
        "colab_type": "text"
      },
      "source": [
        "In order to make **prediction**, I would like to be as specific as possible and therefore to make a **classification** that is well suited to the application case. I want to divide the values of *Absenteeism in hours*, considering the effective time of absence. Considering a work day of 8 hours and I split the set in three labels:\n",
        "* *late*: if the absence lasts strictly less than 2 hours\n",
        "* *hours*: if the absence was for about less than a work day\n",
        "* *days*: if the absence was for one day or more\n"
      ]
    },
    {
      "cell_type": "code",
      "metadata": {
        "id": "Qqt7zLhgLDxM",
        "colab_type": "code",
        "outputId": "1903f91a-acad-4882-98dc-aaa336c16744",
        "colab": {
          "base_uri": "https://localhost:8080/",
          "height": 268
        }
      },
      "source": [
        "# Plotting absence last\n",
        "time = ds['abs_hours']\n",
        "late = np.count_nonzero(time < 2)\n",
        "days = np.count_nonzero(time >= 7)\n",
        "hours = np.count_nonzero(time >= 2) - days\n",
        "x = np.array(['Late', 'Hours', 'Days'])\n",
        "y = np.array([late, hours, days])\n",
        "plt.bar(x, y)\n",
        "plt.show()"
      ],
      "execution_count": 28,
      "outputs": [
        {
          "output_type": "display_data",
          "data": {
            "image/png": "[encoded data removed]",
            "text/plain": [
              "<Figure size 432x288 with 1 Axes>"
            ]
          },
          "metadata": {
            "tags": [],
            "needs_background": "light"
          }
        }
      ]
    },
    {
      "cell_type": "markdown",
      "metadata": {
        "id": "cr48ITk0baZf",
        "colab_type": "text"
      },
      "source": [
        "On the other hand, watching at the distribution of the dataset, so we can expect that applying such a division the models will not perform at their best.\n",
        "\n",
        "We can have models with better performance (and therefore more safety) using only two classes. We apply **binary classification** by dividing the set according to the median of our target variable."
      ]
    },
    {
      "cell_type": "code",
      "metadata": {
        "id": "L6XqfpgoldyS",
        "colab_type": "code",
        "outputId": "5480c5b9-1190-4b0e-9b03-8bd25b66ddb1",
        "colab": {
          "base_uri": "https://localhost:8080/",
          "height": 309
        }
      },
      "source": [
        "# Create label for ABS_HOURS: assume 8 hours day work\n",
        "\n",
        "def level(absh):\n",
        "  if(absh < 2):\n",
        "    lev = 'late'\n",
        "  elif((absh >= 2) and (absh < 7)):\n",
        "    lev = 'hours'\n",
        "  elif(absh >= 7):\n",
        "    lev = 'days'    \n",
        "  return lev\n",
        "\n",
        "def level_day(absh):\n",
        "  if(absh < 3):\n",
        "    day = 'less'\n",
        "  elif(absh >= 3):\n",
        "    day = 'more'    \n",
        "  return day\n",
        "\n",
        "ds['abs_lev'] = ds['abs_hours'].apply(lambda x: level(x)).astype('category')\n",
        "ds['abs_day'] = ds['abs_hours'].apply(lambda x: level_day(x)).astype('category')\n",
        "\n",
        "ds.head()"
      ],
      "execution_count": 29,
      "outputs": [
        {
          "output_type": "execute_result",
          "data": {
            "text/html": [
              "<div>\n",
              "<style scoped>\n",
              "    .dataframe tbody tr th:only-of-type {\n",
              "        vertical-align: middle;\n",
              "    }\n",
              "\n",
              "    .dataframe tbody tr th {\n",
              "        vertical-align: top;\n",
              "    }\n",
              "\n",
              "    .dataframe thead th {\n",
              "        text-align: right;\n",
              "    }\n",
              "</style>\n",
              "<table border=\"1\" class=\"dataframe\">\n",
              "  <thead>\n",
              "    <tr style=\"text-align: right;\">\n",
              "      <th></th>\n",
              "      <th>trans_exp</th>\n",
              "      <th>distance</th>\n",
              "      <th>serv_time</th>\n",
              "      <th>age</th>\n",
              "      <th>work_load</th>\n",
              "      <th>hit_tg</th>\n",
              "      <th>disc_fail</th>\n",
              "      <th>son</th>\n",
              "      <th>drinker</th>\n",
              "      <th>smoker</th>\n",
              "      <th>pet</th>\n",
              "      <th>height</th>\n",
              "      <th>bmi</th>\n",
              "      <th>abs_hours</th>\n",
              "      <th>season_name</th>\n",
              "      <th>month_name</th>\n",
              "      <th>day_name</th>\n",
              "      <th>reason_text</th>\n",
              "      <th>education_detail</th>\n",
              "      <th>abs_lev</th>\n",
              "      <th>abs_day</th>\n",
              "    </tr>\n",
              "  </thead>\n",
              "  <tbody>\n",
              "    <tr>\n",
              "      <th>0</th>\n",
              "      <td>289</td>\n",
              "      <td>36</td>\n",
              "      <td>13</td>\n",
              "      <td>33</td>\n",
              "      <td>239.554</td>\n",
              "      <td>97</td>\n",
              "      <td>False</td>\n",
              "      <td>2</td>\n",
              "      <td>True</td>\n",
              "      <td>False</td>\n",
              "      <td>1</td>\n",
              "      <td>172</td>\n",
              "      <td>30</td>\n",
              "      <td>4</td>\n",
              "      <td>Summer</td>\n",
              "      <td>Jul</td>\n",
              "      <td>Tue</td>\n",
              "      <td>Unjustified absence</td>\n",
              "      <td>1. High School</td>\n",
              "      <td>hours</td>\n",
              "      <td>more</td>\n",
              "    </tr>\n",
              "    <tr>\n",
              "      <th>1</th>\n",
              "      <td>118</td>\n",
              "      <td>13</td>\n",
              "      <td>18</td>\n",
              "      <td>50</td>\n",
              "      <td>239.554</td>\n",
              "      <td>97</td>\n",
              "      <td>True</td>\n",
              "      <td>1</td>\n",
              "      <td>True</td>\n",
              "      <td>False</td>\n",
              "      <td>0</td>\n",
              "      <td>178</td>\n",
              "      <td>31</td>\n",
              "      <td>0</td>\n",
              "      <td>Summer</td>\n",
              "      <td>Jul</td>\n",
              "      <td>Tue</td>\n",
              "      <td>Not available</td>\n",
              "      <td>1. High School</td>\n",
              "      <td>late</td>\n",
              "      <td>less</td>\n",
              "    </tr>\n",
              "    <tr>\n",
              "      <th>2</th>\n",
              "      <td>179</td>\n",
              "      <td>51</td>\n",
              "      <td>18</td>\n",
              "      <td>38</td>\n",
              "      <td>239.554</td>\n",
              "      <td>97</td>\n",
              "      <td>False</td>\n",
              "      <td>0</td>\n",
              "      <td>True</td>\n",
              "      <td>False</td>\n",
              "      <td>0</td>\n",
              "      <td>170</td>\n",
              "      <td>31</td>\n",
              "      <td>2</td>\n",
              "      <td>Summer</td>\n",
              "      <td>Jul</td>\n",
              "      <td>Wed</td>\n",
              "      <td>Medical consultation</td>\n",
              "      <td>1. High School</td>\n",
              "      <td>hours</td>\n",
              "      <td>less</td>\n",
              "    </tr>\n",
              "    <tr>\n",
              "      <th>3</th>\n",
              "      <td>279</td>\n",
              "      <td>5</td>\n",
              "      <td>14</td>\n",
              "      <td>39</td>\n",
              "      <td>239.554</td>\n",
              "      <td>97</td>\n",
              "      <td>False</td>\n",
              "      <td>2</td>\n",
              "      <td>True</td>\n",
              "      <td>True</td>\n",
              "      <td>0</td>\n",
              "      <td>168</td>\n",
              "      <td>24</td>\n",
              "      <td>4</td>\n",
              "      <td>Summer</td>\n",
              "      <td>Jul</td>\n",
              "      <td>Thu</td>\n",
              "      <td>Diseases of the eye and adnexa</td>\n",
              "      <td>1. High School</td>\n",
              "      <td>hours</td>\n",
              "      <td>more</td>\n",
              "    </tr>\n",
              "    <tr>\n",
              "      <th>4</th>\n",
              "      <td>289</td>\n",
              "      <td>36</td>\n",
              "      <td>13</td>\n",
              "      <td>33</td>\n",
              "      <td>239.554</td>\n",
              "      <td>97</td>\n",
              "      <td>False</td>\n",
              "      <td>2</td>\n",
              "      <td>True</td>\n",
              "      <td>False</td>\n",
              "      <td>1</td>\n",
              "      <td>172</td>\n",
              "      <td>30</td>\n",
              "      <td>2</td>\n",
              "      <td>Summer</td>\n",
              "      <td>Jul</td>\n",
              "      <td>Thu</td>\n",
              "      <td>Medical consultation</td>\n",
              "      <td>1. High School</td>\n",
              "      <td>hours</td>\n",
              "      <td>less</td>\n",
              "    </tr>\n",
              "  </tbody>\n",
              "</table>\n",
              "</div>"
            ],
            "text/plain": [
              "   trans_exp  distance  serv_time  ...  education_detail  abs_lev  abs_day\n",
              "0        289        36         13  ...    1. High School    hours     more\n",
              "1        118        13         18  ...    1. High School     late     less\n",
              "2        179        51         18  ...    1. High School    hours     less\n",
              "3        279         5         14  ...    1. High School    hours     more\n",
              "4        289        36         13  ...    1. High School    hours     less\n",
              "\n",
              "[5 rows x 21 columns]"
            ]
          },
          "metadata": {
            "tags": []
          },
          "execution_count": 29
        }
      ]
    },
    {
      "cell_type": "code",
      "metadata": {
        "id": "Tht1JlU1J0U-",
        "colab_type": "code",
        "colab": {}
      },
      "source": [
        "X = ds.drop(columns = ['abs_lev', 'abs_day', 'abs_hours'])\n",
        "y = ds['abs_lev']\n",
        "y_day = ds['abs_day']\n",
        "y_int = ds['abs_hours']"
      ],
      "execution_count": 0,
      "outputs": []
    },
    {
      "cell_type": "markdown",
      "metadata": {
        "id": "iZQH0tiCJFkS",
        "colab_type": "text"
      },
      "source": [
        "Now I split the sets in two subsets:\n",
        "* **Training set**: collection of labeled data objects used to learn\n",
        "the classification model\n",
        "* **Test set**: Collection of labeled data objects used to\n",
        "validate the classification model\n",
        "\n",
        "I use 70% of data as training set and 30% for tests."
      ]
    },
    {
      "cell_type": "code",
      "metadata": {
        "id": "uFQV4RUqE8Yq",
        "colab_type": "code",
        "colab": {}
      },
      "source": [
        "# label_encoder object knows how to understand word labels. \n",
        "label_encoder = preprocessing.LabelEncoder() \n",
        "\n",
        "# Encode labels in column. \n",
        "X['season_name'] = label_encoder.fit_transform(X['season_name']) \n",
        "X['month_name'] = label_encoder.fit_transform(X['month_name']) \n",
        "X['day_name'] = label_encoder.fit_transform(X['day_name']) \n",
        "X['reason_text'] = label_encoder.fit_transform(X['reason_text']) \n",
        "X['education_detail'] = label_encoder.fit_transform(X['education_detail'])\n",
        "X['smoker'] = label_encoder.fit_transform(X['smoker'])\n",
        "X['drinker'] = label_encoder.fit_transform(X['drinker'])\n",
        "X['disc_fail'] = label_encoder.fit_transform(X['disc_fail'])\n",
        "ylabel = label_encoder.fit_transform(y)\n",
        "levels = label_encoder.inverse_transform(list(set(ylabel)))\n",
        "ybin = label_encoder.fit_transform(y_day)\n",
        "bin_levels = label_encoder.inverse_transform(list(set(ybin)))\n",
        "\n",
        "X_train, X_test, y_train, y_test = train_test_split(X, ylabel, test_size = 0.3, random_state = SEED, stratify = ylabel)\n",
        "Xbin_train, Xbin_test, ybin_train, ybin_test = train_test_split(X, ybin, test_size = 0.3, random_state = SEED, stratify = ybin)"
      ],
      "execution_count": 0,
      "outputs": []
    },
    {
      "cell_type": "markdown",
      "metadata": {
        "id": "Dd6Yyl0uGGGX",
        "colab_type": "text"
      },
      "source": [
        "### 4.1 <a class=\"anchor\" id=\"fourth_1\">Principal Component Analysis</a>\n",
        "[Principal component analysis (PCA)](https://en.wikipedia.org/wiki/Principal_component_analysis) is a statistical procedure that uses an orthogonal transformation to reduce data dimensionality.\n",
        "This occurs through a linear transformation of the variables that projects the original ones into a new Cartesian system in which the new variable with the greatest variance is projected on the first axis, the new variable, the second for the size of the variance, on the second axis and so on."
      ]
    },
    {
      "cell_type": "markdown",
      "metadata": {
        "id": "00oHjxNB_8YI",
        "colab_type": "text"
      },
      "source": [
        "The dataset has 10 numerical features and 8 categorical feature. Among the categorical feature, 4 of them are binary and 5 are nominal.\n",
        "\n",
        "There is something to do in order to work with the nominal values. The original dataset applies **label encoding**: nominal values are encoded as integer positive values. \n",
        "\n",
        "The problem is that numerical values implies an order, but clearly we can't say that *Summer* is bigger than *Winter* or that *Diseases of the nervous system* is smaller than *Diseases of the respiratory system*. This tecnique can be useful in when applied to values that can be ordedered or have some sort of heriarchy, for example *Education* can be seen as the *Level of education* and so an order could make sense. Anyway, this is not the case for most of the nominal features here.\n",
        "\n",
        "To overcame this problem, the most commonly technique used is **one hot encoding**. Each category value is converted into a new column: we assign 1 to the corresponding value and 0 to everything else. \n",
        "\n",
        "Appling it here, this implies adding about 50 new columns: one for each levels of each categorical attribute. In general, this can't be ignored and made straigthforward. \n",
        "\n",
        "However, I will using **Principal Component Analysis** in order to reduce dimensions, so for now I keep all the columns.\n"
      ]
    },
    {
      "cell_type": "code",
      "metadata": {
        "id": "wlJK-LseaoTb",
        "colab_type": "code",
        "outputId": "b09b6274-81e5-41f1-95fe-85ef6057052c",
        "colab": {
          "base_uri": "https://localhost:8080/",
          "height": 162
        }
      },
      "source": [
        "X_pca = X.copy()\n",
        "\n",
        "# Adding the new columns\n",
        "X_pca = pd.concat([X_pca,pd.get_dummies(X_pca['reason_text'], prefix = 'reason')], axis=1)\n",
        "X_pca = pd.concat([X_pca,pd.get_dummies(X_pca['month_name'], prefix = 'month')], axis=1)\n",
        "X_pca = pd.concat([X_pca,pd.get_dummies(X_pca['day_name'], prefix = 'day')], axis=1)\n",
        "X_pca = pd.concat([X_pca,pd.get_dummies(X_pca['season_name'], prefix = 'season')], axis=1)\n",
        "X_pca = pd.concat([X_pca,pd.get_dummies(X_pca['education_detail'], prefix = 'education')], axis=1)\n",
        "\n",
        "# Removing the old nominal variables\n",
        "X_pca.drop(['reason_text'],axis=1, inplace=True)\n",
        "X_pca.drop(['month_name'],axis=1, inplace=True)\n",
        "X_pca.drop(['day_name'],axis=1, inplace=True)\n",
        "X_pca.drop(['season_name'],axis=1, inplace=True)\n",
        "X_pca.drop(['education_detail'],axis=1, inplace=True)\n",
        "\n",
        "X_pca.head(3)"
      ],
      "execution_count": 32,
      "outputs": [
        {
          "output_type": "execute_result",
          "data": {
            "text/html": [
              "<div>\n",
              "<style scoped>\n",
              "    .dataframe tbody tr th:only-of-type {\n",
              "        vertical-align: middle;\n",
              "    }\n",
              "\n",
              "    .dataframe tbody tr th {\n",
              "        vertical-align: top;\n",
              "    }\n",
              "\n",
              "    .dataframe thead th {\n",
              "        text-align: right;\n",
              "    }\n",
              "</style>\n",
              "<table border=\"1\" class=\"dataframe\">\n",
              "  <thead>\n",
              "    <tr style=\"text-align: right;\">\n",
              "      <th></th>\n",
              "      <th>trans_exp</th>\n",
              "      <th>distance</th>\n",
              "      <th>serv_time</th>\n",
              "      <th>age</th>\n",
              "      <th>work_load</th>\n",
              "      <th>hit_tg</th>\n",
              "      <th>disc_fail</th>\n",
              "      <th>son</th>\n",
              "      <th>drinker</th>\n",
              "      <th>smoker</th>\n",
              "      <th>pet</th>\n",
              "      <th>height</th>\n",
              "      <th>bmi</th>\n",
              "      <th>reason_0</th>\n",
              "      <th>reason_1</th>\n",
              "      <th>reason_2</th>\n",
              "      <th>reason_3</th>\n",
              "      <th>reason_4</th>\n",
              "      <th>reason_5</th>\n",
              "      <th>reason_6</th>\n",
              "      <th>reason_7</th>\n",
              "      <th>reason_8</th>\n",
              "      <th>reason_9</th>\n",
              "      <th>reason_10</th>\n",
              "      <th>reason_11</th>\n",
              "      <th>reason_12</th>\n",
              "      <th>reason_13</th>\n",
              "      <th>reason_14</th>\n",
              "      <th>reason_15</th>\n",
              "      <th>reason_16</th>\n",
              "      <th>reason_17</th>\n",
              "      <th>reason_18</th>\n",
              "      <th>reason_19</th>\n",
              "      <th>reason_20</th>\n",
              "      <th>reason_21</th>\n",
              "      <th>reason_22</th>\n",
              "      <th>reason_23</th>\n",
              "      <th>reason_24</th>\n",
              "      <th>reason_25</th>\n",
              "      <th>reason_26</th>\n",
              "      <th>reason_27</th>\n",
              "      <th>month_0</th>\n",
              "      <th>month_1</th>\n",
              "      <th>month_2</th>\n",
              "      <th>month_3</th>\n",
              "      <th>month_4</th>\n",
              "      <th>month_5</th>\n",
              "      <th>month_6</th>\n",
              "      <th>month_7</th>\n",
              "      <th>month_8</th>\n",
              "      <th>month_9</th>\n",
              "      <th>month_10</th>\n",
              "      <th>month_11</th>\n",
              "      <th>day_0</th>\n",
              "      <th>day_1</th>\n",
              "      <th>day_2</th>\n",
              "      <th>day_3</th>\n",
              "      <th>day_4</th>\n",
              "      <th>season_0</th>\n",
              "      <th>season_1</th>\n",
              "      <th>season_2</th>\n",
              "      <th>season_3</th>\n",
              "      <th>education_0</th>\n",
              "      <th>education_1</th>\n",
              "      <th>education_2</th>\n",
              "      <th>education_3</th>\n",
              "    </tr>\n",
              "  </thead>\n",
              "  <tbody>\n",
              "    <tr>\n",
              "      <th>0</th>\n",
              "      <td>289</td>\n",
              "      <td>36</td>\n",
              "      <td>13</td>\n",
              "      <td>33</td>\n",
              "      <td>239.554</td>\n",
              "      <td>97</td>\n",
              "      <td>0</td>\n",
              "      <td>2</td>\n",
              "      <td>1</td>\n",
              "      <td>0</td>\n",
              "      <td>1</td>\n",
              "      <td>172</td>\n",
              "      <td>30</td>\n",
              "      <td>0</td>\n",
              "      <td>0</td>\n",
              "      <td>0</td>\n",
              "      <td>0</td>\n",
              "      <td>0</td>\n",
              "      <td>0</td>\n",
              "      <td>0</td>\n",
              "      <td>0</td>\n",
              "      <td>0</td>\n",
              "      <td>0</td>\n",
              "      <td>0</td>\n",
              "      <td>0</td>\n",
              "      <td>0</td>\n",
              "      <td>0</td>\n",
              "      <td>0</td>\n",
              "      <td>0</td>\n",
              "      <td>0</td>\n",
              "      <td>0</td>\n",
              "      <td>0</td>\n",
              "      <td>0</td>\n",
              "      <td>0</td>\n",
              "      <td>0</td>\n",
              "      <td>0</td>\n",
              "      <td>0</td>\n",
              "      <td>0</td>\n",
              "      <td>0</td>\n",
              "      <td>0</td>\n",
              "      <td>1</td>\n",
              "      <td>0</td>\n",
              "      <td>0</td>\n",
              "      <td>0</td>\n",
              "      <td>0</td>\n",
              "      <td>0</td>\n",
              "      <td>1</td>\n",
              "      <td>0</td>\n",
              "      <td>0</td>\n",
              "      <td>0</td>\n",
              "      <td>0</td>\n",
              "      <td>0</td>\n",
              "      <td>0</td>\n",
              "      <td>0</td>\n",
              "      <td>0</td>\n",
              "      <td>0</td>\n",
              "      <td>1</td>\n",
              "      <td>0</td>\n",
              "      <td>0</td>\n",
              "      <td>0</td>\n",
              "      <td>1</td>\n",
              "      <td>0</td>\n",
              "      <td>1</td>\n",
              "      <td>0</td>\n",
              "      <td>0</td>\n",
              "      <td>0</td>\n",
              "    </tr>\n",
              "    <tr>\n",
              "      <th>1</th>\n",
              "      <td>118</td>\n",
              "      <td>13</td>\n",
              "      <td>18</td>\n",
              "      <td>50</td>\n",
              "      <td>239.554</td>\n",
              "      <td>97</td>\n",
              "      <td>1</td>\n",
              "      <td>1</td>\n",
              "      <td>1</td>\n",
              "      <td>0</td>\n",
              "      <td>0</td>\n",
              "      <td>178</td>\n",
              "      <td>31</td>\n",
              "      <td>0</td>\n",
              "      <td>0</td>\n",
              "      <td>0</td>\n",
              "      <td>0</td>\n",
              "      <td>0</td>\n",
              "      <td>0</td>\n",
              "      <td>0</td>\n",
              "      <td>0</td>\n",
              "      <td>0</td>\n",
              "      <td>0</td>\n",
              "      <td>0</td>\n",
              "      <td>0</td>\n",
              "      <td>0</td>\n",
              "      <td>0</td>\n",
              "      <td>0</td>\n",
              "      <td>0</td>\n",
              "      <td>0</td>\n",
              "      <td>0</td>\n",
              "      <td>0</td>\n",
              "      <td>0</td>\n",
              "      <td>0</td>\n",
              "      <td>0</td>\n",
              "      <td>1</td>\n",
              "      <td>0</td>\n",
              "      <td>0</td>\n",
              "      <td>0</td>\n",
              "      <td>0</td>\n",
              "      <td>0</td>\n",
              "      <td>0</td>\n",
              "      <td>0</td>\n",
              "      <td>0</td>\n",
              "      <td>0</td>\n",
              "      <td>0</td>\n",
              "      <td>1</td>\n",
              "      <td>0</td>\n",
              "      <td>0</td>\n",
              "      <td>0</td>\n",
              "      <td>0</td>\n",
              "      <td>0</td>\n",
              "      <td>0</td>\n",
              "      <td>0</td>\n",
              "      <td>0</td>\n",
              "      <td>0</td>\n",
              "      <td>1</td>\n",
              "      <td>0</td>\n",
              "      <td>0</td>\n",
              "      <td>0</td>\n",
              "      <td>1</td>\n",
              "      <td>0</td>\n",
              "      <td>1</td>\n",
              "      <td>0</td>\n",
              "      <td>0</td>\n",
              "      <td>0</td>\n",
              "    </tr>\n",
              "    <tr>\n",
              "      <th>2</th>\n",
              "      <td>179</td>\n",
              "      <td>51</td>\n",
              "      <td>18</td>\n",
              "      <td>38</td>\n",
              "      <td>239.554</td>\n",
              "      <td>97</td>\n",
              "      <td>0</td>\n",
              "      <td>0</td>\n",
              "      <td>1</td>\n",
              "      <td>0</td>\n",
              "      <td>0</td>\n",
              "      <td>170</td>\n",
              "      <td>31</td>\n",
              "      <td>0</td>\n",
              "      <td>0</td>\n",
              "      <td>0</td>\n",
              "      <td>0</td>\n",
              "      <td>0</td>\n",
              "      <td>0</td>\n",
              "      <td>0</td>\n",
              "      <td>0</td>\n",
              "      <td>0</td>\n",
              "      <td>0</td>\n",
              "      <td>0</td>\n",
              "      <td>0</td>\n",
              "      <td>0</td>\n",
              "      <td>0</td>\n",
              "      <td>0</td>\n",
              "      <td>0</td>\n",
              "      <td>0</td>\n",
              "      <td>0</td>\n",
              "      <td>0</td>\n",
              "      <td>1</td>\n",
              "      <td>0</td>\n",
              "      <td>0</td>\n",
              "      <td>0</td>\n",
              "      <td>0</td>\n",
              "      <td>0</td>\n",
              "      <td>0</td>\n",
              "      <td>0</td>\n",
              "      <td>0</td>\n",
              "      <td>0</td>\n",
              "      <td>0</td>\n",
              "      <td>0</td>\n",
              "      <td>0</td>\n",
              "      <td>0</td>\n",
              "      <td>1</td>\n",
              "      <td>0</td>\n",
              "      <td>0</td>\n",
              "      <td>0</td>\n",
              "      <td>0</td>\n",
              "      <td>0</td>\n",
              "      <td>0</td>\n",
              "      <td>0</td>\n",
              "      <td>0</td>\n",
              "      <td>0</td>\n",
              "      <td>0</td>\n",
              "      <td>1</td>\n",
              "      <td>0</td>\n",
              "      <td>0</td>\n",
              "      <td>1</td>\n",
              "      <td>0</td>\n",
              "      <td>1</td>\n",
              "      <td>0</td>\n",
              "      <td>0</td>\n",
              "      <td>0</td>\n",
              "    </tr>\n",
              "  </tbody>\n",
              "</table>\n",
              "</div>"
            ],
            "text/plain": [
              "   trans_exp  distance  serv_time  ...  education_1  education_2  education_3\n",
              "0        289        36         13  ...            0            0            0\n",
              "1        118        13         18  ...            0            0            0\n",
              "2        179        51         18  ...            0            0            0\n",
              "\n",
              "[3 rows x 66 columns]"
            ]
          },
          "metadata": {
            "tags": []
          },
          "execution_count": 32
        }
      ]
    },
    {
      "cell_type": "code",
      "metadata": {
        "id": "n0CcgeFjKP7s",
        "colab_type": "code",
        "outputId": "bfca2ab4-64d8-44e7-bad0-f85bf1e9b190",
        "colab": {
          "base_uri": "https://localhost:8080/",
          "height": 34
        }
      },
      "source": [
        "# Normalize:\n",
        "X_pca_norm = (X_pca-X_pca.mean())/X_pca.std()\n",
        "\n",
        "X_pca_norm.head()\n",
        "print(\"There are \" + (\"some\" if X_pca_norm.isnull().values.any() else \"no\")  + \" null/missing values in the dataset.\")"
      ],
      "execution_count": 33,
      "outputs": [
        {
          "output_type": "stream",
          "text": [
            "There are no null/missing values in the dataset.\n"
          ],
          "name": "stdout"
        }
      ]
    },
    {
      "cell_type": "code",
      "metadata": {
        "id": "Fu4MvEIekJ_E",
        "colab_type": "code",
        "outputId": "1e2bd098-e0d3-4d79-f216-ad195ed4c28b",
        "colab": {
          "base_uri": "https://localhost:8080/",
          "height": 312
        }
      },
      "source": [
        "# calculate the principal components\n",
        "X_pca = PCA().fit(X_pca_norm)\n",
        "cumvar = np.cumsum(X_pca.explained_variance_ratio_)\n",
        "#Plotting cumulative variance\n",
        "plt.plot(cumvar)\n",
        "plt.title('Cumulative variance')\n",
        "plt.xlabel('Number of components')\n",
        "plt.ylabel('Variance explained')"
      ],
      "execution_count": 34,
      "outputs": [
        {
          "output_type": "execute_result",
          "data": {
            "text/plain": [
              "Text(0, 0.5, 'Variance explained')"
            ]
          },
          "metadata": {
            "tags": []
          },
          "execution_count": 34
        },
        {
          "output_type": "display_data",
          "data": {
            "image/png": "[encoded data removed]",
            "text/plain": [
              "<Figure size 432x288 with 1 Axes>"
            ]
          },
          "metadata": {
            "tags": [],
            "needs_background": "light"
          }
        }
      ]
    },
    {
      "cell_type": "code",
      "metadata": {
        "id": "QhTbDrXEDn8d",
        "colab_type": "code",
        "outputId": "b14c925e-f05e-49b3-8d6e-37896b47c15c",
        "colab": {
          "base_uri": "https://localhost:8080/",
          "height": 34
        }
      },
      "source": [
        "cumvar[20]"
      ],
      "execution_count": 35,
      "outputs": [
        {
          "output_type": "execute_result",
          "data": {
            "text/plain": [
              "0.5691614364613821"
            ]
          },
          "metadata": {
            "tags": []
          },
          "execution_count": 35
        }
      ]
    },
    {
      "cell_type": "markdown",
      "metadata": {
        "id": "_SlZd1oOC9mW",
        "colab_type": "text"
      },
      "source": [
        "The cumulative variance plot show us that only about the 55% of variance is explained by the first 20 principal components and so we cannot eliminate the other without losing a lot of information.\n",
        "\n",
        "However, by using all the PCs needed to cover at least the 80% of the variance we do not take advantage from PCA. So I will not use it."
      ]
    },
    {
      "cell_type": "code",
      "metadata": {
        "id": "QJIwrRNmJETa",
        "colab_type": "code",
        "outputId": "1212bff7-bede-4b2c-aaed-92bfa17f8398",
        "colab": {
          "base_uri": "https://localhost:8080/",
          "height": 224
        }
      },
      "source": [
        "n_used = 20\n",
        "X_pca = np.dot(X_pca_norm.values, X_pca.components_[:n_used,:].T)\n",
        "X_pca = pd.DataFrame(X_pca, columns=[\"PC%d\" % (x + 1) for x in range(n_used)])\n",
        "X_pca.head()"
      ],
      "execution_count": 36,
      "outputs": [
        {
          "output_type": "execute_result",
          "data": {
            "text/html": [
              "<div>\n",
              "<style scoped>\n",
              "    .dataframe tbody tr th:only-of-type {\n",
              "        vertical-align: middle;\n",
              "    }\n",
              "\n",
              "    .dataframe tbody tr th {\n",
              "        vertical-align: top;\n",
              "    }\n",
              "\n",
              "    .dataframe thead th {\n",
              "        text-align: right;\n",
              "    }\n",
              "</style>\n",
              "<table border=\"1\" class=\"dataframe\">\n",
              "  <thead>\n",
              "    <tr style=\"text-align: right;\">\n",
              "      <th></th>\n",
              "      <th>PC1</th>\n",
              "      <th>PC2</th>\n",
              "      <th>PC3</th>\n",
              "      <th>PC4</th>\n",
              "      <th>PC5</th>\n",
              "      <th>PC6</th>\n",
              "      <th>PC7</th>\n",
              "      <th>PC8</th>\n",
              "      <th>PC9</th>\n",
              "      <th>PC10</th>\n",
              "      <th>PC11</th>\n",
              "      <th>PC12</th>\n",
              "      <th>PC13</th>\n",
              "      <th>PC14</th>\n",
              "      <th>PC15</th>\n",
              "      <th>PC16</th>\n",
              "      <th>PC17</th>\n",
              "      <th>PC18</th>\n",
              "      <th>PC19</th>\n",
              "      <th>PC20</th>\n",
              "    </tr>\n",
              "  </thead>\n",
              "  <tbody>\n",
              "    <tr>\n",
              "      <th>0</th>\n",
              "      <td>1.696883</td>\n",
              "      <td>0.519021</td>\n",
              "      <td>-1.497244</td>\n",
              "      <td>2.754662</td>\n",
              "      <td>-0.402659</td>\n",
              "      <td>0.384622</td>\n",
              "      <td>0.267445</td>\n",
              "      <td>0.626527</td>\n",
              "      <td>-1.029813</td>\n",
              "      <td>-2.744821</td>\n",
              "      <td>-0.033449</td>\n",
              "      <td>-1.216773</td>\n",
              "      <td>-0.694789</td>\n",
              "      <td>1.282899</td>\n",
              "      <td>-0.408166</td>\n",
              "      <td>-2.028526</td>\n",
              "      <td>-0.655109</td>\n",
              "      <td>0.672667</td>\n",
              "      <td>-0.434694</td>\n",
              "      <td>-1.147092</td>\n",
              "    </tr>\n",
              "    <tr>\n",
              "      <th>1</th>\n",
              "      <td>2.852038</td>\n",
              "      <td>-0.317962</td>\n",
              "      <td>2.102818</td>\n",
              "      <td>0.650229</td>\n",
              "      <td>-2.794399</td>\n",
              "      <td>4.657505</td>\n",
              "      <td>-1.260736</td>\n",
              "      <td>-0.434032</td>\n",
              "      <td>-0.621806</td>\n",
              "      <td>-2.838638</td>\n",
              "      <td>0.774322</td>\n",
              "      <td>-1.193394</td>\n",
              "      <td>-1.736535</td>\n",
              "      <td>-0.555463</td>\n",
              "      <td>-1.067320</td>\n",
              "      <td>-1.070017</td>\n",
              "      <td>-0.924332</td>\n",
              "      <td>-0.554630</td>\n",
              "      <td>-0.337473</td>\n",
              "      <td>-0.940190</td>\n",
              "    </tr>\n",
              "    <tr>\n",
              "      <th>2</th>\n",
              "      <td>1.711816</td>\n",
              "      <td>-1.000532</td>\n",
              "      <td>-1.143651</td>\n",
              "      <td>1.948954</td>\n",
              "      <td>-1.414614</td>\n",
              "      <td>-0.305063</td>\n",
              "      <td>-0.590595</td>\n",
              "      <td>-0.573399</td>\n",
              "      <td>-1.866106</td>\n",
              "      <td>-0.999258</td>\n",
              "      <td>0.083182</td>\n",
              "      <td>1.681820</td>\n",
              "      <td>-0.953736</td>\n",
              "      <td>1.496437</td>\n",
              "      <td>-0.310185</td>\n",
              "      <td>-0.658799</td>\n",
              "      <td>-0.501712</td>\n",
              "      <td>-0.502951</td>\n",
              "      <td>-0.024113</td>\n",
              "      <td>-0.013751</td>\n",
              "    </tr>\n",
              "    <tr>\n",
              "      <th>3</th>\n",
              "      <td>0.337619</td>\n",
              "      <td>1.064853</td>\n",
              "      <td>-0.340386</td>\n",
              "      <td>2.606716</td>\n",
              "      <td>-0.897924</td>\n",
              "      <td>1.448334</td>\n",
              "      <td>1.219798</td>\n",
              "      <td>-0.175980</td>\n",
              "      <td>-1.044465</td>\n",
              "      <td>0.125072</td>\n",
              "      <td>-0.541235</td>\n",
              "      <td>-0.546080</td>\n",
              "      <td>0.469204</td>\n",
              "      <td>1.572426</td>\n",
              "      <td>1.135543</td>\n",
              "      <td>0.442372</td>\n",
              "      <td>-1.460847</td>\n",
              "      <td>-2.131501</td>\n",
              "      <td>-1.225806</td>\n",
              "      <td>0.188829</td>\n",
              "    </tr>\n",
              "    <tr>\n",
              "      <th>4</th>\n",
              "      <td>1.390976</td>\n",
              "      <td>0.633267</td>\n",
              "      <td>-1.630444</td>\n",
              "      <td>2.370097</td>\n",
              "      <td>-0.411186</td>\n",
              "      <td>0.026642</td>\n",
              "      <td>-0.055186</td>\n",
              "      <td>-0.473239</td>\n",
              "      <td>-0.989114</td>\n",
              "      <td>-0.213016</td>\n",
              "      <td>1.101580</td>\n",
              "      <td>-0.091829</td>\n",
              "      <td>-1.760028</td>\n",
              "      <td>0.861357</td>\n",
              "      <td>0.890621</td>\n",
              "      <td>-0.155819</td>\n",
              "      <td>-1.136403</td>\n",
              "      <td>-1.409940</td>\n",
              "      <td>-0.273333</td>\n",
              "      <td>-0.441165</td>\n",
              "    </tr>\n",
              "  </tbody>\n",
              "</table>\n",
              "</div>"
            ],
            "text/plain": [
              "        PC1       PC2       PC3  ...      PC18      PC19      PC20\n",
              "0  1.696883  0.519021 -1.497244  ...  0.672667 -0.434694 -1.147092\n",
              "1  2.852038 -0.317962  2.102818  ... -0.554630 -0.337473 -0.940190\n",
              "2  1.711816 -1.000532 -1.143651  ... -0.502951 -0.024113 -0.013751\n",
              "3  0.337619  1.064853 -0.340386  ... -2.131501 -1.225806  0.188829\n",
              "4  1.390976  0.633267 -1.630444  ... -1.409940 -0.273333 -0.441165\n",
              "\n",
              "[5 rows x 20 columns]"
            ]
          },
          "metadata": {
            "tags": []
          },
          "execution_count": 36
        }
      ]
    },
    {
      "cell_type": "markdown",
      "metadata": {
        "id": "p7kXnNQPkAeC",
        "colab_type": "text"
      },
      "source": [
        "### 4.2 <a class=\"anchor\" id=\"fourth_2\">Oversampling</a>\n",
        "As discussed before, in the classification setting the dataset is heavily skewed towards low level of absenteeism and our classes are strongly unbalanced. We can solve this by oversamplig. \n",
        "\n",
        "There are three common techniques to do this:\n",
        "\n",
        "1. The simplest is **Random oversampling**: it simply generates randomly new samples in the classes which are under-represented. \n",
        "\n",
        "2. **SMOTE** (Synthetic Minority Oversampling Technique): take a sample from the dataset, and consider its $k$ nearest neighbors (in feature space). To create a synthetic data point, take the vector between one of those $k$ neighbors, and the current data point. Multiply this vector by a random number $x$ which lies between $0$, and $1$. Add this to the current data point to create the new, synthetic data point.\n",
        "\n",
        "3. **ADASYN** (ADAptive SYNthetic sampling approach) algorithm, builds on the methodology of SMOTE, by shifting the importance of the classification boundary to those minority classes which are difficult. ADASYN uses a weighted distribution for different minority class examples according to their level of difficulty in learning, where more synthetic data is generated for minority class examples that are harder to learn."
      ]
    },
    {
      "cell_type": "code",
      "metadata": {
        "id": "_1oMgAa7lfUY",
        "colab_type": "code",
        "colab": {}
      },
      "source": [
        "# GENERATING NEW DATASET WITH RANDOM OVERSAMPLING, SMOTE and ADASYN OVERSAMPLING\n",
        "\n",
        "X_train_ROS, y_train_ROS = RandomOverSampler(random_state = SEED).fit_resample(X_train, y_train)\n",
        "X_train_SMOTE, y_train_SMOTE = SMOTE(random_state = SEED).fit_resample(X_train, y_train)\n",
        "X_train_ADASYN, y_train_ADASYN = ADASYN(random_state = SEED, sampling_strategy = 'minority').fit_resample(X_train, y_train)"
      ],
      "execution_count": 0,
      "outputs": []
    },
    {
      "cell_type": "code",
      "metadata": {
        "id": "D-hwUCX0QzN7",
        "colab_type": "code",
        "outputId": "d2ae8826-77c1-4ab6-cd2f-4352857c8d8e",
        "colab": {
          "base_uri": "https://localhost:8080/",
          "height": 289
        }
      },
      "source": [
        "y_set = {'simple': y_train, 'ROS': y_train_ROS, 'SMOTE': y_train_SMOTE, 'ADASYN': y_train_ADASYN}\n",
        "for ys in y_set.keys():\n",
        "  print('The', ys, 'train set has:')\n",
        "  for i in set(ylabel):    \n",
        "          print('\\t', np.count_nonzero(y_set[ys] == i), 'records with label',levels[i])"
      ],
      "execution_count": 38,
      "outputs": [
        {
          "output_type": "stream",
          "text": [
            "The simple train set has:\n",
            "\t 190 records with label days\n",
            "\t 235 records with label hours\n",
            "\t 90 records with label late\n",
            "The ROS train set has:\n",
            "\t 235 records with label days\n",
            "\t 235 records with label hours\n",
            "\t 235 records with label late\n",
            "The SMOTE train set has:\n",
            "\t 235 records with label days\n",
            "\t 235 records with label hours\n",
            "\t 235 records with label late\n",
            "The ADASYN train set has:\n",
            "\t 190 records with label days\n",
            "\t 235 records with label hours\n",
            "\t 243 records with label late\n"
          ],
          "name": "stdout"
        }
      ]
    },
    {
      "cell_type": "markdown",
      "metadata": {
        "id": "hPZywQUX8RrD",
        "colab_type": "text"
      },
      "source": [
        "## 5. <a class=\"anchor\" id=\"fifth\">Classification Models</a>\n",
        "Classification is the problem of identifying to which of a set of categories (sub-populations) a new observation belongs, on the basis of a training set of data containing observations (or instances) whose category membership is known.\n",
        "\n"
      ]
    },
    {
      "cell_type": "markdown",
      "metadata": {
        "id": "gxuyIn9bEXgg",
        "colab_type": "text"
      },
      "source": [
        "\n",
        "Here I apply the most commons classification algorithms and I will compare their performance using diffent metrics:\n",
        "\n",
        "Let: $TP$ = True positives, $TN$ = True negative, $FP$ = False positive, $FN$ = False negative.\n",
        "\n",
        "1. **Accuracy** = $\\frac{TP + TN}{TP+TN + FP + FN} = \\frac{\\text{Number of correct predictions}}{\\text{Total number of predictions}}$\n",
        "\n",
        "2. **Precision** = $\\frac{\\text{TP}}{\\text{TP + FP}}$\n",
        "\n",
        "3. **Sensitivity** = $\\frac{\\text{TP}}{\\text{TP + FN}}$\n",
        "\n",
        "4. **Specificity** = $\\frac{\\text{TN}}{\\text{TN + FP}}$\n",
        "\n",
        "5. **F1 Score** = $2 \\cdot \\frac{\\text{Precision}\\cdot \\text{Sensitivity}}{\\text{Precision + Sensitivity}} $\n",
        "\n",
        "All of these can be easily generalized to configurations with more than two classes by using weighted versions.\n",
        "\n",
        "Great part of the work was to identify limits and peculiarities of different metrics. I also use **confusion matrix** as a measure of performance."
      ]
    },
    {
      "cell_type": "markdown",
      "metadata": {
        "id": "6yZlVHyseNaI",
        "colab_type": "text"
      },
      "source": [
        "### 5.1 <a class=\"anchor\" id=\"fifth_1\">Full classification</a>"
      ]
    },
    {
      "cell_type": "markdown",
      "metadata": {
        "id": "KzovzWPH4IO6",
        "colab_type": "text"
      },
      "source": [
        "Here I try to predicts absenteeism levels using three classes: *late*, *hours*, *days*. Remember that these classes are strongly unbalanced as they have been simply chosen by considering the application."
      ]
    },
    {
      "cell_type": "markdown",
      "metadata": {
        "id": "x899sm-8xSkp",
        "colab_type": "text"
      },
      "source": [
        "I have to choose which of my datasets to use for classification. I decide to evaluate all of them using the random forest classifier and then I select the one which performs better.\n",
        "\n"
      ]
    },
    {
      "cell_type": "code",
      "metadata": {
        "id": "roYvIuzYHLkq",
        "colab_type": "code",
        "outputId": "fa979380-7152-4e43-caf6-b2b1e65f4302",
        "colab": {
          "base_uri": "https://localhost:8080/",
          "height": 173
        }
      },
      "source": [
        "# Random forest Classifier\n",
        "\n",
        "#Simple dataset\n",
        "simple_forest = RandomForestClassifier(random_state = SEED, n_estimators = 100, max_depth = 6).fit(X_train, y_train)\n",
        "simple_pred = simple_forest.predict(X_test)\n",
        "\n",
        "#Random oversampler\n",
        "ros_forest = RandomForestClassifier(random_state = SEED, n_estimators = 100, max_depth = 6).fit(X_train_ROS, y_train_ROS)\n",
        "random_over_pred = ros_forest.predict(X_test)\n",
        "\n",
        "#SMOTE\n",
        "SMOTE_forest = RandomForestClassifier(random_state = SEED, n_estimators = 100, max_depth = 6).fit(X_train_SMOTE, y_train_SMOTE)\n",
        "SMOTE_pred = SMOTE_forest.predict(X_test)\n",
        "\n",
        "#ADASYN \n",
        "ADASYN_forest = RandomForestClassifier(random_state = SEED, n_estimators = 100, max_depth = 6).fit(X_train_ADASYN, y_train_ADASYN)\n",
        "ADASYN_pred = ADASYN_forest.predict(X_test)\n",
        "\n",
        "#Performance \n",
        "\n",
        "#Simple data_set metrics: \n",
        "simple_pred_accuracy = accuracy_score(y_test, simple_pred)\n",
        "simple_pred_precision = precision_score(y_test, simple_pred, average = 'weighted')\n",
        "simple_pred_sensitivity = recall_score(y_test, simple_pred, average = 'weighted')\n",
        "simple_pred_f1 = f1_score(y_test, simple_pred, average = 'weighted')\n",
        "\n",
        "#Random oversampling metrics:\n",
        "rnd_sampler_accuracy = accuracy_score(y_test, random_over_pred)\n",
        "rnd_sampler_precision = precision_score(y_test,random_over_pred, average = 'weighted')\n",
        "rnd_sampler_sensitivity = recall_score(y_test,random_over_pred, average = 'weighted')\n",
        "rnd_sampler_f1 = f1_score(y_test,random_over_pred, average = 'weighted')\n",
        "\n",
        "#SMOTE metrics: \n",
        "SMOTE_accuracy = accuracy_score(y_test, SMOTE_pred)\n",
        "SMOTE_precision = precision_score(y_test, SMOTE_pred, average = 'weighted')\n",
        "SMOTE_sensitivity = recall_score(y_test, SMOTE_pred, average = 'weighted')\n",
        "SMOTE_f1 = f1_score(y_test, SMOTE_pred, average = 'weighted')\n",
        "\n",
        "#ADASYN metrics:\n",
        "ADASYN_accuracy = accuracy_score(y_test, ADASYN_pred)\n",
        "ADASYN_precision = precision_score(y_test, ADASYN_pred, average = 'weighted')\n",
        "ADASYN_sensitivity = recall_score(y_test, ADASYN_pred, average = 'weighted')\n",
        "ADASYN_f1 = f1_score(y_test, ADASYN_pred, average = 'weighted')\n",
        "\n",
        "# metrics\n",
        "metrics = pd.DataFrame(columns=[\"Accuracy\", \"Precision\", \"Sensitivity\", \"F1 Score\"])\n",
        "metrics.loc[\"Simple Dataset\"] = [simple_pred_accuracy,simple_pred_precision,simple_pred_sensitivity,simple_pred_f1]\n",
        "metrics.loc[\"Rnd oversampling\"] = [rnd_sampler_accuracy,rnd_sampler_precision,rnd_sampler_sensitivity,rnd_sampler_f1]\n",
        "metrics.loc[\"SMOTE\"] = [SMOTE_accuracy,SMOTE_precision,SMOTE_sensitivity,SMOTE_f1]\n",
        "metrics.loc[\"ADASYN\"] = [ADASYN_accuracy,ADASYN_precision,ADASYN_sensitivity,ADASYN_f1]\n",
        "metrics"
      ],
      "execution_count": 39,
      "outputs": [
        {
          "output_type": "execute_result",
          "data": {
            "text/html": [
              "<div>\n",
              "<style scoped>\n",
              "    .dataframe tbody tr th:only-of-type {\n",
              "        vertical-align: middle;\n",
              "    }\n",
              "\n",
              "    .dataframe tbody tr th {\n",
              "        vertical-align: top;\n",
              "    }\n",
              "\n",
              "    .dataframe thead th {\n",
              "        text-align: right;\n",
              "    }\n",
              "</style>\n",
              "<table border=\"1\" class=\"dataframe\">\n",
              "  <thead>\n",
              "    <tr style=\"text-align: right;\">\n",
              "      <th></th>\n",
              "      <th>Accuracy</th>\n",
              "      <th>Precision</th>\n",
              "      <th>Sensitivity</th>\n",
              "      <th>F1 Score</th>\n",
              "    </tr>\n",
              "  </thead>\n",
              "  <tbody>\n",
              "    <tr>\n",
              "      <th>Simple Dataset</th>\n",
              "      <td>0.707207</td>\n",
              "      <td>0.739710</td>\n",
              "      <td>0.707207</td>\n",
              "      <td>0.701455</td>\n",
              "    </tr>\n",
              "    <tr>\n",
              "      <th>Rnd oversampling</th>\n",
              "      <td>0.662162</td>\n",
              "      <td>0.664767</td>\n",
              "      <td>0.662162</td>\n",
              "      <td>0.661604</td>\n",
              "    </tr>\n",
              "    <tr>\n",
              "      <th>SMOTE</th>\n",
              "      <td>0.662162</td>\n",
              "      <td>0.660265</td>\n",
              "      <td>0.662162</td>\n",
              "      <td>0.660298</td>\n",
              "    </tr>\n",
              "    <tr>\n",
              "      <th>ADASYN</th>\n",
              "      <td>0.675676</td>\n",
              "      <td>0.678242</td>\n",
              "      <td>0.675676</td>\n",
              "      <td>0.675363</td>\n",
              "    </tr>\n",
              "  </tbody>\n",
              "</table>\n",
              "</div>"
            ],
            "text/plain": [
              "                  Accuracy  Precision  Sensitivity  F1 Score\n",
              "Simple Dataset    0.707207   0.739710     0.707207  0.701455\n",
              "Rnd oversampling  0.662162   0.664767     0.662162  0.661604\n",
              "SMOTE             0.662162   0.660265     0.662162  0.660298\n",
              "ADASYN            0.675676   0.678242     0.675676  0.675363"
            ]
          },
          "metadata": {
            "tags": []
          },
          "execution_count": 39
        }
      ]
    },
    {
      "cell_type": "code",
      "metadata": {
        "id": "-pYluu-rJLB9",
        "colab_type": "code",
        "outputId": "c0c7ab0c-988f-45cf-fafb-d6db66a85a05",
        "colab": {
          "base_uri": "https://localhost:8080/",
          "height": 600
        }
      },
      "source": [
        "fig, ((simple, ros), (smote, adasyn)) = plt.subplots(nrows = 2, ncols = 2, figsize = (10, 10))\n",
        "\n",
        "plot_confusion_matrix(simple_forest, X_test, y_test, display_labels = levels,\n",
        "                      cmap = plt.cm.Blues, values_format = '0.2%', normalize = 'true', \n",
        "                      ax = simple)\n",
        "plot_confusion_matrix(ros_forest, X_test, y_test, display_labels = levels,\n",
        "                      cmap = plt.cm.Blues, values_format = '0.2%', normalize = 'true',\n",
        "                      ax = ros)\n",
        "plot_confusion_matrix(SMOTE_forest, X_test, y_test, display_labels = levels,\n",
        "                      cmap = plt.cm.Blues, values_format = '0.2%', normalize = 'true',\n",
        "                      ax = smote)\n",
        "plot_confusion_matrix(ADASYN_forest, X_test, y_test, display_labels = levels,\n",
        "                      cmap = plt.cm.Blues, values_format = '0.2%', normalize = 'true',\n",
        "                      ax = adasyn)\n",
        "simple.set_title('Simple dataset')\n",
        "ros.set_title('ROS dataset')\n",
        "smote.set_title('SMOTE dataset')\n",
        "adasyn.set_title('ADASYN dataset')"
      ],
      "execution_count": 40,
      "outputs": [
        {
          "output_type": "execute_result",
          "data": {
            "text/plain": [
              "Text(0.5, 1.0, 'ADASYN dataset')"
            ]
          },
          "metadata": {
            "tags": []
          },
          "execution_count": 40
        },
        {
          "output_type": "display_data",
          "data": {
            "image/png": "[encoded data removed]",
            "text/plain": [
              "<Figure size 720x720 with 8 Axes>"
            ]
          },
          "metadata": {
            "tags": [],
            "needs_background": "light"
          }
        }
      ]
    },
    {
      "cell_type": "markdown",
      "metadata": {
        "id": "gnSg8OOCKfps",
        "colab_type": "text"
      },
      "source": [
        "Complexively, the best seems to be the SMOTE set: I will use it."
      ]
    },
    {
      "cell_type": "code",
      "metadata": {
        "id": "HWMUqlj2xpVH",
        "colab_type": "code",
        "colab": {}
      },
      "source": [
        "X_val = X_train\n",
        "y_val = y_train\n",
        "X_train = X_train_SMOTE\n",
        "y_train = y_train_SMOTE"
      ],
      "execution_count": 0,
      "outputs": []
    },
    {
      "cell_type": "code",
      "metadata": {
        "id": "4ew99OtQx5o6",
        "colab_type": "code",
        "colab": {}
      },
      "source": [
        "classification_metrics = pd.DataFrame(columns=[\"Accuracy\", \"Precision\", \"Sensitivity\", \"F1 Score\"])"
      ],
      "execution_count": 0,
      "outputs": []
    },
    {
      "cell_type": "markdown",
      "metadata": {
        "id": "awrAQChTz-qU",
        "colab_type": "text"
      },
      "source": [
        "#### <a class=\"anchor\" id=\"fifth_1\">Logitistic regression</a>\n",
        "Logistic regression is a statistical model used to model the probability of a certain class or event existing.\n",
        "\n",
        "If classes are binary, then we can compute the probability that a certain sample belongs to the cateogy $Y = 1$: \n",
        "\n",
        "$p(x) = \\mathbb{P}(Y=1\\vert X)$\n",
        "It has distribution: $$p(x) = \\frac{e^{\\beta_0 + \\beta_1x}}{1+e^{\\beta_0 + \\beta_1x}}$$\n",
        "\n",
        "It can been generalized for $p$ variables: $$p(x) = \\frac{e^{\\beta_0 + \\beta_1x + \\dots + \\beta_px_p}}{1+e^{\\beta_0 + \\beta_1x + \\dots + \\beta_px_p}}$$"
      ]
    },
    {
      "cell_type": "code",
      "metadata": {
        "id": "IQ03lk5oz_-J",
        "colab_type": "code",
        "outputId": "c367a3dc-26d3-4f7d-eea4-593639e207b7",
        "colab": {
          "base_uri": "https://localhost:8080/",
          "height": 452
        }
      },
      "source": [
        "logistic = LogisticRegression(max_iter = 10000, random_state = SEED, solver = 'lbfgs').fit(X_train, y_train)\n",
        "logistic_predict = logistic.predict(X_test)\n",
        "\n",
        "#metrics:\n",
        "logi_acc = accuracy_score(logistic_predict, y_test)\n",
        "logi_preci = precision_score(logistic_predict, y_test, average = 'weighted')\n",
        "logi_sensitivity = recall_score(logistic_predict, y_test, average = 'weighted')\n",
        "logi_f1 = f1_score(logistic_predict, y_test, average = 'weighted')\n",
        "\n",
        "classification_metrics.loc[\"Logistic regression\"] = [logi_acc,logi_preci,logi_sensitivity,logi_f1]\n",
        "plot_confusion_matrix(logistic, X_test, y_test, display_labels = levels,\n",
        "                      cmap = plt.cm.Blues, values_format = '0.2%', normalize = 'true')"
      ],
      "execution_count": 43,
      "outputs": [
        {
          "output_type": "stream",
          "text": [
            "/usr/local/lib/python3.6/dist-packages/sklearn/linear_model/_logistic.py:940: ConvergenceWarning: lbfgs failed to converge (status=1):\n",
            "STOP: TOTAL NO. of ITERATIONS REACHED LIMIT.\n",
            "\n",
            "Increase the number of iterations (max_iter) or scale the data as shown in:\n",
            "    https://scikit-learn.org/stable/modules/preprocessing.html\n",
            "Please also refer to the documentation for alternative solver options:\n",
            "    https://scikit-learn.org/stable/modules/linear_model.html#logistic-regression\n",
            "  extra_warning_msg=_LOGISTIC_SOLVER_CONVERGENCE_MSG)\n"
          ],
          "name": "stderr"
        },
        {
          "output_type": "execute_result",
          "data": {
            "text/plain": [
              "<sklearn.metrics._plot.confusion_matrix.ConfusionMatrixDisplay at 0x7f6276e60a58>"
            ]
          },
          "metadata": {
            "tags": []
          },
          "execution_count": 43
        },
        {
          "output_type": "display_data",
          "data": {
            "image/png": "[encoded data removed]",
            "text/plain": [
              "<Figure size 432x288 with 2 Axes>"
            ]
          },
          "metadata": {
            "tags": [],
            "needs_background": "light"
          }
        }
      ]
    },
    {
      "cell_type": "markdown",
      "metadata": {
        "id": "2DdLXJnC8VP-",
        "colab_type": "text"
      },
      "source": [
        "#### <a class=\"anchor\" id=\"fifth_2\">Decision Tree</a> \n",
        "A decision tree is a very common model for classification problems (it is also called a classification tree). In this context a decision tree describes a tree structure where the leaf nodes represent the classifications and the ramifications the set of properties that lead to those classifications. Consequently, each internal node is a macro-class consisting of the union of the classes associated with its child nodes.\n",
        "\n",
        "In many situations it is useful to define a halting criterion, or even pruning criterion in order to determine its maximum depth. This is because the growing depth of a tree (or its size) does not directly affect the goodness of the model. Indeed, an excessive growth in the size of the tree could only lead to a disproportionate increase in computational complexity compared to the benefits regarding the accuracy of the predictions/classifications.\n",
        "\n",
        "The algorithm chooses a variable at each step that best splits the set of items, according to certain metrics.\n",
        "\n",
        "The parameters that are mostly used to guide the construction of the tree are the Gini index and the Entropy deviance.\n",
        "\n",
        "The Gini Index is computed as:$$ GI(t) = 1-\\sum_{j=1}^k p(j|t)^2$$\n",
        "The Entropy deviance is computed as:$$ Entropy(t) = -\\sum_{j=1}^k p(j|t)log_2(p(j|t))$$\n",
        "$\\forall \\text{ node } t$, where $p(j|t)$ is the relative frequency of class $j$ at node $t$.\n"
      ]
    },
    {
      "cell_type": "code",
      "metadata": {
        "id": "X4PSj-L2j23g",
        "colab_type": "code",
        "outputId": "17524d7c-c685-4bab-8fc0-f36889871004",
        "colab": {
          "base_uri": "https://localhost:8080/",
          "height": 34
        }
      },
      "source": [
        "# Evaluating best parameters\n",
        "depth = np.arange(4, 20) \n",
        "parameters = {'max_depth': depth}\n",
        "clf = GridSearchCV(tree.DecisionTreeClassifier(criterion = 'entropy'), parameters, scoring = 'f1_weighted')\n",
        "clf = clf.fit(X_val, y_val)\n",
        "opt_depth = clf.best_params_['max_depth']\n",
        "print(\"The best parameters are %s with a score of %0.2f\" % (clf.best_params_, clf.best_score_))"
      ],
      "execution_count": 44,
      "outputs": [
        {
          "output_type": "stream",
          "text": [
            "The best parameters are {'max_depth': 6} with a score of 0.67\n"
          ],
          "name": "stdout"
        }
      ]
    },
    {
      "cell_type": "code",
      "metadata": {
        "colab_type": "code",
        "id": "vnNC96WX-0pt",
        "outputId": "f793cbdc-6f2e-401f-9065-727cbc12f0e7",
        "colab": {
          "base_uri": "https://localhost:8080/",
          "height": 296
        }
      },
      "source": [
        "# Decision TREE: Entropy\n",
        "tree_Entropy = tree.DecisionTreeClassifier(max_depth = opt_depth, criterion = 'entropy', random_state = SEED)\n",
        "tree_Entropy = tree_Entropy.fit(X_train, y_train)\n",
        "tree_Entropy_pred = tree_Entropy.predict(X_test)\n",
        "\n",
        "#metrics\n",
        "tree_acc = accuracy_score(tree_Entropy_pred, y_test)\n",
        "tree_preci = precision_score(tree_Entropy_pred, y_test, average = 'weighted')\n",
        "tree_sensitivity = recall_score(tree_Entropy_pred, y_test, average = 'weighted')\n",
        "tree_f1 = f1_score(tree_Entropy_pred, y_test, average = 'weighted')\n",
        "\n",
        "classification_metrics.loc[\"Tree Entropy\"] = [tree_acc, tree_preci, tree_sensitivity, tree_f1]\n",
        "plot_confusion_matrix(tree_Entropy, X_test, y_test, \n",
        "                      display_labels = levels, cmap = plt.cm.Blues,\n",
        "\n",
        "                      values_format = '0.2%', normalize = 'true')"
      ],
      "execution_count": 45,
      "outputs": [
        {
          "output_type": "execute_result",
          "data": {
            "text/plain": [
              "<sklearn.metrics._plot.confusion_matrix.ConfusionMatrixDisplay at 0x7f6277100d68>"
            ]
          },
          "metadata": {
            "tags": []
          },
          "execution_count": 45
        },
        {
          "output_type": "display_data",
          "data": {
            "image/png": "[encoded data removed]",
            "text/plain": [
              "<Figure size 432x288 with 2 Axes>"
            ]
          },
          "metadata": {
            "tags": [],
            "needs_background": "light"
          }
        }
      ]
    },
    {
      "cell_type": "code",
      "metadata": {
        "id": "bhynw3wfk2wf",
        "colab_type": "code",
        "outputId": "69465a1c-1642-4dd6-9a73-5bf51992eb06",
        "colab": {
          "base_uri": "https://localhost:8080/",
          "height": 34
        }
      },
      "source": [
        "# Evaluating best parameters\n",
        "depth = np.arange(4, 20) \n",
        "parameters = {'max_depth': depth}\n",
        "clf = GridSearchCV(tree.DecisionTreeClassifier(criterion = 'gini'), parameters, scoring = 'f1_weighted')\n",
        "clf = clf.fit(X_val, y_val)\n",
        "opt_depth = clf.best_params_['max_depth']\n",
        "print(\"The best parameters are %s with a score of %0.2f\" % (clf.best_params_, clf.best_score_))"
      ],
      "execution_count": 46,
      "outputs": [
        {
          "output_type": "stream",
          "text": [
            "The best parameters are {'max_depth': 13} with a score of 0.65\n"
          ],
          "name": "stdout"
        }
      ]
    },
    {
      "cell_type": "code",
      "metadata": {
        "id": "48-ty9fGBBR9",
        "colab_type": "code",
        "outputId": "d0a2c2e7-f091-469d-b2de-4d95d5df69f0",
        "colab": {
          "base_uri": "https://localhost:8080/",
          "height": 298
        }
      },
      "source": [
        "# Decision TREE: Gini\n",
        "tree_Gini = tree.DecisionTreeClassifier(max_depth = opt_depth, criterion = 'gini', random_state = SEED)\n",
        "tree_Gini = tree_Gini.fit(X_train, y_train)\n",
        "tree_Gini_pred = tree_Gini.predict(X_test)\n",
        "\n",
        "#metrics\n",
        "tree_acc = accuracy_score(tree_Gini_pred, y_test)\n",
        "tree_preci = precision_score(tree_Gini_pred, y_test, average = 'weighted')\n",
        "tree_sensitivity = recall_score(tree_Gini_pred, y_test, average = 'weighted')\n",
        "tree_f1 = f1_score(tree_Gini_pred, y_test, average = 'weighted')\n",
        "\n",
        "classification_metrics.loc[\"Tree Gini\"] = [tree_acc, tree_preci, tree_sensitivity, tree_f1]\n",
        "plot_confusion_matrix(tree_Gini, X_test, y_test, display_labels = levels, cmap = plt.cm.Blues, \n",
        "                      values_format = '0.2%',  normalize = 'true')"
      ],
      "execution_count": 47,
      "outputs": [
        {
          "output_type": "execute_result",
          "data": {
            "text/plain": [
              "<sklearn.metrics._plot.confusion_matrix.ConfusionMatrixDisplay at 0x7f6279f4a588>"
            ]
          },
          "metadata": {
            "tags": []
          },
          "execution_count": 47
        },
        {
          "output_type": "display_data",
          "data": {
            "image/png": "[encoded data removed]",
            "text/plain": [
              "<Figure size 432x288 with 2 Axes>"
            ]
          },
          "metadata": {
            "tags": [],
            "needs_background": "light"
          }
        }
      ]
    },
    {
      "cell_type": "markdown",
      "metadata": {
        "id": "mQhZdri-nUrm",
        "colab_type": "text"
      },
      "source": [
        "#### <a class=\"anchor\" id=\"fifth_3\">Random forest</a> \n",
        "\n",
        "As the name may suggest, the Random Forest classifier is obtained by parallelly using several decision tree at the same time.\n",
        "\n",
        "The general idea is to fit a (reasonably) large number of decision tree to different subsample and then let the majority to decide the label. Random forests are a solution that minimizes the overfitting of the training set compared to decision trees.\n",
        "\n",
        "As for the Decision tree, we will use either the Gini and the Entropy criterion."
      ]
    },
    {
      "cell_type": "code",
      "metadata": {
        "id": "ypXyUiq-lDPe",
        "colab_type": "code",
        "outputId": "2d0c9b87-3554-4d7d-b575-717bc9c9ef20",
        "colab": {
          "base_uri": "https://localhost:8080/",
          "height": 34
        }
      },
      "source": [
        "# Evaluating best parameters\n",
        "depth = np.arange(4, 20) \n",
        "parameters = {'max_depth': depth}\n",
        "clf = GridSearchCV(RandomForestClassifier(criterion = 'entropy', n_estimators = 100,\n",
        "                                          ), parameters, scoring = 'f1_weighted')\n",
        "clf = clf.fit(X_val, y_val)\n",
        "opt_depth = clf.best_params_['max_depth']\n",
        "print(\"The best parameters are %s with a score of %0.2f\" % (clf.best_params_, clf.best_score_))"
      ],
      "execution_count": 48,
      "outputs": [
        {
          "output_type": "stream",
          "text": [
            "The best parameters are {'max_depth': 19} with a score of 0.68\n"
          ],
          "name": "stdout"
        }
      ]
    },
    {
      "cell_type": "code",
      "metadata": {
        "id": "o5fjIZ1uHVMW",
        "colab_type": "code",
        "outputId": "ef8968ef-27f7-4627-ac3f-4cd89fe859ad",
        "colab": {
          "base_uri": "https://localhost:8080/",
          "height": 296
        }
      },
      "source": [
        "# Random forest - Entropy criterion\n",
        "forest_Entropy = RandomForestClassifier(max_depth = opt_depth, criterion = 'entropy', n_estimators = 100, random_state = SEED)\n",
        "forest_Entropy = forest_Entropy.fit(X_train, y_train)\n",
        "forest_Entropy_pred = forest_Entropy.predict(X_test)\n",
        "\n",
        "#metrics\n",
        "forest_acc = accuracy_score(forest_Entropy_pred, y_test)\n",
        "forest_preci = precision_score(forest_Entropy_pred, y_test, average = 'weighted')\n",
        "forest_sensitivity = recall_score(forest_Entropy_pred, y_test, average = 'weighted')\n",
        "forest_f1 = f1_score(forest_Entropy_pred, y_test, average = 'weighted')\n",
        "\n",
        "classification_metrics.loc[\"Forest Entropy\"] = [forest_acc,forest_preci,forest_sensitivity,forest_f1]\n",
        "plot_confusion_matrix(forest_Entropy, X_test, y_test, display_labels = levels,\n",
        "                      cmap = plt.cm.Blues, values_format = '0.2%', normalize = 'true')"
      ],
      "execution_count": 49,
      "outputs": [
        {
          "output_type": "execute_result",
          "data": {
            "text/plain": [
              "<sklearn.metrics._plot.confusion_matrix.ConfusionMatrixDisplay at 0x7f6278a2ae10>"
            ]
          },
          "metadata": {
            "tags": []
          },
          "execution_count": 49
        },
        {
          "output_type": "display_data",
          "data": {
            "image/png": "[encoded data removed]",
            "text/plain": [
              "<Figure size 432x288 with 2 Axes>"
            ]
          },
          "metadata": {
            "tags": [],
            "needs_background": "light"
          }
        }
      ]
    },
    {
      "cell_type": "code",
      "metadata": {
        "id": "Ua1l85Q1lyM7",
        "colab_type": "code",
        "outputId": "b4e6139c-7fee-4096-9298-1aad37f96463",
        "colab": {
          "base_uri": "https://localhost:8080/",
          "height": 34
        }
      },
      "source": [
        "# Evaluating best parameters\n",
        "depth = np.arange(4, 20) \n",
        "parameters = {'max_depth': depth}\n",
        "clf = GridSearchCV(RandomForestClassifier(criterion = 'gini', n_estimators = 100,\n",
        "                                          ), parameters, scoring = 'f1_weighted')\n",
        "clf = clf.fit(X_val, y_val)\n",
        "opt_depth = clf.best_params_['max_depth']\n",
        "print(\"The best parameters are %s with a score of %0.2f\" % (clf.best_params_, clf.best_score_))"
      ],
      "execution_count": 50,
      "outputs": [
        {
          "output_type": "stream",
          "text": [
            "The best parameters are {'max_depth': 11} with a score of 0.67\n"
          ],
          "name": "stdout"
        }
      ]
    },
    {
      "cell_type": "code",
      "metadata": {
        "id": "iLXCUpKeHrLC",
        "colab_type": "code",
        "outputId": "a614f780-b29a-498a-9545-dab24c3dd909",
        "colab": {
          "base_uri": "https://localhost:8080/",
          "height": 296
        }
      },
      "source": [
        "# Random forest - Gini criterion\n",
        "forest_Gini = RandomForestClassifier(max_depth = opt_depth, criterion = 'gini', n_estimators = 100, random_state = SEED)\n",
        "forest_Gini = forest_Gini.fit(X_train, y_train)\n",
        "forest_Gini_pred = forest_Gini.predict(X_test)\n",
        "\n",
        "#metrics\n",
        "forest_acc = accuracy_score(forest_Gini_pred, y_test)\n",
        "forest_preci = precision_score(forest_Gini_pred, y_test, average = 'weighted')\n",
        "forest_sensitivity = recall_score(forest_Gini_pred, y_test, average = 'weighted')\n",
        "forest_f1 = f1_score(forest_Gini_pred, y_test, average = 'weighted')\n",
        "\n",
        "classification_metrics.loc[\"Forest Gini\"] = [forest_acc,forest_preci,forest_sensitivity,forest_f1]\n",
        "plot_confusion_matrix(forest_Gini, X_test, y_test, display_labels = levels,\n",
        "                      cmap = plt.cm.Blues, values_format = '0.2%', normalize = 'true')"
      ],
      "execution_count": 51,
      "outputs": [
        {
          "output_type": "execute_result",
          "data": {
            "text/plain": [
              "<sklearn.metrics._plot.confusion_matrix.ConfusionMatrixDisplay at 0x7f62789d6630>"
            ]
          },
          "metadata": {
            "tags": []
          },
          "execution_count": 51
        },
        {
          "output_type": "display_data",
          "data": {
            "image/png": "[encoded data removed]",
            "text/plain": [
              "<Figure size 432x288 with 2 Axes>"
            ]
          },
          "metadata": {
            "tags": [],
            "needs_background": "light"
          }
        }
      ]
    },
    {
      "cell_type": "markdown",
      "metadata": {
        "id": "LJdfWc4HsMQG",
        "colab_type": "text"
      },
      "source": [
        "#### <a class=\"anchor\" id=\"fifth_4\">K Nearest neighbours</a> "
      ]
    },
    {
      "cell_type": "markdown",
      "metadata": {
        "id": "-8KuFxKmRaUV",
        "colab_type": "text"
      },
      "source": [
        "The K-nearest neighbors (KNN) is an algorithm used in the recognition of patterns for classifying objects based on the characteristics of the objects close to the one considered. It is one the simplest algorithms among those used in machine learning. A new point is categorized based on the similiraties of the $K$ data points that are the closest to it. The choice of the parameter $K$ depends on the characteristics of the data. Generally, as $K$ increases, the noise that compromises the classification is reduced, but the criterion of choice for the class becomes more rough. The choice can be made through heuristic techniques."
      ]
    },
    {
      "cell_type": "code",
      "metadata": {
        "id": "G66OmEyamES2",
        "colab_type": "code",
        "outputId": "d023f317-256a-491c-d261-2b35362c1086",
        "colab": {
          "base_uri": "https://localhost:8080/",
          "height": 34
        }
      },
      "source": [
        "# Evaluating best parameters\n",
        "neigh = np.arange(2, 20)\n",
        "parameters = {'n_neighbors': neigh}\n",
        "clf = GridSearchCV(KNeighborsClassifier(), parameters, scoring = 'f1_weighted')\n",
        "clf = clf.fit(X_val, y_val)\n",
        "opt_neigh = clf.best_params_['n_neighbors']\n",
        "print(\"The best parameters are %s with a score of %0.2f\" % (clf.best_params_, clf.best_score_))"
      ],
      "execution_count": 52,
      "outputs": [
        {
          "output_type": "stream",
          "text": [
            "The best parameters are {'n_neighbors': 3} with a score of 0.51\n"
          ],
          "name": "stdout"
        }
      ]
    },
    {
      "cell_type": "code",
      "metadata": {
        "id": "Kk4nhNyMO7bQ",
        "colab_type": "code",
        "outputId": "7de539cb-3fa3-4eb7-cd59-5d683bcbed40",
        "colab": {
          "base_uri": "https://localhost:8080/",
          "height": 296
        }
      },
      "source": [
        "# KNN\n",
        "knn = KNeighborsClassifier(opt_neigh)\n",
        "knn = knn.fit(X_train, y_train)\n",
        "neigh_predict = knn.predict(X_test)\n",
        "\n",
        "#metrics:\n",
        "neigh_acc = accuracy_score(neigh_predict, y_test)\n",
        "neigh_preci = precision_score(neigh_predict, y_test, average = 'weighted')\n",
        "neigh_sensitivity = recall_score(neigh_predict, y_test, average = 'weighted')\n",
        "neigh_f1 = f1_score(neigh_predict, y_test, average = 'weighted')\n",
        "\n",
        "classification_metrics.loc[\"KNN\"] = [neigh_acc,neigh_preci,neigh_sensitivity,neigh_f1]\n",
        "plot_confusion_matrix(knn, X_test, y_test, display_labels = levels,\n",
        "                      cmap = plt.cm.Blues, values_format = '0.2%', normalize = 'true')"
      ],
      "execution_count": 53,
      "outputs": [
        {
          "output_type": "execute_result",
          "data": {
            "text/plain": [
              "<sklearn.metrics._plot.confusion_matrix.ConfusionMatrixDisplay at 0x7f62789e8518>"
            ]
          },
          "metadata": {
            "tags": []
          },
          "execution_count": 53
        },
        {
          "output_type": "display_data",
          "data": {
            "image/png": "[encoded data removed]",
            "text/plain": [
              "<Figure size 432x288 with 2 Axes>"
            ]
          },
          "metadata": {
            "tags": [],
            "needs_background": "light"
          }
        }
      ]
    },
    {
      "cell_type": "markdown",
      "metadata": {
        "id": "i5-2oDuiuzBo",
        "colab_type": "text"
      },
      "source": [
        "#### <a class=\"anchor\" id=\"fifth_5\">Support vector machine</a> "
      ]
    },
    {
      "cell_type": "markdown",
      "metadata": {
        "id": "MQiKtCmXWT4r",
        "colab_type": "text"
      },
      "source": [
        "The basic Support-Vector Machine (SVM) model is linear: it finds the optimal hyperplane between the points of two classes such that the distance of the nearest points to the decision boundary is maximized.\n",
        "\n",
        "Clearly, it is not common to have a linear separation and SVM can be generalized.\n",
        "\n",
        "This generalization can be made by choosing a non-linear Kernel function to apply to the support vector machine.\n",
        "\n",
        "Linear support vector machine generally uses as linear kernel:$$ k({\\vec{x_i}},{\\vec{x_{j}}})={\\vec{x_{i}}}\\cdot{\\vec{x_{j}}}$$\n",
        "\n",
        "Probably the common non-lineare alternative is the Radial basis kernel:$${k({\\vec{x_i},\\vec{x_{j}}})=\\exp(-\\gamma \\|{\\vec {x_{i}}}-{\\vec {x_{j}}}\\|^{2})}$$where ${\\displaystyle \\gamma >0}$ is a parameter to chose. This is in fact the default kernel function in the library.\n",
        "\n",
        "Basically, the kernel maps the data into another space in which the class can be linearly separated, while in the original space, the boundary will in general be non linear."
      ]
    },
    {
      "cell_type": "code",
      "metadata": {
        "id": "YFdgfLLBmeYp",
        "colab_type": "code",
        "outputId": "b56bc7c7-9cbc-44ef-eb94-644ebb06508d",
        "colab": {
          "base_uri": "https://localhost:8080/",
          "height": 34
        }
      },
      "source": [
        "# Evaluating best parameters\n",
        "Cs = np.logspace(-1, 1, 10)\n",
        "parameters = {'C': Cs}\n",
        "clf = GridSearchCV(svm.SVC(kernel = \"rbf\", gamma = 'auto', random_state = SEED), \n",
        "                       parameters, scoring = 'f1_weighted')\n",
        "clf = clf.fit(X_val, y_val)\n",
        "opt_C = clf.best_params_['C']\n",
        "print(\"The best parameters are %s with a score of %0.2f\"\n",
        "      % (clf.best_params_, clf.best_score_))"
      ],
      "execution_count": 54,
      "outputs": [
        {
          "output_type": "stream",
          "text": [
            "The best parameters are {'C': 2.1544346900318834} with a score of 0.55\n"
          ],
          "name": "stdout"
        }
      ]
    },
    {
      "cell_type": "code",
      "metadata": {
        "id": "OODeQkrjH9P7",
        "colab_type": "code",
        "outputId": "fe5c235a-085d-4756-f7fa-aff188222492",
        "colab": {
          "base_uri": "https://localhost:8080/",
          "height": 296
        }
      },
      "source": [
        "# SVM\n",
        "svm_mod = svm.SVC(C = opt_C, kernel = \"rbf\", gamma = 'auto', random_state = SEED)\n",
        "svm_mod = svm_mod.fit(X_train, y_train)\n",
        "svm_mod_predict = svm_mod.predict(X_test)\n",
        "\n",
        "#metrics:\n",
        "svm_acc = accuracy_score(svm_mod_predict, y_test)\n",
        "svm_preci = precision_score(svm_mod_predict, y_test, average = 'weighted')\n",
        "svm_sensitivity = recall_score(svm_mod_predict, y_test, average = 'weighted')\n",
        "svm_f1 = f1_score(svm_mod_predict, y_test, average = 'weighted')\n",
        "\n",
        "classification_metrics.loc[\"SVM\"] = [svm_acc,svm_preci,svm_sensitivity,svm_f1]\n",
        "plot_confusion_matrix(svm_mod, X_test, y_test, display_labels = levels, cmap = plt.cm.Blues,\n",
        "                      values_format = '0.2%', normalize = 'true')"
      ],
      "execution_count": 55,
      "outputs": [
        {
          "output_type": "execute_result",
          "data": {
            "text/plain": [
              "<sklearn.metrics._plot.confusion_matrix.ConfusionMatrixDisplay at 0x7f6276c6cc88>"
            ]
          },
          "metadata": {
            "tags": []
          },
          "execution_count": 55
        },
        {
          "output_type": "display_data",
          "data": {
            "image/png": "[encoded data removed]",
            "text/plain": [
              "<Figure size 432x288 with 2 Axes>"
            ]
          },
          "metadata": {
            "tags": [],
            "needs_background": "light"
          }
        }
      ]
    },
    {
      "cell_type": "markdown",
      "metadata": {
        "id": "9t-2Vokc0OEY",
        "colab_type": "text"
      },
      "source": [
        "#### <a class=\"anchor\" id=\"fifth_6\">Model Comparison</a> "
      ]
    },
    {
      "cell_type": "code",
      "metadata": {
        "id": "tNn3j_n10Qh5",
        "colab_type": "code",
        "outputId": "105c29b7-a5e2-41ae-8c63-cf5ec28f942c",
        "colab": {
          "base_uri": "https://localhost:8080/",
          "height": 266
        }
      },
      "source": [
        "classification_metrics.sort_values('F1 Score')"
      ],
      "execution_count": 56,
      "outputs": [
        {
          "output_type": "execute_result",
          "data": {
            "text/html": [
              "<div>\n",
              "<style scoped>\n",
              "    .dataframe tbody tr th:only-of-type {\n",
              "        vertical-align: middle;\n",
              "    }\n",
              "\n",
              "    .dataframe tbody tr th {\n",
              "        vertical-align: top;\n",
              "    }\n",
              "\n",
              "    .dataframe thead th {\n",
              "        text-align: right;\n",
              "    }\n",
              "</style>\n",
              "<table border=\"1\" class=\"dataframe\">\n",
              "  <thead>\n",
              "    <tr style=\"text-align: right;\">\n",
              "      <th></th>\n",
              "      <th>Accuracy</th>\n",
              "      <th>Precision</th>\n",
              "      <th>Sensitivity</th>\n",
              "      <th>F1 Score</th>\n",
              "    </tr>\n",
              "  </thead>\n",
              "  <tbody>\n",
              "    <tr>\n",
              "      <th>KNN</th>\n",
              "      <td>0.509009</td>\n",
              "      <td>0.523298</td>\n",
              "      <td>0.509009</td>\n",
              "      <td>0.501912</td>\n",
              "    </tr>\n",
              "    <tr>\n",
              "      <th>SVM</th>\n",
              "      <td>0.540541</td>\n",
              "      <td>0.664410</td>\n",
              "      <td>0.540541</td>\n",
              "      <td>0.562196</td>\n",
              "    </tr>\n",
              "    <tr>\n",
              "      <th>Logistic regression</th>\n",
              "      <td>0.576577</td>\n",
              "      <td>0.580240</td>\n",
              "      <td>0.576577</td>\n",
              "      <td>0.576086</td>\n",
              "    </tr>\n",
              "    <tr>\n",
              "      <th>Tree Gini</th>\n",
              "      <td>0.653153</td>\n",
              "      <td>0.653262</td>\n",
              "      <td>0.653153</td>\n",
              "      <td>0.653190</td>\n",
              "    </tr>\n",
              "    <tr>\n",
              "      <th>Forest Entropy</th>\n",
              "      <td>0.675676</td>\n",
              "      <td>0.685149</td>\n",
              "      <td>0.675676</td>\n",
              "      <td>0.678553</td>\n",
              "    </tr>\n",
              "    <tr>\n",
              "      <th>Forest Gini</th>\n",
              "      <td>0.693694</td>\n",
              "      <td>0.704979</td>\n",
              "      <td>0.693694</td>\n",
              "      <td>0.696118</td>\n",
              "    </tr>\n",
              "    <tr>\n",
              "      <th>Tree Entropy</th>\n",
              "      <td>0.716216</td>\n",
              "      <td>0.723109</td>\n",
              "      <td>0.716216</td>\n",
              "      <td>0.718885</td>\n",
              "    </tr>\n",
              "  </tbody>\n",
              "</table>\n",
              "</div>"
            ],
            "text/plain": [
              "                     Accuracy  Precision  Sensitivity  F1 Score\n",
              "KNN                  0.509009   0.523298     0.509009  0.501912\n",
              "SVM                  0.540541   0.664410     0.540541  0.562196\n",
              "Logistic regression  0.576577   0.580240     0.576577  0.576086\n",
              "Tree Gini            0.653153   0.653262     0.653153  0.653190\n",
              "Forest Entropy       0.675676   0.685149     0.675676  0.678553\n",
              "Forest Gini          0.693694   0.704979     0.693694  0.696118\n",
              "Tree Entropy         0.716216   0.723109     0.716216  0.718885"
            ]
          },
          "metadata": {
            "tags": []
          },
          "execution_count": 56
        }
      ]
    },
    {
      "cell_type": "markdown",
      "metadata": {
        "id": "F8hLBygBWLHF",
        "colab_type": "text"
      },
      "source": [
        "Overall, considering the three classes and the unbalanced sets, we can conclude that the initial work on preprocessing, labeling and oversampling of data has paid off.\n",
        "\n",
        "Using SMOTE-based data, classification algorithms work pretty well.\n",
        "Trees and forests perform definitely better than the other classifiers.\n",
        "KNN behave significantly worse than the others.\n",
        "We also see that there is no more favorable criterion for the division of trees, Gini and Entropy perform quite similarly.\n"
      ]
    },
    {
      "cell_type": "markdown",
      "metadata": {
        "id": "_OqeN2FDeld6",
        "colab_type": "text"
      },
      "source": [
        "### 5.2 <a class=\"anchor\" id=\"fifth_2\">Binary classification</a>"
      ]
    },
    {
      "cell_type": "markdown",
      "metadata": {
        "id": "jRGvGbUh5epy",
        "colab_type": "text"
      },
      "source": [
        "Now we use a two-classes target, splitted by using the median value."
      ]
    },
    {
      "cell_type": "code",
      "metadata": {
        "id": "q-UT6XJpfAt1",
        "colab_type": "code",
        "outputId": "d48c77e8-c908-4892-aeec-91e79c3eaf06",
        "colab": {
          "base_uri": "https://localhost:8080/",
          "height": 266
        }
      },
      "source": [
        "binary_metrics = pd.DataFrame(columns=[\"Accuracy\", \"Precision\", \"Sensitivity\", \"F1 Score\"])\n",
        "\n",
        "# Logistic regression\n",
        "logistic = LogisticRegression(max_iter = 10000, random_state = SEED, solver = 'lbfgs')\n",
        "logistic.fit(Xbin_train, ybin_train)\n",
        "logistic_predict = logistic.predict(Xbin_test)\n",
        "logi_acc = accuracy_score(logistic_predict, ybin_test)\n",
        "logi_preci = precision_score(logistic_predict, ybin_test)\n",
        "logi_sensitivity = recall_score(logistic_predict, ybin_test)\n",
        "logi_f1 = f1_score(logistic_predict, ybin_test)\n",
        "binary_metrics.loc[\"Logistic regression\"] = [logi_acc,logi_preci,logi_sensitivity,logi_f1]\n",
        "\n",
        "depth = np.arange(4, 20) # for trees and forests\n",
        "parameters = {'max_depth': depth}\n",
        "# Decision Tree\n",
        "## Entropy criterion\n",
        "tree_Entropy = GridSearchCV(tree.DecisionTreeClassifier(criterion = 'entropy', random_state = SEED), parameters, scoring = 'f1')\n",
        "tree_Entropy = tree_Entropy.fit(Xbin_train, ybin_train)\n",
        "tree_Entropy_pred = tree_Entropy.predict(Xbin_test)\n",
        "tree_acc = accuracy_score(tree_Entropy_pred, ybin_test)\n",
        "tree_preci = precision_score(tree_Entropy_pred, ybin_test)\n",
        "tree_sensitivity = recall_score(tree_Entropy_pred, ybin_test)\n",
        "tree_f1 = f1_score(tree_Entropy_pred, ybin_test)\n",
        "binary_metrics.loc[\"Tree Entropy\"] = [tree_acc, tree_preci, tree_sensitivity, tree_f1]\n",
        "## Gini criterion\n",
        "tree_Gini = GridSearchCV(tree.DecisionTreeClassifier(criterion = 'gini', random_state = SEED), parameters, scoring = 'f1')\n",
        "tree_Gini = tree_Gini.fit(Xbin_train, ybin_train)\n",
        "tree_Gini_pred = tree_Gini.predict(Xbin_test)\n",
        "tree_acc = accuracy_score(tree_Gini_pred, ybin_test)\n",
        "tree_preci = precision_score(tree_Gini_pred, ybin_test)\n",
        "tree_sensitivity = recall_score(tree_Gini_pred, ybin_test)\n",
        "tree_f1 = f1_score(tree_Gini_pred, ybin_test)\n",
        "binary_metrics.loc[\"Tree Gini\"] = [tree_acc, tree_preci, tree_sensitivity, tree_f1]\n",
        "\n",
        "# Random forest\n",
        "parameters = {'max_depth': depth}\n",
        "## Entropy criterion\n",
        "forest_Entropy = GridSearchCV(RandomForestClassifier(n_estimators = 100, criterion = 'entropy', \n",
        "                                                     random_state = SEED), parameters, scoring = 'f1')\n",
        "forest_Entropy = forest_Entropy.fit(Xbin_train, ybin_train)\n",
        "forest_Entropy_pred = forest_Entropy.predict(Xbin_test)\n",
        "forest_acc = accuracy_score(forest_Entropy_pred, ybin_test)\n",
        "forest_preci = precision_score(forest_Entropy_pred, ybin_test)\n",
        "forest_sensitivity = recall_score(forest_Entropy_pred, ybin_test)\n",
        "forest_f1 = f1_score(forest_Entropy_pred, ybin_test)\n",
        "binary_metrics.loc[\"Forest Entropy\"] = [forest_acc,forest_preci,forest_sensitivity,forest_f1]\n",
        "## Gini criterion\n",
        "forest_Gini = GridSearchCV(RandomForestClassifier(n_estimators = 100, criterion = 'gini', \n",
        "                                                  random_state = SEED), parameters, scoring = 'f1')\n",
        "forest_Gini = forest_Gini.fit(Xbin_train, ybin_train)\n",
        "forest_Gini_pred = forest_Gini.predict(Xbin_test)\n",
        "forest_acc = accuracy_score(forest_Gini_pred, ybin_test)\n",
        "forest_preci = precision_score(forest_Gini_pred, ybin_test)\n",
        "forest_sensitivity = recall_score(forest_Gini_pred, ybin_test)\n",
        "forest_f1 = f1_score(forest_Gini_pred, ybin_test)\n",
        "binary_metrics.loc[\"Forest Gini\"] = [forest_acc,forest_preci,forest_sensitivity,forest_f1]\n",
        "\n",
        "# KNN\n",
        "neigh = np.arange(2, 20)\n",
        "parameters = {'n_neighbors': neigh}\n",
        "knn = GridSearchCV(KNeighborsClassifier(), parameters, scoring = 'f1')\n",
        "knn = knn.fit(Xbin_train, ybin_train)\n",
        "knn_predict = knn.predict(Xbin_test)\n",
        "neigh_acc = accuracy_score(knn_predict, ybin_test)\n",
        "neigh_preci = precision_score(knn_predict, ybin_test)\n",
        "neigh_sensitivity = recall_score(knn_predict, ybin_test)\n",
        "neigh_f1 = f1_score(knn_predict, ybin_test)\n",
        "binary_metrics.loc[\"KNN\"] = [neigh_acc,neigh_preci,neigh_sensitivity,neigh_f1]\n",
        "\n",
        "# SVM\n",
        "Cs = np.logspace(-2, 2, 8)\n",
        "parameters = {'C': Cs}\n",
        "svm_mod = GridSearchCV(svm.SVC(gamma = 'auto', kernel = \"rbf\", random_state = SEED), parameters, scoring = 'f1')\n",
        "svm_mod = svm_mod.fit(Xbin_train, ybin_train)\n",
        "svm_mod_predict = svm_mod.predict(Xbin_test)\n",
        "svm_acc = accuracy_score(svm_mod_predict, ybin_test)\n",
        "svm_preci = precision_score(svm_mod_predict, ybin_test)\n",
        "svm_sensitivity = recall_score(svm_mod_predict, ybin_test)\n",
        "svm_f1 = f1_score(svm_mod_predict, ybin_test)\n",
        "binary_metrics.loc[\"SVM\"] = [svm_acc,svm_preci,svm_sensitivity,svm_f1]\n",
        "\n",
        "# MODEL COMPARISON\n",
        "binary_metrics.sort_values('F1 Score')"
      ],
      "execution_count": 57,
      "outputs": [
        {
          "output_type": "execute_result",
          "data": {
            "text/html": [
              "<div>\n",
              "<style scoped>\n",
              "    .dataframe tbody tr th:only-of-type {\n",
              "        vertical-align: middle;\n",
              "    }\n",
              "\n",
              "    .dataframe tbody tr th {\n",
              "        vertical-align: top;\n",
              "    }\n",
              "\n",
              "    .dataframe thead th {\n",
              "        text-align: right;\n",
              "    }\n",
              "</style>\n",
              "<table border=\"1\" class=\"dataframe\">\n",
              "  <thead>\n",
              "    <tr style=\"text-align: right;\">\n",
              "      <th></th>\n",
              "      <th>Accuracy</th>\n",
              "      <th>Precision</th>\n",
              "      <th>Sensitivity</th>\n",
              "      <th>F1 Score</th>\n",
              "    </tr>\n",
              "  </thead>\n",
              "  <tbody>\n",
              "    <tr>\n",
              "      <th>Tree Gini</th>\n",
              "      <td>0.671171</td>\n",
              "      <td>0.654412</td>\n",
              "      <td>0.773913</td>\n",
              "      <td>0.709163</td>\n",
              "    </tr>\n",
              "    <tr>\n",
              "      <th>Tree Entropy</th>\n",
              "      <td>0.693694</td>\n",
              "      <td>0.735294</td>\n",
              "      <td>0.757576</td>\n",
              "      <td>0.746269</td>\n",
              "    </tr>\n",
              "    <tr>\n",
              "      <th>KNN</th>\n",
              "      <td>0.666667</td>\n",
              "      <td>0.816176</td>\n",
              "      <td>0.693750</td>\n",
              "      <td>0.750000</td>\n",
              "    </tr>\n",
              "    <tr>\n",
              "      <th>SVM</th>\n",
              "      <td>0.662162</td>\n",
              "      <td>0.852941</td>\n",
              "      <td>0.678363</td>\n",
              "      <td>0.755700</td>\n",
              "    </tr>\n",
              "    <tr>\n",
              "      <th>Logistic regression</th>\n",
              "      <td>0.657658</td>\n",
              "      <td>0.867647</td>\n",
              "      <td>0.670455</td>\n",
              "      <td>0.756410</td>\n",
              "    </tr>\n",
              "    <tr>\n",
              "      <th>Forest Gini</th>\n",
              "      <td>0.761261</td>\n",
              "      <td>0.852941</td>\n",
              "      <td>0.778523</td>\n",
              "      <td>0.814035</td>\n",
              "    </tr>\n",
              "    <tr>\n",
              "      <th>Forest Entropy</th>\n",
              "      <td>0.761261</td>\n",
              "      <td>0.867647</td>\n",
              "      <td>0.771242</td>\n",
              "      <td>0.816609</td>\n",
              "    </tr>\n",
              "  </tbody>\n",
              "</table>\n",
              "</div>"
            ],
            "text/plain": [
              "                     Accuracy  Precision  Sensitivity  F1 Score\n",
              "Tree Gini            0.671171   0.654412     0.773913  0.709163\n",
              "Tree Entropy         0.693694   0.735294     0.757576  0.746269\n",
              "KNN                  0.666667   0.816176     0.693750  0.750000\n",
              "SVM                  0.662162   0.852941     0.678363  0.755700\n",
              "Logistic regression  0.657658   0.867647     0.670455  0.756410\n",
              "Forest Gini          0.761261   0.852941     0.778523  0.814035\n",
              "Forest Entropy       0.761261   0.867647     0.771242  0.816609"
            ]
          },
          "metadata": {
            "tags": []
          },
          "execution_count": 57
        }
      ]
    },
    {
      "cell_type": "markdown",
      "metadata": {
        "id": "Bj-sd1NU54OU",
        "colab_type": "text"
      },
      "source": [
        "By using this configuration settings, all models perform well.\n",
        "We see that with this choice of parameters we have a high level of precision, while the accuracy remains somewhat lower. It is often appropiate to use *F1 Score* as a comparing measure, as it is a composed metrics that consider all of the other metrics. \n",
        "\n",
        "In general, we can manage a trade off between accuracy and precision: we could choose the classifier parameters in order to privilege one of that, depending on whether we prefer to have false positives or false negatives. For example, a company may wish to take into account the risk of someone being absent even if this is very low. All of this can be easily performed by considering it in the validation step."
      ]
    },
    {
      "cell_type": "markdown",
      "metadata": {
        "id": "Y_Ja-i2Zkl4E",
        "colab_type": "text"
      },
      "source": [
        "### 5.3 <a class=\"anchor\" id=\"fifth_3\"> Feature importance</a> \n",
        "Random Forest with Gini criterion is one the best classification model.\n",
        "We use it for extracting information on the features: let's rank their importance."
      ]
    },
    {
      "cell_type": "code",
      "metadata": {
        "id": "diXJvYWbj0lK",
        "colab_type": "code",
        "outputId": "8f477603-14ef-49c4-ee43-2f70197cfcfc",
        "colab": {
          "base_uri": "https://localhost:8080/",
          "height": 374
        }
      },
      "source": [
        "# Feature importance\n",
        "forest_Entropy = RandomForestClassifier(criterion = 'gini', max_depth = 18,\n",
        "                                        n_estimators = 100, random_state = SEED)\n",
        "forest_Entropy = forest_Entropy.fit(X, ylabel)\n",
        "ax = (pd.Series(forest_Entropy.feature_importances_, index = X.columns)\n",
        "   .nsmallest(20)\n",
        "   .plot(kind='barh', figsize=(8,6)))\n",
        "plt.show()"
      ],
      "execution_count": 58,
      "outputs": [
        {
          "output_type": "display_data",
          "data": {
            "image/png": "[encoded data removed]",
            "text/plain": [
              "<Figure size 576x432 with 1 Axes>"
            ]
          },
          "metadata": {
            "tags": [],
            "needs_background": "light"
          }
        }
      ]
    },
    {
      "cell_type": "markdown",
      "metadata": {
        "id": "3bSFza3lJhOF",
        "colab_type": "text"
      },
      "source": [
        "#### Reason of absence"
      ]
    },
    {
      "cell_type": "markdown",
      "metadata": {
        "id": "4GmBC3tlzyyw",
        "colab_type": "text"
      },
      "source": [
        "The most importance feature is *Reason of absence*. Let's analyze which reasons are most related to each level of absence."
      ]
    },
    {
      "cell_type": "code",
      "metadata": {
        "id": "hbL-RoVqyQ8B",
        "colab_type": "code",
        "outputId": "fae4ccae-aea8-43ac-b00b-b710736b57ce",
        "colab": {
          "base_uri": "https://localhost:8080/",
          "height": 541
        }
      },
      "source": [
        "# Distribution of reasons for each level of absence\n",
        "fig, (late, hours) = plt.subplots(nrows = 1, ncols = 2, figsize = (12, 4))\n",
        "fig, days = plt.subplots(nrows = 1, ncols = 1, figsize = (6, 4))\n",
        "for lev in levels:\n",
        "  reason_lev = ds_explore[ds['abs_lev'] == lev].loc[:,'reason']\n",
        "  if(lev == 'late'):\n",
        "    ax = late\n",
        "  if(lev == 'hours'):\n",
        "    ax = hours\n",
        "  if(lev == 'days'):\n",
        "    ax = days\n",
        "  ax.hist(reason_lev, bins, rwidth = 0.8)\n",
        "  ax.set_xlabel('Reason of absence')\n",
        "  ax.set_ylabel('Frequency for level: ' + lev)"
      ],
      "execution_count": 59,
      "outputs": [
        {
          "output_type": "display_data",
          "data": {
            "image/png": "[encoded data removed]",
            "text/plain": [
              "<Figure size 864x288 with 2 Axes>"
            ]
          },
          "metadata": {
            "tags": [],
            "needs_background": "light"
          }
        },
        {
          "output_type": "display_data",
          "data": {
            "image/png": "[encoded data removed]",
            "text/plain": [
              "<Figure size 432x288 with 1 Axes>"
            ]
          },
          "metadata": {
            "tags": [],
            "needs_background": "light"
          }
        }
      ]
    },
    {
      "cell_type": "markdown",
      "metadata": {
        "id": "INGqhb-GGXyh",
        "colab_type": "text"
      },
      "source": [
        "Recalling the coding on the reasons for absence reported at the beginning, we note for example that practically all absences whit *reason* = 0 (i.e. Not available) refer to late. We had already noticed this in the Data Preprocessing section. \n",
        "\n",
        "We also notice that the *Reason of absence codes* for *hours* are mainly distributed from 22 to 28, corresponding to no International Code of Diseases (ICD), i.e. not illnesses or insults, but check-ups, medical consultations and others.\n",
        "\n",
        "On the contrary, for absences of a day or more, the reason is often a serious medical problem.\n",
        "\n",
        "Let's see, for each *Reason*, how records are distribuited among the levels of absence."
      ]
    },
    {
      "cell_type": "code",
      "metadata": {
        "id": "UME-yvp2BMb3",
        "colab_type": "code",
        "outputId": "06ad25d7-9efa-4fc8-9a74-e4f1beaecd85",
        "colab": {
          "base_uri": "https://localhost:8080/",
          "height": 948
        }
      },
      "source": [
        "reason_abs_lev = ds.groupby('reason_text')['abs_lev'].value_counts().unstack().fillna(0).astype(int)\n",
        "reason_abs_lev"
      ],
      "execution_count": 60,
      "outputs": [
        {
          "output_type": "execute_result",
          "data": {
            "text/html": [
              "<div>\n",
              "<style scoped>\n",
              "    .dataframe tbody tr th:only-of-type {\n",
              "        vertical-align: middle;\n",
              "    }\n",
              "\n",
              "    .dataframe tbody tr th {\n",
              "        vertical-align: top;\n",
              "    }\n",
              "\n",
              "    .dataframe thead th {\n",
              "        text-align: right;\n",
              "    }\n",
              "</style>\n",
              "<table border=\"1\" class=\"dataframe\">\n",
              "  <thead>\n",
              "    <tr style=\"text-align: right;\">\n",
              "      <th>abs_lev</th>\n",
              "      <th>days</th>\n",
              "      <th>hours</th>\n",
              "      <th>late</th>\n",
              "    </tr>\n",
              "    <tr>\n",
              "      <th>reason_text</th>\n",
              "      <th></th>\n",
              "      <th></th>\n",
              "      <th></th>\n",
              "    </tr>\n",
              "  </thead>\n",
              "  <tbody>\n",
              "    <tr>\n",
              "      <th>Blood donation</th>\n",
              "      <td>3</td>\n",
              "      <td>0</td>\n",
              "      <td>0</td>\n",
              "    </tr>\n",
              "    <tr>\n",
              "      <th>Certain conditions originating in the perinatal period</th>\n",
              "      <td>0</td>\n",
              "      <td>2</td>\n",
              "      <td>1</td>\n",
              "    </tr>\n",
              "    <tr>\n",
              "      <th>Certain infectious and parasitic diseases</th>\n",
              "      <td>14</td>\n",
              "      <td>1</td>\n",
              "      <td>1</td>\n",
              "    </tr>\n",
              "    <tr>\n",
              "      <th>Congenital malformations, deformations and chromosomal abnormalities</th>\n",
              "      <td>1</td>\n",
              "      <td>0</td>\n",
              "      <td>0</td>\n",
              "    </tr>\n",
              "    <tr>\n",
              "      <th>Dental consultation</th>\n",
              "      <td>8</td>\n",
              "      <td>76</td>\n",
              "      <td>28</td>\n",
              "    </tr>\n",
              "    <tr>\n",
              "      <th>Diseases of the blood and blood-forming organs and certain disorders involving the immune mechanism</th>\n",
              "      <td>1</td>\n",
              "      <td>0</td>\n",
              "      <td>0</td>\n",
              "    </tr>\n",
              "    <tr>\n",
              "      <th>Diseases of the circulatory system</th>\n",
              "      <td>4</td>\n",
              "      <td>0</td>\n",
              "      <td>0</td>\n",
              "    </tr>\n",
              "    <tr>\n",
              "      <th>Diseases of the digestive system</th>\n",
              "      <td>14</td>\n",
              "      <td>7</td>\n",
              "      <td>5</td>\n",
              "    </tr>\n",
              "    <tr>\n",
              "      <th>Diseases of the ear and mastoid process</th>\n",
              "      <td>3</td>\n",
              "      <td>3</td>\n",
              "      <td>0</td>\n",
              "    </tr>\n",
              "    <tr>\n",
              "      <th>Diseases of the eye and adnexa</th>\n",
              "      <td>8</td>\n",
              "      <td>6</td>\n",
              "      <td>1</td>\n",
              "    </tr>\n",
              "    <tr>\n",
              "      <th>Diseases of the genitourinary system</th>\n",
              "      <td>9</td>\n",
              "      <td>10</td>\n",
              "      <td>0</td>\n",
              "    </tr>\n",
              "    <tr>\n",
              "      <th>Diseases of the musculoskeletal system and connective tissue</th>\n",
              "      <td>38</td>\n",
              "      <td>11</td>\n",
              "      <td>6</td>\n",
              "    </tr>\n",
              "    <tr>\n",
              "      <th>Diseases of the nervous system</th>\n",
              "      <td>7</td>\n",
              "      <td>1</td>\n",
              "      <td>0</td>\n",
              "    </tr>\n",
              "    <tr>\n",
              "      <th>Diseases of the respiratory system</th>\n",
              "      <td>21</td>\n",
              "      <td>4</td>\n",
              "      <td>0</td>\n",
              "    </tr>\n",
              "    <tr>\n",
              "      <th>Diseases of the skin and subcutaneous tissue</th>\n",
              "      <td>4</td>\n",
              "      <td>3</td>\n",
              "      <td>1</td>\n",
              "    </tr>\n",
              "    <tr>\n",
              "      <th>Endocrine, nutritional and metabolic diseases</th>\n",
              "      <td>1</td>\n",
              "      <td>0</td>\n",
              "      <td>1</td>\n",
              "    </tr>\n",
              "    <tr>\n",
              "      <th>Factors influencing health status and contact with health services</th>\n",
              "      <td>4</td>\n",
              "      <td>1</td>\n",
              "      <td>1</td>\n",
              "    </tr>\n",
              "    <tr>\n",
              "      <th>Injury, poisoning and certain other consequences of external causes</th>\n",
              "      <td>33</td>\n",
              "      <td>6</td>\n",
              "      <td>1</td>\n",
              "    </tr>\n",
              "    <tr>\n",
              "      <th>Laboratory examination</th>\n",
              "      <td>5</td>\n",
              "      <td>25</td>\n",
              "      <td>1</td>\n",
              "    </tr>\n",
              "    <tr>\n",
              "      <th>Medical consultation</th>\n",
              "      <td>13</td>\n",
              "      <td>98</td>\n",
              "      <td>38</td>\n",
              "    </tr>\n",
              "    <tr>\n",
              "      <th>Mental and behavioural disorders</th>\n",
              "      <td>2</td>\n",
              "      <td>1</td>\n",
              "      <td>0</td>\n",
              "    </tr>\n",
              "    <tr>\n",
              "      <th>Neoplasms</th>\n",
              "      <td>1</td>\n",
              "      <td>0</td>\n",
              "      <td>0</td>\n",
              "    </tr>\n",
              "    <tr>\n",
              "      <th>Not available</th>\n",
              "      <td>0</td>\n",
              "      <td>0</td>\n",
              "      <td>40</td>\n",
              "    </tr>\n",
              "    <tr>\n",
              "      <th>Patient follow-up</th>\n",
              "      <td>34</td>\n",
              "      <td>4</td>\n",
              "      <td>0</td>\n",
              "    </tr>\n",
              "    <tr>\n",
              "      <th>Physiotherapy</th>\n",
              "      <td>0</td>\n",
              "      <td>66</td>\n",
              "      <td>3</td>\n",
              "    </tr>\n",
              "    <tr>\n",
              "      <th>Pregnancy, childbirth and the puerperium</th>\n",
              "      <td>2</td>\n",
              "      <td>0</td>\n",
              "      <td>0</td>\n",
              "    </tr>\n",
              "    <tr>\n",
              "      <th>Symptoms, signs and abnormal clinical and laboratory findings, not elsewhere classified</th>\n",
              "      <td>17</td>\n",
              "      <td>3</td>\n",
              "      <td>1</td>\n",
              "    </tr>\n",
              "    <tr>\n",
              "      <th>Unjustified absence</th>\n",
              "      <td>25</td>\n",
              "      <td>8</td>\n",
              "      <td>0</td>\n",
              "    </tr>\n",
              "  </tbody>\n",
              "</table>\n",
              "</div>"
            ],
            "text/plain": [
              "abs_lev                                             days  hours  late\n",
              "reason_text                                                          \n",
              "Blood donation                                         3      0     0\n",
              "Certain conditions originating in the perinatal...     0      2     1\n",
              "Certain infectious and parasitic diseases             14      1     1\n",
              "Congenital malformations, deformations and chro...     1      0     0\n",
              "Dental consultation                                    8     76    28\n",
              "Diseases of the blood and blood-forming organs ...     1      0     0\n",
              "Diseases of the circulatory system                     4      0     0\n",
              "Diseases of the digestive system                      14      7     5\n",
              "Diseases of the ear and mastoid process                3      3     0\n",
              "Diseases of the eye and adnexa                         8      6     1\n",
              "Diseases of the genitourinary system                   9     10     0\n",
              "Diseases of the musculoskeletal system and conn...    38     11     6\n",
              "Diseases of the nervous system                         7      1     0\n",
              "Diseases of the respiratory system                    21      4     0\n",
              "Diseases of the skin and subcutaneous tissue           4      3     1\n",
              "Endocrine, nutritional and metabolic diseases          1      0     1\n",
              "Factors influencing health status and contact w...     4      1     1\n",
              "Injury, poisoning and certain other consequence...    33      6     1\n",
              "Laboratory examination                                 5     25     1\n",
              "Medical consultation                                  13     98    38\n",
              "Mental and behavioural disorders                       2      1     0\n",
              "Neoplasms                                              1      0     0\n",
              "Not available                                          0      0    40\n",
              "Patient follow-up                                     34      4     0\n",
              "Physiotherapy                                          0     66     3\n",
              "Pregnancy, childbirth and the puerperium               2      0     0\n",
              "Symptoms, signs and abnormal clinical and labor...    17      3     1\n",
              "Unjustified absence                                   25      8     0"
            ]
          },
          "metadata": {
            "tags": []
          },
          "execution_count": 60
        }
      ]
    },
    {
      "cell_type": "code",
      "metadata": {
        "id": "kC5Nn89LICfv",
        "colab_type": "code",
        "outputId": "f4f4f33a-f5d9-4083-d996-66aeb3484028",
        "colab": {
          "base_uri": "https://localhost:8080/",
          "height": 235
        }
      },
      "source": [
        "# Main absence for abs_lev = late\n",
        "reason_abs_lev.sort_values(by = ['late'], ascending = False).head()"
      ],
      "execution_count": 61,
      "outputs": [
        {
          "output_type": "execute_result",
          "data": {
            "text/html": [
              "<div>\n",
              "<style scoped>\n",
              "    .dataframe tbody tr th:only-of-type {\n",
              "        vertical-align: middle;\n",
              "    }\n",
              "\n",
              "    .dataframe tbody tr th {\n",
              "        vertical-align: top;\n",
              "    }\n",
              "\n",
              "    .dataframe thead th {\n",
              "        text-align: right;\n",
              "    }\n",
              "</style>\n",
              "<table border=\"1\" class=\"dataframe\">\n",
              "  <thead>\n",
              "    <tr style=\"text-align: right;\">\n",
              "      <th>abs_lev</th>\n",
              "      <th>days</th>\n",
              "      <th>hours</th>\n",
              "      <th>late</th>\n",
              "    </tr>\n",
              "    <tr>\n",
              "      <th>reason_text</th>\n",
              "      <th></th>\n",
              "      <th></th>\n",
              "      <th></th>\n",
              "    </tr>\n",
              "  </thead>\n",
              "  <tbody>\n",
              "    <tr>\n",
              "      <th>Not available</th>\n",
              "      <td>0</td>\n",
              "      <td>0</td>\n",
              "      <td>40</td>\n",
              "    </tr>\n",
              "    <tr>\n",
              "      <th>Medical consultation</th>\n",
              "      <td>13</td>\n",
              "      <td>98</td>\n",
              "      <td>38</td>\n",
              "    </tr>\n",
              "    <tr>\n",
              "      <th>Dental consultation</th>\n",
              "      <td>8</td>\n",
              "      <td>76</td>\n",
              "      <td>28</td>\n",
              "    </tr>\n",
              "    <tr>\n",
              "      <th>Diseases of the musculoskeletal system and connective tissue</th>\n",
              "      <td>38</td>\n",
              "      <td>11</td>\n",
              "      <td>6</td>\n",
              "    </tr>\n",
              "    <tr>\n",
              "      <th>Diseases of the digestive system</th>\n",
              "      <td>14</td>\n",
              "      <td>7</td>\n",
              "      <td>5</td>\n",
              "    </tr>\n",
              "  </tbody>\n",
              "</table>\n",
              "</div>"
            ],
            "text/plain": [
              "abs_lev                                             days  hours  late\n",
              "reason_text                                                          \n",
              "Not available                                          0      0    40\n",
              "Medical consultation                                  13     98    38\n",
              "Dental consultation                                    8     76    28\n",
              "Diseases of the musculoskeletal system and conn...    38     11     6\n",
              "Diseases of the digestive system                      14      7     5"
            ]
          },
          "metadata": {
            "tags": []
          },
          "execution_count": 61
        }
      ]
    },
    {
      "cell_type": "code",
      "metadata": {
        "id": "EIWi4AEGMPmz",
        "colab_type": "code",
        "outputId": "db5659b9-8a61-499d-9b62-0ab512e9b9a3",
        "colab": {
          "base_uri": "https://localhost:8080/",
          "height": 235
        }
      },
      "source": [
        "# Main absence for abs_lev = hours\n",
        "reason_abs_lev.sort_values(by = ['hours'], ascending = False).head()"
      ],
      "execution_count": 62,
      "outputs": [
        {
          "output_type": "execute_result",
          "data": {
            "text/html": [
              "<div>\n",
              "<style scoped>\n",
              "    .dataframe tbody tr th:only-of-type {\n",
              "        vertical-align: middle;\n",
              "    }\n",
              "\n",
              "    .dataframe tbody tr th {\n",
              "        vertical-align: top;\n",
              "    }\n",
              "\n",
              "    .dataframe thead th {\n",
              "        text-align: right;\n",
              "    }\n",
              "</style>\n",
              "<table border=\"1\" class=\"dataframe\">\n",
              "  <thead>\n",
              "    <tr style=\"text-align: right;\">\n",
              "      <th>abs_lev</th>\n",
              "      <th>days</th>\n",
              "      <th>hours</th>\n",
              "      <th>late</th>\n",
              "    </tr>\n",
              "    <tr>\n",
              "      <th>reason_text</th>\n",
              "      <th></th>\n",
              "      <th></th>\n",
              "      <th></th>\n",
              "    </tr>\n",
              "  </thead>\n",
              "  <tbody>\n",
              "    <tr>\n",
              "      <th>Medical consultation</th>\n",
              "      <td>13</td>\n",
              "      <td>98</td>\n",
              "      <td>38</td>\n",
              "    </tr>\n",
              "    <tr>\n",
              "      <th>Dental consultation</th>\n",
              "      <td>8</td>\n",
              "      <td>76</td>\n",
              "      <td>28</td>\n",
              "    </tr>\n",
              "    <tr>\n",
              "      <th>Physiotherapy</th>\n",
              "      <td>0</td>\n",
              "      <td>66</td>\n",
              "      <td>3</td>\n",
              "    </tr>\n",
              "    <tr>\n",
              "      <th>Laboratory examination</th>\n",
              "      <td>5</td>\n",
              "      <td>25</td>\n",
              "      <td>1</td>\n",
              "    </tr>\n",
              "    <tr>\n",
              "      <th>Diseases of the musculoskeletal system and connective tissue</th>\n",
              "      <td>38</td>\n",
              "      <td>11</td>\n",
              "      <td>6</td>\n",
              "    </tr>\n",
              "  </tbody>\n",
              "</table>\n",
              "</div>"
            ],
            "text/plain": [
              "abs_lev                                             days  hours  late\n",
              "reason_text                                                          \n",
              "Medical consultation                                  13     98    38\n",
              "Dental consultation                                    8     76    28\n",
              "Physiotherapy                                          0     66     3\n",
              "Laboratory examination                                 5     25     1\n",
              "Diseases of the musculoskeletal system and conn...    38     11     6"
            ]
          },
          "metadata": {
            "tags": []
          },
          "execution_count": 62
        }
      ]
    },
    {
      "cell_type": "code",
      "metadata": {
        "id": "NcG4WHIdMTb_",
        "colab_type": "code",
        "outputId": "e651762c-b7e9-4c6b-b2d2-d7a567816467",
        "colab": {
          "base_uri": "https://localhost:8080/",
          "height": 235
        }
      },
      "source": [
        "# Main absence for abs_lev = days\n",
        "reason_abs_lev.sort_values(by = ['days'], ascending = False).head()"
      ],
      "execution_count": 63,
      "outputs": [
        {
          "output_type": "execute_result",
          "data": {
            "text/html": [
              "<div>\n",
              "<style scoped>\n",
              "    .dataframe tbody tr th:only-of-type {\n",
              "        vertical-align: middle;\n",
              "    }\n",
              "\n",
              "    .dataframe tbody tr th {\n",
              "        vertical-align: top;\n",
              "    }\n",
              "\n",
              "    .dataframe thead th {\n",
              "        text-align: right;\n",
              "    }\n",
              "</style>\n",
              "<table border=\"1\" class=\"dataframe\">\n",
              "  <thead>\n",
              "    <tr style=\"text-align: right;\">\n",
              "      <th>abs_lev</th>\n",
              "      <th>days</th>\n",
              "      <th>hours</th>\n",
              "      <th>late</th>\n",
              "    </tr>\n",
              "    <tr>\n",
              "      <th>reason_text</th>\n",
              "      <th></th>\n",
              "      <th></th>\n",
              "      <th></th>\n",
              "    </tr>\n",
              "  </thead>\n",
              "  <tbody>\n",
              "    <tr>\n",
              "      <th>Diseases of the musculoskeletal system and connective tissue</th>\n",
              "      <td>38</td>\n",
              "      <td>11</td>\n",
              "      <td>6</td>\n",
              "    </tr>\n",
              "    <tr>\n",
              "      <th>Patient follow-up</th>\n",
              "      <td>34</td>\n",
              "      <td>4</td>\n",
              "      <td>0</td>\n",
              "    </tr>\n",
              "    <tr>\n",
              "      <th>Injury, poisoning and certain other consequences of external causes</th>\n",
              "      <td>33</td>\n",
              "      <td>6</td>\n",
              "      <td>1</td>\n",
              "    </tr>\n",
              "    <tr>\n",
              "      <th>Unjustified absence</th>\n",
              "      <td>25</td>\n",
              "      <td>8</td>\n",
              "      <td>0</td>\n",
              "    </tr>\n",
              "    <tr>\n",
              "      <th>Diseases of the respiratory system</th>\n",
              "      <td>21</td>\n",
              "      <td>4</td>\n",
              "      <td>0</td>\n",
              "    </tr>\n",
              "  </tbody>\n",
              "</table>\n",
              "</div>"
            ],
            "text/plain": [
              "abs_lev                                             days  hours  late\n",
              "reason_text                                                          \n",
              "Diseases of the musculoskeletal system and conn...    38     11     6\n",
              "Patient follow-up                                     34      4     0\n",
              "Injury, poisoning and certain other consequence...    33      6     1\n",
              "Unjustified absence                                   25      8     0\n",
              "Diseases of the respiratory system                    21      4     0"
            ]
          },
          "metadata": {
            "tags": []
          },
          "execution_count": 63
        }
      ]
    },
    {
      "cell_type": "markdown",
      "metadata": {
        "id": "nc0JBsV-Mlps",
        "colab_type": "text"
      },
      "source": [
        "#### Day of the week\n",
        "The day of the week is the second most importance feature."
      ]
    },
    {
      "cell_type": "code",
      "metadata": {
        "id": "bEsjjtSoMogQ",
        "colab_type": "code",
        "outputId": "0339fcb5-73c3-4f19-cbad-3e578f001d51",
        "colab": {
          "base_uri": "https://localhost:8080/",
          "height": 541
        }
      },
      "source": [
        "# Distribution of days for level of absence\n",
        "\n",
        "fig, (late, hours) = plt.subplots(nrows = 1, ncols = 2, figsize = (10, 4))\n",
        "fig, days = plt.subplots(nrows = 1, ncols = 1, figsize = (5, 4))\n",
        "for lev in levels:\n",
        "  days_lev = ds_explore[ds['abs_lev'] == lev].loc[:,'day_name']\n",
        "  if(lev == 'late'):\n",
        "    ax = late\n",
        "  if(lev == 'hours'):\n",
        "    ax = hours\n",
        "  if(lev == 'days'):\n",
        "    ax = days\n",
        "  ax.hist(sorted(days_lev), rwidth = 1)\n",
        "  ax.set_xlabel('Day of absence')\n",
        "  ax.set_ylabel('Frequency for level: ' + lev)"
      ],
      "execution_count": 64,
      "outputs": [
        {
          "output_type": "display_data",
          "data": {
            "image/png": "[encoded data removed]",
            "text/plain": [
              "<Figure size 720x288 with 2 Axes>"
            ]
          },
          "metadata": {
            "tags": [],
            "needs_background": "light"
          }
        },
        {
          "output_type": "display_data",
          "data": {
            "image/png": "[encoded data removed]",
            "text/plain": [
              "<Figure size 360x288 with 1 Axes>"
            ]
          },
          "metadata": {
            "tags": [],
            "needs_background": "light"
          }
        }
      ]
    },
    {
      "cell_type": "code",
      "metadata": {
        "id": "EVE7qyBSNf0R",
        "colab_type": "code",
        "outputId": "a455e5a7-eb1f-419b-c655-647bcb00fec5",
        "colab": {
          "base_uri": "https://localhost:8080/",
          "height": 235
        }
      },
      "source": [
        "days_abs_lev = ds.groupby('day_name')['abs_lev'].value_counts().unstack().fillna(0).astype(int)\n",
        "days_abs_lev"
      ],
      "execution_count": 65,
      "outputs": [
        {
          "output_type": "execute_result",
          "data": {
            "text/html": [
              "<div>\n",
              "<style scoped>\n",
              "    .dataframe tbody tr th:only-of-type {\n",
              "        vertical-align: middle;\n",
              "    }\n",
              "\n",
              "    .dataframe tbody tr th {\n",
              "        vertical-align: top;\n",
              "    }\n",
              "\n",
              "    .dataframe thead th {\n",
              "        text-align: right;\n",
              "    }\n",
              "</style>\n",
              "<table border=\"1\" class=\"dataframe\">\n",
              "  <thead>\n",
              "    <tr style=\"text-align: right;\">\n",
              "      <th>abs_lev</th>\n",
              "      <th>days</th>\n",
              "      <th>hours</th>\n",
              "      <th>late</th>\n",
              "    </tr>\n",
              "    <tr>\n",
              "      <th>day_name</th>\n",
              "      <th></th>\n",
              "      <th></th>\n",
              "      <th></th>\n",
              "    </tr>\n",
              "  </thead>\n",
              "  <tbody>\n",
              "    <tr>\n",
              "      <th>Fri</th>\n",
              "      <td>42</td>\n",
              "      <td>81</td>\n",
              "      <td>20</td>\n",
              "    </tr>\n",
              "    <tr>\n",
              "      <th>Mon</th>\n",
              "      <td>76</td>\n",
              "      <td>62</td>\n",
              "      <td>23</td>\n",
              "    </tr>\n",
              "    <tr>\n",
              "      <th>Thu</th>\n",
              "      <td>36</td>\n",
              "      <td>64</td>\n",
              "      <td>25</td>\n",
              "    </tr>\n",
              "    <tr>\n",
              "      <th>Tue</th>\n",
              "      <td>58</td>\n",
              "      <td>60</td>\n",
              "      <td>35</td>\n",
              "    </tr>\n",
              "    <tr>\n",
              "      <th>Wed</th>\n",
              "      <td>60</td>\n",
              "      <td>69</td>\n",
              "      <td>26</td>\n",
              "    </tr>\n",
              "  </tbody>\n",
              "</table>\n",
              "</div>"
            ],
            "text/plain": [
              "abs_lev   days  hours  late\n",
              "day_name                   \n",
              "Fri         42     81    20\n",
              "Mon         76     62    23\n",
              "Thu         36     64    25\n",
              "Tue         58     60    35\n",
              "Wed         60     69    26"
            ]
          },
          "metadata": {
            "tags": []
          },
          "execution_count": 65
        }
      ]
    },
    {
      "cell_type": "markdown",
      "metadata": {
        "id": "tAT2M1I6OwuO",
        "colab_type": "text"
      },
      "source": [
        "#### Work load\n"
      ]
    },
    {
      "cell_type": "code",
      "metadata": {
        "id": "TPlQsiAjK2AN",
        "colab_type": "code",
        "colab": {
          "base_uri": "https://localhost:8080/",
          "height": 281
        },
        "outputId": "3dd3d8bd-df36-43b1-9964-776a8733bcb2"
      },
      "source": [
        "# Distribution of work load for each level of absence\n",
        "for lev in levels:\n",
        "  wload_lev = ds_explore[ds['abs_lev'] == lev].loc[:,'work_load']\n",
        "  sns.kdeplot(wload_lev, label = lev, shade = True,\n",
        "              ).set_title('Distribution of work load for each level of absence')"
      ],
      "execution_count": 66,
      "outputs": [
        {
          "output_type": "display_data",
          "data": {
            "image/png": "[encoded data removed]",
            "text/plain": [
              "<Figure size 432x288 with 1 Axes>"
            ]
          },
          "metadata": {
            "tags": [],
            "needs_background": "light"
          }
        }
      ]
    },
    {
      "cell_type": "markdown",
      "metadata": {
        "id": "RyEgcFUq3OYf",
        "colab_type": "text"
      },
      "source": [
        "## 6. <a anchor='sixth'>References</a>"
      ]
    },
    {
      "cell_type": "markdown",
      "metadata": {
        "id": "-SRDrgT-8E4n",
        "colab_type": "text"
      },
      "source": [
        "\n",
        "* Martiniano, A., Ferreira, R. P., Sassi, R. J., & Affonso, C. (2012). Application of a neuro fuzzy network in prediction of absenteeism at work. In Information Systems and Technologies (CISTI), 7th Iberian Conference on (pp. 1-4). IEEE.\n",
        "* An Introduction to Statistical Learning with application in R, Gareth James, Daniela Witten, Trevor Hastie and Robert Tibshirani\n",
        "* [Performance Metrics for Classification problems in Machine Learning\n",
        "](https://medium.com/thalus-ai/performance-metrics-for-classification-problems-in-machine-learning-part-i-b085d432082b)\n",
        "* [Credit Fraud || Dealing with Imbalanced Datasets\n",
        "](https://www.kaggle.com/janiobachmann/credit-fraud-dealing-with-imbalanced-datasets)\n",
        "* [SMOTE and ADASYN (Handling Imbalanced Data Set)\n",
        "](https://medium.com/coinmonks/smote-and-adasyn-handling-imbalanced-data-set-34f5223e167)\n",
        "* [Oversampling - imbalanced-learn documentation](https://imbalanced-learn.readthedocs.io/en/stable/over_sampling.html)\n",
        "\n",
        "\n"
      ]
    }
  ]
}