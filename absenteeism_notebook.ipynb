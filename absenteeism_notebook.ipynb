{
  "nbformat": 4,
  "nbformat_minor": 0,
  "metadata": {
    "colab": {
      "name": "Tesina DS.ipynb",
      "provenance": [],
      "collapsed_sections": [],
      "toc_visible": true,
      "authorship_tag": "ABX9TyOVXp5pX5qzZ7Zixamwy1pN",
      "include_colab_link": true
    },
    "kernelspec": {
      "name": "python3",
      "display_name": "Python 3"
    }
  },
  "cells": [
    {
      "cell_type": "markdown",
      "metadata": {
        "id": "view-in-github",
        "colab_type": "text"
      },
      "source": [
        "<a href=\"https://colab.research.google.com/github/gianluigilopardo/dataspaces/blob/master/absenteeism_notebook.ipynb\" target=\"_parent\"><img src=\"https://colab.research.google.com/assets/colab-badge.svg\" alt=\"Open In Colab\"/></a>"
      ]
    },
    {
      "cell_type": "markdown",
      "metadata": {
        "id": "qIHURayJsYAJ",
        "colab_type": "text"
      },
      "source": [
        "# Analysis of Absenteeism at work\n",
        "Gianluigi Lopardo - Tesina Data Spaces a.a 2019/2020\n"
      ]
    },
    {
      "cell_type": "markdown",
      "metadata": {
        "id": "WJxpULyZglut",
        "colab_type": "text"
      },
      "source": [
        "\n",
        "### Table of contents\n",
        "1. [Introduction](#first)\n",
        "2. [Data preprocessing](#second)\n",
        "3. [Exploratory Data Analysis](#third)\n",
        "4. [Dimensionality and OVersampling](#fourth)\n",
        "  * 4.1 [Principal Component Analysis](#fourth_1)\n",
        "  * 4.2 [Oversampling](#fourth_2)\n",
        "5. [Classification Models](#fifth)\n",
        "  * 5.1 [Logistic Regression](#fifth_1)\n",
        "  * 5.2 [Decision Tree](#fifth_2)\n",
        "  * 5.3 [Random forest](#fifth_3)\n",
        "  * 5.4 [K Nearest neighbours](#fifth_4)\n",
        "  * 5.5 [Support Vector Machine](#fifth_5)\n",
        "  * 5.6 [Naive Bayes](#fifth_6)\n",
        "  * 5.7 [Model Comparison](#fifth_7)\n",
        "6. [References](#sixh)\n",
        "  "
      ]
    },
    {
      "cell_type": "markdown",
      "metadata": {
        "id": "sRM2sX_5kfGi",
        "colab_type": "text"
      },
      "source": [
        "## 1. <a class=\"anchor\" id=\"first\">Introduction</a>\n",
        "\n",
        "The dataset used is [Absenteeism at work](http://archive.ics.uci.edu/ml/datasets/Absenteeism+at+work) from UCI Machine learning repository. The aim of this work is to apply **classification** to **predict** absenteeism at work.\n",
        "\n",
        "Absenteeism represents for the company the loss of productivity and quality of work. Predicting it can help companies organize tasks appropriately in order to optimize work and avoid stressful situations for both the company and its employees.\n",
        "\n",
        "The Analysis is conducted in Python using Colab Notebook, which is a web application that allows you to create an interactive environment that contains live code, visualizations and text. \n",
        "\n",
        "The dataset contains 740 entries. Every entry has 21 attributes.\n",
        "It was created with records of absenteeism at work from July 2007 to July 2010 at a courier company in Brazil.\n",
        "\n",
        "### Attribute Information:\n",
        "\n",
        "* Individual identification (ID)\n",
        "* Reason for absence\n",
        "\n",
        " Absences attested by the [International Code of Diseases (ICD)](https://www.who.int/classifications/icd/en/) stratified into 21 categories (1 to 21) as follows and 7 categories without ICD (22 to 28):\n",
        "  1. Certain infectious and parasitic diseases\n",
        "  2. Neoplasms\n",
        "  3. Diseases of the blood and blood-forming organs and certain disorders involving the immune mechanism\n",
        "  4. Endocrine, nutritional and metabolic diseases\n",
        "  5. Mental and behavioural disorders\n",
        "  6. Diseases of the nervous system\n",
        "  7. Diseases of the eye and adnexa\n",
        "  8. Diseases of the ear and mastoid process\n",
        "  9. Diseases of the circulatory system\n",
        "  10. Diseases of the respiratory system\n",
        "  11. Diseases of the digestive system\n",
        "  12. Diseases of the skin and subcutaneous tissue\n",
        "  13. Diseases of the musculoskeletal system and connective tissue\n",
        "  14. Diseases of the genitourinary system\n",
        "  15. Pregnancy, childbirth and the puerperium\n",
        "  16. Certain conditions originating in the perinatal period\n",
        "  17. Congenital malformations, deformations and chromosomal abnormalities\n",
        "  18. Symptoms, signs and abnormal clinical and laboratory findings, not elsewhere classified\n",
        "  19. Injury, poisoning and certain other consequences of external causes\n",
        "  20. External causes of morbidity and mortality\n",
        "  21. Factors influencing health status and contact with health services.\n",
        "  22. patient follow-up \n",
        "  23. medical consultation\n",
        "  24. blood donation \n",
        "  25. laboratory examination \n",
        "  26. unjustified absence \n",
        "  27. physiotherapy \n",
        "  28. dental consultation\n",
        "* Month of absence\n",
        "* Day of the week: Monday (2), Tuesday (3), Wednesday (4), Thursday (5), Friday (6)\n",
        "* Seasons: summer (1), autumn (2), winter (3), spring (4)\n",
        "* Transportation expense\n",
        "* Distance from Residence to Work (kilometers)\n",
        "* Service time (years)\n",
        "* Age\n",
        "* Work load Average/day\n",
        "* Hit target\n",
        "* Disciplinary failure: yes=1, no=0\n",
        "* Education: high school (1), graduate (2), postgraduate (3), master and doctor (4))\n",
        "* Son (number of children)\n",
        "* Social drinker: yes=1, no=0\n",
        "* Social smoker yes=1, no=0\n",
        "* Pet (number of pet)\n",
        "* Weight\n",
        "* Height\n",
        "* Body mass index\n",
        "* Absenteeism time in hours (target)\n",
        "\n"
      ]
    },
    {
      "cell_type": "markdown",
      "metadata": {
        "id": "uxCSFgZdspOl",
        "colab_type": "text"
      },
      "source": [
        "## 2. <a class=\"anchor\" id=\"second\">Data preprocessing</a>\n",
        "After importing data and the Python libraries that we will use, the first step is to preprocess the data: we have to convert the data from one format to another, we will check the missing or invalid values and convert everything in a standardized format on all the data, so that we can easily manage and analyze them."
      ]
    },
    {
      "cell_type": "code",
      "metadata": {
        "id": "FxlvEJ6JmJGS",
        "colab_type": "code",
        "outputId": "21ffbf30-3c39-496d-fe8f-fb92d9a1af4b",
        "colab": {
          "base_uri": "https://localhost:8080/",
          "height": 139
        }
      },
      "source": [
        "# IMPORTING PACKAGES\n",
        "\n",
        "# file and data\n",
        "from google.colab import files\n",
        "import calendar\n",
        "\n",
        "# scientific\n",
        "import pandas as pd \n",
        "import numpy as np \n",
        "from numpy import random\n",
        "\n",
        "# plotting\n",
        "import matplotlib.pyplot as plt\n",
        "import seaborn as sns\n",
        "\n",
        "# dimensionality and oversampling\n",
        "from sklearn.decomposition import PCA\n",
        "from imblearn.over_sampling import SMOTE, ADASYN\n",
        "from imblearn.over_sampling import RandomOverSampler\n",
        "\n",
        "# models \n",
        "from sklearn import preprocessing\n",
        "from sklearn.model_selection import train_test_split\n",
        "from sklearn import tree\n",
        "from sklearn import svm\n",
        "from sklearn.neighbors import KNeighborsClassifier\n",
        "from sklearn.ensemble import RandomForestClassifier\n",
        "from sklearn.linear_model import LogisticRegression\n",
        "from sklearn.tree import DecisionTreeClassifier\n",
        "from sklearn.model_selection import validation_curve\n",
        "from sklearn.model_selection import GridSearchCV\n",
        "\n",
        "# metrics\n",
        "from sklearn.metrics import classification_report, confusion_matrix\n",
        "from sklearn.metrics import plot_confusion_matrix\n",
        "from sklearn.metrics import accuracy_score\n",
        "from sklearn.metrics import precision_score\n",
        "from sklearn.metrics import recall_score\n",
        "from sklearn.metrics import f1_score\n",
        "\n",
        "SEED = 42\n",
        "random.seed(SEED)\n",
        "\n",
        "import warnings\n",
        "warnings.filterwarnings(action = 'ignore', category = FutureWarning)"
      ],
      "execution_count": 1,
      "outputs": [
        {
          "output_type": "stream",
          "text": [
            "/usr/local/lib/python3.6/dist-packages/statsmodels/tools/_testing.py:19: FutureWarning: pandas.util.testing is deprecated. Use the functions in the public API at pandas.testing instead.\n",
            "  import pandas.util.testing as tm\n",
            "/usr/local/lib/python3.6/dist-packages/sklearn/externals/six.py:31: FutureWarning: The module is deprecated in version 0.21 and will be removed in version 0.23 since we've dropped support for Python 2.7. Please rely on the official version of six (https://pypi.org/project/six/).\n",
            "  \"(https://pypi.org/project/six/).\", FutureWarning)\n",
            "/usr/local/lib/python3.6/dist-packages/sklearn/utils/deprecation.py:144: FutureWarning: The sklearn.neighbors.base module is  deprecated in version 0.22 and will be removed in version 0.24. The corresponding classes / functions should instead be imported from sklearn.neighbors. Anything that cannot be imported from sklearn.neighbors is now part of the private API.\n",
            "  warnings.warn(message, FutureWarning)\n"
          ],
          "name": "stderr"
        }
      ]
    },
    {
      "cell_type": "code",
      "metadata": {
        "id": "9vGQwxw9lT0Z",
        "colab_type": "code",
        "outputId": "90f422f9-cadc-4ab6-87c8-df05f108df2b",
        "colab": {
          "base_uri": "https://localhost:8080/",
          "height": 34
        }
      },
      "source": [
        "# IMPORTING DATA\n",
        "url = \"https://raw.githubusercontent.com/gianluigilopardo/dataspaces/master/Absenteeism_at_work.csv\"\n",
        "ds = pd.read_csv(url, sep=',')\n",
        "print(\"The dataset has %d rows and %d columns.\" % ds.shape)"
      ],
      "execution_count": 2,
      "outputs": [
        {
          "output_type": "stream",
          "text": [
            "The dataset has 740 rows and 21 columns.\n"
          ],
          "name": "stdout"
        }
      ]
    },
    {
      "cell_type": "markdown",
      "metadata": {
        "id": "_2Gz7Vx-PJon",
        "colab_type": "text"
      },
      "source": [
        "Now that we have the data, let's take a look at it to evaluate how to proceed."
      ]
    },
    {
      "cell_type": "code",
      "metadata": {
        "id": "nWOSE3UiPIHf",
        "colab_type": "code",
        "outputId": "28c4a76d-368c-4561-b6a5-d42dd3373d6a",
        "colab": {
          "base_uri": "https://localhost:8080/",
          "height": 430
        }
      },
      "source": [
        "ds.head(10)"
      ],
      "execution_count": 3,
      "outputs": [
        {
          "output_type": "execute_result",
          "data": {
            "text/html": [
              "<div>\n",
              "<style scoped>\n",
              "    .dataframe tbody tr th:only-of-type {\n",
              "        vertical-align: middle;\n",
              "    }\n",
              "\n",
              "    .dataframe tbody tr th {\n",
              "        vertical-align: top;\n",
              "    }\n",
              "\n",
              "    .dataframe thead th {\n",
              "        text-align: right;\n",
              "    }\n",
              "</style>\n",
              "<table border=\"1\" class=\"dataframe\">\n",
              "  <thead>\n",
              "    <tr style=\"text-align: right;\">\n",
              "      <th></th>\n",
              "      <th>ID</th>\n",
              "      <th>Reason for absence</th>\n",
              "      <th>Month of absence</th>\n",
              "      <th>Day of the week</th>\n",
              "      <th>Seasons</th>\n",
              "      <th>Transportation expense</th>\n",
              "      <th>Distance from Residence to Work</th>\n",
              "      <th>Service time</th>\n",
              "      <th>Age</th>\n",
              "      <th>Work load Average/day</th>\n",
              "      <th>Hit target</th>\n",
              "      <th>Disciplinary failure</th>\n",
              "      <th>Education</th>\n",
              "      <th>Son</th>\n",
              "      <th>Social drinker</th>\n",
              "      <th>Social smoker</th>\n",
              "      <th>Pet</th>\n",
              "      <th>Weight</th>\n",
              "      <th>Height</th>\n",
              "      <th>Body mass index</th>\n",
              "      <th>Absenteeism time in hours</th>\n",
              "    </tr>\n",
              "  </thead>\n",
              "  <tbody>\n",
              "    <tr>\n",
              "      <th>0</th>\n",
              "      <td>11</td>\n",
              "      <td>26</td>\n",
              "      <td>7</td>\n",
              "      <td>3</td>\n",
              "      <td>1</td>\n",
              "      <td>289</td>\n",
              "      <td>36</td>\n",
              "      <td>13</td>\n",
              "      <td>33</td>\n",
              "      <td>239.554</td>\n",
              "      <td>97</td>\n",
              "      <td>0</td>\n",
              "      <td>1</td>\n",
              "      <td>2</td>\n",
              "      <td>1</td>\n",
              "      <td>0</td>\n",
              "      <td>1</td>\n",
              "      <td>90</td>\n",
              "      <td>172</td>\n",
              "      <td>30</td>\n",
              "      <td>4</td>\n",
              "    </tr>\n",
              "    <tr>\n",
              "      <th>1</th>\n",
              "      <td>36</td>\n",
              "      <td>0</td>\n",
              "      <td>7</td>\n",
              "      <td>3</td>\n",
              "      <td>1</td>\n",
              "      <td>118</td>\n",
              "      <td>13</td>\n",
              "      <td>18</td>\n",
              "      <td>50</td>\n",
              "      <td>239.554</td>\n",
              "      <td>97</td>\n",
              "      <td>1</td>\n",
              "      <td>1</td>\n",
              "      <td>1</td>\n",
              "      <td>1</td>\n",
              "      <td>0</td>\n",
              "      <td>0</td>\n",
              "      <td>98</td>\n",
              "      <td>178</td>\n",
              "      <td>31</td>\n",
              "      <td>0</td>\n",
              "    </tr>\n",
              "    <tr>\n",
              "      <th>2</th>\n",
              "      <td>3</td>\n",
              "      <td>23</td>\n",
              "      <td>7</td>\n",
              "      <td>4</td>\n",
              "      <td>1</td>\n",
              "      <td>179</td>\n",
              "      <td>51</td>\n",
              "      <td>18</td>\n",
              "      <td>38</td>\n",
              "      <td>239.554</td>\n",
              "      <td>97</td>\n",
              "      <td>0</td>\n",
              "      <td>1</td>\n",
              "      <td>0</td>\n",
              "      <td>1</td>\n",
              "      <td>0</td>\n",
              "      <td>0</td>\n",
              "      <td>89</td>\n",
              "      <td>170</td>\n",
              "      <td>31</td>\n",
              "      <td>2</td>\n",
              "    </tr>\n",
              "    <tr>\n",
              "      <th>3</th>\n",
              "      <td>7</td>\n",
              "      <td>7</td>\n",
              "      <td>7</td>\n",
              "      <td>5</td>\n",
              "      <td>1</td>\n",
              "      <td>279</td>\n",
              "      <td>5</td>\n",
              "      <td>14</td>\n",
              "      <td>39</td>\n",
              "      <td>239.554</td>\n",
              "      <td>97</td>\n",
              "      <td>0</td>\n",
              "      <td>1</td>\n",
              "      <td>2</td>\n",
              "      <td>1</td>\n",
              "      <td>1</td>\n",
              "      <td>0</td>\n",
              "      <td>68</td>\n",
              "      <td>168</td>\n",
              "      <td>24</td>\n",
              "      <td>4</td>\n",
              "    </tr>\n",
              "    <tr>\n",
              "      <th>4</th>\n",
              "      <td>11</td>\n",
              "      <td>23</td>\n",
              "      <td>7</td>\n",
              "      <td>5</td>\n",
              "      <td>1</td>\n",
              "      <td>289</td>\n",
              "      <td>36</td>\n",
              "      <td>13</td>\n",
              "      <td>33</td>\n",
              "      <td>239.554</td>\n",
              "      <td>97</td>\n",
              "      <td>0</td>\n",
              "      <td>1</td>\n",
              "      <td>2</td>\n",
              "      <td>1</td>\n",
              "      <td>0</td>\n",
              "      <td>1</td>\n",
              "      <td>90</td>\n",
              "      <td>172</td>\n",
              "      <td>30</td>\n",
              "      <td>2</td>\n",
              "    </tr>\n",
              "    <tr>\n",
              "      <th>5</th>\n",
              "      <td>3</td>\n",
              "      <td>23</td>\n",
              "      <td>7</td>\n",
              "      <td>6</td>\n",
              "      <td>1</td>\n",
              "      <td>179</td>\n",
              "      <td>51</td>\n",
              "      <td>18</td>\n",
              "      <td>38</td>\n",
              "      <td>239.554</td>\n",
              "      <td>97</td>\n",
              "      <td>0</td>\n",
              "      <td>1</td>\n",
              "      <td>0</td>\n",
              "      <td>1</td>\n",
              "      <td>0</td>\n",
              "      <td>0</td>\n",
              "      <td>89</td>\n",
              "      <td>170</td>\n",
              "      <td>31</td>\n",
              "      <td>2</td>\n",
              "    </tr>\n",
              "    <tr>\n",
              "      <th>6</th>\n",
              "      <td>10</td>\n",
              "      <td>22</td>\n",
              "      <td>7</td>\n",
              "      <td>6</td>\n",
              "      <td>1</td>\n",
              "      <td>361</td>\n",
              "      <td>52</td>\n",
              "      <td>3</td>\n",
              "      <td>28</td>\n",
              "      <td>239.554</td>\n",
              "      <td>97</td>\n",
              "      <td>0</td>\n",
              "      <td>1</td>\n",
              "      <td>1</td>\n",
              "      <td>1</td>\n",
              "      <td>0</td>\n",
              "      <td>4</td>\n",
              "      <td>80</td>\n",
              "      <td>172</td>\n",
              "      <td>27</td>\n",
              "      <td>8</td>\n",
              "    </tr>\n",
              "    <tr>\n",
              "      <th>7</th>\n",
              "      <td>20</td>\n",
              "      <td>23</td>\n",
              "      <td>7</td>\n",
              "      <td>6</td>\n",
              "      <td>1</td>\n",
              "      <td>260</td>\n",
              "      <td>50</td>\n",
              "      <td>11</td>\n",
              "      <td>36</td>\n",
              "      <td>239.554</td>\n",
              "      <td>97</td>\n",
              "      <td>0</td>\n",
              "      <td>1</td>\n",
              "      <td>4</td>\n",
              "      <td>1</td>\n",
              "      <td>0</td>\n",
              "      <td>0</td>\n",
              "      <td>65</td>\n",
              "      <td>168</td>\n",
              "      <td>23</td>\n",
              "      <td>4</td>\n",
              "    </tr>\n",
              "    <tr>\n",
              "      <th>8</th>\n",
              "      <td>14</td>\n",
              "      <td>19</td>\n",
              "      <td>7</td>\n",
              "      <td>2</td>\n",
              "      <td>1</td>\n",
              "      <td>155</td>\n",
              "      <td>12</td>\n",
              "      <td>14</td>\n",
              "      <td>34</td>\n",
              "      <td>239.554</td>\n",
              "      <td>97</td>\n",
              "      <td>0</td>\n",
              "      <td>1</td>\n",
              "      <td>2</td>\n",
              "      <td>1</td>\n",
              "      <td>0</td>\n",
              "      <td>0</td>\n",
              "      <td>95</td>\n",
              "      <td>196</td>\n",
              "      <td>25</td>\n",
              "      <td>40</td>\n",
              "    </tr>\n",
              "    <tr>\n",
              "      <th>9</th>\n",
              "      <td>1</td>\n",
              "      <td>22</td>\n",
              "      <td>7</td>\n",
              "      <td>2</td>\n",
              "      <td>1</td>\n",
              "      <td>235</td>\n",
              "      <td>11</td>\n",
              "      <td>14</td>\n",
              "      <td>37</td>\n",
              "      <td>239.554</td>\n",
              "      <td>97</td>\n",
              "      <td>0</td>\n",
              "      <td>3</td>\n",
              "      <td>1</td>\n",
              "      <td>0</td>\n",
              "      <td>0</td>\n",
              "      <td>1</td>\n",
              "      <td>88</td>\n",
              "      <td>172</td>\n",
              "      <td>29</td>\n",
              "      <td>8</td>\n",
              "    </tr>\n",
              "  </tbody>\n",
              "</table>\n",
              "</div>"
            ],
            "text/plain": [
              "   ID  Reason for absence  ...  Body mass index  Absenteeism time in hours\n",
              "0  11                  26  ...               30                          4\n",
              "1  36                   0  ...               31                          0\n",
              "2   3                  23  ...               31                          2\n",
              "3   7                   7  ...               24                          4\n",
              "4  11                  23  ...               30                          2\n",
              "5   3                  23  ...               31                          2\n",
              "6  10                  22  ...               27                          8\n",
              "7  20                  23  ...               23                          4\n",
              "8  14                  19  ...               25                         40\n",
              "9   1                  22  ...               29                          8\n",
              "\n",
              "[10 rows x 21 columns]"
            ]
          },
          "metadata": {
            "tags": []
          },
          "execution_count": 3
        }
      ]
    },
    {
      "cell_type": "markdown",
      "metadata": {
        "id": "5JYQjnr_Mi0A",
        "colab_type": "text"
      },
      "source": [
        "Before entering the analysis, it is advisable to rename the columns of the dataset, in order to have more easily traceable variables.\n",
        "\n",
        "\n"
      ]
    },
    {
      "cell_type": "code",
      "metadata": {
        "id": "MJefxmGF2HDD",
        "colab_type": "code",
        "outputId": "846ef8d8-f815-48e7-ace8-4666383fd533",
        "colab": {
          "base_uri": "https://localhost:8080/",
          "height": 162
        }
      },
      "source": [
        "# renaming labels\n",
        "ds = ds.rename(columns = {'Reason for absence': 'reason', \n",
        "                          'Month of absence': 'month', \n",
        "                          'Day of the week': 'day', \n",
        "                          'Transportation expense': 'trans_exp', \n",
        "                          'Distance from Residence to Work': 'distance', \n",
        "                          'Service time': 'serv_time', \n",
        "                          'Work load Average/day ': 'work_load', \n",
        "                          'Hit target': 'hit_tg', \n",
        "                          'Disciplinary failure': 'disc_fail', \n",
        "                          'Social drinker': 'drinker', \n",
        "                          'Social smoker': 'smoker', \n",
        "                          'Body mass index': 'bmi', \n",
        "                          'Absenteeism time in hours': 'abs_hours'})\n",
        "ds = ds.rename(columns = lambda x: x.lower()) # using lambda function to lowercase labels\n",
        "ds.head(3)"
      ],
      "execution_count": 4,
      "outputs": [
        {
          "output_type": "execute_result",
          "data": {
            "text/html": [
              "<div>\n",
              "<style scoped>\n",
              "    .dataframe tbody tr th:only-of-type {\n",
              "        vertical-align: middle;\n",
              "    }\n",
              "\n",
              "    .dataframe tbody tr th {\n",
              "        vertical-align: top;\n",
              "    }\n",
              "\n",
              "    .dataframe thead th {\n",
              "        text-align: right;\n",
              "    }\n",
              "</style>\n",
              "<table border=\"1\" class=\"dataframe\">\n",
              "  <thead>\n",
              "    <tr style=\"text-align: right;\">\n",
              "      <th></th>\n",
              "      <th>id</th>\n",
              "      <th>reason</th>\n",
              "      <th>month</th>\n",
              "      <th>day</th>\n",
              "      <th>seasons</th>\n",
              "      <th>trans_exp</th>\n",
              "      <th>distance</th>\n",
              "      <th>serv_time</th>\n",
              "      <th>age</th>\n",
              "      <th>work_load</th>\n",
              "      <th>hit_tg</th>\n",
              "      <th>disc_fail</th>\n",
              "      <th>education</th>\n",
              "      <th>son</th>\n",
              "      <th>drinker</th>\n",
              "      <th>smoker</th>\n",
              "      <th>pet</th>\n",
              "      <th>weight</th>\n",
              "      <th>height</th>\n",
              "      <th>bmi</th>\n",
              "      <th>abs_hours</th>\n",
              "    </tr>\n",
              "  </thead>\n",
              "  <tbody>\n",
              "    <tr>\n",
              "      <th>0</th>\n",
              "      <td>11</td>\n",
              "      <td>26</td>\n",
              "      <td>7</td>\n",
              "      <td>3</td>\n",
              "      <td>1</td>\n",
              "      <td>289</td>\n",
              "      <td>36</td>\n",
              "      <td>13</td>\n",
              "      <td>33</td>\n",
              "      <td>239.554</td>\n",
              "      <td>97</td>\n",
              "      <td>0</td>\n",
              "      <td>1</td>\n",
              "      <td>2</td>\n",
              "      <td>1</td>\n",
              "      <td>0</td>\n",
              "      <td>1</td>\n",
              "      <td>90</td>\n",
              "      <td>172</td>\n",
              "      <td>30</td>\n",
              "      <td>4</td>\n",
              "    </tr>\n",
              "    <tr>\n",
              "      <th>1</th>\n",
              "      <td>36</td>\n",
              "      <td>0</td>\n",
              "      <td>7</td>\n",
              "      <td>3</td>\n",
              "      <td>1</td>\n",
              "      <td>118</td>\n",
              "      <td>13</td>\n",
              "      <td>18</td>\n",
              "      <td>50</td>\n",
              "      <td>239.554</td>\n",
              "      <td>97</td>\n",
              "      <td>1</td>\n",
              "      <td>1</td>\n",
              "      <td>1</td>\n",
              "      <td>1</td>\n",
              "      <td>0</td>\n",
              "      <td>0</td>\n",
              "      <td>98</td>\n",
              "      <td>178</td>\n",
              "      <td>31</td>\n",
              "      <td>0</td>\n",
              "    </tr>\n",
              "    <tr>\n",
              "      <th>2</th>\n",
              "      <td>3</td>\n",
              "      <td>23</td>\n",
              "      <td>7</td>\n",
              "      <td>4</td>\n",
              "      <td>1</td>\n",
              "      <td>179</td>\n",
              "      <td>51</td>\n",
              "      <td>18</td>\n",
              "      <td>38</td>\n",
              "      <td>239.554</td>\n",
              "      <td>97</td>\n",
              "      <td>0</td>\n",
              "      <td>1</td>\n",
              "      <td>0</td>\n",
              "      <td>1</td>\n",
              "      <td>0</td>\n",
              "      <td>0</td>\n",
              "      <td>89</td>\n",
              "      <td>170</td>\n",
              "      <td>31</td>\n",
              "      <td>2</td>\n",
              "    </tr>\n",
              "  </tbody>\n",
              "</table>\n",
              "</div>"
            ],
            "text/plain": [
              "   id  reason  month  day  seasons  ...  pet  weight  height  bmi  abs_hours\n",
              "0  11      26      7    3        1  ...    1      90     172   30          4\n",
              "1  36       0      7    3        1  ...    0      98     178   31          0\n",
              "2   3      23      7    4        1  ...    0      89     170   31          2\n",
              "\n",
              "[3 rows x 21 columns]"
            ]
          },
          "metadata": {
            "tags": []
          },
          "execution_count": 4
        }
      ]
    },
    {
      "cell_type": "markdown",
      "metadata": {
        "id": "iWHaee594RKc",
        "colab_type": "text"
      },
      "source": [
        "Now I check for null values in the dataset:"
      ]
    },
    {
      "cell_type": "code",
      "metadata": {
        "id": "pbnMUrsanMEm",
        "colab_type": "code",
        "outputId": "14c3075f-03f6-4243-a008-60098b784e89",
        "colab": {
          "base_uri": "https://localhost:8080/",
          "height": 34
        }
      },
      "source": [
        "print(\"There are \" + (\"some\" if ds.isnull().values.any() else \"no\")  + \" null/missing values in the dataset.\")"
      ],
      "execution_count": 5,
      "outputs": [
        {
          "output_type": "stream",
          "text": [
            "There are no null/missing values in the dataset.\n"
          ],
          "name": "stdout"
        }
      ]
    },
    {
      "cell_type": "markdown",
      "metadata": {
        "id": "j5tdOCIoh2gd",
        "colab_type": "text"
      },
      "source": [
        "There are no missing values in the dataset. Now I check for invalid data. "
      ]
    },
    {
      "cell_type": "code",
      "metadata": {
        "id": "7IyXXZN0h0fd",
        "colab_type": "code",
        "outputId": "f3d88617-01c5-4bd1-a7b9-23baac7b9805",
        "colab": {
          "base_uri": "https://localhost:8080/",
          "height": 317
        }
      },
      "source": [
        "ds.describe() # summary of data"
      ],
      "execution_count": 6,
      "outputs": [
        {
          "output_type": "execute_result",
          "data": {
            "text/html": [
              "<div>\n",
              "<style scoped>\n",
              "    .dataframe tbody tr th:only-of-type {\n",
              "        vertical-align: middle;\n",
              "    }\n",
              "\n",
              "    .dataframe tbody tr th {\n",
              "        vertical-align: top;\n",
              "    }\n",
              "\n",
              "    .dataframe thead th {\n",
              "        text-align: right;\n",
              "    }\n",
              "</style>\n",
              "<table border=\"1\" class=\"dataframe\">\n",
              "  <thead>\n",
              "    <tr style=\"text-align: right;\">\n",
              "      <th></th>\n",
              "      <th>id</th>\n",
              "      <th>reason</th>\n",
              "      <th>month</th>\n",
              "      <th>day</th>\n",
              "      <th>seasons</th>\n",
              "      <th>trans_exp</th>\n",
              "      <th>distance</th>\n",
              "      <th>serv_time</th>\n",
              "      <th>age</th>\n",
              "      <th>work_load</th>\n",
              "      <th>hit_tg</th>\n",
              "      <th>disc_fail</th>\n",
              "      <th>education</th>\n",
              "      <th>son</th>\n",
              "      <th>drinker</th>\n",
              "      <th>smoker</th>\n",
              "      <th>pet</th>\n",
              "      <th>weight</th>\n",
              "      <th>height</th>\n",
              "      <th>bmi</th>\n",
              "      <th>abs_hours</th>\n",
              "    </tr>\n",
              "  </thead>\n",
              "  <tbody>\n",
              "    <tr>\n",
              "      <th>count</th>\n",
              "      <td>740.000000</td>\n",
              "      <td>740.000000</td>\n",
              "      <td>740.000000</td>\n",
              "      <td>740.000000</td>\n",
              "      <td>740.000000</td>\n",
              "      <td>740.000000</td>\n",
              "      <td>740.000000</td>\n",
              "      <td>740.000000</td>\n",
              "      <td>740.000000</td>\n",
              "      <td>740.000000</td>\n",
              "      <td>740.000000</td>\n",
              "      <td>740.000000</td>\n",
              "      <td>740.000000</td>\n",
              "      <td>740.000000</td>\n",
              "      <td>740.000000</td>\n",
              "      <td>740.000000</td>\n",
              "      <td>740.000000</td>\n",
              "      <td>740.000000</td>\n",
              "      <td>740.000000</td>\n",
              "      <td>740.000000</td>\n",
              "      <td>740.000000</td>\n",
              "    </tr>\n",
              "    <tr>\n",
              "      <th>mean</th>\n",
              "      <td>18.017568</td>\n",
              "      <td>19.216216</td>\n",
              "      <td>6.324324</td>\n",
              "      <td>3.914865</td>\n",
              "      <td>2.544595</td>\n",
              "      <td>221.329730</td>\n",
              "      <td>29.631081</td>\n",
              "      <td>12.554054</td>\n",
              "      <td>36.450000</td>\n",
              "      <td>271.490235</td>\n",
              "      <td>94.587838</td>\n",
              "      <td>0.054054</td>\n",
              "      <td>1.291892</td>\n",
              "      <td>1.018919</td>\n",
              "      <td>0.567568</td>\n",
              "      <td>0.072973</td>\n",
              "      <td>0.745946</td>\n",
              "      <td>79.035135</td>\n",
              "      <td>172.114865</td>\n",
              "      <td>26.677027</td>\n",
              "      <td>6.924324</td>\n",
              "    </tr>\n",
              "    <tr>\n",
              "      <th>std</th>\n",
              "      <td>11.021247</td>\n",
              "      <td>8.433406</td>\n",
              "      <td>3.436287</td>\n",
              "      <td>1.421675</td>\n",
              "      <td>1.111831</td>\n",
              "      <td>66.952223</td>\n",
              "      <td>14.836788</td>\n",
              "      <td>4.384873</td>\n",
              "      <td>6.478772</td>\n",
              "      <td>39.058116</td>\n",
              "      <td>3.779313</td>\n",
              "      <td>0.226277</td>\n",
              "      <td>0.673238</td>\n",
              "      <td>1.098489</td>\n",
              "      <td>0.495749</td>\n",
              "      <td>0.260268</td>\n",
              "      <td>1.318258</td>\n",
              "      <td>12.883211</td>\n",
              "      <td>6.034995</td>\n",
              "      <td>4.285452</td>\n",
              "      <td>13.330998</td>\n",
              "    </tr>\n",
              "    <tr>\n",
              "      <th>min</th>\n",
              "      <td>1.000000</td>\n",
              "      <td>0.000000</td>\n",
              "      <td>0.000000</td>\n",
              "      <td>2.000000</td>\n",
              "      <td>1.000000</td>\n",
              "      <td>118.000000</td>\n",
              "      <td>5.000000</td>\n",
              "      <td>1.000000</td>\n",
              "      <td>27.000000</td>\n",
              "      <td>205.917000</td>\n",
              "      <td>81.000000</td>\n",
              "      <td>0.000000</td>\n",
              "      <td>1.000000</td>\n",
              "      <td>0.000000</td>\n",
              "      <td>0.000000</td>\n",
              "      <td>0.000000</td>\n",
              "      <td>0.000000</td>\n",
              "      <td>56.000000</td>\n",
              "      <td>163.000000</td>\n",
              "      <td>19.000000</td>\n",
              "      <td>0.000000</td>\n",
              "    </tr>\n",
              "    <tr>\n",
              "      <th>25%</th>\n",
              "      <td>9.000000</td>\n",
              "      <td>13.000000</td>\n",
              "      <td>3.000000</td>\n",
              "      <td>3.000000</td>\n",
              "      <td>2.000000</td>\n",
              "      <td>179.000000</td>\n",
              "      <td>16.000000</td>\n",
              "      <td>9.000000</td>\n",
              "      <td>31.000000</td>\n",
              "      <td>244.387000</td>\n",
              "      <td>93.000000</td>\n",
              "      <td>0.000000</td>\n",
              "      <td>1.000000</td>\n",
              "      <td>0.000000</td>\n",
              "      <td>0.000000</td>\n",
              "      <td>0.000000</td>\n",
              "      <td>0.000000</td>\n",
              "      <td>69.000000</td>\n",
              "      <td>169.000000</td>\n",
              "      <td>24.000000</td>\n",
              "      <td>2.000000</td>\n",
              "    </tr>\n",
              "    <tr>\n",
              "      <th>50%</th>\n",
              "      <td>18.000000</td>\n",
              "      <td>23.000000</td>\n",
              "      <td>6.000000</td>\n",
              "      <td>4.000000</td>\n",
              "      <td>3.000000</td>\n",
              "      <td>225.000000</td>\n",
              "      <td>26.000000</td>\n",
              "      <td>13.000000</td>\n",
              "      <td>37.000000</td>\n",
              "      <td>264.249000</td>\n",
              "      <td>95.000000</td>\n",
              "      <td>0.000000</td>\n",
              "      <td>1.000000</td>\n",
              "      <td>1.000000</td>\n",
              "      <td>1.000000</td>\n",
              "      <td>0.000000</td>\n",
              "      <td>0.000000</td>\n",
              "      <td>83.000000</td>\n",
              "      <td>170.000000</td>\n",
              "      <td>25.000000</td>\n",
              "      <td>3.000000</td>\n",
              "    </tr>\n",
              "    <tr>\n",
              "      <th>75%</th>\n",
              "      <td>28.000000</td>\n",
              "      <td>26.000000</td>\n",
              "      <td>9.000000</td>\n",
              "      <td>5.000000</td>\n",
              "      <td>4.000000</td>\n",
              "      <td>260.000000</td>\n",
              "      <td>50.000000</td>\n",
              "      <td>16.000000</td>\n",
              "      <td>40.000000</td>\n",
              "      <td>294.217000</td>\n",
              "      <td>97.000000</td>\n",
              "      <td>0.000000</td>\n",
              "      <td>1.000000</td>\n",
              "      <td>2.000000</td>\n",
              "      <td>1.000000</td>\n",
              "      <td>0.000000</td>\n",
              "      <td>1.000000</td>\n",
              "      <td>89.000000</td>\n",
              "      <td>172.000000</td>\n",
              "      <td>31.000000</td>\n",
              "      <td>8.000000</td>\n",
              "    </tr>\n",
              "    <tr>\n",
              "      <th>max</th>\n",
              "      <td>36.000000</td>\n",
              "      <td>28.000000</td>\n",
              "      <td>12.000000</td>\n",
              "      <td>6.000000</td>\n",
              "      <td>4.000000</td>\n",
              "      <td>388.000000</td>\n",
              "      <td>52.000000</td>\n",
              "      <td>29.000000</td>\n",
              "      <td>58.000000</td>\n",
              "      <td>378.884000</td>\n",
              "      <td>100.000000</td>\n",
              "      <td>1.000000</td>\n",
              "      <td>4.000000</td>\n",
              "      <td>4.000000</td>\n",
              "      <td>1.000000</td>\n",
              "      <td>1.000000</td>\n",
              "      <td>8.000000</td>\n",
              "      <td>108.000000</td>\n",
              "      <td>196.000000</td>\n",
              "      <td>38.000000</td>\n",
              "      <td>120.000000</td>\n",
              "    </tr>\n",
              "  </tbody>\n",
              "</table>\n",
              "</div>"
            ],
            "text/plain": [
              "               id      reason       month  ...      height         bmi   abs_hours\n",
              "count  740.000000  740.000000  740.000000  ...  740.000000  740.000000  740.000000\n",
              "mean    18.017568   19.216216    6.324324  ...  172.114865   26.677027    6.924324\n",
              "std     11.021247    8.433406    3.436287  ...    6.034995    4.285452   13.330998\n",
              "min      1.000000    0.000000    0.000000  ...  163.000000   19.000000    0.000000\n",
              "25%      9.000000   13.000000    3.000000  ...  169.000000   24.000000    2.000000\n",
              "50%     18.000000   23.000000    6.000000  ...  170.000000   25.000000    3.000000\n",
              "75%     28.000000   26.000000    9.000000  ...  172.000000   31.000000    8.000000\n",
              "max     36.000000   28.000000   12.000000  ...  196.000000   38.000000  120.000000\n",
              "\n",
              "[8 rows x 21 columns]"
            ]
          },
          "metadata": {
            "tags": []
          },
          "execution_count": 6
        }
      ]
    },
    {
      "cell_type": "markdown",
      "metadata": {
        "id": "q6UTPeYel1P3",
        "colab_type": "text"
      },
      "source": [
        "*reason* should take integer values between 1 and 28. However, we see that there are some 0 values."
      ]
    },
    {
      "cell_type": "code",
      "metadata": {
        "id": "Q63ihCZ3mGNc",
        "colab_type": "code",
        "outputId": "4bb1b4e8-a1ff-4b09-e65a-8fc1b391921c",
        "colab": {
          "base_uri": "https://localhost:8080/",
          "height": 34
        }
      },
      "source": [
        "len(ds[ds['reason'] == 0]) # occurences with 'reason' = 0."
      ],
      "execution_count": 7,
      "outputs": [
        {
          "output_type": "execute_result",
          "data": {
            "text/plain": [
              "43"
            ]
          },
          "metadata": {
            "tags": []
          },
          "execution_count": 7
        }
      ]
    },
    {
      "cell_type": "markdown",
      "metadata": {
        "id": "pjrP2y3Gou5n",
        "colab_type": "text"
      },
      "source": [
        "43 record out of 740 is not a small number. It is necessary to go deeper before decide how to procede."
      ]
    },
    {
      "cell_type": "code",
      "metadata": {
        "id": "hML1V2yJo8Ob",
        "colab_type": "code",
        "outputId": "7d812b99-b6fc-4344-ffe4-f4e1203826ac",
        "colab": {
          "base_uri": "https://localhost:8080/",
          "height": 317
        }
      },
      "source": [
        "ds[ds['reason'] == 0].describe() # summary of the subset of data having reason = 0"
      ],
      "execution_count": 8,
      "outputs": [
        {
          "output_type": "execute_result",
          "data": {
            "text/html": [
              "<div>\n",
              "<style scoped>\n",
              "    .dataframe tbody tr th:only-of-type {\n",
              "        vertical-align: middle;\n",
              "    }\n",
              "\n",
              "    .dataframe tbody tr th {\n",
              "        vertical-align: top;\n",
              "    }\n",
              "\n",
              "    .dataframe thead th {\n",
              "        text-align: right;\n",
              "    }\n",
              "</style>\n",
              "<table border=\"1\" class=\"dataframe\">\n",
              "  <thead>\n",
              "    <tr style=\"text-align: right;\">\n",
              "      <th></th>\n",
              "      <th>id</th>\n",
              "      <th>reason</th>\n",
              "      <th>month</th>\n",
              "      <th>day</th>\n",
              "      <th>seasons</th>\n",
              "      <th>trans_exp</th>\n",
              "      <th>distance</th>\n",
              "      <th>serv_time</th>\n",
              "      <th>age</th>\n",
              "      <th>work_load</th>\n",
              "      <th>hit_tg</th>\n",
              "      <th>disc_fail</th>\n",
              "      <th>education</th>\n",
              "      <th>son</th>\n",
              "      <th>drinker</th>\n",
              "      <th>smoker</th>\n",
              "      <th>pet</th>\n",
              "      <th>weight</th>\n",
              "      <th>height</th>\n",
              "      <th>bmi</th>\n",
              "      <th>abs_hours</th>\n",
              "    </tr>\n",
              "  </thead>\n",
              "  <tbody>\n",
              "    <tr>\n",
              "      <th>count</th>\n",
              "      <td>43.000000</td>\n",
              "      <td>43.0</td>\n",
              "      <td>43.000000</td>\n",
              "      <td>43.000000</td>\n",
              "      <td>43.000000</td>\n",
              "      <td>43.000000</td>\n",
              "      <td>43.000000</td>\n",
              "      <td>43.000000</td>\n",
              "      <td>43.000000</td>\n",
              "      <td>43.000000</td>\n",
              "      <td>43.000000</td>\n",
              "      <td>43.000000</td>\n",
              "      <td>43.000000</td>\n",
              "      <td>43.000000</td>\n",
              "      <td>43.000000</td>\n",
              "      <td>43.000000</td>\n",
              "      <td>43.000000</td>\n",
              "      <td>43.000000</td>\n",
              "      <td>43.000000</td>\n",
              "      <td>43.000000</td>\n",
              "      <td>43.0</td>\n",
              "    </tr>\n",
              "    <tr>\n",
              "      <th>mean</th>\n",
              "      <td>18.046512</td>\n",
              "      <td>0.0</td>\n",
              "      <td>7.325581</td>\n",
              "      <td>3.860465</td>\n",
              "      <td>3.162791</td>\n",
              "      <td>246.604651</td>\n",
              "      <td>26.488372</td>\n",
              "      <td>12.627907</td>\n",
              "      <td>39.604651</td>\n",
              "      <td>275.880023</td>\n",
              "      <td>92.441860</td>\n",
              "      <td>0.930233</td>\n",
              "      <td>1.116279</td>\n",
              "      <td>1.348837</td>\n",
              "      <td>0.674419</td>\n",
              "      <td>0.186047</td>\n",
              "      <td>1.046512</td>\n",
              "      <td>83.534884</td>\n",
              "      <td>171.837209</td>\n",
              "      <td>28.325581</td>\n",
              "      <td>0.0</td>\n",
              "    </tr>\n",
              "    <tr>\n",
              "      <th>std</th>\n",
              "      <td>11.751299</td>\n",
              "      <td>0.0</td>\n",
              "      <td>3.293001</td>\n",
              "      <td>1.264561</td>\n",
              "      <td>1.044948</td>\n",
              "      <td>79.238080</td>\n",
              "      <td>14.186466</td>\n",
              "      <td>3.450488</td>\n",
              "      <td>7.348921</td>\n",
              "      <td>38.664356</td>\n",
              "      <td>5.010951</td>\n",
              "      <td>0.257770</td>\n",
              "      <td>0.390927</td>\n",
              "      <td>1.066452</td>\n",
              "      <td>0.474137</td>\n",
              "      <td>0.393750</td>\n",
              "      <td>1.812043</td>\n",
              "      <td>14.699123</td>\n",
              "      <td>5.255067</td>\n",
              "      <td>5.405997</td>\n",
              "      <td>0.0</td>\n",
              "    </tr>\n",
              "    <tr>\n",
              "      <th>min</th>\n",
              "      <td>1.000000</td>\n",
              "      <td>0.0</td>\n",
              "      <td>0.000000</td>\n",
              "      <td>2.000000</td>\n",
              "      <td>1.000000</td>\n",
              "      <td>118.000000</td>\n",
              "      <td>5.000000</td>\n",
              "      <td>4.000000</td>\n",
              "      <td>28.000000</td>\n",
              "      <td>237.656000</td>\n",
              "      <td>81.000000</td>\n",
              "      <td>0.000000</td>\n",
              "      <td>1.000000</td>\n",
              "      <td>0.000000</td>\n",
              "      <td>0.000000</td>\n",
              "      <td>0.000000</td>\n",
              "      <td>0.000000</td>\n",
              "      <td>65.000000</td>\n",
              "      <td>163.000000</td>\n",
              "      <td>21.000000</td>\n",
              "      <td>0.0</td>\n",
              "    </tr>\n",
              "    <tr>\n",
              "      <th>25%</th>\n",
              "      <td>7.000000</td>\n",
              "      <td>0.0</td>\n",
              "      <td>5.000000</td>\n",
              "      <td>3.000000</td>\n",
              "      <td>3.000000</td>\n",
              "      <td>225.000000</td>\n",
              "      <td>14.500000</td>\n",
              "      <td>11.000000</td>\n",
              "      <td>34.500000</td>\n",
              "      <td>244.387000</td>\n",
              "      <td>89.500000</td>\n",
              "      <td>1.000000</td>\n",
              "      <td>1.000000</td>\n",
              "      <td>1.000000</td>\n",
              "      <td>0.000000</td>\n",
              "      <td>0.000000</td>\n",
              "      <td>0.000000</td>\n",
              "      <td>69.000000</td>\n",
              "      <td>168.000000</td>\n",
              "      <td>24.000000</td>\n",
              "      <td>0.0</td>\n",
              "    </tr>\n",
              "    <tr>\n",
              "      <th>50%</th>\n",
              "      <td>18.000000</td>\n",
              "      <td>0.0</td>\n",
              "      <td>9.000000</td>\n",
              "      <td>4.000000</td>\n",
              "      <td>3.000000</td>\n",
              "      <td>235.000000</td>\n",
              "      <td>25.000000</td>\n",
              "      <td>13.000000</td>\n",
              "      <td>39.000000</td>\n",
              "      <td>268.519000</td>\n",
              "      <td>93.000000</td>\n",
              "      <td>1.000000</td>\n",
              "      <td>1.000000</td>\n",
              "      <td>1.000000</td>\n",
              "      <td>1.000000</td>\n",
              "      <td>0.000000</td>\n",
              "      <td>0.000000</td>\n",
              "      <td>84.000000</td>\n",
              "      <td>170.000000</td>\n",
              "      <td>25.000000</td>\n",
              "      <td>0.0</td>\n",
              "    </tr>\n",
              "    <tr>\n",
              "      <th>75%</th>\n",
              "      <td>28.500000</td>\n",
              "      <td>0.0</td>\n",
              "      <td>10.000000</td>\n",
              "      <td>5.000000</td>\n",
              "      <td>4.000000</td>\n",
              "      <td>290.000000</td>\n",
              "      <td>35.500000</td>\n",
              "      <td>14.000000</td>\n",
              "      <td>45.000000</td>\n",
              "      <td>284.031000</td>\n",
              "      <td>96.500000</td>\n",
              "      <td>1.000000</td>\n",
              "      <td>1.000000</td>\n",
              "      <td>2.000000</td>\n",
              "      <td>1.000000</td>\n",
              "      <td>0.000000</td>\n",
              "      <td>1.000000</td>\n",
              "      <td>98.000000</td>\n",
              "      <td>176.500000</td>\n",
              "      <td>31.500000</td>\n",
              "      <td>0.0</td>\n",
              "    </tr>\n",
              "    <tr>\n",
              "      <th>max</th>\n",
              "      <td>36.000000</td>\n",
              "      <td>0.0</td>\n",
              "      <td>11.000000</td>\n",
              "      <td>6.000000</td>\n",
              "      <td>4.000000</td>\n",
              "      <td>388.000000</td>\n",
              "      <td>51.000000</td>\n",
              "      <td>18.000000</td>\n",
              "      <td>53.000000</td>\n",
              "      <td>378.884000</td>\n",
              "      <td>99.000000</td>\n",
              "      <td>1.000000</td>\n",
              "      <td>3.000000</td>\n",
              "      <td>4.000000</td>\n",
              "      <td>1.000000</td>\n",
              "      <td>1.000000</td>\n",
              "      <td>8.000000</td>\n",
              "      <td>106.000000</td>\n",
              "      <td>185.000000</td>\n",
              "      <td>38.000000</td>\n",
              "      <td>0.0</td>\n",
              "    </tr>\n",
              "  </tbody>\n",
              "</table>\n",
              "</div>"
            ],
            "text/plain": [
              "              id  reason      month  ...      height        bmi  abs_hours\n",
              "count  43.000000    43.0  43.000000  ...   43.000000  43.000000       43.0\n",
              "mean   18.046512     0.0   7.325581  ...  171.837209  28.325581        0.0\n",
              "std    11.751299     0.0   3.293001  ...    5.255067   5.405997        0.0\n",
              "min     1.000000     0.0   0.000000  ...  163.000000  21.000000        0.0\n",
              "25%     7.000000     0.0   5.000000  ...  168.000000  24.000000        0.0\n",
              "50%    18.000000     0.0   9.000000  ...  170.000000  25.000000        0.0\n",
              "75%    28.500000     0.0  10.000000  ...  176.500000  31.500000        0.0\n",
              "max    36.000000     0.0  11.000000  ...  185.000000  38.000000        0.0\n",
              "\n",
              "[8 rows x 21 columns]"
            ]
          },
          "metadata": {
            "tags": []
          },
          "execution_count": 8
        }
      ]
    },
    {
      "cell_type": "markdown",
      "metadata": {
        "id": "iobzT5XHpLlx",
        "colab_type": "text"
      },
      "source": [
        "I see that all the records having *reason = 0* also have *abs_hours = 0*. \n",
        "These records probably refers to cases of late work for less than an hour and so they are unjustified. Considering these records into the analysis could be interesting and also useful for a company, so I keep them."
      ]
    },
    {
      "cell_type": "code",
      "metadata": {
        "id": "MBK_c_wcwekb",
        "colab_type": "code",
        "outputId": "289fad9f-0ac7-4afc-d647-49bf3b568314",
        "colab": {
          "base_uri": "https://localhost:8080/",
          "height": 317
        }
      },
      "source": [
        "ds.describe()"
      ],
      "execution_count": 9,
      "outputs": [
        {
          "output_type": "execute_result",
          "data": {
            "text/html": [
              "<div>\n",
              "<style scoped>\n",
              "    .dataframe tbody tr th:only-of-type {\n",
              "        vertical-align: middle;\n",
              "    }\n",
              "\n",
              "    .dataframe tbody tr th {\n",
              "        vertical-align: top;\n",
              "    }\n",
              "\n",
              "    .dataframe thead th {\n",
              "        text-align: right;\n",
              "    }\n",
              "</style>\n",
              "<table border=\"1\" class=\"dataframe\">\n",
              "  <thead>\n",
              "    <tr style=\"text-align: right;\">\n",
              "      <th></th>\n",
              "      <th>id</th>\n",
              "      <th>reason</th>\n",
              "      <th>month</th>\n",
              "      <th>day</th>\n",
              "      <th>seasons</th>\n",
              "      <th>trans_exp</th>\n",
              "      <th>distance</th>\n",
              "      <th>serv_time</th>\n",
              "      <th>age</th>\n",
              "      <th>work_load</th>\n",
              "      <th>hit_tg</th>\n",
              "      <th>disc_fail</th>\n",
              "      <th>education</th>\n",
              "      <th>son</th>\n",
              "      <th>drinker</th>\n",
              "      <th>smoker</th>\n",
              "      <th>pet</th>\n",
              "      <th>weight</th>\n",
              "      <th>height</th>\n",
              "      <th>bmi</th>\n",
              "      <th>abs_hours</th>\n",
              "    </tr>\n",
              "  </thead>\n",
              "  <tbody>\n",
              "    <tr>\n",
              "      <th>count</th>\n",
              "      <td>740.000000</td>\n",
              "      <td>740.000000</td>\n",
              "      <td>740.000000</td>\n",
              "      <td>740.000000</td>\n",
              "      <td>740.000000</td>\n",
              "      <td>740.000000</td>\n",
              "      <td>740.000000</td>\n",
              "      <td>740.000000</td>\n",
              "      <td>740.000000</td>\n",
              "      <td>740.000000</td>\n",
              "      <td>740.000000</td>\n",
              "      <td>740.000000</td>\n",
              "      <td>740.000000</td>\n",
              "      <td>740.000000</td>\n",
              "      <td>740.000000</td>\n",
              "      <td>740.000000</td>\n",
              "      <td>740.000000</td>\n",
              "      <td>740.000000</td>\n",
              "      <td>740.000000</td>\n",
              "      <td>740.000000</td>\n",
              "      <td>740.000000</td>\n",
              "    </tr>\n",
              "    <tr>\n",
              "      <th>mean</th>\n",
              "      <td>18.017568</td>\n",
              "      <td>19.216216</td>\n",
              "      <td>6.324324</td>\n",
              "      <td>3.914865</td>\n",
              "      <td>2.544595</td>\n",
              "      <td>221.329730</td>\n",
              "      <td>29.631081</td>\n",
              "      <td>12.554054</td>\n",
              "      <td>36.450000</td>\n",
              "      <td>271.490235</td>\n",
              "      <td>94.587838</td>\n",
              "      <td>0.054054</td>\n",
              "      <td>1.291892</td>\n",
              "      <td>1.018919</td>\n",
              "      <td>0.567568</td>\n",
              "      <td>0.072973</td>\n",
              "      <td>0.745946</td>\n",
              "      <td>79.035135</td>\n",
              "      <td>172.114865</td>\n",
              "      <td>26.677027</td>\n",
              "      <td>6.924324</td>\n",
              "    </tr>\n",
              "    <tr>\n",
              "      <th>std</th>\n",
              "      <td>11.021247</td>\n",
              "      <td>8.433406</td>\n",
              "      <td>3.436287</td>\n",
              "      <td>1.421675</td>\n",
              "      <td>1.111831</td>\n",
              "      <td>66.952223</td>\n",
              "      <td>14.836788</td>\n",
              "      <td>4.384873</td>\n",
              "      <td>6.478772</td>\n",
              "      <td>39.058116</td>\n",
              "      <td>3.779313</td>\n",
              "      <td>0.226277</td>\n",
              "      <td>0.673238</td>\n",
              "      <td>1.098489</td>\n",
              "      <td>0.495749</td>\n",
              "      <td>0.260268</td>\n",
              "      <td>1.318258</td>\n",
              "      <td>12.883211</td>\n",
              "      <td>6.034995</td>\n",
              "      <td>4.285452</td>\n",
              "      <td>13.330998</td>\n",
              "    </tr>\n",
              "    <tr>\n",
              "      <th>min</th>\n",
              "      <td>1.000000</td>\n",
              "      <td>0.000000</td>\n",
              "      <td>0.000000</td>\n",
              "      <td>2.000000</td>\n",
              "      <td>1.000000</td>\n",
              "      <td>118.000000</td>\n",
              "      <td>5.000000</td>\n",
              "      <td>1.000000</td>\n",
              "      <td>27.000000</td>\n",
              "      <td>205.917000</td>\n",
              "      <td>81.000000</td>\n",
              "      <td>0.000000</td>\n",
              "      <td>1.000000</td>\n",
              "      <td>0.000000</td>\n",
              "      <td>0.000000</td>\n",
              "      <td>0.000000</td>\n",
              "      <td>0.000000</td>\n",
              "      <td>56.000000</td>\n",
              "      <td>163.000000</td>\n",
              "      <td>19.000000</td>\n",
              "      <td>0.000000</td>\n",
              "    </tr>\n",
              "    <tr>\n",
              "      <th>25%</th>\n",
              "      <td>9.000000</td>\n",
              "      <td>13.000000</td>\n",
              "      <td>3.000000</td>\n",
              "      <td>3.000000</td>\n",
              "      <td>2.000000</td>\n",
              "      <td>179.000000</td>\n",
              "      <td>16.000000</td>\n",
              "      <td>9.000000</td>\n",
              "      <td>31.000000</td>\n",
              "      <td>244.387000</td>\n",
              "      <td>93.000000</td>\n",
              "      <td>0.000000</td>\n",
              "      <td>1.000000</td>\n",
              "      <td>0.000000</td>\n",
              "      <td>0.000000</td>\n",
              "      <td>0.000000</td>\n",
              "      <td>0.000000</td>\n",
              "      <td>69.000000</td>\n",
              "      <td>169.000000</td>\n",
              "      <td>24.000000</td>\n",
              "      <td>2.000000</td>\n",
              "    </tr>\n",
              "    <tr>\n",
              "      <th>50%</th>\n",
              "      <td>18.000000</td>\n",
              "      <td>23.000000</td>\n",
              "      <td>6.000000</td>\n",
              "      <td>4.000000</td>\n",
              "      <td>3.000000</td>\n",
              "      <td>225.000000</td>\n",
              "      <td>26.000000</td>\n",
              "      <td>13.000000</td>\n",
              "      <td>37.000000</td>\n",
              "      <td>264.249000</td>\n",
              "      <td>95.000000</td>\n",
              "      <td>0.000000</td>\n",
              "      <td>1.000000</td>\n",
              "      <td>1.000000</td>\n",
              "      <td>1.000000</td>\n",
              "      <td>0.000000</td>\n",
              "      <td>0.000000</td>\n",
              "      <td>83.000000</td>\n",
              "      <td>170.000000</td>\n",
              "      <td>25.000000</td>\n",
              "      <td>3.000000</td>\n",
              "    </tr>\n",
              "    <tr>\n",
              "      <th>75%</th>\n",
              "      <td>28.000000</td>\n",
              "      <td>26.000000</td>\n",
              "      <td>9.000000</td>\n",
              "      <td>5.000000</td>\n",
              "      <td>4.000000</td>\n",
              "      <td>260.000000</td>\n",
              "      <td>50.000000</td>\n",
              "      <td>16.000000</td>\n",
              "      <td>40.000000</td>\n",
              "      <td>294.217000</td>\n",
              "      <td>97.000000</td>\n",
              "      <td>0.000000</td>\n",
              "      <td>1.000000</td>\n",
              "      <td>2.000000</td>\n",
              "      <td>1.000000</td>\n",
              "      <td>0.000000</td>\n",
              "      <td>1.000000</td>\n",
              "      <td>89.000000</td>\n",
              "      <td>172.000000</td>\n",
              "      <td>31.000000</td>\n",
              "      <td>8.000000</td>\n",
              "    </tr>\n",
              "    <tr>\n",
              "      <th>max</th>\n",
              "      <td>36.000000</td>\n",
              "      <td>28.000000</td>\n",
              "      <td>12.000000</td>\n",
              "      <td>6.000000</td>\n",
              "      <td>4.000000</td>\n",
              "      <td>388.000000</td>\n",
              "      <td>52.000000</td>\n",
              "      <td>29.000000</td>\n",
              "      <td>58.000000</td>\n",
              "      <td>378.884000</td>\n",
              "      <td>100.000000</td>\n",
              "      <td>1.000000</td>\n",
              "      <td>4.000000</td>\n",
              "      <td>4.000000</td>\n",
              "      <td>1.000000</td>\n",
              "      <td>1.000000</td>\n",
              "      <td>8.000000</td>\n",
              "      <td>108.000000</td>\n",
              "      <td>196.000000</td>\n",
              "      <td>38.000000</td>\n",
              "      <td>120.000000</td>\n",
              "    </tr>\n",
              "  </tbody>\n",
              "</table>\n",
              "</div>"
            ],
            "text/plain": [
              "               id      reason       month  ...      height         bmi   abs_hours\n",
              "count  740.000000  740.000000  740.000000  ...  740.000000  740.000000  740.000000\n",
              "mean    18.017568   19.216216    6.324324  ...  172.114865   26.677027    6.924324\n",
              "std     11.021247    8.433406    3.436287  ...    6.034995    4.285452   13.330998\n",
              "min      1.000000    0.000000    0.000000  ...  163.000000   19.000000    0.000000\n",
              "25%      9.000000   13.000000    3.000000  ...  169.000000   24.000000    2.000000\n",
              "50%     18.000000   23.000000    6.000000  ...  170.000000   25.000000    3.000000\n",
              "75%     28.000000   26.000000    9.000000  ...  172.000000   31.000000    8.000000\n",
              "max     36.000000   28.000000   12.000000  ...  196.000000   38.000000  120.000000\n",
              "\n",
              "[8 rows x 21 columns]"
            ]
          },
          "metadata": {
            "tags": []
          },
          "execution_count": 9
        }
      ]
    },
    {
      "cell_type": "markdown",
      "metadata": {
        "id": "Q0L9jWPsxgx7",
        "colab_type": "text"
      },
      "source": [
        "There is one more attribute to check: *disc_fail*. It is a boolean value."
      ]
    },
    {
      "cell_type": "code",
      "metadata": {
        "id": "jWCMPfftx4wu",
        "colab_type": "code",
        "outputId": "e4580091-f3ac-40fa-c103-e19832875943",
        "colab": {
          "base_uri": "https://localhost:8080/",
          "height": 34
        }
      },
      "source": [
        "len(ds[ds['disc_fail'] == 1]) # Check how many records have 1 "
      ],
      "execution_count": 10,
      "outputs": [
        {
          "output_type": "execute_result",
          "data": {
            "text/plain": [
              "40"
            ]
          },
          "metadata": {
            "tags": []
          },
          "execution_count": 10
        }
      ]
    },
    {
      "cell_type": "markdown",
      "metadata": {
        "id": "HuHiMRIKyIZc",
        "colab_type": "text"
      },
      "source": [
        "0 records have *disc_fail=1*, everyone has 0. It could be interesesting to know the distribution of these *disciplinary failure* over the employees and understand if those who received it tending to do less delays or absences.\n",
        "\n",
        "Anyway, we don't have this information and for our purposes the attribute is so useless. I remove the entire column."
      ]
    },
    {
      "cell_type": "code",
      "metadata": {
        "id": "mxGGIJXByatm",
        "colab_type": "code",
        "colab": {}
      },
      "source": [
        "ds = ds.drop(columns = 'disc_fail')"
      ],
      "execution_count": 0,
      "outputs": []
    },
    {
      "cell_type": "markdown",
      "metadata": {
        "id": "yniuAP-R0NXg",
        "colab_type": "text"
      },
      "source": [
        "I checked for the zeros and the invalid values among the dataset. \n",
        "Now I prepare data for visualization and analysis.\n",
        "\n",
        "In order to apply **Classification**, I want to divide the values of *Absenteeism in hours*, considering the effective time of absence. I assume a work day of 8 hours and I split the set in labels:\n",
        "* *late*: if the absence lasts strictly less than 2 hours. \n",
        "* *hours*: if the absence was for about a work day\n",
        "* *days*: if the absence was one day ore more\n",
        "* *week*: if the absence was for at least 40 hours: a work week."
      ]
    },
    {
      "cell_type": "code",
      "metadata": {
        "id": "L6XqfpgoldyS",
        "colab_type": "code",
        "outputId": "b07d42db-03f4-4e7d-f5a5-ba39dbed4a48",
        "colab": {
          "base_uri": "https://localhost:8080/",
          "height": 224
        }
      },
      "source": [
        "# Create label for ABS_HOURS: assume 8 hours day work\n",
        "def level(absh):\n",
        "  if(absh < 2):\n",
        "    lev = 'late'\n",
        "  elif((absh >= 2) and (absh <= 12)):\n",
        "    lev = 'hours'\n",
        "  elif((absh > 12) and (absh <  40)):\n",
        "    lev = 'days'\n",
        "  elif(absh >= 40):\n",
        "    lev = 'week'\n",
        "  return lev\n",
        "\n",
        "#def level(absh):\n",
        "#  if(absh <= 8):\n",
        "#    lev = 'hours'\n",
        "#  else:\n",
        "#    lev = 'days'\n",
        "#  return lev\n",
        "\n",
        "ds['abs_lev'] =  ds['abs_hours'].apply(lambda x: level(x)).astype('category')\n",
        "\n",
        "ds.head()"
      ],
      "execution_count": 12,
      "outputs": [
        {
          "output_type": "execute_result",
          "data": {
            "text/html": [
              "<div>\n",
              "<style scoped>\n",
              "    .dataframe tbody tr th:only-of-type {\n",
              "        vertical-align: middle;\n",
              "    }\n",
              "\n",
              "    .dataframe tbody tr th {\n",
              "        vertical-align: top;\n",
              "    }\n",
              "\n",
              "    .dataframe thead th {\n",
              "        text-align: right;\n",
              "    }\n",
              "</style>\n",
              "<table border=\"1\" class=\"dataframe\">\n",
              "  <thead>\n",
              "    <tr style=\"text-align: right;\">\n",
              "      <th></th>\n",
              "      <th>id</th>\n",
              "      <th>reason</th>\n",
              "      <th>month</th>\n",
              "      <th>day</th>\n",
              "      <th>seasons</th>\n",
              "      <th>trans_exp</th>\n",
              "      <th>distance</th>\n",
              "      <th>serv_time</th>\n",
              "      <th>age</th>\n",
              "      <th>work_load</th>\n",
              "      <th>hit_tg</th>\n",
              "      <th>education</th>\n",
              "      <th>son</th>\n",
              "      <th>drinker</th>\n",
              "      <th>smoker</th>\n",
              "      <th>pet</th>\n",
              "      <th>weight</th>\n",
              "      <th>height</th>\n",
              "      <th>bmi</th>\n",
              "      <th>abs_hours</th>\n",
              "      <th>abs_lev</th>\n",
              "    </tr>\n",
              "  </thead>\n",
              "  <tbody>\n",
              "    <tr>\n",
              "      <th>0</th>\n",
              "      <td>11</td>\n",
              "      <td>26</td>\n",
              "      <td>7</td>\n",
              "      <td>3</td>\n",
              "      <td>1</td>\n",
              "      <td>289</td>\n",
              "      <td>36</td>\n",
              "      <td>13</td>\n",
              "      <td>33</td>\n",
              "      <td>239.554</td>\n",
              "      <td>97</td>\n",
              "      <td>1</td>\n",
              "      <td>2</td>\n",
              "      <td>1</td>\n",
              "      <td>0</td>\n",
              "      <td>1</td>\n",
              "      <td>90</td>\n",
              "      <td>172</td>\n",
              "      <td>30</td>\n",
              "      <td>4</td>\n",
              "      <td>hours</td>\n",
              "    </tr>\n",
              "    <tr>\n",
              "      <th>1</th>\n",
              "      <td>36</td>\n",
              "      <td>0</td>\n",
              "      <td>7</td>\n",
              "      <td>3</td>\n",
              "      <td>1</td>\n",
              "      <td>118</td>\n",
              "      <td>13</td>\n",
              "      <td>18</td>\n",
              "      <td>50</td>\n",
              "      <td>239.554</td>\n",
              "      <td>97</td>\n",
              "      <td>1</td>\n",
              "      <td>1</td>\n",
              "      <td>1</td>\n",
              "      <td>0</td>\n",
              "      <td>0</td>\n",
              "      <td>98</td>\n",
              "      <td>178</td>\n",
              "      <td>31</td>\n",
              "      <td>0</td>\n",
              "      <td>late</td>\n",
              "    </tr>\n",
              "    <tr>\n",
              "      <th>2</th>\n",
              "      <td>3</td>\n",
              "      <td>23</td>\n",
              "      <td>7</td>\n",
              "      <td>4</td>\n",
              "      <td>1</td>\n",
              "      <td>179</td>\n",
              "      <td>51</td>\n",
              "      <td>18</td>\n",
              "      <td>38</td>\n",
              "      <td>239.554</td>\n",
              "      <td>97</td>\n",
              "      <td>1</td>\n",
              "      <td>0</td>\n",
              "      <td>1</td>\n",
              "      <td>0</td>\n",
              "      <td>0</td>\n",
              "      <td>89</td>\n",
              "      <td>170</td>\n",
              "      <td>31</td>\n",
              "      <td>2</td>\n",
              "      <td>hours</td>\n",
              "    </tr>\n",
              "    <tr>\n",
              "      <th>3</th>\n",
              "      <td>7</td>\n",
              "      <td>7</td>\n",
              "      <td>7</td>\n",
              "      <td>5</td>\n",
              "      <td>1</td>\n",
              "      <td>279</td>\n",
              "      <td>5</td>\n",
              "      <td>14</td>\n",
              "      <td>39</td>\n",
              "      <td>239.554</td>\n",
              "      <td>97</td>\n",
              "      <td>1</td>\n",
              "      <td>2</td>\n",
              "      <td>1</td>\n",
              "      <td>1</td>\n",
              "      <td>0</td>\n",
              "      <td>68</td>\n",
              "      <td>168</td>\n",
              "      <td>24</td>\n",
              "      <td>4</td>\n",
              "      <td>hours</td>\n",
              "    </tr>\n",
              "    <tr>\n",
              "      <th>4</th>\n",
              "      <td>11</td>\n",
              "      <td>23</td>\n",
              "      <td>7</td>\n",
              "      <td>5</td>\n",
              "      <td>1</td>\n",
              "      <td>289</td>\n",
              "      <td>36</td>\n",
              "      <td>13</td>\n",
              "      <td>33</td>\n",
              "      <td>239.554</td>\n",
              "      <td>97</td>\n",
              "      <td>1</td>\n",
              "      <td>2</td>\n",
              "      <td>1</td>\n",
              "      <td>0</td>\n",
              "      <td>1</td>\n",
              "      <td>90</td>\n",
              "      <td>172</td>\n",
              "      <td>30</td>\n",
              "      <td>2</td>\n",
              "      <td>hours</td>\n",
              "    </tr>\n",
              "  </tbody>\n",
              "</table>\n",
              "</div>"
            ],
            "text/plain": [
              "   id  reason  month  day  seasons  ...  weight  height  bmi  abs_hours  abs_lev\n",
              "0  11      26      7    3        1  ...      90     172   30          4    hours\n",
              "1  36       0      7    3        1  ...      98     178   31          0     late\n",
              "2   3      23      7    4        1  ...      89     170   31          2    hours\n",
              "3   7       7      7    5        1  ...      68     168   24          4    hours\n",
              "4  11      23      7    5        1  ...      90     172   30          2    hours\n",
              "\n",
              "[5 rows x 21 columns]"
            ]
          },
          "metadata": {
            "tags": []
          },
          "execution_count": 12
        }
      ]
    },
    {
      "cell_type": "markdown",
      "metadata": {
        "id": "Mq4Jaz_cDpFi",
        "colab_type": "text"
      },
      "source": [
        "We see that there are several categorical attributes represented using integer values. In order to manage them, it is opportune to set their type as [Categorical data](https://pandas.pydata.org/pandas-docs/stable/user_guide/categorical.html). "
      ]
    },
    {
      "cell_type": "code",
      "metadata": {
        "id": "Y1isdt0s02-5",
        "colab_type": "code",
        "outputId": "3e81741d-65bd-45a2-c336-ab5b8e1fef5d",
        "colab": {
          "base_uri": "https://localhost:8080/",
          "height": 309
        }
      },
      "source": [
        "# Here I will add extended values for categorical data.\n",
        "\n",
        "# Adding Season names:\n",
        "season_mapping = {1:'Summer', 2:'Autumn', 3:'Winter', 4:'Spring'}\n",
        "ds['season_name'] = ds.seasons.map(season_mapping)\n",
        "ds['season_name'] = ds['season_name'].astype('category')\n",
        "\n",
        "# Adding Month names abbrevations:\n",
        "ds['month_name'] =  ds['month'].apply(lambda x: calendar.month_abbr[x])\n",
        "ds['month_name'] = ds['month_name'].astype('category')\n",
        "\n",
        "# Adding day names abbrevations:\n",
        "ds['day_name'] =  ds['day'].apply(lambda x: calendar.day_abbr[x-2])\n",
        "# calendar 0: Monday, but I want 2: Monday\n",
        "ds['day_name'] = ds['day_name'].astype('category')\n",
        "\n",
        "# Adding reasons value:\n",
        "reason_mapping = {\n",
        "    0: 'Unjustified',\n",
        "    1: 'Certain infectious and parasitic diseases',\n",
        "    2: 'Neoplasms',\n",
        "    3: 'Diseases of the blood and blood-forming organs and certain disorders involving the immune mechanism',\n",
        "    4: 'Endocrine, nutritional and metabolic diseases',\n",
        "    5: 'Mental and behavioural disorders',\n",
        "    6: 'Diseases of the nervous system',\n",
        "    7: 'Diseases of the eye and adnexa',\n",
        "    8: 'Diseases of the ear and mastoid process',\n",
        "    9: 'Diseases of the circulatory system',\n",
        "    10: 'Diseases of the respiratory system',\n",
        "    11: 'Diseases of the digestive system',\n",
        "    12: 'Diseases of the skin and subcutaneous tissue',\n",
        "    13: 'Diseases of the musculoskeletal system and connective tissue',\n",
        "    14: 'Diseases of the genitourinary system',\n",
        "    15: 'Pregnancy, childbirth and the puerperium',\n",
        "    16: 'Certain conditions originating in the perinatal period',\n",
        "    17: 'Congenital malformations, deformations and chromosomal abnormalities',\n",
        "    18: 'Symptoms, signs and abnormal clinical and laboratory findings, not elsewhere classified',\n",
        "    19: 'Injury, poisoning and certain other consequences of external causes',\n",
        "    20: 'External causes of morbidity and mortality',\n",
        "    21: 'Factors influencing health status and contact with health services',\n",
        "    22: 'Patient follow-up',\n",
        "    23: 'Medical consultation',\n",
        "    24: 'Blood donation',\n",
        "    25: 'Laboratory examination',\n",
        "    26: 'Unjustified absence',\n",
        "    27: 'Physiotherapy',\n",
        "    28: 'Dental consultation'\n",
        "}\n",
        "ds['reason_text'] = ds['reason'].map(reason_mapping)\n",
        "ds['reason_text'] = ds['reason_text'].astype('category')\n",
        "\n",
        "# Adding Education:\n",
        "education_mapping = {\n",
        "    1: '1. High School',\n",
        "    2: '2. Graduate',\n",
        "    3: '3. Post Graduate',\n",
        "    4: '4. Master & Doctor'\n",
        "}\n",
        "ds['education_detail'] = ds['education'].map(education_mapping)\n",
        "ds['education_detail'] = ds['education_detail'].astype('category')\n",
        "\n",
        "# smoker and drinker are boolean\n",
        "ds['smoker'] = ds['smoker'].astype('bool')\n",
        "ds['drinker'] = ds['drinker'].astype('bool')\n",
        "\n",
        "# Now ds contains categorical data twice.\n",
        "# I drop the old columns, but before I keep save of everything\n",
        "# in ds_explore: it will be used for data exploration and we will \n",
        "# choose the better format each way.\n",
        "\n",
        "ds_explore = ds.copy()\n",
        "ds = ds.drop(columns = {'id','reason','month','day','seasons','education'})\n",
        "\n",
        "# I check the firsts rows:\n",
        "ds_explore.head()"
      ],
      "execution_count": 13,
      "outputs": [
        {
          "output_type": "execute_result",
          "data": {
            "text/html": [
              "<div>\n",
              "<style scoped>\n",
              "    .dataframe tbody tr th:only-of-type {\n",
              "        vertical-align: middle;\n",
              "    }\n",
              "\n",
              "    .dataframe tbody tr th {\n",
              "        vertical-align: top;\n",
              "    }\n",
              "\n",
              "    .dataframe thead th {\n",
              "        text-align: right;\n",
              "    }\n",
              "</style>\n",
              "<table border=\"1\" class=\"dataframe\">\n",
              "  <thead>\n",
              "    <tr style=\"text-align: right;\">\n",
              "      <th></th>\n",
              "      <th>id</th>\n",
              "      <th>reason</th>\n",
              "      <th>month</th>\n",
              "      <th>day</th>\n",
              "      <th>seasons</th>\n",
              "      <th>trans_exp</th>\n",
              "      <th>distance</th>\n",
              "      <th>serv_time</th>\n",
              "      <th>age</th>\n",
              "      <th>work_load</th>\n",
              "      <th>hit_tg</th>\n",
              "      <th>education</th>\n",
              "      <th>son</th>\n",
              "      <th>drinker</th>\n",
              "      <th>smoker</th>\n",
              "      <th>pet</th>\n",
              "      <th>weight</th>\n",
              "      <th>height</th>\n",
              "      <th>bmi</th>\n",
              "      <th>abs_hours</th>\n",
              "      <th>abs_lev</th>\n",
              "      <th>season_name</th>\n",
              "      <th>month_name</th>\n",
              "      <th>day_name</th>\n",
              "      <th>reason_text</th>\n",
              "      <th>education_detail</th>\n",
              "    </tr>\n",
              "  </thead>\n",
              "  <tbody>\n",
              "    <tr>\n",
              "      <th>0</th>\n",
              "      <td>11</td>\n",
              "      <td>26</td>\n",
              "      <td>7</td>\n",
              "      <td>3</td>\n",
              "      <td>1</td>\n",
              "      <td>289</td>\n",
              "      <td>36</td>\n",
              "      <td>13</td>\n",
              "      <td>33</td>\n",
              "      <td>239.554</td>\n",
              "      <td>97</td>\n",
              "      <td>1</td>\n",
              "      <td>2</td>\n",
              "      <td>True</td>\n",
              "      <td>False</td>\n",
              "      <td>1</td>\n",
              "      <td>90</td>\n",
              "      <td>172</td>\n",
              "      <td>30</td>\n",
              "      <td>4</td>\n",
              "      <td>hours</td>\n",
              "      <td>Summer</td>\n",
              "      <td>Jul</td>\n",
              "      <td>Tue</td>\n",
              "      <td>Unjustified absence</td>\n",
              "      <td>1. High School</td>\n",
              "    </tr>\n",
              "    <tr>\n",
              "      <th>1</th>\n",
              "      <td>36</td>\n",
              "      <td>0</td>\n",
              "      <td>7</td>\n",
              "      <td>3</td>\n",
              "      <td>1</td>\n",
              "      <td>118</td>\n",
              "      <td>13</td>\n",
              "      <td>18</td>\n",
              "      <td>50</td>\n",
              "      <td>239.554</td>\n",
              "      <td>97</td>\n",
              "      <td>1</td>\n",
              "      <td>1</td>\n",
              "      <td>True</td>\n",
              "      <td>False</td>\n",
              "      <td>0</td>\n",
              "      <td>98</td>\n",
              "      <td>178</td>\n",
              "      <td>31</td>\n",
              "      <td>0</td>\n",
              "      <td>late</td>\n",
              "      <td>Summer</td>\n",
              "      <td>Jul</td>\n",
              "      <td>Tue</td>\n",
              "      <td>Unjustified</td>\n",
              "      <td>1. High School</td>\n",
              "    </tr>\n",
              "    <tr>\n",
              "      <th>2</th>\n",
              "      <td>3</td>\n",
              "      <td>23</td>\n",
              "      <td>7</td>\n",
              "      <td>4</td>\n",
              "      <td>1</td>\n",
              "      <td>179</td>\n",
              "      <td>51</td>\n",
              "      <td>18</td>\n",
              "      <td>38</td>\n",
              "      <td>239.554</td>\n",
              "      <td>97</td>\n",
              "      <td>1</td>\n",
              "      <td>0</td>\n",
              "      <td>True</td>\n",
              "      <td>False</td>\n",
              "      <td>0</td>\n",
              "      <td>89</td>\n",
              "      <td>170</td>\n",
              "      <td>31</td>\n",
              "      <td>2</td>\n",
              "      <td>hours</td>\n",
              "      <td>Summer</td>\n",
              "      <td>Jul</td>\n",
              "      <td>Wed</td>\n",
              "      <td>Medical consultation</td>\n",
              "      <td>1. High School</td>\n",
              "    </tr>\n",
              "    <tr>\n",
              "      <th>3</th>\n",
              "      <td>7</td>\n",
              "      <td>7</td>\n",
              "      <td>7</td>\n",
              "      <td>5</td>\n",
              "      <td>1</td>\n",
              "      <td>279</td>\n",
              "      <td>5</td>\n",
              "      <td>14</td>\n",
              "      <td>39</td>\n",
              "      <td>239.554</td>\n",
              "      <td>97</td>\n",
              "      <td>1</td>\n",
              "      <td>2</td>\n",
              "      <td>True</td>\n",
              "      <td>True</td>\n",
              "      <td>0</td>\n",
              "      <td>68</td>\n",
              "      <td>168</td>\n",
              "      <td>24</td>\n",
              "      <td>4</td>\n",
              "      <td>hours</td>\n",
              "      <td>Summer</td>\n",
              "      <td>Jul</td>\n",
              "      <td>Thu</td>\n",
              "      <td>Diseases of the eye and adnexa</td>\n",
              "      <td>1. High School</td>\n",
              "    </tr>\n",
              "    <tr>\n",
              "      <th>4</th>\n",
              "      <td>11</td>\n",
              "      <td>23</td>\n",
              "      <td>7</td>\n",
              "      <td>5</td>\n",
              "      <td>1</td>\n",
              "      <td>289</td>\n",
              "      <td>36</td>\n",
              "      <td>13</td>\n",
              "      <td>33</td>\n",
              "      <td>239.554</td>\n",
              "      <td>97</td>\n",
              "      <td>1</td>\n",
              "      <td>2</td>\n",
              "      <td>True</td>\n",
              "      <td>False</td>\n",
              "      <td>1</td>\n",
              "      <td>90</td>\n",
              "      <td>172</td>\n",
              "      <td>30</td>\n",
              "      <td>2</td>\n",
              "      <td>hours</td>\n",
              "      <td>Summer</td>\n",
              "      <td>Jul</td>\n",
              "      <td>Thu</td>\n",
              "      <td>Medical consultation</td>\n",
              "      <td>1. High School</td>\n",
              "    </tr>\n",
              "  </tbody>\n",
              "</table>\n",
              "</div>"
            ],
            "text/plain": [
              "   id  reason  month  ...  day_name                     reason_text  education_detail\n",
              "0  11      26      7  ...       Tue             Unjustified absence    1. High School\n",
              "1  36       0      7  ...       Tue                     Unjustified    1. High School\n",
              "2   3      23      7  ...       Wed            Medical consultation    1. High School\n",
              "3   7       7      7  ...       Thu  Diseases of the eye and adnexa    1. High School\n",
              "4  11      23      7  ...       Thu            Medical consultation    1. High School\n",
              "\n",
              "[5 rows x 26 columns]"
            ]
          },
          "metadata": {
            "tags": []
          },
          "execution_count": 13
        }
      ]
    },
    {
      "cell_type": "markdown",
      "metadata": {
        "id": "DP0gybp3L_d2",
        "colab_type": "text"
      },
      "source": [
        "## 3.  <a class=\"anchor\" id=\"third\">Exploratory Data Analysis</a>\n",
        "\n"
      ]
    },
    {
      "cell_type": "markdown",
      "metadata": {
        "id": "9RDz1LGodr2P",
        "colab_type": "text"
      },
      "source": [
        "Sometimes simple plotting can help understanding how to proceed. We analyze the distribution of *Absenteeism time in hours* and then we try to undestrand the relationships between the other features. "
      ]
    },
    {
      "cell_type": "code",
      "metadata": {
        "id": "ypdCWuTas6DH",
        "colab_type": "code",
        "outputId": "473bb0db-3bb2-4199-f496-6d130950ee46",
        "colab": {
          "base_uri": "https://localhost:8080/",
          "height": 296
        }
      },
      "source": [
        "N = len(ds_explore)\n",
        "\n",
        "# Plotting absenteeism hours \n",
        "bins = 25\n",
        "fig, ax = plt.subplots()\n",
        "ax.hist(ds_explore['abs_hours'], bins, rwidth=0.8)\n",
        "ax.set_xlabel('Absenteeism time in hours')\n",
        "ax.set_ylabel('Frequency')"
      ],
      "execution_count": 14,
      "outputs": [
        {
          "output_type": "execute_result",
          "data": {
            "text/plain": [
              "Text(0, 0.5, 'Frequency')"
            ]
          },
          "metadata": {
            "tags": []
          },
          "execution_count": 14
        },
        {
          "output_type": "display_data",
          "data": {
            "image/png": "[encoded data removed]",
            "text/plain": [
              "<Figure size 432x288 with 1 Axes>"
            ]
          },
          "metadata": {
            "tags": [],
            "needs_background": "light"
          }
        }
      ]
    },
    {
      "cell_type": "markdown",
      "metadata": {
        "id": "SjJWlZINnLj0",
        "colab_type": "text"
      },
      "source": [
        "Absenteeism time is highly skewed due to presence of outliers. "
      ]
    },
    {
      "cell_type": "code",
      "metadata": {
        "id": "kRMZj6sVnaTs",
        "colab_type": "code",
        "outputId": "f94ae8e1-899a-4739-f857-b644bf8369a8",
        "colab": {
          "base_uri": "https://localhost:8080/",
          "height": 279
        }
      },
      "source": [
        "# boxplot of Absenteeism time. \n",
        "plt.boxplot(ds_explore['abs_hours'], widths = 0.5)\n",
        "plt.ylabel('Absenteeism time in hours')\n",
        "plt.xlabel('Boxplot')\n",
        "plt.show()"
      ],
      "execution_count": 15,
      "outputs": [
        {
          "output_type": "display_data",
          "data": {
            "image/png": "[encoded data removed]",
            "text/plain": [
              "<Figure size 432x288 with 1 Axes>"
            ]
          },
          "metadata": {
            "tags": [],
            "needs_background": "light"
          }
        }
      ]
    },
    {
      "cell_type": "markdown",
      "metadata": {
        "id": "mHOPEb-P2Xvn",
        "colab_type": "text"
      },
      "source": [
        "Clearly, in *Abseteeism time in hours* there is a great presence of outliers. It seems there are few observations particularly unusual."
      ]
    },
    {
      "cell_type": "code",
      "metadata": {
        "id": "oYTbG3hM3m-7",
        "colab_type": "code",
        "outputId": "0b62dfc7-26f4-473a-cdc7-37b544bc5332",
        "colab": {
          "base_uri": "https://localhost:8080/",
          "height": 296
        }
      },
      "source": [
        "# boxplot of Absenteeism time for values grater than a week (40 hours). \n",
        "bins = 15\n",
        "fig, ax = plt.subplots()\n",
        "out = ds_explore[ds_explore['abs_hours'] > 40]\n",
        "ax.hist(out['abs_hours'], bins, rwidth = 0.8)\n",
        "ax.set_xlabel('Absenteeism time in hours')\n",
        "ax.set_ylabel('Frequency')"
      ],
      "execution_count": 16,
      "outputs": [
        {
          "output_type": "execute_result",
          "data": {
            "text/plain": [
              "Text(0, 0.5, 'Frequency')"
            ]
          },
          "metadata": {
            "tags": []
          },
          "execution_count": 16
        },
        {
          "output_type": "display_data",
          "data": {
            "image/png": "[encoded data removed]",
            "text/plain": [
              "<Figure size 432x288 with 1 Axes>"
            ]
          },
          "metadata": {
            "tags": [],
            "needs_background": "light"
          }
        }
      ]
    },
    {
      "cell_type": "code",
      "metadata": {
        "id": "9YXsq9bG_dcH",
        "colab_type": "code",
        "outputId": "7d83a379-5b80-4597-bac0-80cfca375d87",
        "colab": {
          "base_uri": "https://localhost:8080/",
          "height": 265
        }
      },
      "source": [
        "# Plotting absence last\n",
        "time = ds['abs_hours']\n",
        "late = np.count_nonzero(time < 2)\n",
        "hours = np.count_nonzero(time <= 12) - late\n",
        "week = np.count_nonzero(time >= 40)\n",
        "days = np.count_nonzero(time > 7) - week\n",
        "\n",
        "x = np.array(['Late', 'Hours', 'Days', 'Week'])\n",
        "y = np.array([late, hours, days, week])\n",
        "plt.bar(x, y)\n",
        "plt.show()"
      ],
      "execution_count": 17,
      "outputs": [
        {
          "output_type": "display_data",
          "data": {
            "image/png": "[encoded data removed]",
            "text/plain": [
              "<Figure size 432x288 with 1 Axes>"
            ]
          },
          "metadata": {
            "tags": [],
            "needs_background": "light"
          }
        }
      ]
    },
    {
      "cell_type": "markdown",
      "metadata": {
        "id": "dEN3KAAiIh7r",
        "colab_type": "text"
      },
      "source": [
        "The dataset is clearly unbalanced: the number of records of the classes is too difference. I can solve this issue with **oversampling** later.\n",
        "\n"
      ]
    },
    {
      "cell_type": "code",
      "metadata": {
        "id": "-0MVZdv0dhYV",
        "colab_type": "code",
        "outputId": "03ed5231-4d95-46e9-e7c6-c0e0cfc47bf9",
        "colab": {
          "base_uri": "https://localhost:8080/",
          "height": 314
        }
      },
      "source": [
        "# Plot of Absenteeism time in hours with Reason for absence. \n",
        "# To verify the outliers in each reason codes. \n",
        "sns.catplot(x = 'reason', y = 'abs_hours', \n",
        "            data = ds_explore,\n",
        "            height = 4,\n",
        "            aspect = 2,\n",
        "            jitter = '0.25',\n",
        "            ).set_axis_labels(\"Reason of absence code\", 'Absenteeism in hours')"
      ],
      "execution_count": 18,
      "outputs": [
        {
          "output_type": "execute_result",
          "data": {
            "text/plain": [
              "<seaborn.axisgrid.FacetGrid at 0x7f3d077acef0>"
            ]
          },
          "metadata": {
            "tags": []
          },
          "execution_count": 18
        },
        {
          "output_type": "display_data",
          "data": {
            "image/png": "[encoded data removed]",
            "text/plain": [
              "<Figure size 576x288 with 1 Axes>"
            ]
          },
          "metadata": {
            "tags": [],
            "needs_background": "light"
          }
        }
      ]
    },
    {
      "cell_type": "code",
      "metadata": {
        "id": "M91idZj3MFlO",
        "colab_type": "code",
        "outputId": "e5835aec-8a13-43de-846b-80e4a71b985a",
        "colab": {
          "base_uri": "https://localhost:8080/",
          "height": 313
        }
      },
      "source": [
        "sns.catplot(x = 'education_detail', y = 'abs_hours', \n",
        "            hue = 'season_name',\n",
        "            data = ds_explore,\n",
        "            height = 4,\n",
        "            aspect = 1.5).set_axis_labels(\"Education detail\", 'Absenteeism in hours')"
      ],
      "execution_count": 19,
      "outputs": [
        {
          "output_type": "execute_result",
          "data": {
            "text/plain": [
              "<seaborn.axisgrid.FacetGrid at 0x7f3d16c1f278>"
            ]
          },
          "metadata": {
            "tags": []
          },
          "execution_count": 19
        },
        {
          "output_type": "display_data",
          "data": {
            "image/png": "[encoded data removed]",
            "text/plain": [
              "<Figure size 510.125x288 with 1 Axes>"
            ]
          },
          "metadata": {
            "tags": [],
            "needs_background": "light"
          }
        }
      ]
    },
    {
      "cell_type": "code",
      "metadata": {
        "id": "QFLD44jgIwFf",
        "colab_type": "code",
        "outputId": "959d2085-38a2-4cf8-9617-ad33b25ee168",
        "colab": {
          "base_uri": "https://localhost:8080/",
          "height": 783
        }
      },
      "source": [
        "#Correlation matrix \n",
        "corr = ds.corr()\n",
        "plt.figure(figsize = (12,12))\n",
        "sns.heatmap(corr, annot = True, \n",
        "            vmin = -1, vmax = 1, center = 0,\n",
        "            cmap = sns.diverging_palette(20, 220, n = 200))\n",
        "plt.title('Correlation Heatmap', fontsize = 24)"
      ],
      "execution_count": 20,
      "outputs": [
        {
          "output_type": "execute_result",
          "data": {
            "text/plain": [
              "Text(0.5, 1.0, 'Correlation Heatmap')"
            ]
          },
          "metadata": {
            "tags": []
          },
          "execution_count": 20
        },
        {
          "output_type": "display_data",
          "data": {
            "image/png": "[encoded data removed]",
            "text/plain": [
              "<Figure size 864x864 with 2 Axes>"
            ]
          },
          "metadata": {
            "tags": [],
            "needs_background": "light"
          }
        }
      ]
    },
    {
      "cell_type": "markdown",
      "metadata": {
        "id": "MV4yH-lBKFu1",
        "colab_type": "text"
      },
      "source": [
        "\n",
        "Some features are being highlighted in the heatmap. Let's have a look to the more intresting. However, strong correlation among *bmi*, *height* and *weight* and between *distance* and *transport expences* may suggest to remove some feature.\n",
        "\n",
        "1. Strong positive correlation between *Age* and *Service time*.\n",
        "2. Positive correlation between *Service time* and *bmi* (and so *Weight*).\n",
        "3. Negative correlation between *Transport expences* and *Service time*.\n",
        "4. Negative correlation between *Service time* and number of *Pet*.\n",
        "\n",
        "We notice that no feature have strong negative or positive correlation with *Absenteeism time in hours*. We have to go deeper. What is more, clearly in the heatap they are not considered the categorical data.\n",
        "\n"
      ]
    },
    {
      "cell_type": "code",
      "metadata": {
        "id": "Tht1JlU1J0U-",
        "colab_type": "code",
        "colab": {}
      },
      "source": [
        "ds = ds.drop(columns = 'abs_hours') # I use abs_lev\n",
        "X = ds.drop(columns = 'abs_lev')\n",
        "y = ds['abs_lev']"
      ],
      "execution_count": 0,
      "outputs": []
    },
    {
      "cell_type": "markdown",
      "metadata": {
        "id": "1Et4gt8gBykx",
        "colab_type": "text"
      },
      "source": [
        "## 4. <a class=\"anchor\" id=\"fourth\">Dimensionality and Oversampling</a>"
      ]
    },
    {
      "cell_type": "code",
      "metadata": {
        "id": "CVrNObgiAmiC",
        "colab_type": "code",
        "outputId": "bd523bfa-8ab9-456b-a0b8-d111bb18b558",
        "colab": {
          "base_uri": "https://localhost:8080/",
          "height": 309
        }
      },
      "source": [
        "X.head()"
      ],
      "execution_count": 22,
      "outputs": [
        {
          "output_type": "execute_result",
          "data": {
            "text/html": [
              "<div>\n",
              "<style scoped>\n",
              "    .dataframe tbody tr th:only-of-type {\n",
              "        vertical-align: middle;\n",
              "    }\n",
              "\n",
              "    .dataframe tbody tr th {\n",
              "        vertical-align: top;\n",
              "    }\n",
              "\n",
              "    .dataframe thead th {\n",
              "        text-align: right;\n",
              "    }\n",
              "</style>\n",
              "<table border=\"1\" class=\"dataframe\">\n",
              "  <thead>\n",
              "    <tr style=\"text-align: right;\">\n",
              "      <th></th>\n",
              "      <th>trans_exp</th>\n",
              "      <th>distance</th>\n",
              "      <th>serv_time</th>\n",
              "      <th>age</th>\n",
              "      <th>work_load</th>\n",
              "      <th>hit_tg</th>\n",
              "      <th>son</th>\n",
              "      <th>drinker</th>\n",
              "      <th>smoker</th>\n",
              "      <th>pet</th>\n",
              "      <th>weight</th>\n",
              "      <th>height</th>\n",
              "      <th>bmi</th>\n",
              "      <th>season_name</th>\n",
              "      <th>month_name</th>\n",
              "      <th>day_name</th>\n",
              "      <th>reason_text</th>\n",
              "      <th>education_detail</th>\n",
              "    </tr>\n",
              "  </thead>\n",
              "  <tbody>\n",
              "    <tr>\n",
              "      <th>0</th>\n",
              "      <td>289</td>\n",
              "      <td>36</td>\n",
              "      <td>13</td>\n",
              "      <td>33</td>\n",
              "      <td>239.554</td>\n",
              "      <td>97</td>\n",
              "      <td>2</td>\n",
              "      <td>True</td>\n",
              "      <td>False</td>\n",
              "      <td>1</td>\n",
              "      <td>90</td>\n",
              "      <td>172</td>\n",
              "      <td>30</td>\n",
              "      <td>Summer</td>\n",
              "      <td>Jul</td>\n",
              "      <td>Tue</td>\n",
              "      <td>Unjustified absence</td>\n",
              "      <td>1. High School</td>\n",
              "    </tr>\n",
              "    <tr>\n",
              "      <th>1</th>\n",
              "      <td>118</td>\n",
              "      <td>13</td>\n",
              "      <td>18</td>\n",
              "      <td>50</td>\n",
              "      <td>239.554</td>\n",
              "      <td>97</td>\n",
              "      <td>1</td>\n",
              "      <td>True</td>\n",
              "      <td>False</td>\n",
              "      <td>0</td>\n",
              "      <td>98</td>\n",
              "      <td>178</td>\n",
              "      <td>31</td>\n",
              "      <td>Summer</td>\n",
              "      <td>Jul</td>\n",
              "      <td>Tue</td>\n",
              "      <td>Unjustified</td>\n",
              "      <td>1. High School</td>\n",
              "    </tr>\n",
              "    <tr>\n",
              "      <th>2</th>\n",
              "      <td>179</td>\n",
              "      <td>51</td>\n",
              "      <td>18</td>\n",
              "      <td>38</td>\n",
              "      <td>239.554</td>\n",
              "      <td>97</td>\n",
              "      <td>0</td>\n",
              "      <td>True</td>\n",
              "      <td>False</td>\n",
              "      <td>0</td>\n",
              "      <td>89</td>\n",
              "      <td>170</td>\n",
              "      <td>31</td>\n",
              "      <td>Summer</td>\n",
              "      <td>Jul</td>\n",
              "      <td>Wed</td>\n",
              "      <td>Medical consultation</td>\n",
              "      <td>1. High School</td>\n",
              "    </tr>\n",
              "    <tr>\n",
              "      <th>3</th>\n",
              "      <td>279</td>\n",
              "      <td>5</td>\n",
              "      <td>14</td>\n",
              "      <td>39</td>\n",
              "      <td>239.554</td>\n",
              "      <td>97</td>\n",
              "      <td>2</td>\n",
              "      <td>True</td>\n",
              "      <td>True</td>\n",
              "      <td>0</td>\n",
              "      <td>68</td>\n",
              "      <td>168</td>\n",
              "      <td>24</td>\n",
              "      <td>Summer</td>\n",
              "      <td>Jul</td>\n",
              "      <td>Thu</td>\n",
              "      <td>Diseases of the eye and adnexa</td>\n",
              "      <td>1. High School</td>\n",
              "    </tr>\n",
              "    <tr>\n",
              "      <th>4</th>\n",
              "      <td>289</td>\n",
              "      <td>36</td>\n",
              "      <td>13</td>\n",
              "      <td>33</td>\n",
              "      <td>239.554</td>\n",
              "      <td>97</td>\n",
              "      <td>2</td>\n",
              "      <td>True</td>\n",
              "      <td>False</td>\n",
              "      <td>1</td>\n",
              "      <td>90</td>\n",
              "      <td>172</td>\n",
              "      <td>30</td>\n",
              "      <td>Summer</td>\n",
              "      <td>Jul</td>\n",
              "      <td>Thu</td>\n",
              "      <td>Medical consultation</td>\n",
              "      <td>1. High School</td>\n",
              "    </tr>\n",
              "  </tbody>\n",
              "</table>\n",
              "</div>"
            ],
            "text/plain": [
              "   trans_exp  distance  ...                     reason_text  education_detail\n",
              "0        289        36  ...             Unjustified absence    1. High School\n",
              "1        118        13  ...                     Unjustified    1. High School\n",
              "2        179        51  ...            Medical consultation    1. High School\n",
              "3        279         5  ...  Diseases of the eye and adnexa    1. High School\n",
              "4        289        36  ...            Medical consultation    1. High School\n",
              "\n",
              "[5 rows x 18 columns]"
            ]
          },
          "metadata": {
            "tags": []
          },
          "execution_count": 22
        }
      ]
    },
    {
      "cell_type": "markdown",
      "metadata": {
        "id": "Dd6Yyl0uGGGX",
        "colab_type": "text"
      },
      "source": [
        "### 4.1 <a class=\"anchor\" id=\"fourth_1\">Principal Component Analysis</a>\n",
        "[Principal component analysis (PCA)](https://en.wikipedia.org/wiki/Principal_component_analysis) is a statistical procedure that uses an orthogonal transformation to reduce data dimensionality.\n",
        "This occurs through a linear transformation of the variables that projects the original ones into a new Cartesian system in which the new variable with the greatest variance is projected on the first axis, the new variable, the second for the size of the variance, on the second axis and so on."
      ]
    },
    {
      "cell_type": "markdown",
      "metadata": {
        "id": "00oHjxNB_8YI",
        "colab_type": "text"
      },
      "source": [
        "The dataset has 11 numerical features and 7 categorical feature. Among the categorical feature, 2 of them are binary and 5 are nominal.\n",
        "\n",
        "There is something to do in order to work with the nominal values. The original dataset applies **label encoding**: nominal values are encoded as integer positive values. \n",
        "\n",
        "The problem is that numerical values implies an order, but clearly we can't say that *Summer* is bigger than *Winter* or that *Diseases of the nervous system* is smaller than *Diseases of the respiratory system*. This tecnique can be useful in when applied to values that can be ordedered or have some sort of heriarchy, for example *Education* can be seen as the *Level of education* and so an order could make sense. Anyway, this is not the case for most of the nominal features here.\n",
        "\n",
        "To overcame this problem, the most commonly technique used is **one hot encoding**. Each category value is converted into a new column: we assign 1 to the corresponding value and 0 to everything else. \n",
        "\n",
        "Appling it here, this implies adding 49 new columns: 5 for *Day of the week*, 4 for *Season*, 12 for *Month* and 28 for *Reason of absence*. Complexively, by removing the 4 nominal columns, we have now 63 columns. In general, this can't be ignored and made straigthforward. \n",
        "\n",
        "However, I will using **Principal Component Analysis** in order to reduce dimensions, so for now I keep all the columns.\n"
      ]
    },
    {
      "cell_type": "code",
      "metadata": {
        "id": "wlJK-LseaoTb",
        "colab_type": "code",
        "outputId": "5aee92e5-173e-462f-e9b0-29ea3cc3ef0a",
        "colab": {
          "base_uri": "https://localhost:8080/",
          "height": 298
        }
      },
      "source": [
        "X_pca = X.copy()\n",
        "\n",
        "# Adding the new columns\n",
        "X_pca = pd.concat([X_pca,pd.get_dummies(X_pca['reason_text'], prefix = 'reason')], axis=1)\n",
        "X_pca = pd.concat([X_pca,pd.get_dummies(X_pca['month_name'], prefix = 'month')], axis=1)\n",
        "X_pca = pd.concat([X_pca,pd.get_dummies(X_pca['day_name'], prefix = 'day')], axis=1)\n",
        "X_pca = pd.concat([X_pca,pd.get_dummies(X_pca['season_name'], prefix = 'season')], axis=1)\n",
        "X_pca = pd.concat([X_pca,pd.get_dummies(X_pca['education_detail'], prefix = 'education')], axis=1)\n",
        "\n",
        "# Removing the old nominal variables\n",
        "X_pca.drop(['reason_text'],axis=1, inplace=True)\n",
        "X_pca.drop(['month_name'],axis=1, inplace=True)\n",
        "X_pca.drop(['day_name'],axis=1, inplace=True)\n",
        "X_pca.drop(['season_name'],axis=1, inplace=True)\n",
        "X_pca.drop(['education_detail'],axis=1, inplace=True)\n",
        "\n",
        "X_pca.head(3)"
      ],
      "execution_count": 23,
      "outputs": [
        {
          "output_type": "execute_result",
          "data": {
            "text/html": [
              "<div>\n",
              "<style scoped>\n",
              "    .dataframe tbody tr th:only-of-type {\n",
              "        vertical-align: middle;\n",
              "    }\n",
              "\n",
              "    .dataframe tbody tr th {\n",
              "        vertical-align: top;\n",
              "    }\n",
              "\n",
              "    .dataframe thead th {\n",
              "        text-align: right;\n",
              "    }\n",
              "</style>\n",
              "<table border=\"1\" class=\"dataframe\">\n",
              "  <thead>\n",
              "    <tr style=\"text-align: right;\">\n",
              "      <th></th>\n",
              "      <th>trans_exp</th>\n",
              "      <th>distance</th>\n",
              "      <th>serv_time</th>\n",
              "      <th>age</th>\n",
              "      <th>work_load</th>\n",
              "      <th>hit_tg</th>\n",
              "      <th>son</th>\n",
              "      <th>drinker</th>\n",
              "      <th>smoker</th>\n",
              "      <th>pet</th>\n",
              "      <th>weight</th>\n",
              "      <th>height</th>\n",
              "      <th>bmi</th>\n",
              "      <th>reason_Blood donation</th>\n",
              "      <th>reason_Certain conditions originating in the perinatal period</th>\n",
              "      <th>reason_Certain infectious and parasitic diseases</th>\n",
              "      <th>reason_Congenital malformations, deformations and chromosomal abnormalities</th>\n",
              "      <th>reason_Dental consultation</th>\n",
              "      <th>reason_Diseases of the blood and blood-forming organs and certain disorders involving the immune mechanism</th>\n",
              "      <th>reason_Diseases of the circulatory system</th>\n",
              "      <th>reason_Diseases of the digestive system</th>\n",
              "      <th>reason_Diseases of the ear and mastoid process</th>\n",
              "      <th>reason_Diseases of the eye and adnexa</th>\n",
              "      <th>reason_Diseases of the genitourinary system</th>\n",
              "      <th>reason_Diseases of the musculoskeletal system and connective tissue</th>\n",
              "      <th>reason_Diseases of the nervous system</th>\n",
              "      <th>reason_Diseases of the respiratory system</th>\n",
              "      <th>reason_Diseases of the skin and subcutaneous tissue</th>\n",
              "      <th>reason_Endocrine, nutritional and metabolic diseases</th>\n",
              "      <th>reason_Factors influencing health status and contact with health services</th>\n",
              "      <th>reason_Injury, poisoning and certain other consequences of external causes</th>\n",
              "      <th>reason_Laboratory examination</th>\n",
              "      <th>reason_Medical consultation</th>\n",
              "      <th>reason_Mental and behavioural disorders</th>\n",
              "      <th>reason_Neoplasms</th>\n",
              "      <th>reason_Patient follow-up</th>\n",
              "      <th>reason_Physiotherapy</th>\n",
              "      <th>reason_Pregnancy, childbirth and the puerperium</th>\n",
              "      <th>reason_Symptoms, signs and abnormal clinical and laboratory findings, not elsewhere classified</th>\n",
              "      <th>reason_Unjustified</th>\n",
              "      <th>reason_Unjustified absence</th>\n",
              "      <th>month_</th>\n",
              "      <th>month_Apr</th>\n",
              "      <th>month_Aug</th>\n",
              "      <th>month_Dec</th>\n",
              "      <th>month_Feb</th>\n",
              "      <th>month_Jan</th>\n",
              "      <th>month_Jul</th>\n",
              "      <th>month_Jun</th>\n",
              "      <th>month_Mar</th>\n",
              "      <th>month_May</th>\n",
              "      <th>month_Nov</th>\n",
              "      <th>month_Oct</th>\n",
              "      <th>month_Sep</th>\n",
              "      <th>day_Fri</th>\n",
              "      <th>day_Mon</th>\n",
              "      <th>day_Thu</th>\n",
              "      <th>day_Tue</th>\n",
              "      <th>day_Wed</th>\n",
              "      <th>season_Autumn</th>\n",
              "      <th>season_Spring</th>\n",
              "      <th>season_Summer</th>\n",
              "      <th>season_Winter</th>\n",
              "      <th>education_1. High School</th>\n",
              "      <th>education_2. Graduate</th>\n",
              "      <th>education_3. Post Graduate</th>\n",
              "      <th>education_4. Master &amp; Doctor</th>\n",
              "    </tr>\n",
              "  </thead>\n",
              "  <tbody>\n",
              "    <tr>\n",
              "      <th>0</th>\n",
              "      <td>289</td>\n",
              "      <td>36</td>\n",
              "      <td>13</td>\n",
              "      <td>33</td>\n",
              "      <td>239.554</td>\n",
              "      <td>97</td>\n",
              "      <td>2</td>\n",
              "      <td>True</td>\n",
              "      <td>False</td>\n",
              "      <td>1</td>\n",
              "      <td>90</td>\n",
              "      <td>172</td>\n",
              "      <td>30</td>\n",
              "      <td>0</td>\n",
              "      <td>0</td>\n",
              "      <td>0</td>\n",
              "      <td>0</td>\n",
              "      <td>0</td>\n",
              "      <td>0</td>\n",
              "      <td>0</td>\n",
              "      <td>0</td>\n",
              "      <td>0</td>\n",
              "      <td>0</td>\n",
              "      <td>0</td>\n",
              "      <td>0</td>\n",
              "      <td>0</td>\n",
              "      <td>0</td>\n",
              "      <td>0</td>\n",
              "      <td>0</td>\n",
              "      <td>0</td>\n",
              "      <td>0</td>\n",
              "      <td>0</td>\n",
              "      <td>0</td>\n",
              "      <td>0</td>\n",
              "      <td>0</td>\n",
              "      <td>0</td>\n",
              "      <td>0</td>\n",
              "      <td>0</td>\n",
              "      <td>0</td>\n",
              "      <td>0</td>\n",
              "      <td>1</td>\n",
              "      <td>0</td>\n",
              "      <td>0</td>\n",
              "      <td>0</td>\n",
              "      <td>0</td>\n",
              "      <td>0</td>\n",
              "      <td>0</td>\n",
              "      <td>1</td>\n",
              "      <td>0</td>\n",
              "      <td>0</td>\n",
              "      <td>0</td>\n",
              "      <td>0</td>\n",
              "      <td>0</td>\n",
              "      <td>0</td>\n",
              "      <td>0</td>\n",
              "      <td>0</td>\n",
              "      <td>0</td>\n",
              "      <td>1</td>\n",
              "      <td>0</td>\n",
              "      <td>0</td>\n",
              "      <td>0</td>\n",
              "      <td>1</td>\n",
              "      <td>0</td>\n",
              "      <td>1</td>\n",
              "      <td>0</td>\n",
              "      <td>0</td>\n",
              "      <td>0</td>\n",
              "    </tr>\n",
              "    <tr>\n",
              "      <th>1</th>\n",
              "      <td>118</td>\n",
              "      <td>13</td>\n",
              "      <td>18</td>\n",
              "      <td>50</td>\n",
              "      <td>239.554</td>\n",
              "      <td>97</td>\n",
              "      <td>1</td>\n",
              "      <td>True</td>\n",
              "      <td>False</td>\n",
              "      <td>0</td>\n",
              "      <td>98</td>\n",
              "      <td>178</td>\n",
              "      <td>31</td>\n",
              "      <td>0</td>\n",
              "      <td>0</td>\n",
              "      <td>0</td>\n",
              "      <td>0</td>\n",
              "      <td>0</td>\n",
              "      <td>0</td>\n",
              "      <td>0</td>\n",
              "      <td>0</td>\n",
              "      <td>0</td>\n",
              "      <td>0</td>\n",
              "      <td>0</td>\n",
              "      <td>0</td>\n",
              "      <td>0</td>\n",
              "      <td>0</td>\n",
              "      <td>0</td>\n",
              "      <td>0</td>\n",
              "      <td>0</td>\n",
              "      <td>0</td>\n",
              "      <td>0</td>\n",
              "      <td>0</td>\n",
              "      <td>0</td>\n",
              "      <td>0</td>\n",
              "      <td>0</td>\n",
              "      <td>0</td>\n",
              "      <td>0</td>\n",
              "      <td>0</td>\n",
              "      <td>1</td>\n",
              "      <td>0</td>\n",
              "      <td>0</td>\n",
              "      <td>0</td>\n",
              "      <td>0</td>\n",
              "      <td>0</td>\n",
              "      <td>0</td>\n",
              "      <td>0</td>\n",
              "      <td>1</td>\n",
              "      <td>0</td>\n",
              "      <td>0</td>\n",
              "      <td>0</td>\n",
              "      <td>0</td>\n",
              "      <td>0</td>\n",
              "      <td>0</td>\n",
              "      <td>0</td>\n",
              "      <td>0</td>\n",
              "      <td>0</td>\n",
              "      <td>1</td>\n",
              "      <td>0</td>\n",
              "      <td>0</td>\n",
              "      <td>0</td>\n",
              "      <td>1</td>\n",
              "      <td>0</td>\n",
              "      <td>1</td>\n",
              "      <td>0</td>\n",
              "      <td>0</td>\n",
              "      <td>0</td>\n",
              "    </tr>\n",
              "    <tr>\n",
              "      <th>2</th>\n",
              "      <td>179</td>\n",
              "      <td>51</td>\n",
              "      <td>18</td>\n",
              "      <td>38</td>\n",
              "      <td>239.554</td>\n",
              "      <td>97</td>\n",
              "      <td>0</td>\n",
              "      <td>True</td>\n",
              "      <td>False</td>\n",
              "      <td>0</td>\n",
              "      <td>89</td>\n",
              "      <td>170</td>\n",
              "      <td>31</td>\n",
              "      <td>0</td>\n",
              "      <td>0</td>\n",
              "      <td>0</td>\n",
              "      <td>0</td>\n",
              "      <td>0</td>\n",
              "      <td>0</td>\n",
              "      <td>0</td>\n",
              "      <td>0</td>\n",
              "      <td>0</td>\n",
              "      <td>0</td>\n",
              "      <td>0</td>\n",
              "      <td>0</td>\n",
              "      <td>0</td>\n",
              "      <td>0</td>\n",
              "      <td>0</td>\n",
              "      <td>0</td>\n",
              "      <td>0</td>\n",
              "      <td>0</td>\n",
              "      <td>0</td>\n",
              "      <td>1</td>\n",
              "      <td>0</td>\n",
              "      <td>0</td>\n",
              "      <td>0</td>\n",
              "      <td>0</td>\n",
              "      <td>0</td>\n",
              "      <td>0</td>\n",
              "      <td>0</td>\n",
              "      <td>0</td>\n",
              "      <td>0</td>\n",
              "      <td>0</td>\n",
              "      <td>0</td>\n",
              "      <td>0</td>\n",
              "      <td>0</td>\n",
              "      <td>0</td>\n",
              "      <td>1</td>\n",
              "      <td>0</td>\n",
              "      <td>0</td>\n",
              "      <td>0</td>\n",
              "      <td>0</td>\n",
              "      <td>0</td>\n",
              "      <td>0</td>\n",
              "      <td>0</td>\n",
              "      <td>0</td>\n",
              "      <td>0</td>\n",
              "      <td>0</td>\n",
              "      <td>1</td>\n",
              "      <td>0</td>\n",
              "      <td>0</td>\n",
              "      <td>1</td>\n",
              "      <td>0</td>\n",
              "      <td>1</td>\n",
              "      <td>0</td>\n",
              "      <td>0</td>\n",
              "      <td>0</td>\n",
              "    </tr>\n",
              "  </tbody>\n",
              "</table>\n",
              "</div>"
            ],
            "text/plain": [
              "   trans_exp  ...  education_4. Master & Doctor\n",
              "0        289  ...                             0\n",
              "1        118  ...                             0\n",
              "2        179  ...                             0\n",
              "\n",
              "[3 rows x 67 columns]"
            ]
          },
          "metadata": {
            "tags": []
          },
          "execution_count": 23
        }
      ]
    },
    {
      "cell_type": "code",
      "metadata": {
        "id": "n0CcgeFjKP7s",
        "colab_type": "code",
        "outputId": "788ac1ff-4284-44d6-d2ee-acbc0d4d0917",
        "colab": {
          "base_uri": "https://localhost:8080/",
          "height": 34
        }
      },
      "source": [
        "#Normalize:\n",
        "X_pca_norm = (X_pca-X_pca.mean())/X_pca.std()\n",
        "\n",
        "X_pca_norm.head()\n",
        "print(\"There are \" + (\"some\" if X_pca_norm.isnull().values.any() else \"no\")  + \" null/missing values in the dataset.\")"
      ],
      "execution_count": 24,
      "outputs": [
        {
          "output_type": "stream",
          "text": [
            "There are no null/missing values in the dataset.\n"
          ],
          "name": "stdout"
        }
      ]
    },
    {
      "cell_type": "code",
      "metadata": {
        "id": "Fu4MvEIekJ_E",
        "colab_type": "code",
        "outputId": "eeae527e-b6d2-4001-fdd8-68ddd01ec5e2",
        "colab": {
          "base_uri": "https://localhost:8080/",
          "height": 312
        }
      },
      "source": [
        "# calculate the principal components\n",
        "X_pca = PCA().fit(X_pca_norm)\n",
        "\n",
        "cumvar = np.cumsum(X_pca.explained_variance_ratio_)\n",
        "\n",
        "#Plotting cumulative variance\n",
        "plt.plot(cumvar)\n",
        "plt.title('Cumulative variance')\n",
        "plt.xlabel('Number of components')\n",
        "plt.ylabel('Variance explained')"
      ],
      "execution_count": 25,
      "outputs": [
        {
          "output_type": "execute_result",
          "data": {
            "text/plain": [
              "Text(0, 0.5, 'Variance explained')"
            ]
          },
          "metadata": {
            "tags": []
          },
          "execution_count": 25
        },
        {
          "output_type": "display_data",
          "data": {
            "image/png": "[encoded data removed]",
            "text/plain": [
              "<Figure size 432x288 with 1 Axes>"
            ]
          },
          "metadata": {
            "tags": [],
            "needs_background": "light"
          }
        }
      ]
    },
    {
      "cell_type": "code",
      "metadata": {
        "id": "QhTbDrXEDn8d",
        "colab_type": "code",
        "outputId": "9712450d-c462-43bc-d53c-6c91163a6d7f",
        "colab": {
          "base_uri": "https://localhost:8080/",
          "height": 34
        }
      },
      "source": [
        "cumvar[18]"
      ],
      "execution_count": 26,
      "outputs": [
        {
          "output_type": "execute_result",
          "data": {
            "text/plain": [
              "0.5265383305005455"
            ]
          },
          "metadata": {
            "tags": []
          },
          "execution_count": 26
        }
      ]
    },
    {
      "cell_type": "markdown",
      "metadata": {
        "id": "_SlZd1oOC9mW",
        "colab_type": "text"
      },
      "source": [
        "The starting dataset was made of 18 features. Since same if the categorical feature was made of a lot of levels, now we have 63 principal components.\n",
        "In order to take advantage from PCA, we should use at most the firsts 18 components. However, we see that the first 18 principal components capture only about 55% of the variance. This is not helpful: we will not use data from PCA. "
      ]
    },
    {
      "cell_type": "code",
      "metadata": {
        "id": "QJIwrRNmJETa",
        "colab_type": "code",
        "outputId": "5d91eaab-18c0-477f-f9ce-4880e93f4d50",
        "colab": {
          "base_uri": "https://localhost:8080/",
          "height": 224
        }
      },
      "source": [
        "n_used = 18\n",
        "X_pca = np.dot(X_pca_norm.values, X_pca.components_[:n_used,:].T)\n",
        "X_pca = pd.DataFrame(X_pca, columns=[\"PC#%d\" % (x + 1) for x in range(n_used)])\n",
        "X_pca.head()"
      ],
      "execution_count": 27,
      "outputs": [
        {
          "output_type": "execute_result",
          "data": {
            "text/html": [
              "<div>\n",
              "<style scoped>\n",
              "    .dataframe tbody tr th:only-of-type {\n",
              "        vertical-align: middle;\n",
              "    }\n",
              "\n",
              "    .dataframe tbody tr th {\n",
              "        vertical-align: top;\n",
              "    }\n",
              "\n",
              "    .dataframe thead th {\n",
              "        text-align: right;\n",
              "    }\n",
              "</style>\n",
              "<table border=\"1\" class=\"dataframe\">\n",
              "  <thead>\n",
              "    <tr style=\"text-align: right;\">\n",
              "      <th></th>\n",
              "      <th>PC#1</th>\n",
              "      <th>PC#2</th>\n",
              "      <th>PC#3</th>\n",
              "      <th>PC#4</th>\n",
              "      <th>PC#5</th>\n",
              "      <th>PC#6</th>\n",
              "      <th>PC#7</th>\n",
              "      <th>PC#8</th>\n",
              "      <th>PC#9</th>\n",
              "      <th>PC#10</th>\n",
              "      <th>PC#11</th>\n",
              "      <th>PC#12</th>\n",
              "      <th>PC#13</th>\n",
              "      <th>PC#14</th>\n",
              "      <th>PC#15</th>\n",
              "      <th>PC#16</th>\n",
              "      <th>PC#17</th>\n",
              "      <th>PC#18</th>\n",
              "    </tr>\n",
              "  </thead>\n",
              "  <tbody>\n",
              "    <tr>\n",
              "      <th>0</th>\n",
              "      <td>-1.763306</td>\n",
              "      <td>1.280702</td>\n",
              "      <td>0.341133</td>\n",
              "      <td>2.801173</td>\n",
              "      <td>-1.156594</td>\n",
              "      <td>0.342750</td>\n",
              "      <td>-1.185402</td>\n",
              "      <td>-1.231586</td>\n",
              "      <td>1.879965</td>\n",
              "      <td>-0.425715</td>\n",
              "      <td>-1.390107</td>\n",
              "      <td>-1.446053</td>\n",
              "      <td>1.285147</td>\n",
              "      <td>-0.019561</td>\n",
              "      <td>1.545590</td>\n",
              "      <td>1.317235</td>\n",
              "      <td>-0.001969</td>\n",
              "      <td>1.052979</td>\n",
              "    </tr>\n",
              "    <tr>\n",
              "      <th>1</th>\n",
              "      <td>-3.083170</td>\n",
              "      <td>-0.426943</td>\n",
              "      <td>1.736629</td>\n",
              "      <td>0.799083</td>\n",
              "      <td>-2.813010</td>\n",
              "      <td>1.347372</td>\n",
              "      <td>-0.574068</td>\n",
              "      <td>0.265817</td>\n",
              "      <td>0.576058</td>\n",
              "      <td>0.883472</td>\n",
              "      <td>-1.683663</td>\n",
              "      <td>-1.216652</td>\n",
              "      <td>1.640212</td>\n",
              "      <td>0.086191</td>\n",
              "      <td>1.338309</td>\n",
              "      <td>-0.612595</td>\n",
              "      <td>-1.070941</td>\n",
              "      <td>-0.908464</td>\n",
              "    </tr>\n",
              "    <tr>\n",
              "      <th>2</th>\n",
              "      <td>-2.271676</td>\n",
              "      <td>-0.045591</td>\n",
              "      <td>0.098367</td>\n",
              "      <td>1.753802</td>\n",
              "      <td>-1.720384</td>\n",
              "      <td>-0.956470</td>\n",
              "      <td>-0.547335</td>\n",
              "      <td>-1.349571</td>\n",
              "      <td>-0.686859</td>\n",
              "      <td>-0.156930</td>\n",
              "      <td>-1.487854</td>\n",
              "      <td>0.780537</td>\n",
              "      <td>1.988342</td>\n",
              "      <td>-0.590497</td>\n",
              "      <td>-0.466113</td>\n",
              "      <td>1.099589</td>\n",
              "      <td>-0.529708</td>\n",
              "      <td>0.811225</td>\n",
              "    </tr>\n",
              "    <tr>\n",
              "      <th>3</th>\n",
              "      <td>0.371719</td>\n",
              "      <td>1.300781</td>\n",
              "      <td>1.062605</td>\n",
              "      <td>2.349773</td>\n",
              "      <td>-1.172240</td>\n",
              "      <td>1.278661</td>\n",
              "      <td>1.098211</td>\n",
              "      <td>-0.104761</td>\n",
              "      <td>-0.855815</td>\n",
              "      <td>-1.332146</td>\n",
              "      <td>-0.412631</td>\n",
              "      <td>-1.394543</td>\n",
              "      <td>0.578177</td>\n",
              "      <td>-0.079308</td>\n",
              "      <td>-1.814154</td>\n",
              "      <td>1.149503</td>\n",
              "      <td>-2.167742</td>\n",
              "      <td>0.672188</td>\n",
              "    </tr>\n",
              "    <tr>\n",
              "      <th>4</th>\n",
              "      <td>-1.364881</td>\n",
              "      <td>1.302936</td>\n",
              "      <td>0.056026</td>\n",
              "      <td>2.467131</td>\n",
              "      <td>-1.128430</td>\n",
              "      <td>-0.310002</td>\n",
              "      <td>-0.478855</td>\n",
              "      <td>-1.347292</td>\n",
              "      <td>0.059284</td>\n",
              "      <td>0.344786</td>\n",
              "      <td>0.477822</td>\n",
              "      <td>-0.059447</td>\n",
              "      <td>1.822776</td>\n",
              "      <td>1.035797</td>\n",
              "      <td>-0.853234</td>\n",
              "      <td>0.735702</td>\n",
              "      <td>-1.364137</td>\n",
              "      <td>0.912794</td>\n",
              "    </tr>\n",
              "  </tbody>\n",
              "</table>\n",
              "</div>"
            ],
            "text/plain": [
              "       PC#1      PC#2      PC#3  ...     PC#16     PC#17     PC#18\n",
              "0 -1.763306  1.280702  0.341133  ...  1.317235 -0.001969  1.052979\n",
              "1 -3.083170 -0.426943  1.736629  ... -0.612595 -1.070941 -0.908464\n",
              "2 -2.271676 -0.045591  0.098367  ...  1.099589 -0.529708  0.811225\n",
              "3  0.371719  1.300781  1.062605  ...  1.149503 -2.167742  0.672188\n",
              "4 -1.364881  1.302936  0.056026  ...  0.735702 -1.364137  0.912794\n",
              "\n",
              "[5 rows x 18 columns]"
            ]
          },
          "metadata": {
            "tags": []
          },
          "execution_count": 27
        }
      ]
    },
    {
      "cell_type": "markdown",
      "metadata": {
        "id": "p7kXnNQPkAeC",
        "colab_type": "text"
      },
      "source": [
        "### 4.2 <a class=\"anchor\" id=\"fourth_2\">Oversampling</a>\n",
        "As discussed before, in the classification setting the dataset is heavily skewed towards low level of absenteeism. We can solve this by oversamplig. \n",
        "\n",
        "There are three common techniques to do this:\n",
        "\n",
        "1. The simplest is **Random oversampling**: it simply generates randomly new samples in the classes which are under-represented. \n",
        "\n",
        "2. **SMOTE** (Synthetic Minority Oversampling Technique): take a sample from the dataset, and consider its k nearest neighbors (in feature space). To create a synthetic data point, take the vector between one of those $k$ neighbors, and the current data point. Multiply this vector by a random number $x$ which lies between $0$, and $1$. Add this to the current data point to create the new, synthetic data point.\n",
        "\n",
        "3. **ADASYN** (ADAptive SYNthetic sampling approach) algorithm, builds on the methodology of SMOTE, by shifting the importance of the classification boundary to those minority classes which are difficult. ADASYN uses a weighted distribution for different minority class examples according to their level of difficulty in learning, where more synthetic data is generated for minority class examples that are harder to learn.\n"
      ]
    },
    {
      "cell_type": "code",
      "metadata": {
        "id": "_1oMgAa7lfUY",
        "colab_type": "code",
        "colab": {}
      },
      "source": [
        "# GENERATING NEW DATASET WITH RANDOM OVERSAMPLING, SMOTE and ADASYN OVERSAMPLING\n",
        "\n",
        "# label_encoder object knows how to understand word labels. \n",
        "label_encoder = preprocessing.LabelEncoder() \n",
        "  \n",
        "# Encode labels in column. \n",
        "X['season_name'] = label_encoder.fit_transform(X['season_name']) \n",
        "X['month_name'] = label_encoder.fit_transform(X['month_name']) \n",
        "X['day_name'] = label_encoder.fit_transform(X['day_name']) \n",
        "X['reason_text'] = label_encoder.fit_transform(X['reason_text']) \n",
        "X['reason_text'] = label_encoder.fit_transform(X['reason_text']) \n",
        "X['education_detail'] = label_encoder.fit_transform(X['education_detail'])\n",
        "X['smoker'] = label_encoder.fit_transform(X['smoker'])\n",
        "X['drinker'] = label_encoder.fit_transform(X['drinker'])\n",
        "ylabel = label_encoder.fit_transform(y) \n",
        "\n",
        "levels = label_encoder.inverse_transform(list(set(ylabel)))\n",
        "\n",
        "X_ROS, y_ROS = RandomOverSampler(random_state = SEED).fit_resample(X, ylabel)\n",
        "X_SMOTE, y_SMOTE = SMOTE(random_state = SEED).fit_resample(X, ylabel)\n",
        "X_ADASYN, y_ADASYN = ADASYN(random_state = SEED).fit_resample(X, ylabel)"
      ],
      "execution_count": 0,
      "outputs": []
    },
    {
      "cell_type": "code",
      "metadata": {
        "id": "D-hwUCX0QzN7",
        "colab_type": "code",
        "outputId": "6bc74fe4-6fd6-4d72-a9d8-2b803e1c5b95",
        "colab": {
          "base_uri": "https://localhost:8080/",
          "height": 357
        }
      },
      "source": [
        "y_set = {'simple': ylabel, 'ROS': y_ROS, 'SMOTE': y_SMOTE, 'ADASYN': y_ADASYN}\n",
        "\n",
        "for ys in y_set.keys():\n",
        "  print('The', ys, 'set has:')\n",
        "  for i in set(ylabel):    \n",
        "          print('\\t', np.count_nonzero(y_set[ys] == i), 'records with label',levels[i])"
      ],
      "execution_count": 29,
      "outputs": [
        {
          "output_type": "stream",
          "text": [
            "The simple set has:\n",
            "\t 41 records with label days\n",
            "\t 545 records with label hours\n",
            "\t 132 records with label late\n",
            "\t 22 records with label week\n",
            "The ROS set has:\n",
            "\t 545 records with label days\n",
            "\t 545 records with label hours\n",
            "\t 545 records with label late\n",
            "\t 545 records with label week\n",
            "The SMOTE set has:\n",
            "\t 545 records with label days\n",
            "\t 545 records with label hours\n",
            "\t 545 records with label late\n",
            "\t 545 records with label week\n",
            "The ADASYN set has:\n",
            "\t 542 records with label days\n",
            "\t 545 records with label hours\n",
            "\t 540 records with label late\n",
            "\t 539 records with label week\n"
          ],
          "name": "stdout"
        }
      ]
    },
    {
      "cell_type": "markdown",
      "metadata": {
        "id": "hPZywQUX8RrD",
        "colab_type": "text"
      },
      "source": [
        "## 5. <a class=\"anchor\" id=\"fifth\">Classification Models</a>\n",
        "Classification is the problem of identifying to which of a set of categories (sub-populations) a new observation belongs, on the basis of a training set of data containing observations (or instances) whose category membership is known.\n",
        "\n"
      ]
    },
    {
      "cell_type": "markdown",
      "metadata": {
        "id": "gxuyIn9bEXgg",
        "colab_type": "text"
      },
      "source": [
        "\n",
        "Here I apply the most commons classification algorithms and I will compare their performance using diffent metrics:\n",
        "\n",
        "Let: $TP$ = True positives, $TN$ = True negative, $FP$ = False positive, $FN$ = False negative.\n",
        "\n",
        "1. **Accuracy** = $\\frac{TP + TN}{TP+TN + FP + FN} = \\frac{\\text{Number of correct predictions}}{\\text{Total number of predictions}}$\n",
        "\n",
        "2. **Precision** = $\\frac{\\text{TP}}{\\text{TP + FP}}$\n",
        "\n",
        "3. **Sensitivity** = $\\frac{\\text{TP}}{\\text{TP + FN}}$\n",
        "\n",
        "4. **Specificity** = $\\frac{\\text{TN}}{\\text{TN + FP}}$\n",
        "\n",
        "5. **F1 Score** = $2 \\cdot \\frac{\\text{Precision}\\cdot \\text{Sensitivity}}{\\text{Precision + Sensitivity}} $"
      ]
    },
    {
      "cell_type": "markdown",
      "metadata": {
        "id": "iZQH0tiCJFkS",
        "colab_type": "text"
      },
      "source": [
        "Now I split the sets in two subsets:\n",
        "* **Training set**: collection of labeled data objects used to learn\n",
        "the classification model\n",
        "* **Test set**: Collection of labeled data objects used to\n",
        "validate the classification model\n",
        "\n",
        "I use 70% of data as training set and 30% for tests."
      ]
    },
    {
      "cell_type": "code",
      "metadata": {
        "id": "GN3BjB8x_qvT",
        "colab_type": "code",
        "colab": {}
      },
      "source": [
        "X_train, X_test, y_train, y_test = train_test_split(X, ylabel, test_size = 0.3, random_state = SEED)\n",
        "X_train_ROS, X_test_ROS, y_train_ROS, y_test_ROS = train_test_split(X_ROS, y_ROS, test_size = 0.3, random_state = SEED)\n",
        "X_train_SMOTE, X_test_SMOTE, y_train_SMOTE, y_test_SMOTE = train_test_split(X_SMOTE, y_SMOTE, test_size = 0.3, random_state = SEED)\n",
        "X_train_ADASYN, X_test_ADASYN, y_train_ADASYN, y_test_ADASYN = train_test_split(X_ADASYN, y_ADASYN, test_size = 0.3, random_state = SEED)"
      ],
      "execution_count": 0,
      "outputs": []
    },
    {
      "cell_type": "code",
      "metadata": {
        "id": "ZU-4nAZSQXS9",
        "colab_type": "code",
        "outputId": "1d97afe0-5efe-47c3-9d18-4aabc85361af",
        "colab": {
          "base_uri": "https://localhost:8080/",
          "height": 357
        }
      },
      "source": [
        "y_set = {'simple': y_test, 'ROS': y_test_ROS, 'SMOTE': y_test_SMOTE, 'ADASYN': y_test_ADASYN}\n",
        "\n",
        "for ys in y_set.keys():\n",
        "  print('The', ys, 'test set has:')\n",
        "  for i in set(ylabel):    \n",
        "          print('\\t', np.count_nonzero(y_set[ys] == i), 'records with label',levels[i])"
      ],
      "execution_count": 31,
      "outputs": [
        {
          "output_type": "stream",
          "text": [
            "The simple test set has:\n",
            "\t 9 records with label days\n",
            "\t 167 records with label hours\n",
            "\t 39 records with label late\n",
            "\t 7 records with label week\n",
            "The ROS test set has:\n",
            "\t 165 records with label days\n",
            "\t 162 records with label hours\n",
            "\t 167 records with label late\n",
            "\t 160 records with label week\n",
            "The SMOTE test set has:\n",
            "\t 165 records with label days\n",
            "\t 162 records with label hours\n",
            "\t 167 records with label late\n",
            "\t 160 records with label week\n",
            "The ADASYN test set has:\n",
            "\t 159 records with label days\n",
            "\t 163 records with label hours\n",
            "\t 154 records with label late\n",
            "\t 174 records with label week\n"
          ],
          "name": "stdout"
        }
      ]
    },
    {
      "cell_type": "markdown",
      "metadata": {
        "id": "x899sm-8xSkp",
        "colab_type": "text"
      },
      "source": [
        "I have to choose which of my datasets to use for classification. I decide to evaluate all of them using the random forest classifier and then I select the one which performs better.\n",
        "\n"
      ]
    },
    {
      "cell_type": "code",
      "metadata": {
        "id": "roYvIuzYHLkq",
        "colab_type": "code",
        "outputId": "3dd96861-6be1-43ba-f81e-df433979341e",
        "colab": {
          "base_uri": "https://localhost:8080/",
          "height": 173
        }
      },
      "source": [
        "## Random forest Classifier\n",
        "class_forest = RandomForestClassifier(n_estimators = 300, random_state = SEED)\n",
        "\n",
        "#Simple dataset\n",
        "class_forest.fit(X_train, y_train)\n",
        "simple_pred = class_forest.predict(X_test)\n",
        "\n",
        "#Random oversampler\n",
        "class_forest.fit(X_train_ROS, y_train_ROS)\n",
        "random_over_pred = class_forest.predict(X_test_ROS)\n",
        "\n",
        "#SMOTE\n",
        "class_forest.fit(X_train_SMOTE, y_train_SMOTE)\n",
        "SMOTE_pred = class_forest.predict(X_test_SMOTE)\n",
        "\n",
        "#ADASYN \n",
        "class_forest.fit(X_train_ADASYN, y_train_ADASYN)\n",
        "ADASYN_pred = class_forest.predict(X_test_ADASYN)\n",
        "\n",
        "#Performance \n",
        "\n",
        "#Simple data_set metrics: \n",
        "simple_pred_accuracy = accuracy_score(y_test, simple_pred)\n",
        "simple_pred_precision = precision_score(y_test, simple_pred, average = 'weighted')\n",
        "simple_pred_sensitivity = recall_score(y_test, simple_pred, average = 'weighted')\n",
        "simple_pred_f1 = f1_score(y_test, simple_pred, average = 'weighted')\n",
        "\n",
        "#Random oversampling metrics:\n",
        "rnd_sampler_accuracy = accuracy_score(y_test_ROS, random_over_pred)\n",
        "rnd_sampler_precision = precision_score(y_test_ROS,random_over_pred, average = 'weighted')\n",
        "rnd_sampler_sensitivity = recall_score(y_test_ROS,random_over_pred, average = 'weighted')\n",
        "rnd_sampler_f1 = f1_score(y_test_ROS,random_over_pred, average = 'weighted')\n",
        "\n",
        "#SMOTE metrics: \n",
        "SMOTE_accuracy = accuracy_score(y_test_SMOTE, SMOTE_pred)\n",
        "SMOTE_precision = precision_score(y_test_SMOTE, SMOTE_pred, average = 'weighted')\n",
        "SMOTE_sensitivity = recall_score(y_test_SMOTE, SMOTE_pred, average = 'weighted')\n",
        "SMOTE_f1 = f1_score(y_test_SMOTE, SMOTE_pred, average = 'weighted')\n",
        "\n",
        "#ADASYN metrics:\n",
        "ADASYN_accuracy = accuracy_score(y_test_ADASYN, ADASYN_pred)\n",
        "ADASYN_precision = precision_score(y_test_ADASYN, ADASYN_pred, average = 'weighted')\n",
        "ADASYN_sensitivity = recall_score(y_test_ADASYN, ADASYN_pred, average = 'weighted')\n",
        "ADASYN_f1 = f1_score(y_test_ADASYN, ADASYN_pred, average = 'weighted')\n",
        "\n",
        "# I put everything into a table:\n",
        "metrics = pd.DataFrame(columns=[\"Accuracy\", \"Precision\", \"Sensitivity\", \"F1 Score\"])\n",
        "metrics.loc[\"Simple Dataset\"] = [simple_pred_accuracy,simple_pred_precision,simple_pred_sensitivity,simple_pred_f1]\n",
        "metrics.loc[\"Rnd oversampling\"] = [rnd_sampler_accuracy,rnd_sampler_precision,rnd_sampler_sensitivity,rnd_sampler_f1]\n",
        "metrics.loc[\"SMOTE\"] = [SMOTE_accuracy,SMOTE_precision,SMOTE_sensitivity,SMOTE_f1]\n",
        "metrics.loc[\"ADASYN\"] = [ADASYN_accuracy,ADASYN_precision,ADASYN_sensitivity,ADASYN_f1]\n",
        "\n",
        "metrics"
      ],
      "execution_count": 32,
      "outputs": [
        {
          "output_type": "execute_result",
          "data": {
            "text/html": [
              "<div>\n",
              "<style scoped>\n",
              "    .dataframe tbody tr th:only-of-type {\n",
              "        vertical-align: middle;\n",
              "    }\n",
              "\n",
              "    .dataframe tbody tr th {\n",
              "        vertical-align: top;\n",
              "    }\n",
              "\n",
              "    .dataframe thead th {\n",
              "        text-align: right;\n",
              "    }\n",
              "</style>\n",
              "<table border=\"1\" class=\"dataframe\">\n",
              "  <thead>\n",
              "    <tr style=\"text-align: right;\">\n",
              "      <th></th>\n",
              "      <th>Accuracy</th>\n",
              "      <th>Precision</th>\n",
              "      <th>Sensitivity</th>\n",
              "      <th>F1 Score</th>\n",
              "    </tr>\n",
              "  </thead>\n",
              "  <tbody>\n",
              "    <tr>\n",
              "      <th>Simple Dataset</th>\n",
              "      <td>0.770270</td>\n",
              "      <td>0.730632</td>\n",
              "      <td>0.770270</td>\n",
              "      <td>0.745244</td>\n",
              "    </tr>\n",
              "    <tr>\n",
              "      <th>Rnd oversampling</th>\n",
              "      <td>0.944954</td>\n",
              "      <td>0.946663</td>\n",
              "      <td>0.944954</td>\n",
              "      <td>0.943540</td>\n",
              "    </tr>\n",
              "    <tr>\n",
              "      <th>SMOTE</th>\n",
              "      <td>0.877676</td>\n",
              "      <td>0.879950</td>\n",
              "      <td>0.877676</td>\n",
              "      <td>0.877577</td>\n",
              "    </tr>\n",
              "    <tr>\n",
              "      <th>ADASYN</th>\n",
              "      <td>0.900000</td>\n",
              "      <td>0.900250</td>\n",
              "      <td>0.900000</td>\n",
              "      <td>0.900055</td>\n",
              "    </tr>\n",
              "  </tbody>\n",
              "</table>\n",
              "</div>"
            ],
            "text/plain": [
              "                  Accuracy  Precision  Sensitivity  F1 Score\n",
              "Simple Dataset    0.770270   0.730632     0.770270  0.745244\n",
              "Rnd oversampling  0.944954   0.946663     0.944954  0.943540\n",
              "SMOTE             0.877676   0.879950     0.877676  0.877577\n",
              "ADASYN            0.900000   0.900250     0.900000  0.900055"
            ]
          },
          "metadata": {
            "tags": []
          },
          "execution_count": 32
        }
      ]
    },
    {
      "cell_type": "code",
      "metadata": {
        "id": "-pYluu-rJLB9",
        "colab_type": "code",
        "outputId": "698e701f-e847-4604-f87f-fc18c9c9031b",
        "colab": {
          "base_uri": "https://localhost:8080/",
          "height": 600
        }
      },
      "source": [
        "fig, ((simple, ros), (smote, adasyn)) = plt.subplots(nrows = 2, ncols = 2, figsize = (10, 10))\n",
        "\n",
        "plot_confusion_matrix(class_forest, X_test, y_test, display_labels = levels,\n",
        "                      cmap = plt.cm.Blues, values_format = '0.2%', normalize = 'true', \n",
        "                      ax = simple)\n",
        "plot_confusion_matrix(class_forest, X_test_ROS, y_test_ROS, display_labels = levels,\n",
        "                      cmap = plt.cm.Blues, values_format = '0.2%', normalize = 'true',\n",
        "                      ax = ros)\n",
        "plot_confusion_matrix(class_forest, X_test_SMOTE, y_test_SMOTE, display_labels = levels,\n",
        "                      cmap = plt.cm.Blues, values_format = '0.2%', normalize = 'true',\n",
        "                      ax = smote)\n",
        "plot_confusion_matrix(class_forest, X_test_ADASYN, y_test_ADASYN, display_labels = levels,\n",
        "                      cmap = plt.cm.Blues, values_format = '0.2%', normalize = 'true',\n",
        "                      ax = adasyn)\n",
        "simple.set_title('Simple dataset')\n",
        "ros.set_title('ROS dataset')\n",
        "smote.set_title('SMOTE dataset')\n",
        "adasyn.set_title('ADASYN dataset')"
      ],
      "execution_count": 33,
      "outputs": [
        {
          "output_type": "execute_result",
          "data": {
            "text/plain": [
              "Text(0.5, 1.0, 'ADASYN dataset')"
            ]
          },
          "metadata": {
            "tags": []
          },
          "execution_count": 33
        },
        {
          "output_type": "display_data",
          "data": {
            "image/png": "[encoded data removed]",
            "text/plain": [
              "<Figure size 720x720 with 8 Axes>"
            ]
          },
          "metadata": {
            "tags": [],
            "needs_background": "light"
          }
        }
      ]
    },
    {
      "cell_type": "markdown",
      "metadata": {
        "id": "gnSg8OOCKfps",
        "colab_type": "text"
      },
      "source": [
        "Complexively, the best seems to be the ADASYN set: I will use it."
      ]
    },
    {
      "cell_type": "code",
      "metadata": {
        "id": "HWMUqlj2xpVH",
        "colab_type": "code",
        "colab": {}
      },
      "source": [
        "X_train = X_train_ADASYN\n",
        "y_train = y_train_ADASYN\n",
        "X_test = X_test_ADASYN\n",
        "y_test = y_test_ADASYN"
      ],
      "execution_count": 0,
      "outputs": []
    },
    {
      "cell_type": "code",
      "metadata": {
        "id": "4ew99OtQx5o6",
        "colab_type": "code",
        "colab": {}
      },
      "source": [
        "classification_metrics = pd.DataFrame(columns=[\"Accuracy\", \"Precision\", \"Sensitivity\", \"F1 Score\"])"
      ],
      "execution_count": 0,
      "outputs": []
    },
    {
      "cell_type": "markdown",
      "metadata": {
        "id": "awrAQChTz-qU",
        "colab_type": "text"
      },
      "source": [
        "### 5.1 <a class=\"anchor\" id=\"fifth_1\">Logitistic regression</a>\n",
        "Logistic regression is a statistical model used to model the probability of a certain class or event existing.\n",
        "\n",
        "If classes are binary, then we can compute the probability that a certain sample belongs to the cateogy $Y = 1$: \n",
        "\n",
        "$p(x) = \\mathbb{P}(Y=1\\vert X)$\n",
        "It has distribution: $$p(x) = \\frac{e^{\\beta_0 + \\beta_1x}}{1+e^{\\beta_0 + \\beta_1x}}$$\n",
        "\n",
        "It can been generalized for $p$ variables: $$p(x) = \\frac{e^{\\beta_0 + \\beta_1x + \\dots + \\beta_px_p}}{1+e^{\\beta_0 + \\beta_1x + \\dots + \\beta_px_p}}$$"
      ]
    },
    {
      "cell_type": "code",
      "metadata": {
        "id": "IQ03lk5oz_-J",
        "colab_type": "code",
        "outputId": "1e651df5-7933-460a-baee-24ba14327e43",
        "colab": {
          "base_uri": "https://localhost:8080/",
          "height": 296
        }
      },
      "source": [
        "logistic = LogisticRegression(max_iter = 1000, random_state = SEED, solver = 'newton-cg').fit(X_train, y_train)\n",
        "logistic_predict = logistic.predict(X_test)\n",
        "\n",
        "#metrics:\n",
        "logi_acc = accuracy_score(logistic_predict, y_test)\n",
        "logi_preci = precision_score(logistic_predict, y_test, average = 'weighted')\n",
        "logi_sensitivity = recall_score(logistic_predict, y_test, average = 'weighted')\n",
        "logi_f1 = f1_score(logistic_predict, y_test, average = 'weighted')\n",
        "\n",
        "classification_metrics.loc[\"Logistic regression\"] = [logi_acc,logi_preci,logi_sensitivity,logi_f1]\n",
        "plot_confusion_matrix(logistic, X_test, y_test, display_labels = levels,\n",
        "                      cmap = plt.cm.Blues, values_format = '0.2%', normalize = 'true')"
      ],
      "execution_count": 36,
      "outputs": [
        {
          "output_type": "execute_result",
          "data": {
            "text/plain": [
              "<sklearn.metrics._plot.confusion_matrix.ConfusionMatrixDisplay at 0x7f3d072eaba8>"
            ]
          },
          "metadata": {
            "tags": []
          },
          "execution_count": 36
        },
        {
          "output_type": "display_data",
          "data": {
            "image/png": "[encoded data removed]",
            "text/plain": [
              "<Figure size 432x288 with 2 Axes>"
            ]
          },
          "metadata": {
            "tags": [],
            "needs_background": "light"
          }
        }
      ]
    },
    {
      "cell_type": "markdown",
      "metadata": {
        "id": "2DdLXJnC8VP-",
        "colab_type": "text"
      },
      "source": [
        "### 5.2 <a class=\"anchor\" id=\"fifth_2\">Decision Tree</a> \n",
        "A decision tree is a very common model for classification problems (it is also called a classification tree). In this context a decision tree describes a tree structure where the leaf nodes represent the classifications and the ramifications the set of properties that lead to those classifications. Consequently, each internal node is a macro-class consisting of the union of the classes associated with its child nodes.\n",
        "\n",
        "In many situations it is useful to define a halting criterion, or even pruning criterion in order to determine its maximum depth. This is because the growing depth of a tree (or its size) does not directly affect the goodness of the model. Indeed, an excessive growth in the size of the tree could only lead to a disproportionate increase in computational complexity compared to the benefits regarding the accuracy of the predictions/classifications.\n",
        "\n",
        "The algorithm chooses a variable at each step that best splits the set of items, according to certain metrics.\n",
        "\n",
        "The parameters that are mostly used to guide the construction of the tree are the Gini index and the Entropy deviance.\n",
        "\n",
        "The Gini Index is computed as:$$ GI(t) = 1-\\sum_{j=1}^k p(j|t)^2$$\n",
        "The Entropy deviance is computed as:$$ Entropy(t) = -\\sum_{j=1}^k p(j|t)log_2(p(j|t))$$\n",
        "$\\forall \\text{ node } t$, where $p(j|t)$ is the relative frequency of class $j$ at node $t$.\n"
      ]
    },
    {
      "cell_type": "code",
      "metadata": {
        "id": "KYEqFlQs_wSQ",
        "colab_type": "code",
        "colab": {
          "base_uri": "https://localhost:8080/",
          "height": 34
        },
        "outputId": "002148c3-4e33-498f-dc8d-738fc2cba83b"
      },
      "source": [
        "# Evaluating best parameters\n",
        "depth = np.linspace(4, 50, 20).astype(int) \n",
        "parameters = {'max_depth': depth}\n",
        "clf = GridSearchCV(tree.DecisionTreeClassifier(criterion = 'entropy', random_state = SEED), parameters)\n",
        "clf.fit(X_train, y_train)\n",
        "opt_depth = clf.best_params_['max_depth']\n",
        "print(\"The best parameters are %s with a score of %0.2f\" % (clf.best_params_, clf.best_score_))"
      ],
      "execution_count": 37,
      "outputs": [
        {
          "output_type": "stream",
          "text": [
            "The best parameters are {'max_depth': 16} with a score of 0.79\n"
          ],
          "name": "stdout"
        }
      ]
    },
    {
      "cell_type": "code",
      "metadata": {
        "colab_type": "code",
        "id": "vnNC96WX-0pt",
        "outputId": "9a3a51a5-1f51-439b-ff4b-680ee2ef9418",
        "colab": {
          "base_uri": "https://localhost:8080/",
          "height": 298
        }
      },
      "source": [
        "# Decision TREE: Entropy\n",
        "tree_Entropy = tree.DecisionTreeClassifier(criterion = 'entropy', random_state = SEED, max_depth = opt_depth)\n",
        "\n",
        "tree_Entropy.fit(X_train, y_train)\n",
        "tree_Entropy_pred = tree_Entropy.predict(X_test)\n",
        "\n",
        "#metrics\n",
        "tree_acc = accuracy_score(tree_Entropy_pred, y_test)\n",
        "tree_preci = precision_score(tree_Entropy_pred, y_test, average = 'weighted')\n",
        "tree_sensitivity = recall_score(tree_Entropy_pred, y_test, average = 'weighted')\n",
        "tree_f1 = f1_score(tree_Entropy_pred, y_test, average = 'weighted')\n",
        "\n",
        "classification_metrics.loc[\"Tree Entropy\"] = [tree_acc, tree_preci, tree_sensitivity, tree_f1]\n",
        "plot_confusion_matrix(tree_Entropy, X_test, y_test, \n",
        "                      display_labels = levels, cmap = plt.cm.Blues,\n",
        "\n",
        "                      values_format = '0.2%', normalize = 'true')"
      ],
      "execution_count": 38,
      "outputs": [
        {
          "output_type": "execute_result",
          "data": {
            "text/plain": [
              "<sklearn.metrics._plot.confusion_matrix.ConfusionMatrixDisplay at 0x7f3d071cf940>"
            ]
          },
          "metadata": {
            "tags": []
          },
          "execution_count": 38
        },
        {
          "output_type": "display_data",
          "data": {
            "image/png": "[encoded data removed]",
            "text/plain": [
              "<Figure size 432x288 with 2 Axes>"
            ]
          },
          "metadata": {
            "tags": [],
            "needs_background": "light"
          }
        }
      ]
    },
    {
      "cell_type": "code",
      "metadata": {
        "id": "48-ty9fGBBR9",
        "colab_type": "code",
        "colab": {
          "base_uri": "https://localhost:8080/",
          "height": 34
        },
        "outputId": "e2aeaf1a-ee7b-48b0-b77a-dd28bff3bc55"
      },
      "source": [
        "# Evaluating best parameters\n",
        "depth = np.linspace(4, 50, 20).astype(int) \n",
        "parameters = {'max_depth': depth}\n",
        "clf = GridSearchCV(tree.DecisionTreeClassifier(criterion = 'gini', random_state = SEED), parameters)\n",
        "clf.fit(X_train, y_train)\n",
        "opt_depth = clf.best_params_['max_depth']\n",
        "print(\"The best parameters are %s with a score of %0.2f\" % (clf.best_params_, clf.best_score_))"
      ],
      "execution_count": 39,
      "outputs": [
        {
          "output_type": "stream",
          "text": [
            "The best parameters are {'max_depth': 18} with a score of 0.78\n"
          ],
          "name": "stdout"
        }
      ]
    },
    {
      "cell_type": "code",
      "metadata": {
        "colab_type": "code",
        "id": "2kDTmUhXAgCF",
        "outputId": "e04cf4a4-8af7-4cc5-abe6-1125f572c4a2",
        "colab": {
          "base_uri": "https://localhost:8080/",
          "height": 296
        }
      },
      "source": [
        "# Decision TREE: Gini\n",
        "tree_Gini = tree.DecisionTreeClassifier(criterion = 'gini', random_state = SEED, max_depth = opt_depth)\n",
        "\n",
        "tree_Gini.fit(X_train, y_train)\n",
        "tree_Gini_pred = tree_Gini.predict(X_test)\n",
        "\n",
        "#metrics\n",
        "tree_acc = accuracy_score(tree_Gini_pred, y_test)\n",
        "tree_preci = precision_score(tree_Gini_pred, y_test, average = 'weighted')\n",
        "tree_sensitivity = recall_score(tree_Gini_pred, y_test, average = 'weighted')\n",
        "tree_f1 = f1_score(tree_Gini_pred, y_test, average = 'weighted')\n",
        "\n",
        "classification_metrics.loc[\"Tree Gini\"] = [tree_acc, tree_preci, tree_sensitivity, tree_f1]\n",
        "plot_confusion_matrix(tree_Gini, X_test, y_test, display_labels = levels, cmap = plt.cm.Blues, \n",
        "                      values_format = '0.2%',  normalize = 'true')"
      ],
      "execution_count": 40,
      "outputs": [
        {
          "output_type": "execute_result",
          "data": {
            "text/plain": [
              "<sklearn.metrics._plot.confusion_matrix.ConfusionMatrixDisplay at 0x7f3d01141ac8>"
            ]
          },
          "metadata": {
            "tags": []
          },
          "execution_count": 40
        },
        {
          "output_type": "display_data",
          "data": {
            "image/png": "[encoded data removed]",
            "text/plain": [
              "<Figure size 432x288 with 2 Axes>"
            ]
          },
          "metadata": {
            "tags": [],
            "needs_background": "light"
          }
        }
      ]
    },
    {
      "cell_type": "markdown",
      "metadata": {
        "id": "mQhZdri-nUrm",
        "colab_type": "text"
      },
      "source": [
        "### 5.3 <a class=\"anchor\" id=\"fifth_3\">Random forest</a> \n",
        "\n",
        "As the name may suggest, the Random Forest classifier is obtained by parallelly using several decision tree at the same time.\n",
        "\n",
        "The general idea is to fit a (reasonably) large number of decision tree to different subsample and then let the majority to decide the label. Random forests are a solution that minimizes the overfitting of the training set compared to decision trees.\n",
        "\n",
        "As for the Decision tree, we will use either the Gini and the Entropy criterion."
      ]
    },
    {
      "cell_type": "code",
      "metadata": {
        "id": "o5fjIZ1uHVMW",
        "colab_type": "code",
        "colab": {
          "base_uri": "https://localhost:8080/",
          "height": 34
        },
        "outputId": "81bb0d91-2598-4f45-b65b-3d99fb35e143"
      },
      "source": [
        "# Evaluating best parameters\n",
        "num_est = np.linspace(100, 300, 10).astype(int)\n",
        "depth = np.linspace(4, 50, 10).astype(int) \n",
        "parameters = {'max_depth': depth, 'n_estimators': num_est}\n",
        "clf = GridSearchCV(RandomForestClassifier(criterion = 'entropy', random_state = SEED), parameters)\n",
        "clf.fit(X_train, y_train)\n",
        "opt_depth = clf.best_params_['max_depth']\n",
        "opt_est = clf.best_params_['n_estimators']\n",
        "print(\"The best parameters are %s with a score of %0.2f\" % (clf.best_params_, clf.best_score_))"
      ],
      "execution_count": 41,
      "outputs": [
        {
          "output_type": "stream",
          "text": [
            "The best parameters are {'max_depth': 19, 'n_estimators': 188} with a score of 0.87\n"
          ],
          "name": "stdout"
        }
      ]
    },
    {
      "cell_type": "code",
      "metadata": {
        "id": "dlYlZC3DneuS",
        "colab_type": "code",
        "outputId": "d1b98a5c-6339-4dd5-fa5b-b59dda941906",
        "colab": {
          "base_uri": "https://localhost:8080/",
          "height": 296
        }
      },
      "source": [
        "# Random forest - Entropy criterion\n",
        "forest_Entropy = RandomForestClassifier(criterion = 'entropy', n_estimators = opt_est, max_depth = opt_depth, random_state = SEED)\n",
        "forest_Entropy.fit(X_train, y_train)\n",
        "forest_Entropy_pred = forest_Entropy.predict(X_test)\n",
        "\n",
        "#metrics\n",
        "forest_acc = accuracy_score(forest_Entropy_pred, y_test)\n",
        "forest_preci = precision_score(forest_Entropy_pred, y_test, average = 'weighted')\n",
        "forest_sensitivity = recall_score(forest_Entropy_pred, y_test, average = 'weighted')\n",
        "forest_f1 = f1_score(forest_Entropy_pred, y_test, average = 'weighted')\n",
        "\n",
        "classification_metrics.loc[\"Forest Entropy\"] = [forest_acc,forest_preci,forest_sensitivity,forest_f1]\n",
        "plot_confusion_matrix(forest_Entropy, X_test, y_test, display_labels = levels,\n",
        "                      cmap = plt.cm.Blues, values_format = '0.2%', normalize = 'true')"
      ],
      "execution_count": 42,
      "outputs": [
        {
          "output_type": "execute_result",
          "data": {
            "text/plain": [
              "<sklearn.metrics._plot.confusion_matrix.ConfusionMatrixDisplay at 0x7f3d02ebcc50>"
            ]
          },
          "metadata": {
            "tags": []
          },
          "execution_count": 42
        },
        {
          "output_type": "display_data",
          "data": {
            "image/png": "[encoded data removed]",
            "text/plain": [
              "<Figure size 432x288 with 2 Axes>"
            ]
          },
          "metadata": {
            "tags": [],
            "needs_background": "light"
          }
        }
      ]
    },
    {
      "cell_type": "code",
      "metadata": {
        "id": "iLXCUpKeHrLC",
        "colab_type": "code",
        "colab": {
          "base_uri": "https://localhost:8080/",
          "height": 34
        },
        "outputId": "e4c1a107-a885-464c-b7f4-7bbb89f9aa40"
      },
      "source": [
        "# Evaluating best parameters\n",
        "num_est = np.linspace(100, 300, 10).astype(int)\n",
        "depth = np.linspace(4, 50, 10).astype(int) \n",
        "parameters = {'max_depth': depth, 'n_estimators': num_est}\n",
        "clf = GridSearchCV(RandomForestClassifier(criterion = 'gini', random_state = SEED), parameters)\n",
        "clf.fit(X_train, y_train)\n",
        "opt_depth = clf.best_params_['max_depth']\n",
        "opt_est = clf.best_params_['n_estimators']\n",
        "print(\"The best parameters are %s with a score of %0.2f\" % (clf.best_params_, clf.best_score_))"
      ],
      "execution_count": 43,
      "outputs": [
        {
          "output_type": "stream",
          "text": [
            "The best parameters are {'max_depth': 24, 'n_estimators': 100} with a score of 0.88\n"
          ],
          "name": "stdout"
        }
      ]
    },
    {
      "cell_type": "code",
      "metadata": {
        "id": "qKnC8SWszOaL",
        "colab_type": "code",
        "outputId": "8e87b0a3-1b7e-4242-a1c0-2f2e56244764",
        "colab": {
          "base_uri": "https://localhost:8080/",
          "height": 296
        }
      },
      "source": [
        "# Random forest \n",
        "# Gini criterion\n",
        "forest_Gini = RandomForestClassifier(criterion = 'gini', n_estimators = opt_est, max_depth = opt_depth, random_state = SEED)\n",
        "forest_Gini.fit(X_train, y_train)\n",
        "forest_Gini_pred = forest_Gini.predict(X_test)\n",
        "\n",
        "#metrics\n",
        "forest_acc = accuracy_score(forest_Gini_pred, y_test)\n",
        "forest_preci = precision_score(forest_Gini_pred, y_test, average = 'weighted')\n",
        "forest_sensitivity = recall_score(forest_Gini_pred, y_test, average = 'weighted')\n",
        "forest_f1 = f1_score(forest_Gini_pred, y_test, average = 'weighted')\n",
        "\n",
        "classification_metrics.loc[\"Forest Gini\"] = [forest_acc,forest_preci,forest_sensitivity,forest_f1]\n",
        "plot_confusion_matrix(forest_Gini, X_test, y_test, display_labels = levels,\n",
        "                      cmap = plt.cm.Blues, values_format = '0.2%', normalize = 'true')"
      ],
      "execution_count": 44,
      "outputs": [
        {
          "output_type": "execute_result",
          "data": {
            "text/plain": [
              "<sklearn.metrics._plot.confusion_matrix.ConfusionMatrixDisplay at 0x7f3d02e5e5c0>"
            ]
          },
          "metadata": {
            "tags": []
          },
          "execution_count": 44
        },
        {
          "output_type": "display_data",
          "data": {
            "image/png": "[encoded data removed]",
            "text/plain": [
              "<Figure size 432x288 with 2 Axes>"
            ]
          },
          "metadata": {
            "tags": [],
            "needs_background": "light"
          }
        }
      ]
    },
    {
      "cell_type": "markdown",
      "metadata": {
        "id": "LJdfWc4HsMQG",
        "colab_type": "text"
      },
      "source": [
        "### 5.4 <a class=\"anchor\" id=\"fifth_4\">K Nearest neighbours</a> "
      ]
    },
    {
      "cell_type": "markdown",
      "metadata": {
        "id": "-8KuFxKmRaUV",
        "colab_type": "text"
      },
      "source": [
        "The K-nearest neighbors (KNN) is an algorithm used in the recognition of patterns for classifying objects based on the characteristics of the objects close to the one considered. It is one the simplest algorithms among those used in machine learning. A new point is categorized based on the similiraties of the $K$ data points that are the closest to it. The choice of the parameter $K$ depends on the characteristics of the data. Generally, as $K$ increases, the noise that compromises the classification is reduced, but the criterion of choice for the class becomes more rough. The choice can be made through heuristic techniques."
      ]
    },
    {
      "cell_type": "code",
      "metadata": {
        "id": "GdV354dGDXZN",
        "colab_type": "code",
        "colab": {
          "base_uri": "https://localhost:8080/",
          "height": 34
        },
        "outputId": "683bddea-de8a-4726-b07c-c631224951a7"
      },
      "source": [
        "# Evaluating best parameters\n",
        "neighs = np.linspace(1,20).astype(int) \n",
        "parameters = {'n_neighbors': neighs}\n",
        "clf = GridSearchCV(KNeighborsClassifier(), parameters)\n",
        "clf.fit(X_train, y_train)\n",
        "opt_neigh = clf.best_params_['n_neighbors']\n",
        "print(\"The best parameters are %s with a score of %0.2f\" % (clf.best_params_, clf.best_score_))"
      ],
      "execution_count": 45,
      "outputs": [
        {
          "output_type": "stream",
          "text": [
            "The best parameters are {'n_neighbors': 1} with a score of 0.83\n"
          ],
          "name": "stdout"
        }
      ]
    },
    {
      "cell_type": "code",
      "metadata": {
        "id": "fqaCgzbusT02",
        "colab_type": "code",
        "outputId": "5ea0cf28-3c7e-46ed-d40e-817d270c43f5",
        "colab": {
          "base_uri": "https://localhost:8080/",
          "height": 296
        }
      },
      "source": [
        "neigh = KNeighborsClassifier(n_neighbors = opt_neigh).fit(X_train, y_train)\n",
        "neigh_predict = neigh.predict(X_test)\n",
        "\n",
        "#metrics:\n",
        "neigh_acc = accuracy_score(neigh_predict, y_test)\n",
        "neigh_preci = precision_score(neigh_predict, y_test, average = 'weighted')\n",
        "neigh_sensitivity = recall_score(neigh_predict, y_test, average = 'weighted')\n",
        "neigh_f1 = f1_score(neigh_predict, y_test, average = 'weighted')\n",
        "\n",
        "classification_metrics.loc[\"KNN\"] = [neigh_acc,neigh_preci,neigh_sensitivity,neigh_f1]\n",
        "plot_confusion_matrix(neigh, X_test, y_test, display_labels = levels,\n",
        "                      cmap = plt.cm.Blues, values_format = '0.2%', normalize = 'true')"
      ],
      "execution_count": 46,
      "outputs": [
        {
          "output_type": "execute_result",
          "data": {
            "text/plain": [
              "<sklearn.metrics._plot.confusion_matrix.ConfusionMatrixDisplay at 0x7f3d072f95f8>"
            ]
          },
          "metadata": {
            "tags": []
          },
          "execution_count": 46
        },
        {
          "output_type": "display_data",
          "data": {
            "image/png": "[encoded data removed]",
            "text/plain": [
              "<Figure size 432x288 with 2 Axes>"
            ]
          },
          "metadata": {
            "tags": [],
            "needs_background": "light"
          }
        }
      ]
    },
    {
      "cell_type": "markdown",
      "metadata": {
        "id": "i5-2oDuiuzBo",
        "colab_type": "text"
      },
      "source": [
        "### 5.5 <a class=\"anchor\" id=\"fifth_5\">Support vector machine</a> "
      ]
    },
    {
      "cell_type": "markdown",
      "metadata": {
        "id": "MQiKtCmXWT4r",
        "colab_type": "text"
      },
      "source": [
        "The basic Support-Vector Machine (SVM) model is linear: it finds the optimal hyperplane between the points of two classes such that the distance of the nearest points to the decision boundary is maximized.\n",
        "\n",
        "Clearly, it is not common to have a linear separation and SVM can be generalized.\n",
        "\n",
        "This generalization can be made by choosing a non-linear Kernel function to apply to the support vector machine.\n",
        "\n",
        "Linear support vector machine generally uses as linear kernel:$$ k({\\vec{x_i}},{\\vec{x_{j}}})={\\vec{x_{i}}}\\cdot{\\vec{x_{j}}}$$\n",
        "\n",
        "Probably the common non-lineare alternative is the Radial basis kernel:$${k({\\vec{x_i},\\vec{x_{j}}})=\\exp(-\\gamma \\|{\\vec {x_{i}}}-{\\vec {x_{j}}}\\|^{2})}$$where ${\\displaystyle \\gamma >0}$ is a parameter to chose. This is in fact the default kernel function in the library.\n",
        "\n",
        "Basically, the kernel maps the data into another space in which the class can be linearly separated, while in the original space, the boundary will in general be non linear."
      ]
    },
    {
      "cell_type": "code",
      "metadata": {
        "id": "yS6RlAuHu1Ou",
        "colab_type": "code",
        "outputId": "687491d6-3a8a-4967-ddba-581085086e72",
        "colab": {
          "base_uri": "https://localhost:8080/",
          "height": 296
        }
      },
      "source": [
        "#gamma hyperparameter of the model with RBF, gamma = 'auto' is suggested and corresponds to 1/n_features\n",
        "svm_mod = svm.SVC(random_state = SEED, gamma = 'auto', kernel = 'rbf')\n",
        "svm_mod.fit(X_train,y_train)\n",
        "svm_mod_predict = svm_mod.predict(X_test)\n",
        "\n",
        "#metrics:\n",
        "svm_acc = accuracy_score(svm_mod_predict, y_test)\n",
        "svm_preci = precision_score(svm_mod_predict, y_test, average = 'weighted')\n",
        "svm_sensitivity = recall_score(svm_mod_predict, y_test, average = 'weighted')\n",
        "svm_f1 = f1_score(svm_mod_predict, y_test, average = 'weighted')\n",
        "\n",
        "classification_metrics.loc[\"SVM\"] = [svm_acc,svm_preci,svm_sensitivity,svm_f1]\n",
        "plot_confusion_matrix(svm_mod, X_test, y_test, display_labels = levels, cmap = plt.cm.Blues,\n",
        "                      values_format = '0.2%', normalize = 'true')"
      ],
      "execution_count": 47,
      "outputs": [
        {
          "output_type": "execute_result",
          "data": {
            "text/plain": [
              "<sklearn.metrics._plot.confusion_matrix.ConfusionMatrixDisplay at 0x7f3d00ea5be0>"
            ]
          },
          "metadata": {
            "tags": []
          },
          "execution_count": 47
        },
        {
          "output_type": "display_data",
          "data": {
            "image/png": "[encoded data removed]",
            "text/plain": [
              "<Figure size 432x288 with 2 Axes>"
            ]
          },
          "metadata": {
            "tags": [],
            "needs_background": "light"
          }
        }
      ]
    },
    {
      "cell_type": "markdown",
      "metadata": {
        "id": "rajsE6EnWb8E",
        "colab_type": "text"
      },
      "source": [
        "### 5.6 <a class=\"anchor\" id=\"fifth_6\">Naive Bayes</a> "
      ]
    },
    {
      "cell_type": "markdown",
      "metadata": {
        "id": "Q9OeNVArYwj7",
        "colab_type": "text"
      },
      "source": [
        "The Bayesian classifier requires knowledge of the a priori and conditional probabilities related to the problem, quantities that in general are not known, but are typically estimable. If reliable estimates of the probabilities involved in the theorem can be obtained, the Bayesian classifier is generally reliable and potentially compact. It is often called the Full Bayes Classifier or also the Belief Network. By construction, the Bayesian classifier minimizes the risk of classification."
      ]
    },
    {
      "cell_type": "code",
      "metadata": {
        "id": "7vTKoaSm59cV",
        "colab_type": "code",
        "outputId": "14ab25e9-2d92-4175-edc2-428e33ec7abd",
        "colab": {
          "base_uri": "https://localhost:8080/",
          "height": 296
        }
      },
      "source": [
        "# Fitting Naive Bayes to the Training set\n",
        "from sklearn.naive_bayes import GaussianNB\n",
        "bayes = GaussianNB()\n",
        "bayes.fit(X_train, y_train)\n",
        "bayes_pred = bayes.predict(X_test)\n",
        "\n",
        "#metrics:\n",
        "bayes_acc = accuracy_score(bayes_pred, y_test)\n",
        "bayes_preci = precision_score(bayes_pred, y_test, average = 'weighted')\n",
        "bayes_sensitivity = recall_score(bayes_pred, y_test, average = 'weighted')\n",
        "bayes_f1 = f1_score(bayes_pred, y_test, average = 'weighted')\n",
        "\n",
        "classification_metrics.loc[\"Naive Bayes\"] = [bayes_acc,bayes_preci,bayes_sensitivity,bayes_f1]\n",
        "plot_confusion_matrix(bayes, X_test, y_test, display_labels = levels,\n",
        "                      cmap = plt.cm.Blues, values_format = '0.2%', normalize = 'true')"
      ],
      "execution_count": 48,
      "outputs": [
        {
          "output_type": "execute_result",
          "data": {
            "text/plain": [
              "<sklearn.metrics._plot.confusion_matrix.ConfusionMatrixDisplay at 0x7f3d011f9390>"
            ]
          },
          "metadata": {
            "tags": []
          },
          "execution_count": 48
        },
        {
          "output_type": "display_data",
          "data": {
            "image/png": "[encoded data removed]",
            "text/plain": [
              "<Figure size 432x288 with 2 Axes>"
            ]
          },
          "metadata": {
            "tags": [],
            "needs_background": "light"
          }
        }
      ]
    },
    {
      "cell_type": "markdown",
      "metadata": {
        "id": "9t-2Vokc0OEY",
        "colab_type": "text"
      },
      "source": [
        "### 5.6 <a class=\"anchor\" id=\"fifth_7\">Model Comparison</a> "
      ]
    },
    {
      "cell_type": "code",
      "metadata": {
        "id": "tNn3j_n10Qh5",
        "colab_type": "code",
        "outputId": "9bf06691-3610-40cc-9210-26f5de284a89",
        "colab": {
          "base_uri": "https://localhost:8080/",
          "height": 297
        }
      },
      "source": [
        "classification_metrics.sort_values('F1 Score')"
      ],
      "execution_count": 49,
      "outputs": [
        {
          "output_type": "execute_result",
          "data": {
            "text/html": [
              "<div>\n",
              "<style scoped>\n",
              "    .dataframe tbody tr th:only-of-type {\n",
              "        vertical-align: middle;\n",
              "    }\n",
              "\n",
              "    .dataframe tbody tr th {\n",
              "        vertical-align: top;\n",
              "    }\n",
              "\n",
              "    .dataframe thead th {\n",
              "        text-align: right;\n",
              "    }\n",
              "</style>\n",
              "<table border=\"1\" class=\"dataframe\">\n",
              "  <thead>\n",
              "    <tr style=\"text-align: right;\">\n",
              "      <th></th>\n",
              "      <th>Accuracy</th>\n",
              "      <th>Precision</th>\n",
              "      <th>Sensitivity</th>\n",
              "      <th>F1 Score</th>\n",
              "    </tr>\n",
              "  </thead>\n",
              "  <tbody>\n",
              "    <tr>\n",
              "      <th>Naive Bayes</th>\n",
              "      <td>0.547692</td>\n",
              "      <td>0.548487</td>\n",
              "      <td>0.547692</td>\n",
              "      <td>0.547377</td>\n",
              "    </tr>\n",
              "    <tr>\n",
              "      <th>Logistic regression</th>\n",
              "      <td>0.566154</td>\n",
              "      <td>0.580542</td>\n",
              "      <td>0.566154</td>\n",
              "      <td>0.571529</td>\n",
              "    </tr>\n",
              "    <tr>\n",
              "      <th>SVM</th>\n",
              "      <td>0.763077</td>\n",
              "      <td>0.785256</td>\n",
              "      <td>0.763077</td>\n",
              "      <td>0.750997</td>\n",
              "    </tr>\n",
              "    <tr>\n",
              "      <th>Tree Entropy</th>\n",
              "      <td>0.783077</td>\n",
              "      <td>0.782798</td>\n",
              "      <td>0.783077</td>\n",
              "      <td>0.782319</td>\n",
              "    </tr>\n",
              "    <tr>\n",
              "      <th>Tree Gini</th>\n",
              "      <td>0.821538</td>\n",
              "      <td>0.823257</td>\n",
              "      <td>0.821538</td>\n",
              "      <td>0.822075</td>\n",
              "    </tr>\n",
              "    <tr>\n",
              "      <th>KNN</th>\n",
              "      <td>0.869231</td>\n",
              "      <td>0.876978</td>\n",
              "      <td>0.869231</td>\n",
              "      <td>0.871479</td>\n",
              "    </tr>\n",
              "    <tr>\n",
              "      <th>Forest Gini</th>\n",
              "      <td>0.892308</td>\n",
              "      <td>0.892155</td>\n",
              "      <td>0.892308</td>\n",
              "      <td>0.891871</td>\n",
              "    </tr>\n",
              "    <tr>\n",
              "      <th>Forest Entropy</th>\n",
              "      <td>0.892308</td>\n",
              "      <td>0.892081</td>\n",
              "      <td>0.892308</td>\n",
              "      <td>0.891987</td>\n",
              "    </tr>\n",
              "  </tbody>\n",
              "</table>\n",
              "</div>"
            ],
            "text/plain": [
              "                     Accuracy  Precision  Sensitivity  F1 Score\n",
              "Naive Bayes          0.547692   0.548487     0.547692  0.547377\n",
              "Logistic regression  0.566154   0.580542     0.566154  0.571529\n",
              "SVM                  0.763077   0.785256     0.763077  0.750997\n",
              "Tree Entropy         0.783077   0.782798     0.783077  0.782319\n",
              "Tree Gini            0.821538   0.823257     0.821538  0.822075\n",
              "KNN                  0.869231   0.876978     0.869231  0.871479\n",
              "Forest Gini          0.892308   0.892155     0.892308  0.891871\n",
              "Forest Entropy       0.892308   0.892081     0.892308  0.891987"
            ]
          },
          "metadata": {
            "tags": []
          },
          "execution_count": 49
        }
      ]
    },
    {
      "cell_type": "markdown",
      "metadata": {
        "id": "F8hLBygBWLHF",
        "colab_type": "text"
      },
      "source": [
        "Overall, we can conclude that the initial work on preprocessing, labeling and oversampling of data has paid off.\n",
        "\n",
        "The only discordant note are logistic regression and Naive Bayes. They behave significantly worse than the others.\n",
        "\n",
        "Using ADASYIN-based data, all other classification algorithms work very well. In particular, we note that forests seem to work significantly better than trees, but they too must be considered good. We also see that there is no more favorable criterion for the division of trees, Gini and Entropy perform quite similarly.\n"
      ]
    },
    {
      "cell_type": "markdown",
      "metadata": {
        "id": "RyEgcFUq3OYf",
        "colab_type": "text"
      },
      "source": [
        "## 6. <a anchor='sixth'>References</a>"
      ]
    },
    {
      "cell_type": "markdown",
      "metadata": {
        "id": "-SRDrgT-8E4n",
        "colab_type": "text"
      },
      "source": [
        "\n",
        "* Martiniano, A., Ferreira, R. P., Sassi, R. J., & Affonso, C. (2012). Application of a neuro fuzzy network in prediction of absenteeism at work. In Information Systems and Technologies (CISTI), 7th Iberian Conference on (pp. 1-4). IEEE.\n",
        "* An Introduction to Statistical Learning with application in R, Gareth James, Daniela Witten, Trevor Hastie and Robert Tibshirani\n",
        "* [Performance Metrics for Classification problems in Machine Learning\n",
        "](https://medium.com/thalus-ai/performance-metrics-for-classification-problems-in-machine-learning-part-i-b085d432082b)\n",
        "\n",
        "\n",
        "\n",
        "\n"
      ]
    }
  ]
}